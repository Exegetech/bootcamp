{
 "cells": [
  {
   "cell_type": "code",
   "execution_count": 37,
   "id": "f1aaa3a3",
   "metadata": {},
   "outputs": [],
   "source": [
    "def fungsi (initial, listt):\n",
    "    Tpoint = 0\n",
    "    Fpoint = 0\n",
    "    Tstreak = 1\n",
    "    Fstreak = 1\n",
    "    for x in listt:\n",
    "        if x == 'T':\n",
    "            if Tstreak > 0:\n",
    "                Tpoint = Tpoint + 30\n",
    "                initial = initial + Tpoint\n",
    "                Tstreak += 1\n",
    "                Fstreak = 0\n",
    "                print(initial)\n",
    "            else:\n",
    "                initial = initial + Tpoint\n",
    "                print(initial)\n",
    "        else:\n",
    "            if Fstreak > 0:\n",
    "                Fpoint = Fpoint - 20\n",
    "                initial = initial + Fpoint\n",
    "                Fstreak += 1\n",
    "                Tstreak = 0\n",
    "                print(initial)\n",
    "            else:\n",
    "                initial = initial + Fpoint\n",
    "                print(initial)\n",
    "    return initial\n",
    "            "
   ]
  },
  {
   "cell_type": "code",
   "execution_count": 38,
   "id": "30d649ee",
   "metadata": {},
   "outputs": [
    {
     "name": "stdout",
     "output_type": "stream",
     "text": [
      "120\n",
      "180\n",
      "270\n",
      "270\n",
      "390\n",
      "540\n",
      "540\n",
      "540\n",
      "720\n",
      "720\n",
      "720\n",
      "720\n"
     ]
    },
    {
     "data": {
      "text/plain": [
       "720"
      ]
     },
     "execution_count": 38,
     "metadata": {},
     "output_type": "execute_result"
    }
   ],
   "source": [
    "fungsi(90,['T','T','T','F','T','T','F','F','T','F','F','F'])"
   ]
  },
  {
   "cell_type": "code",
   "execution_count": 30,
   "id": "0c67aa3b",
   "metadata": {},
   "outputs": [
    {
     "data": {
      "text/plain": [
       "340"
      ]
     },
     "execution_count": 30,
     "metadata": {},
     "output_type": "execute_result"
    }
   ],
   "source": [
    "340"
   ]
  },
  {
   "cell_type": "code",
   "execution_count": null,
   "id": "12b38fa7",
   "metadata": {},
   "outputs": [],
   "source": []
  }
 ],
 "metadata": {
  "kernelspec": {
   "display_name": "Python 3 (ipykernel)",
   "language": "python",
   "name": "python3"
  },
  "language_info": {
   "codemirror_mode": {
    "name": "ipython",
    "version": 3
   },
   "file_extension": ".py",
   "mimetype": "text/x-python",
   "name": "python",
   "nbconvert_exporter": "python",
   "pygments_lexer": "ipython3",
   "version": "3.11.0"
  }
 },
 "nbformat": 4,
 "nbformat_minor": 5
}
