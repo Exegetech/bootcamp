{
 "cells": [
  {
   "cell_type": "markdown",
   "metadata": {
    "id": "-dcJLLw3R-zb"
   },
   "source": [
    "# Regularized Regression"
   ]
  },
  {
   "cell_type": "markdown",
   "metadata": {
    "id": "JEqStBLJn1GP"
   },
   "source": [
    "# Import Libraries"
   ]
  },
  {
   "cell_type": "code",
   "execution_count": 1,
   "metadata": {
    "executionInfo": {
     "elapsed": 1379,
     "status": "ok",
     "timestamp": 1661045670986,
     "user": {
      "displayName": "Pararawendy Indarjo",
      "userId": "09035664507663317723"
     },
     "user_tz": -420
    },
    "id": "LH5jt0hGzMJK"
   },
   "outputs": [],
   "source": [
    "import numpy as np\n",
    "import pandas as pd\n",
    "import seaborn as sns\n",
    "import matplotlib.pyplot as plt"
   ]
  },
  {
   "cell_type": "markdown",
   "metadata": {
    "id": "xlhcnk39oKQJ"
   },
   "source": [
    "# Preliminary Flow"
   ]
  },
  {
   "cell_type": "markdown",
   "metadata": {
    "id": "lXo_LD4QoEux"
   },
   "source": [
    "### Load Data"
   ]
  },
  {
   "cell_type": "code",
   "execution_count": 2,
   "metadata": {
    "colab": {
     "base_uri": "https://localhost:8080/",
     "height": 206
    },
    "executionInfo": {
     "elapsed": 488,
     "status": "ok",
     "timestamp": 1661045671471,
     "user": {
      "displayName": "Pararawendy Indarjo",
      "userId": "09035664507663317723"
     },
     "user_tz": -420
    },
    "id": "dHOXRjEURyLI",
    "outputId": "674a1cdf-b442-4c1a-a8f7-efdef7d6cb3d"
   },
   "outputs": [
    {
     "data": {
      "text/html": [
       "<div>\n",
       "<style scoped>\n",
       "    .dataframe tbody tr th:only-of-type {\n",
       "        vertical-align: middle;\n",
       "    }\n",
       "\n",
       "    .dataframe tbody tr th {\n",
       "        vertical-align: top;\n",
       "    }\n",
       "\n",
       "    .dataframe thead th {\n",
       "        text-align: right;\n",
       "    }\n",
       "</style>\n",
       "<table border=\"1\" class=\"dataframe\">\n",
       "  <thead>\n",
       "    <tr style=\"text-align: right;\">\n",
       "      <th></th>\n",
       "      <th>gre_score</th>\n",
       "      <th>toefl_score</th>\n",
       "      <th>univ_ranking</th>\n",
       "      <th>motiv_letter_strength</th>\n",
       "      <th>recommendation_strength</th>\n",
       "      <th>gpa</th>\n",
       "      <th>research_exp</th>\n",
       "      <th>admit_prob</th>\n",
       "    </tr>\n",
       "  </thead>\n",
       "  <tbody>\n",
       "    <tr>\n",
       "      <th>0</th>\n",
       "      <td>337</td>\n",
       "      <td>118</td>\n",
       "      <td>4</td>\n",
       "      <td>4.5</td>\n",
       "      <td>4.5</td>\n",
       "      <td>9.65</td>\n",
       "      <td>1</td>\n",
       "      <td>0.92</td>\n",
       "    </tr>\n",
       "    <tr>\n",
       "      <th>1</th>\n",
       "      <td>324</td>\n",
       "      <td>107</td>\n",
       "      <td>4</td>\n",
       "      <td>4.0</td>\n",
       "      <td>4.5</td>\n",
       "      <td>8.87</td>\n",
       "      <td>1</td>\n",
       "      <td>0.76</td>\n",
       "    </tr>\n",
       "    <tr>\n",
       "      <th>2</th>\n",
       "      <td>316</td>\n",
       "      <td>104</td>\n",
       "      <td>3</td>\n",
       "      <td>3.0</td>\n",
       "      <td>3.5</td>\n",
       "      <td>8.00</td>\n",
       "      <td>1</td>\n",
       "      <td>0.72</td>\n",
       "    </tr>\n",
       "    <tr>\n",
       "      <th>3</th>\n",
       "      <td>322</td>\n",
       "      <td>110</td>\n",
       "      <td>3</td>\n",
       "      <td>3.5</td>\n",
       "      <td>2.5</td>\n",
       "      <td>8.67</td>\n",
       "      <td>1</td>\n",
       "      <td>0.80</td>\n",
       "    </tr>\n",
       "    <tr>\n",
       "      <th>4</th>\n",
       "      <td>314</td>\n",
       "      <td>103</td>\n",
       "      <td>2</td>\n",
       "      <td>2.0</td>\n",
       "      <td>3.0</td>\n",
       "      <td>8.21</td>\n",
       "      <td>0</td>\n",
       "      <td>0.65</td>\n",
       "    </tr>\n",
       "  </tbody>\n",
       "</table>\n",
       "</div>"
      ],
      "text/plain": [
       "   gre_score  toefl_score  univ_ranking  motiv_letter_strength  \\\n",
       "0        337          118             4                    4.5   \n",
       "1        324          107             4                    4.0   \n",
       "2        316          104             3                    3.0   \n",
       "3        322          110             3                    3.5   \n",
       "4        314          103             2                    2.0   \n",
       "\n",
       "   recommendation_strength   gpa  research_exp  admit_prob  \n",
       "0                      4.5  9.65             1        0.92  \n",
       "1                      4.5  8.87             1        0.76  \n",
       "2                      3.5  8.00             1        0.72  \n",
       "3                      2.5  8.67             1        0.80  \n",
       "4                      3.0  8.21             0        0.65  "
      ]
     },
     "execution_count": 2,
     "metadata": {},
     "output_type": "execute_result"
    }
   ],
   "source": [
    "# load data\n",
    "admit = pd.read_csv('regression_data.csv')\n",
    "admit.head()"
   ]
  },
  {
   "cell_type": "markdown",
   "metadata": {
    "id": "WbIcJM9eoHjO"
   },
   "source": [
    "### Split Data"
   ]
  },
  {
   "cell_type": "code",
   "execution_count": 3,
   "metadata": {
    "executionInfo": {
     "elapsed": 3,
     "status": "ok",
     "timestamp": 1661045672527,
     "user": {
      "displayName": "Pararawendy Indarjo",
      "userId": "09035664507663317723"
     },
     "user_tz": -420
    },
    "id": "qE0LUifaaOoO"
   },
   "outputs": [],
   "source": [
    "# split train test\n",
    "from sklearn.model_selection import train_test_split\n",
    "\n",
    "feature = admit.drop(columns='admit_prob')\n",
    "target = admit[['admit_prob']]\n",
    "\n",
    "feature_admit_train, feature_admit_test, target_admit_train, target_admit_test = train_test_split(feature, target, test_size=0.20, random_state=42)"
   ]
  },
  {
   "cell_type": "code",
   "execution_count": 4,
   "metadata": {
    "colab": {
     "base_uri": "https://localhost:8080/",
     "height": 325
    },
    "executionInfo": {
     "elapsed": 13,
     "status": "ok",
     "timestamp": 1661045673978,
     "user": {
      "displayName": "Pararawendy Indarjo",
      "userId": "09035664507663317723"
     },
     "user_tz": -420
    },
    "id": "FHzRqUxiTCJW",
    "outputId": "a45cea88-2fae-4f99-e3a5-f432390e529e"
   },
   "outputs": [
    {
     "data": {
      "text/html": [
       "<div>\n",
       "<style scoped>\n",
       "    .dataframe tbody tr th:only-of-type {\n",
       "        vertical-align: middle;\n",
       "    }\n",
       "\n",
       "    .dataframe tbody tr th {\n",
       "        vertical-align: top;\n",
       "    }\n",
       "\n",
       "    .dataframe thead th {\n",
       "        text-align: right;\n",
       "    }\n",
       "</style>\n",
       "<table border=\"1\" class=\"dataframe\">\n",
       "  <thead>\n",
       "    <tr style=\"text-align: right;\">\n",
       "      <th></th>\n",
       "      <th>feature</th>\n",
       "      <th>vif_score</th>\n",
       "    </tr>\n",
       "  </thead>\n",
       "  <tbody>\n",
       "    <tr>\n",
       "      <th>1</th>\n",
       "      <td>gre_score</td>\n",
       "      <td>4.489983</td>\n",
       "    </tr>\n",
       "    <tr>\n",
       "      <th>2</th>\n",
       "      <td>toefl_score</td>\n",
       "      <td>3.664298</td>\n",
       "    </tr>\n",
       "    <tr>\n",
       "      <th>3</th>\n",
       "      <td>univ_ranking</td>\n",
       "      <td>2.572110</td>\n",
       "    </tr>\n",
       "    <tr>\n",
       "      <th>4</th>\n",
       "      <td>motiv_letter_strength</td>\n",
       "      <td>2.785764</td>\n",
       "    </tr>\n",
       "    <tr>\n",
       "      <th>5</th>\n",
       "      <td>recommendation_strength</td>\n",
       "      <td>1.977698</td>\n",
       "    </tr>\n",
       "    <tr>\n",
       "      <th>6</th>\n",
       "      <td>gpa</td>\n",
       "      <td>4.654540</td>\n",
       "    </tr>\n",
       "    <tr>\n",
       "      <th>7</th>\n",
       "      <td>research_exp</td>\n",
       "      <td>1.518065</td>\n",
       "    </tr>\n",
       "  </tbody>\n",
       "</table>\n",
       "</div>"
      ],
      "text/plain": [
       "                   feature  vif_score\n",
       "1                gre_score   4.489983\n",
       "2              toefl_score   3.664298\n",
       "3             univ_ranking   2.572110\n",
       "4    motiv_letter_strength   2.785764\n",
       "5  recommendation_strength   1.977698\n",
       "6                      gpa   4.654540\n",
       "7             research_exp   1.518065"
      ]
     },
     "execution_count": 4,
     "metadata": {},
     "output_type": "execute_result"
    }
   ],
   "source": [
    "# calculate VIF scores\n",
    "from statsmodels.stats.outliers_influence import variance_inflation_factor as vif \n",
    "from statsmodels.tools.tools import add_constant\n",
    "\n",
    "X = add_constant(feature_admit_train)\n",
    "\n",
    "vif_df = pd.DataFrame([vif(X.values, i) \n",
    "               for i in range(X.shape[1])], \n",
    "              index=X.columns).reset_index()\n",
    "vif_df.columns = ['feature','vif_score']\n",
    "vif_df = vif_df.loc[vif_df.feature!='const']\n",
    "vif_df"
   ]
  },
  {
   "cell_type": "markdown",
   "metadata": {
    "id": "BUTv5EAmSclV"
   },
   "source": [
    "There are several features with high VIF scores:\n",
    "1. `gre_score`\n",
    "2. `gpa`"
   ]
  },
  {
   "cell_type": "code",
   "execution_count": 5,
   "metadata": {
    "colab": {
     "base_uri": "https://localhost:8080/",
     "height": 554
    },
    "executionInfo": {
     "elapsed": 1769,
     "status": "ok",
     "timestamp": 1661045675741,
     "user": {
      "displayName": "Pararawendy Indarjo",
      "userId": "09035664507663317723"
     },
     "user_tz": -420
    },
    "id": "fZGXT04UXoVn",
    "outputId": "305281d7-ed69-4fd8-f85e-12b30a0d5b4f"
   },
   "outputs": [
    {
     "data": {
      "image/png": "[encoded data removed]",
      "text/plain": [
       "<Figure size 1000x700 with 2 Axes>"
      ]
     },
     "metadata": {},
     "output_type": "display_data"
    }
   ],
   "source": [
    "# heatmap correlation\n",
    "admit_train = pd.concat([feature_admit_train, target_admit_train], axis=1)\n",
    "corr = admit_train.corr()\n",
    "\n",
    "plt.figure(figsize=(10,7))\n",
    "sns.heatmap(corr, annot=True, fmt='.2f')\n",
    "plt.show()"
   ]
  },
  {
   "cell_type": "markdown",
   "metadata": {
    "id": "H2BOiJJZcqei"
   },
   "source": [
    "We choose to retain `gpa`. Therefore, we need to drop:\n",
    "* `gre_score`\n",
    "* `toefl_score`"
   ]
  },
  {
   "cell_type": "code",
   "execution_count": 6,
   "metadata": {
    "executionInfo": {
     "elapsed": 4,
     "status": "ok",
     "timestamp": 1661045677528,
     "user": {
      "displayName": "Pararawendy Indarjo",
      "userId": "09035664507663317723"
     },
     "user_tz": -420
    },
    "id": "oDZsx2y6ZcJZ"
   },
   "outputs": [],
   "source": [
    "# drop redundant features\n",
    "feature_admit_train = feature_admit_train.drop(columns=['gre_score','toefl_score'])\n",
    "feature_admit_test = feature_admit_test.drop(columns=['gre_score','toefl_score'])"
   ]
  },
  {
   "cell_type": "markdown",
   "metadata": {
    "id": "zoA6xynHgFBK"
   },
   "source": [
    "### Recheck VIF\n",
    "Optional"
   ]
  },
  {
   "cell_type": "code",
   "execution_count": 7,
   "metadata": {
    "colab": {
     "base_uri": "https://localhost:8080/",
     "height": 262
    },
    "executionInfo": {
     "elapsed": 4,
     "status": "ok",
     "timestamp": 1661045680365,
     "user": {
      "displayName": "Pararawendy Indarjo",
      "userId": "09035664507663317723"
     },
     "user_tz": -420
    },
    "id": "3e3UFGAsgEU4",
    "outputId": "05ea41c1-6d62-48ca-b044-ebb7d5e04d04"
   },
   "outputs": [
    {
     "data": {
      "text/html": [
       "<div>\n",
       "<style scoped>\n",
       "    .dataframe tbody tr th:only-of-type {\n",
       "        vertical-align: middle;\n",
       "    }\n",
       "\n",
       "    .dataframe tbody tr th {\n",
       "        vertical-align: top;\n",
       "    }\n",
       "\n",
       "    .dataframe thead th {\n",
       "        text-align: right;\n",
       "    }\n",
       "</style>\n",
       "<table border=\"1\" class=\"dataframe\">\n",
       "  <thead>\n",
       "    <tr style=\"text-align: right;\">\n",
       "      <th></th>\n",
       "      <th>feature</th>\n",
       "      <th>vif_score</th>\n",
       "    </tr>\n",
       "  </thead>\n",
       "  <tbody>\n",
       "    <tr>\n",
       "      <th>1</th>\n",
       "      <td>univ_ranking</td>\n",
       "      <td>2.511407</td>\n",
       "    </tr>\n",
       "    <tr>\n",
       "      <th>2</th>\n",
       "      <td>motiv_letter_strength</td>\n",
       "      <td>2.748278</td>\n",
       "    </tr>\n",
       "    <tr>\n",
       "      <th>3</th>\n",
       "      <td>recommendation_strength</td>\n",
       "      <td>1.965542</td>\n",
       "    </tr>\n",
       "    <tr>\n",
       "      <th>4</th>\n",
       "      <td>gpa</td>\n",
       "      <td>2.726281</td>\n",
       "    </tr>\n",
       "    <tr>\n",
       "      <th>5</th>\n",
       "      <td>research_exp</td>\n",
       "      <td>1.350514</td>\n",
       "    </tr>\n",
       "  </tbody>\n",
       "</table>\n",
       "</div>"
      ],
      "text/plain": [
       "                   feature  vif_score\n",
       "1             univ_ranking   2.511407\n",
       "2    motiv_letter_strength   2.748278\n",
       "3  recommendation_strength   1.965542\n",
       "4                      gpa   2.726281\n",
       "5             research_exp   1.350514"
      ]
     },
     "execution_count": 7,
     "metadata": {},
     "output_type": "execute_result"
    }
   ],
   "source": [
    "from statsmodels.stats.outliers_influence import variance_inflation_factor as vif \n",
    "from statsmodels.tools.tools import add_constant\n",
    "\n",
    "X = add_constant(feature_admit_train)\n",
    "\n",
    "vif_df = pd.DataFrame([vif(X.values, i) \n",
    "               for i in range(X.shape[1])], \n",
    "              index=X.columns).reset_index()\n",
    "vif_df.columns = ['feature','vif_score']\n",
    "vif_df = vif_df.loc[vif_df.feature!='const']\n",
    "vif_df"
   ]
  },
  {
   "cell_type": "code",
   "execution_count": 8,
   "metadata": {},
   "outputs": [
    {
     "data": {
      "image/png": "[encoded data removed]",
      "text/plain": [
       "<Figure size 1000x700 with 2 Axes>"
      ]
     },
     "metadata": {},
     "output_type": "display_data"
    }
   ],
   "source": [
    "# heatmap correlation\n",
    "admit_train = pd.concat([feature_admit_train, target_admit_train], axis=1)\n",
    "corr = admit_train.corr()\n",
    "\n",
    "plt.figure(figsize=(10,7))\n",
    "sns.heatmap(corr, annot=True, fmt='.2f')\n",
    "plt.show()"
   ]
  },
  {
   "cell_type": "markdown",
   "metadata": {
    "id": "SfoYKXpagMke"
   },
   "source": [
    "Good!"
   ]
  },
  {
   "cell_type": "markdown",
   "metadata": {
    "id": "F0EWKWOfgNnK"
   },
   "source": [
    "## Model Training"
   ]
  },
  {
   "cell_type": "markdown",
   "metadata": {
    "id": "djEjdABMuikE"
   },
   "source": [
    "### Ridge Regression"
   ]
  },
  {
   "cell_type": "code",
   "execution_count": 9,
   "metadata": {
    "colab": {
     "base_uri": "https://localhost:8080/"
    },
    "executionInfo": {
     "elapsed": 5,
     "status": "ok",
     "timestamp": 1661045685888,
     "user": {
      "displayName": "Pararawendy Indarjo",
      "userId": "09035664507663317723"
     },
     "user_tz": -420
    },
    "id": "bvqhoVJkdqDI",
    "outputId": "5a78e4cf-2ace-4263-c7bc-4c1f5b4cf664"
   },
   "outputs": [
    {
     "data": {
      "text/plain": [
       "Ridge(alpha=0.1, random_state=42)"
      ]
     },
     "execution_count": 9,
     "metadata": {},
     "output_type": "execute_result"
    }
   ],
   "source": [
    "from sklearn.linear_model import Ridge\n",
    "\n",
    "# train the model\n",
    "X_admit_train = feature_admit_train.to_numpy()\n",
    "y_admit_train = target_admit_train.to_numpy()\n",
    "y_admit_train = y_admit_train.reshape(len(y_admit_train),)\n",
    "\n",
    "# define the model\n",
    "ridge_reg = Ridge(alpha=0.1, \n",
    "                  random_state=42)\n",
    "\n",
    "ridge_reg.fit(X_admit_train, y_admit_train)"
   ]
  },
  {
   "cell_type": "code",
   "execution_count": 10,
   "metadata": {
    "colab": {
     "base_uri": "https://localhost:8080/",
     "height": 238
    },
    "executionInfo": {
     "elapsed": 3,
     "status": "ok",
     "timestamp": 1661045688659,
     "user": {
      "displayName": "Pararawendy Indarjo",
      "userId": "09035664507663317723"
     },
     "user_tz": -420
    },
    "id": "lbRscGr9dqDJ",
    "outputId": "ff189e80-9edb-4b85-d655-1dd53928d584"
   },
   "outputs": [
    {
     "data": {
      "text/html": [
       "<div>\n",
       "<style scoped>\n",
       "    .dataframe tbody tr th:only-of-type {\n",
       "        vertical-align: middle;\n",
       "    }\n",
       "\n",
       "    .dataframe tbody tr th {\n",
       "        vertical-align: top;\n",
       "    }\n",
       "\n",
       "    .dataframe thead th {\n",
       "        text-align: right;\n",
       "    }\n",
       "</style>\n",
       "<table border=\"1\" class=\"dataframe\">\n",
       "  <thead>\n",
       "    <tr style=\"text-align: right;\">\n",
       "      <th></th>\n",
       "      <th>feature</th>\n",
       "      <th>coefficient</th>\n",
       "    </tr>\n",
       "  </thead>\n",
       "  <tbody>\n",
       "    <tr>\n",
       "      <th>0</th>\n",
       "      <td>intercept</td>\n",
       "      <td>-0.764483</td>\n",
       "    </tr>\n",
       "    <tr>\n",
       "      <th>1</th>\n",
       "      <td>univ_ranking</td>\n",
       "      <td>0.007031</td>\n",
       "    </tr>\n",
       "    <tr>\n",
       "      <th>2</th>\n",
       "      <td>motiv_letter_strength</td>\n",
       "      <td>0.004406</td>\n",
       "    </tr>\n",
       "    <tr>\n",
       "      <th>3</th>\n",
       "      <td>recommendation_strength</td>\n",
       "      <td>0.014806</td>\n",
       "    </tr>\n",
       "    <tr>\n",
       "      <th>4</th>\n",
       "      <td>gpa</td>\n",
       "      <td>0.160723</td>\n",
       "    </tr>\n",
       "    <tr>\n",
       "      <th>5</th>\n",
       "      <td>research_exp</td>\n",
       "      <td>0.038290</td>\n",
       "    </tr>\n",
       "  </tbody>\n",
       "</table>\n",
       "</div>"
      ],
      "text/plain": [
       "                   feature  coefficient\n",
       "0                intercept    -0.764483\n",
       "1             univ_ranking     0.007031\n",
       "2    motiv_letter_strength     0.004406\n",
       "3  recommendation_strength     0.014806\n",
       "4                      gpa     0.160723\n",
       "5             research_exp     0.038290"
      ]
     },
     "execution_count": 10,
     "metadata": {},
     "output_type": "execute_result"
    }
   ],
   "source": [
    "# retrieve the coefficients\n",
    "# show as a nice dataframe\n",
    "\n",
    "data = feature_admit_train\n",
    "model = ridge_reg\n",
    "\n",
    "coef_df = pd.DataFrame({\n",
    "    'feature':['intercept'] + data.columns.tolist(),\n",
    "    'coefficient':[model.intercept_] + list(model.coef_)\n",
    "})\n",
    "\n",
    "coef_df"
   ]
  },
  {
   "cell_type": "markdown",
   "metadata": {
    "id": "xQXhmy4nz6BV"
   },
   "source": [
    "## Lasso"
   ]
  },
  {
   "cell_type": "code",
   "execution_count": 11,
   "metadata": {
    "colab": {
     "base_uri": "https://localhost:8080/"
    },
    "executionInfo": {
     "elapsed": 5,
     "status": "ok",
     "timestamp": 1661045690123,
     "user": {
      "displayName": "Pararawendy Indarjo",
      "userId": "09035664507663317723"
     },
     "user_tz": -420
    },
    "id": "zEvwmVm3z5hD",
    "outputId": "9fc13550-4fab-4e1d-989c-83a008ad6ef8"
   },
   "outputs": [
    {
     "data": {
      "text/plain": [
       "Lasso(alpha=0.1, random_state=42)"
      ]
     },
     "execution_count": 11,
     "metadata": {},
     "output_type": "execute_result"
    }
   ],
   "source": [
    "from sklearn.linear_model import Lasso\n",
    "\n",
    "# define the model\n",
    "lasso_reg = Lasso(alpha=0.1, \n",
    "                  random_state=42)\n",
    "\n",
    "lasso_reg.fit(X_admit_train, y_admit_train)"
   ]
  },
  {
   "cell_type": "code",
   "execution_count": 12,
   "metadata": {
    "colab": {
     "base_uri": "https://localhost:8080/",
     "height": 238
    },
    "executionInfo": {
     "elapsed": 7,
     "status": "ok",
     "timestamp": 1661045690660,
     "user": {
      "displayName": "Pararawendy Indarjo",
      "userId": "09035664507663317723"
     },
     "user_tz": -420
    },
    "id": "eIctp92ez8vz",
    "outputId": "29767693-0561-4ffd-a211-56fe1185d04d"
   },
   "outputs": [
    {
     "data": {
      "text/html": [
       "<div>\n",
       "<style scoped>\n",
       "    .dataframe tbody tr th:only-of-type {\n",
       "        vertical-align: middle;\n",
       "    }\n",
       "\n",
       "    .dataframe tbody tr th {\n",
       "        vertical-align: top;\n",
       "    }\n",
       "\n",
       "    .dataframe thead th {\n",
       "        text-align: right;\n",
       "    }\n",
       "</style>\n",
       "<table border=\"1\" class=\"dataframe\">\n",
       "  <thead>\n",
       "    <tr style=\"text-align: right;\">\n",
       "      <th></th>\n",
       "      <th>feature</th>\n",
       "      <th>coefficient</th>\n",
       "    </tr>\n",
       "  </thead>\n",
       "  <tbody>\n",
       "    <tr>\n",
       "      <th>0</th>\n",
       "      <td>intercept</td>\n",
       "      <td>0.702539</td>\n",
       "    </tr>\n",
       "    <tr>\n",
       "      <th>1</th>\n",
       "      <td>univ_ranking</td>\n",
       "      <td>0.006951</td>\n",
       "    </tr>\n",
       "    <tr>\n",
       "      <th>2</th>\n",
       "      <td>motiv_letter_strength</td>\n",
       "      <td>0.000000</td>\n",
       "    </tr>\n",
       "    <tr>\n",
       "      <th>3</th>\n",
       "      <td>recommendation_strength</td>\n",
       "      <td>0.000000</td>\n",
       "    </tr>\n",
       "    <tr>\n",
       "      <th>4</th>\n",
       "      <td>gpa</td>\n",
       "      <td>0.000000</td>\n",
       "    </tr>\n",
       "    <tr>\n",
       "      <th>5</th>\n",
       "      <td>research_exp</td>\n",
       "      <td>0.000000</td>\n",
       "    </tr>\n",
       "  </tbody>\n",
       "</table>\n",
       "</div>"
      ],
      "text/plain": [
       "                   feature  coefficient\n",
       "0                intercept     0.702539\n",
       "1             univ_ranking     0.006951\n",
       "2    motiv_letter_strength     0.000000\n",
       "3  recommendation_strength     0.000000\n",
       "4                      gpa     0.000000\n",
       "5             research_exp     0.000000"
      ]
     },
     "execution_count": 12,
     "metadata": {},
     "output_type": "execute_result"
    }
   ],
   "source": [
    "# retrieve the coefficients\n",
    "# show as a nice dataframe\n",
    "\n",
    "data = feature_admit_train\n",
    "model = lasso_reg\n",
    "\n",
    "coef_df = pd.DataFrame({\n",
    "    'feature':['intercept'] + data.columns.tolist(),\n",
    "    'coefficient':[model.intercept_] + list(model.coef_)\n",
    "})\n",
    "\n",
    "coef_df"
   ]
  },
  {
   "cell_type": "markdown",
   "metadata": {
    "id": "77f8RLLQUneg"
   },
   "source": [
    "*Back to slide...*"
   ]
  },
  {
   "cell_type": "markdown",
   "metadata": {
    "id": "a4a5NUkkeHm5"
   },
   "source": [
    "# Workflow with choosing the best lambda"
   ]
  },
  {
   "cell_type": "markdown",
   "metadata": {
    "id": "6-uQfxkExfH2"
   },
   "source": [
    "## Split data: train-validation-test"
   ]
  },
  {
   "cell_type": "code",
   "execution_count": 13,
   "metadata": {
    "executionInfo": {
     "elapsed": 418,
     "status": "ok",
     "timestamp": 1661045738222,
     "user": {
      "displayName": "Pararawendy Indarjo",
      "userId": "09035664507663317723"
     },
     "user_tz": -420
    },
    "id": "Gc4h04Glxein"
   },
   "outputs": [],
   "source": [
    "# split train test\n",
    "from sklearn.model_selection import train_test_split\n",
    "\n",
    "feature = admit.drop(columns='admit_prob')\n",
    "target = admit[['admit_prob']]\n",
    "\n",
    "# First splitting: pretrain and test\n",
    "feature_admit_pretrain, feature_admit_test, target_admit_pretrain, target_admit_test = train_test_split(feature, target, test_size=0.20, random_state=42)\n",
    "\n",
    "# Second splitting: train and validation\n",
    "feature_admit_train, feature_admit_validation, target_admit_train, target_admit_validation = train_test_split(feature_admit_pretrain, target_admit_pretrain, test_size=0.20, random_state=42)"
   ]
  },
  {
   "cell_type": "markdown",
   "metadata": {
    "id": "3XYR4SQL4nPB"
   },
   "source": [
    "## Drop Multicollinear Features"
   ]
  },
  {
   "cell_type": "code",
   "execution_count": 14,
   "metadata": {
    "executionInfo": {
     "elapsed": 365,
     "status": "ok",
     "timestamp": 1661045742475,
     "user": {
      "displayName": "Pararawendy Indarjo",
      "userId": "09035664507663317723"
     },
     "user_tz": -420
    },
    "id": "hjbx7ma94nm_"
   },
   "outputs": [],
   "source": [
    "feature_admit_train = feature_admit_train.drop(columns=['gre_score','toefl_score'])\n",
    "feature_admit_validation = feature_admit_validation.drop(columns=['gre_score','toefl_score'])\n",
    "feature_admit_test = feature_admit_test.drop(columns=['gre_score','toefl_score'])"
   ]
  },
  {
   "cell_type": "markdown",
   "metadata": {
    "id": "0uUU31Ce1_zd"
   },
   "source": [
    "## Train Multiple Models\n",
    "with different alpha (lambda)"
   ]
  },
  {
   "cell_type": "code",
   "execution_count": 15,
   "metadata": {
    "colab": {
     "base_uri": "https://localhost:8080/"
    },
    "executionInfo": {
     "elapsed": 370,
     "status": "ok",
     "timestamp": 1661045746669,
     "user": {
      "displayName": "Pararawendy Indarjo",
      "userId": "09035664507663317723"
     },
     "user_tz": -420
    },
    "id": "nSsm-rHhd1Ro",
    "outputId": "31d27264-cec5-4d9d-bb43-a811f9c1ed8b"
   },
   "outputs": [
    {
     "data": {
      "text/plain": [
       "Ridge(alpha=10, random_state=42)"
      ]
     },
     "execution_count": 15,
     "metadata": {},
     "output_type": "execute_result"
    }
   ],
   "source": [
    "from sklearn.linear_model import Ridge\n",
    "\n",
    "# train the model\n",
    "X_admit_train = feature_admit_train.to_numpy()\n",
    "y_admit_train = target_admit_train.to_numpy()\n",
    "y_admit_train = y_admit_train.reshape(len(y_admit_train),)\n",
    "\n",
    "# define the model\n",
    "# 4 models with 4 different alphas (lambda)\n",
    "ridge_reg_pointzeroone = Ridge(alpha=0.01, random_state=42)\n",
    "ridge_reg_pointone = Ridge(alpha=0.1, random_state=42)\n",
    "ridge_reg_one = Ridge(alpha=1, random_state=42)\n",
    "ridge_reg_ten = Ridge(alpha=10, random_state=42)\n",
    "\n",
    "# fit the model (training)\n",
    "ridge_reg_pointzeroone.fit(X_admit_train, y_admit_train)\n",
    "ridge_reg_pointone.fit(X_admit_train, y_admit_train)\n",
    "ridge_reg_one.fit(X_admit_train, y_admit_train)\n",
    "ridge_reg_ten.fit(X_admit_train, y_admit_train)"
   ]
  },
  {
   "cell_type": "markdown",
   "metadata": {
    "id": "g3oXwH4C2Fm0"
   },
   "source": [
    "## Find the best model (alpha)\n",
    "Based on validation set"
   ]
  },
  {
   "cell_type": "code",
   "execution_count": 16,
   "metadata": {
    "colab": {
     "base_uri": "https://localhost:8080/"
    },
    "executionInfo": {
     "elapsed": 6,
     "status": "ok",
     "timestamp": 1661045748150,
     "user": {
      "displayName": "Pararawendy Indarjo",
      "userId": "09035664507663317723"
     },
     "user_tz": -420
    },
    "id": "oTyAb6-ZzyKI",
    "outputId": "f9845bf6-90c0-4efd-9f5e-c7120de57903"
   },
   "outputs": [
    {
     "name": "stdout",
     "output_type": "stream",
     "text": [
      "RMSE of Ridge regression model with alpha = 0.01 is 0.057324682661497074\n",
      "RMSE of Ridge regression model with alpha = 0.1 is 0.057342379647714055\n",
      "RMSE of Ridge regression model with alpha = 1.0 is 0.05752869822229533\n",
      "RMSE of Ridge regression model with alpha = 10 is 0.05983184011212863\n"
     ]
    }
   ],
   "source": [
    "from sklearn.metrics import mean_squared_error\n",
    "\n",
    "X_admit_validation = feature_admit_validation.to_numpy()\n",
    "y_admit_validation = target_admit_validation.to_numpy()\n",
    "y_admit_validation = y_admit_validation.reshape(len(y_admit_validation),)\n",
    "\n",
    "alphas = [0.01, 0.1, 1., 10]\n",
    "models = [ridge_reg_pointzeroone,\n",
    "          ridge_reg_pointone,\n",
    "          ridge_reg_one,\n",
    "          ridge_reg_ten]\n",
    "\n",
    "for model, alpha in zip(models, alphas):\n",
    "    y_predict_validation = model.predict(X_admit_validation)\n",
    "    rmse = np.sqrt(mean_squared_error(y_admit_validation,y_predict_validation))\n",
    "    print(f'RMSE of Ridge regression model with alpha = {alpha} is {rmse}')"
   ]
  },
  {
   "cell_type": "markdown",
   "metadata": {
    "id": "T8yxpmiGU4yk"
   },
   "source": [
    "We can see that Ridge with `alpha=0.01` has the smalles RMSE --> The best model"
   ]
  },
  {
   "cell_type": "markdown",
   "metadata": {
    "id": "7xdEhfzIf-c2"
   },
   "source": [
    "### Coefficients"
   ]
  },
  {
   "cell_type": "code",
   "execution_count": 17,
   "metadata": {
    "colab": {
     "base_uri": "https://localhost:8080/",
     "height": 238
    },
    "executionInfo": {
     "elapsed": 375,
     "status": "ok",
     "timestamp": 1661045754100,
     "user": {
      "displayName": "Pararawendy Indarjo",
      "userId": "09035664507663317723"
     },
     "user_tz": -420
    },
    "id": "RdygaJzE3Gx0",
    "outputId": "469be6f9-81f4-4b86-bea0-27bd0be348f3"
   },
   "outputs": [
    {
     "data": {
      "text/html": [
       "<div>\n",
       "<style scoped>\n",
       "    .dataframe tbody tr th:only-of-type {\n",
       "        vertical-align: middle;\n",
       "    }\n",
       "\n",
       "    .dataframe tbody tr th {\n",
       "        vertical-align: top;\n",
       "    }\n",
       "\n",
       "    .dataframe thead th {\n",
       "        text-align: right;\n",
       "    }\n",
       "</style>\n",
       "<table border=\"1\" class=\"dataframe\">\n",
       "  <thead>\n",
       "    <tr style=\"text-align: right;\">\n",
       "      <th></th>\n",
       "      <th>feature</th>\n",
       "      <th>coefficient</th>\n",
       "    </tr>\n",
       "  </thead>\n",
       "  <tbody>\n",
       "    <tr>\n",
       "      <th>0</th>\n",
       "      <td>intercept</td>\n",
       "      <td>-0.741404</td>\n",
       "    </tr>\n",
       "    <tr>\n",
       "      <th>1</th>\n",
       "      <td>univ_ranking</td>\n",
       "      <td>0.005556</td>\n",
       "    </tr>\n",
       "    <tr>\n",
       "      <th>2</th>\n",
       "      <td>motiv_letter_strength</td>\n",
       "      <td>0.009497</td>\n",
       "    </tr>\n",
       "    <tr>\n",
       "      <th>3</th>\n",
       "      <td>recommendation_strength</td>\n",
       "      <td>0.015778</td>\n",
       "    </tr>\n",
       "    <tr>\n",
       "      <th>4</th>\n",
       "      <td>gpa</td>\n",
       "      <td>0.155693</td>\n",
       "    </tr>\n",
       "    <tr>\n",
       "      <th>5</th>\n",
       "      <td>research_exp</td>\n",
       "      <td>0.042721</td>\n",
       "    </tr>\n",
       "  </tbody>\n",
       "</table>\n",
       "</div>"
      ],
      "text/plain": [
       "                   feature  coefficient\n",
       "0                intercept    -0.741404\n",
       "1             univ_ranking     0.005556\n",
       "2    motiv_letter_strength     0.009497\n",
       "3  recommendation_strength     0.015778\n",
       "4                      gpa     0.155693\n",
       "5             research_exp     0.042721"
      ]
     },
     "execution_count": 17,
     "metadata": {},
     "output_type": "execute_result"
    }
   ],
   "source": [
    "ridge_best = ridge_reg_pointzeroone\n",
    "\n",
    "coef_df = pd.DataFrame({\n",
    "    'feature':['intercept'] + feature_admit_train.columns.tolist(),\n",
    "    'coefficient':[ridge_best.intercept_] + list(ridge_best.coef_)\n",
    "})\n",
    "\n",
    "coef_df"
   ]
  },
  {
   "cell_type": "code",
   "execution_count": 30,
   "metadata": {},
   "outputs": [
    {
     "data": {
      "text/plain": [
       "Index(['univ_ranking', 'motiv_letter_strength', 'recommendation_strength',\n",
       "       'gpa', 'research_exp'],\n",
       "      dtype='object')"
      ]
     },
     "execution_count": 30,
     "metadata": {},
     "output_type": "execute_result"
    }
   ],
   "source": [
    "feature_admit_train.columns"
   ]
  },
  {
   "cell_type": "markdown",
   "metadata": {
    "id": "A8V64QsD31Q2"
   },
   "source": [
    "# Lasso!\n",
    "Exercise!"
   ]
  },
  {
   "cell_type": "markdown",
   "metadata": {
    "id": "O41fs_ZdzMeC"
   },
   "source": [
    "## Train Multiple Models"
   ]
  },
  {
   "cell_type": "code",
   "execution_count": 18,
   "metadata": {
    "colab": {
     "base_uri": "https://localhost:8080/"
    },
    "executionInfo": {
     "elapsed": 506,
     "status": "ok",
     "timestamp": 1656726527516,
     "user": {
      "displayName": "Pararawendy Indarjo",
      "userId": "09035664507663317723"
     },
     "user_tz": -420
    },
    "id": "taqaZY_2zJrB",
    "outputId": "4b7f6c5b-f1e2-4c61-b8e6-3cdca926405c"
   },
   "outputs": [],
   "source": [
    "from sklearn.linear_model import Lasso\n",
    "\n",
    "# train the model\n",
    "X_admit_train = feature_admit_train.to_numpy()\n",
    "y_admit_train = target_admit_train.to_numpy()\n",
    "y_admit_train = y_admit_train.reshape(len(y_admit_train),)\n",
    "\n",
    "# define the model\n",
    "# 4 models with 4 different alphas (lambda)\n",
    "\n",
    "# fit the model (training)\n"
   ]
  },
  {
   "cell_type": "markdown",
   "metadata": {
    "id": "MgCKvPR_zJrC"
   },
   "source": [
    "## Find the best model (alpha)\n",
    "Based on validation set"
   ]
  },
  {
   "cell_type": "code",
   "execution_count": 19,
   "metadata": {
    "colab": {
     "base_uri": "https://localhost:8080/"
    },
    "executionInfo": {
     "elapsed": 417,
     "status": "ok",
     "timestamp": 1656726545531,
     "user": {
      "displayName": "Pararawendy Indarjo",
      "userId": "09035664507663317723"
     },
     "user_tz": -420
    },
    "id": "uA09tESlzJrC",
    "outputId": "4d41e1fa-2ac7-4b95-e8d2-56697dd944f9"
   },
   "outputs": [],
   "source": [
    "from sklearn.metrics import mean_squared_error\n",
    "\n",
    "X_admit_validation = feature_admit_validation.to_numpy()\n",
    "y_admit_validation = target_admit_validation.to_numpy()\n",
    "y_admit_validation = y_admit_validation.reshape(len(y_admit_validation),)\n",
    "\n"
   ]
  },
  {
   "cell_type": "markdown",
   "metadata": {
    "id": "-9Rlf3WhzJrC"
   },
   "source": [
    "### Coefficients"
   ]
  },
  {
   "cell_type": "code",
   "execution_count": 20,
   "metadata": {
    "colab": {
     "base_uri": "https://localhost:8080/",
     "height": 238
    },
    "executionInfo": {
     "elapsed": 408,
     "status": "ok",
     "timestamp": 1656726555727,
     "user": {
      "displayName": "Pararawendy Indarjo",
      "userId": "09035664507663317723"
     },
     "user_tz": -420
    },
    "id": "8vkXclwazJrD",
    "outputId": "a35e4b33-dda1-482a-be34-e09dde8107e2"
   },
   "outputs": [],
   "source": [
    "# coeffs"
   ]
  },
  {
   "cell_type": "markdown",
   "metadata": {
    "id": "rVTlEJqigqs3"
   },
   "source": [
    "### Diagnostic Study\n",
    "Not mandatory"
   ]
  },
  {
   "cell_type": "code",
   "execution_count": 21,
   "metadata": {
    "colab": {
     "base_uri": "https://localhost:8080/"
    },
    "executionInfo": {
     "elapsed": 399,
     "status": "ok",
     "timestamp": 1661045758899,
     "user": {
      "displayName": "Pararawendy Indarjo",
      "userId": "09035664507663317723"
     },
     "user_tz": -420
    },
    "id": "LPmFz8JwhHDF",
    "outputId": "f1cacab3-f6eb-4cd9-cf80-19205f39491b"
   },
   "outputs": [
    {
     "name": "stdout",
     "output_type": "stream",
     "text": [
      "R-squared for training data is 0.7983604440801396\n"
     ]
    }
   ],
   "source": [
    "from sklearn.metrics import r2_score\n",
    "\n",
    "y_predict_train = ridge_best.predict(X_admit_train)\n",
    "\n",
    "print('R-squared for training data is {}'.format(r2_score(y_admit_train, y_predict_train)))"
   ]
  },
  {
   "cell_type": "code",
   "execution_count": 22,
   "metadata": {
    "colab": {
     "base_uri": "https://localhost:8080/",
     "height": 281
    },
    "executionInfo": {
     "elapsed": 5,
     "status": "ok",
     "timestamp": 1661045763449,
     "user": {
      "displayName": "Pararawendy Indarjo",
      "userId": "09035664507663317723"
     },
     "user_tz": -420
    },
    "id": "LJmCCE396vnc",
    "outputId": "e18b17c0-33b8-45fd-8729-90e4f1ad2534"
   },
   "outputs": [
    {
     "data": {
      "image/png": "[encoded data removed]",
      "text/plain": [
       "<Figure size 640x480 with 1 Axes>"
      ]
     },
     "metadata": {},
     "output_type": "display_data"
    }
   ],
   "source": [
    "# calculate residuals\n",
    "residual = y_admit_train - y_predict_train\n",
    "\n",
    "# prepare dataframe\n",
    "# 1 predictor --> predictor VS residual\n",
    "df_resid = pd.DataFrame({\n",
    "    'predicted_value': y_predict_train,\n",
    "    'residual': residual\n",
    "})\n",
    "\n",
    "# residual plot\n",
    "sns.scatterplot(data=df_resid, x=\"predicted_value\", y=\"residual\")\n",
    "plt.axhline(0)\n",
    "plt.show()"
   ]
  },
  {
   "cell_type": "markdown",
   "metadata": {
    "id": "2oHV6b-3thOP"
   },
   "source": [
    "Asumsi:\n",
    "1. Linear relationship: OK. Garis horizontal y=0 cukup merepresentasikan keseluruhan titik residual.\n",
    "2. Variance stable: NO. Variasinya itu dari lebar (di bagian kiri) ke kecil (di bagian kanan)\n",
    "3. Independent residual: OK. Tidak ada pattern yang mencolok pada residuals yang berdekatan. "
   ]
  },
  {
   "cell_type": "markdown",
   "metadata": {
    "id": "S4S5dcW5DmLr"
   },
   "source": [
    "## Model Evaluation\n",
    "(Ridge)"
   ]
  },
  {
   "cell_type": "markdown",
   "metadata": {
    "id": "hs277LXaYMZJ"
   },
   "source": [
    "### Training Error"
   ]
  },
  {
   "cell_type": "code",
   "execution_count": 23,
   "metadata": {
    "id": "iWGHYRfTYM5K"
   },
   "outputs": [],
   "source": [
    "# prepare prediction result on train data\n",
    "y_predict_train = ridge_best.predict(X_admit_train)"
   ]
  },
  {
   "cell_type": "code",
   "execution_count": 24,
   "metadata": {
    "colab": {
     "base_uri": "https://localhost:8080/"
    },
    "executionInfo": {
     "elapsed": 416,
     "status": "ok",
     "timestamp": 1656735224583,
     "user": {
      "displayName": "Pararawendy Indarjo",
      "userId": "09035664507663317723"
     },
     "user_tz": -420
    },
    "id": "SHxtK--AZO1g",
    "outputId": "3dfb0bd7-604d-4e5d-b13e-e817ad2dbb01"
   },
   "outputs": [
    {
     "name": "stdout",
     "output_type": "stream",
     "text": [
      "RMSE for training data is 0.06452404616839902\n",
      "MAE for training data is 0.04696727414428017\n",
      "MAPE for training data is 0.07615698192361053\n"
     ]
    }
   ],
   "source": [
    "from sklearn.metrics import mean_squared_error\n",
    "from sklearn.metrics import mean_absolute_error\n",
    "from sklearn.metrics import mean_absolute_percentage_error\n",
    "\n",
    "print('RMSE for training data is {}'.format(np.sqrt(mean_squared_error(y_admit_train, y_predict_train))))\n",
    "print('MAE for training data is {}'.format(mean_absolute_error(y_admit_train, y_predict_train)))\n",
    "print('MAPE for training data is {}'.format(mean_absolute_percentage_error(y_admit_train, y_predict_train)))"
   ]
  },
  {
   "cell_type": "markdown",
   "metadata": {
    "id": "ULt9B-MjiKUn"
   },
   "source": [
    "### Testing Error"
   ]
  },
  {
   "cell_type": "code",
   "execution_count": 25,
   "metadata": {
    "id": "8oxKg8VJiE-y"
   },
   "outputs": [],
   "source": [
    "# prepare prediction result on test data\n",
    "X_admit_test = feature_admit_test.to_numpy()\n",
    "y_predict_test = ridge_best.predict(X_admit_test)\n",
    "\n",
    "# ground truth target\n",
    "y_admit_test = target_admit_test.to_numpy()\n",
    "y_admit_test = y_admit_test.reshape(len(y_admit_test),)"
   ]
  },
  {
   "cell_type": "code",
   "execution_count": 26,
   "metadata": {
    "colab": {
     "base_uri": "https://localhost:8080/"
    },
    "executionInfo": {
     "elapsed": 418,
     "status": "ok",
     "timestamp": 1656735237404,
     "user": {
      "displayName": "Pararawendy Indarjo",
      "userId": "09035664507663317723"
     },
     "user_tz": -420
    },
    "id": "LXMFczSoilEH",
    "outputId": "d9da3f16-0bc9-4550-bd81-872fc26add0c"
   },
   "outputs": [
    {
     "name": "stdout",
     "output_type": "stream",
     "text": [
      "RMSE for testing data is 0.05897949876358449\n",
      "MAE for testing data is 0.03966551982284345\n",
      "MAPE for testing data is 0.06460794974458267\n"
     ]
    }
   ],
   "source": [
    "from sklearn.metrics import mean_squared_error\n",
    "from sklearn.metrics import mean_absolute_error\n",
    "from sklearn.metrics import mean_absolute_percentage_error\n",
    "\n",
    "print('RMSE for testing data is {}'.format(np.sqrt(mean_squared_error(y_admit_test, y_predict_test))))\n",
    "print('MAE for testing data is {}'.format(mean_absolute_error(y_admit_test, y_predict_test)))\n",
    "print('MAPE for testing data is {}'.format(mean_absolute_percentage_error(y_admit_test, y_predict_test)))"
   ]
  },
  {
   "cell_type": "code",
   "execution_count": 27,
   "metadata": {
    "colab": {
     "base_uri": "https://localhost:8080/"
    },
    "executionInfo": {
     "elapsed": 411,
     "status": "ok",
     "timestamp": 1656726506290,
     "user": {
      "displayName": "Pararawendy Indarjo",
      "userId": "09035664507663317723"
     },
     "user_tz": -420
    },
    "id": "aRNQKnNjqfoV",
    "outputId": "08a3cf93-feb7-4a5c-a3a3-c46803ea0558"
   },
   "outputs": [
    {
     "data": {
      "text/plain": [
       "0.06460794974458267"
      ]
     },
     "execution_count": 27,
     "metadata": {},
     "output_type": "execute_result"
    }
   ],
   "source": [
    "from sklearn.metrics import mean_absolute_error\n",
    "from sklearn.metrics import mean_absolute_percentage_error\n",
    "\n",
    "mean_absolute_error(y_admit_test, y_predict_test)\n",
    "mean_absolute_percentage_error(y_admit_test, y_predict_test)"
   ]
  },
  {
   "cell_type": "markdown",
   "metadata": {
    "id": "s0erVMdzoqXf"
   },
   "source": [
    "# Predicting Traffic Volume Using Lasso"
   ]
  },
  {
   "cell_type": "code",
   "execution_count": 28,
   "metadata": {
    "colab": {
     "base_uri": "https://localhost:8080/",
     "height": 206
    },
    "executionInfo": {
     "elapsed": 999,
     "status": "ok",
     "timestamp": 1656727228125,
     "user": {
      "displayName": "Pararawendy Indarjo",
      "userId": "09035664507663317723"
     },
     "user_tz": -420
    },
    "id": "29vuA1emplS3",
    "outputId": "9fd2cafe-c9b3-4339-f6fe-4799f58aadb8"
   },
   "outputs": [
    {
     "ename": "FileNotFoundError",
     "evalue": "[Errno 2] No such file or directory: '/content/drive/MyDrive/Dibimbing/data/traffic_volume.csv'",
     "output_type": "error",
     "traceback": [
      "\u001b[1;31m---------------------------------------------------------------------------\u001b[0m",
      "\u001b[1;31mFileNotFoundError\u001b[0m                         Traceback (most recent call last)",
      "Cell \u001b[1;32mIn [28], line 2\u001b[0m\n\u001b[0;32m      1\u001b[0m \u001b[38;5;66;03m# load data\u001b[39;00m\n\u001b[1;32m----> 2\u001b[0m traffic \u001b[38;5;241m=\u001b[39m \u001b[43mpd\u001b[49m\u001b[38;5;241;43m.\u001b[39;49m\u001b[43mread_csv\u001b[49m\u001b[43m(\u001b[49m\u001b[38;5;124;43m'\u001b[39;49m\u001b[38;5;124;43m/content/drive/MyDrive/Dibimbing/data/traffic_volume.csv\u001b[39;49m\u001b[38;5;124;43m'\u001b[39;49m\u001b[43m)\u001b[49m\n\u001b[0;32m      3\u001b[0m traffic\u001b[38;5;241m.\u001b[39mhead()\n",
      "File \u001b[1;32m~\\AppData\\Local\\Programs\\Python\\Python311\\Lib\\site-packages\\pandas\\util\\_decorators.py:211\u001b[0m, in \u001b[0;36mdeprecate_kwarg.<locals>._deprecate_kwarg.<locals>.wrapper\u001b[1;34m(*args, **kwargs)\u001b[0m\n\u001b[0;32m    209\u001b[0m     \u001b[38;5;28;01melse\u001b[39;00m:\n\u001b[0;32m    210\u001b[0m         kwargs[new_arg_name] \u001b[38;5;241m=\u001b[39m new_arg_value\n\u001b[1;32m--> 211\u001b[0m \u001b[38;5;28;01mreturn\u001b[39;00m \u001b[43mfunc\u001b[49m\u001b[43m(\u001b[49m\u001b[38;5;241;43m*\u001b[39;49m\u001b[43margs\u001b[49m\u001b[43m,\u001b[49m\u001b[43m \u001b[49m\u001b[38;5;241;43m*\u001b[39;49m\u001b[38;5;241;43m*\u001b[39;49m\u001b[43mkwargs\u001b[49m\u001b[43m)\u001b[49m\n",
      "File \u001b[1;32m~\\AppData\\Local\\Programs\\Python\\Python311\\Lib\\site-packages\\pandas\\util\\_decorators.py:331\u001b[0m, in \u001b[0;36mdeprecate_nonkeyword_arguments.<locals>.decorate.<locals>.wrapper\u001b[1;34m(*args, **kwargs)\u001b[0m\n\u001b[0;32m    325\u001b[0m \u001b[38;5;28;01mif\u001b[39;00m \u001b[38;5;28mlen\u001b[39m(args) \u001b[38;5;241m>\u001b[39m num_allow_args:\n\u001b[0;32m    326\u001b[0m     warnings\u001b[38;5;241m.\u001b[39mwarn(\n\u001b[0;32m    327\u001b[0m         msg\u001b[38;5;241m.\u001b[39mformat(arguments\u001b[38;5;241m=\u001b[39m_format_argument_list(allow_args)),\n\u001b[0;32m    328\u001b[0m         \u001b[38;5;167;01mFutureWarning\u001b[39;00m,\n\u001b[0;32m    329\u001b[0m         stacklevel\u001b[38;5;241m=\u001b[39mfind_stack_level(),\n\u001b[0;32m    330\u001b[0m     )\n\u001b[1;32m--> 331\u001b[0m \u001b[38;5;28;01mreturn\u001b[39;00m \u001b[43mfunc\u001b[49m\u001b[43m(\u001b[49m\u001b[38;5;241;43m*\u001b[39;49m\u001b[43margs\u001b[49m\u001b[43m,\u001b[49m\u001b[43m \u001b[49m\u001b[38;5;241;43m*\u001b[39;49m\u001b[38;5;241;43m*\u001b[39;49m\u001b[43mkwargs\u001b[49m\u001b[43m)\u001b[49m\n",
      "File \u001b[1;32m~\\AppData\\Local\\Programs\\Python\\Python311\\Lib\\site-packages\\pandas\\io\\parsers\\readers.py:950\u001b[0m, in \u001b[0;36mread_csv\u001b[1;34m(filepath_or_buffer, sep, delimiter, header, names, index_col, usecols, squeeze, prefix, mangle_dupe_cols, dtype, engine, converters, true_values, false_values, skipinitialspace, skiprows, skipfooter, nrows, na_values, keep_default_na, na_filter, verbose, skip_blank_lines, parse_dates, infer_datetime_format, keep_date_col, date_parser, dayfirst, cache_dates, iterator, chunksize, compression, thousands, decimal, lineterminator, quotechar, quoting, doublequote, escapechar, comment, encoding, encoding_errors, dialect, error_bad_lines, warn_bad_lines, on_bad_lines, delim_whitespace, low_memory, memory_map, float_precision, storage_options)\u001b[0m\n\u001b[0;32m    935\u001b[0m kwds_defaults \u001b[38;5;241m=\u001b[39m _refine_defaults_read(\n\u001b[0;32m    936\u001b[0m     dialect,\n\u001b[0;32m    937\u001b[0m     delimiter,\n\u001b[1;32m   (...)\u001b[0m\n\u001b[0;32m    946\u001b[0m     defaults\u001b[38;5;241m=\u001b[39m{\u001b[38;5;124m\"\u001b[39m\u001b[38;5;124mdelimiter\u001b[39m\u001b[38;5;124m\"\u001b[39m: \u001b[38;5;124m\"\u001b[39m\u001b[38;5;124m,\u001b[39m\u001b[38;5;124m\"\u001b[39m},\n\u001b[0;32m    947\u001b[0m )\n\u001b[0;32m    948\u001b[0m kwds\u001b[38;5;241m.\u001b[39mupdate(kwds_defaults)\n\u001b[1;32m--> 950\u001b[0m \u001b[38;5;28;01mreturn\u001b[39;00m \u001b[43m_read\u001b[49m\u001b[43m(\u001b[49m\u001b[43mfilepath_or_buffer\u001b[49m\u001b[43m,\u001b[49m\u001b[43m \u001b[49m\u001b[43mkwds\u001b[49m\u001b[43m)\u001b[49m\n",
      "File \u001b[1;32m~\\AppData\\Local\\Programs\\Python\\Python311\\Lib\\site-packages\\pandas\\io\\parsers\\readers.py:605\u001b[0m, in \u001b[0;36m_read\u001b[1;34m(filepath_or_buffer, kwds)\u001b[0m\n\u001b[0;32m    602\u001b[0m _validate_names(kwds\u001b[38;5;241m.\u001b[39mget(\u001b[38;5;124m\"\u001b[39m\u001b[38;5;124mnames\u001b[39m\u001b[38;5;124m\"\u001b[39m, \u001b[38;5;28;01mNone\u001b[39;00m))\n\u001b[0;32m    604\u001b[0m \u001b[38;5;66;03m# Create the parser.\u001b[39;00m\n\u001b[1;32m--> 605\u001b[0m parser \u001b[38;5;241m=\u001b[39m \u001b[43mTextFileReader\u001b[49m\u001b[43m(\u001b[49m\u001b[43mfilepath_or_buffer\u001b[49m\u001b[43m,\u001b[49m\u001b[43m \u001b[49m\u001b[38;5;241;43m*\u001b[39;49m\u001b[38;5;241;43m*\u001b[39;49m\u001b[43mkwds\u001b[49m\u001b[43m)\u001b[49m\n\u001b[0;32m    607\u001b[0m \u001b[38;5;28;01mif\u001b[39;00m chunksize \u001b[38;5;129;01mor\u001b[39;00m iterator:\n\u001b[0;32m    608\u001b[0m     \u001b[38;5;28;01mreturn\u001b[39;00m parser\n",
      "File \u001b[1;32m~\\AppData\\Local\\Programs\\Python\\Python311\\Lib\\site-packages\\pandas\\io\\parsers\\readers.py:1442\u001b[0m, in \u001b[0;36mTextFileReader.__init__\u001b[1;34m(self, f, engine, **kwds)\u001b[0m\n\u001b[0;32m   1439\u001b[0m     \u001b[38;5;28mself\u001b[39m\u001b[38;5;241m.\u001b[39moptions[\u001b[38;5;124m\"\u001b[39m\u001b[38;5;124mhas_index_names\u001b[39m\u001b[38;5;124m\"\u001b[39m] \u001b[38;5;241m=\u001b[39m kwds[\u001b[38;5;124m\"\u001b[39m\u001b[38;5;124mhas_index_names\u001b[39m\u001b[38;5;124m\"\u001b[39m]\n\u001b[0;32m   1441\u001b[0m \u001b[38;5;28mself\u001b[39m\u001b[38;5;241m.\u001b[39mhandles: IOHandles \u001b[38;5;241m|\u001b[39m \u001b[38;5;28;01mNone\u001b[39;00m \u001b[38;5;241m=\u001b[39m \u001b[38;5;28;01mNone\u001b[39;00m\n\u001b[1;32m-> 1442\u001b[0m \u001b[38;5;28mself\u001b[39m\u001b[38;5;241m.\u001b[39m_engine \u001b[38;5;241m=\u001b[39m \u001b[38;5;28;43mself\u001b[39;49m\u001b[38;5;241;43m.\u001b[39;49m\u001b[43m_make_engine\u001b[49m\u001b[43m(\u001b[49m\u001b[43mf\u001b[49m\u001b[43m,\u001b[49m\u001b[43m \u001b[49m\u001b[38;5;28;43mself\u001b[39;49m\u001b[38;5;241;43m.\u001b[39;49m\u001b[43mengine\u001b[49m\u001b[43m)\u001b[49m\n",
      "File \u001b[1;32m~\\AppData\\Local\\Programs\\Python\\Python311\\Lib\\site-packages\\pandas\\io\\parsers\\readers.py:1735\u001b[0m, in \u001b[0;36mTextFileReader._make_engine\u001b[1;34m(self, f, engine)\u001b[0m\n\u001b[0;32m   1733\u001b[0m     \u001b[38;5;28;01mif\u001b[39;00m \u001b[38;5;124m\"\u001b[39m\u001b[38;5;124mb\u001b[39m\u001b[38;5;124m\"\u001b[39m \u001b[38;5;129;01mnot\u001b[39;00m \u001b[38;5;129;01min\u001b[39;00m mode:\n\u001b[0;32m   1734\u001b[0m         mode \u001b[38;5;241m+\u001b[39m\u001b[38;5;241m=\u001b[39m \u001b[38;5;124m\"\u001b[39m\u001b[38;5;124mb\u001b[39m\u001b[38;5;124m\"\u001b[39m\n\u001b[1;32m-> 1735\u001b[0m \u001b[38;5;28mself\u001b[39m\u001b[38;5;241m.\u001b[39mhandles \u001b[38;5;241m=\u001b[39m \u001b[43mget_handle\u001b[49m\u001b[43m(\u001b[49m\n\u001b[0;32m   1736\u001b[0m \u001b[43m    \u001b[49m\u001b[43mf\u001b[49m\u001b[43m,\u001b[49m\n\u001b[0;32m   1737\u001b[0m \u001b[43m    \u001b[49m\u001b[43mmode\u001b[49m\u001b[43m,\u001b[49m\n\u001b[0;32m   1738\u001b[0m \u001b[43m    \u001b[49m\u001b[43mencoding\u001b[49m\u001b[38;5;241;43m=\u001b[39;49m\u001b[38;5;28;43mself\u001b[39;49m\u001b[38;5;241;43m.\u001b[39;49m\u001b[43moptions\u001b[49m\u001b[38;5;241;43m.\u001b[39;49m\u001b[43mget\u001b[49m\u001b[43m(\u001b[49m\u001b[38;5;124;43m\"\u001b[39;49m\u001b[38;5;124;43mencoding\u001b[39;49m\u001b[38;5;124;43m\"\u001b[39;49m\u001b[43m,\u001b[49m\u001b[43m \u001b[49m\u001b[38;5;28;43;01mNone\u001b[39;49;00m\u001b[43m)\u001b[49m\u001b[43m,\u001b[49m\n\u001b[0;32m   1739\u001b[0m \u001b[43m    \u001b[49m\u001b[43mcompression\u001b[49m\u001b[38;5;241;43m=\u001b[39;49m\u001b[38;5;28;43mself\u001b[39;49m\u001b[38;5;241;43m.\u001b[39;49m\u001b[43moptions\u001b[49m\u001b[38;5;241;43m.\u001b[39;49m\u001b[43mget\u001b[49m\u001b[43m(\u001b[49m\u001b[38;5;124;43m\"\u001b[39;49m\u001b[38;5;124;43mcompression\u001b[39;49m\u001b[38;5;124;43m\"\u001b[39;49m\u001b[43m,\u001b[49m\u001b[43m \u001b[49m\u001b[38;5;28;43;01mNone\u001b[39;49;00m\u001b[43m)\u001b[49m\u001b[43m,\u001b[49m\n\u001b[0;32m   1740\u001b[0m \u001b[43m    \u001b[49m\u001b[43mmemory_map\u001b[49m\u001b[38;5;241;43m=\u001b[39;49m\u001b[38;5;28;43mself\u001b[39;49m\u001b[38;5;241;43m.\u001b[39;49m\u001b[43moptions\u001b[49m\u001b[38;5;241;43m.\u001b[39;49m\u001b[43mget\u001b[49m\u001b[43m(\u001b[49m\u001b[38;5;124;43m\"\u001b[39;49m\u001b[38;5;124;43mmemory_map\u001b[39;49m\u001b[38;5;124;43m\"\u001b[39;49m\u001b[43m,\u001b[49m\u001b[43m \u001b[49m\u001b[38;5;28;43;01mFalse\u001b[39;49;00m\u001b[43m)\u001b[49m\u001b[43m,\u001b[49m\n\u001b[0;32m   1741\u001b[0m \u001b[43m    \u001b[49m\u001b[43mis_text\u001b[49m\u001b[38;5;241;43m=\u001b[39;49m\u001b[43mis_text\u001b[49m\u001b[43m,\u001b[49m\n\u001b[0;32m   1742\u001b[0m \u001b[43m    \u001b[49m\u001b[43merrors\u001b[49m\u001b[38;5;241;43m=\u001b[39;49m\u001b[38;5;28;43mself\u001b[39;49m\u001b[38;5;241;43m.\u001b[39;49m\u001b[43moptions\u001b[49m\u001b[38;5;241;43m.\u001b[39;49m\u001b[43mget\u001b[49m\u001b[43m(\u001b[49m\u001b[38;5;124;43m\"\u001b[39;49m\u001b[38;5;124;43mencoding_errors\u001b[39;49m\u001b[38;5;124;43m\"\u001b[39;49m\u001b[43m,\u001b[49m\u001b[43m \u001b[49m\u001b[38;5;124;43m\"\u001b[39;49m\u001b[38;5;124;43mstrict\u001b[39;49m\u001b[38;5;124;43m\"\u001b[39;49m\u001b[43m)\u001b[49m\u001b[43m,\u001b[49m\n\u001b[0;32m   1743\u001b[0m \u001b[43m    \u001b[49m\u001b[43mstorage_options\u001b[49m\u001b[38;5;241;43m=\u001b[39;49m\u001b[38;5;28;43mself\u001b[39;49m\u001b[38;5;241;43m.\u001b[39;49m\u001b[43moptions\u001b[49m\u001b[38;5;241;43m.\u001b[39;49m\u001b[43mget\u001b[49m\u001b[43m(\u001b[49m\u001b[38;5;124;43m\"\u001b[39;49m\u001b[38;5;124;43mstorage_options\u001b[39;49m\u001b[38;5;124;43m\"\u001b[39;49m\u001b[43m,\u001b[49m\u001b[43m \u001b[49m\u001b[38;5;28;43;01mNone\u001b[39;49;00m\u001b[43m)\u001b[49m\u001b[43m,\u001b[49m\n\u001b[0;32m   1744\u001b[0m \u001b[43m\u001b[49m\u001b[43m)\u001b[49m\n\u001b[0;32m   1745\u001b[0m \u001b[38;5;28;01massert\u001b[39;00m \u001b[38;5;28mself\u001b[39m\u001b[38;5;241m.\u001b[39mhandles \u001b[38;5;129;01mis\u001b[39;00m \u001b[38;5;129;01mnot\u001b[39;00m \u001b[38;5;28;01mNone\u001b[39;00m\n\u001b[0;32m   1746\u001b[0m f \u001b[38;5;241m=\u001b[39m \u001b[38;5;28mself\u001b[39m\u001b[38;5;241m.\u001b[39mhandles\u001b[38;5;241m.\u001b[39mhandle\n",
      "File \u001b[1;32m~\\AppData\\Local\\Programs\\Python\\Python311\\Lib\\site-packages\\pandas\\io\\common.py:856\u001b[0m, in \u001b[0;36mget_handle\u001b[1;34m(path_or_buf, mode, encoding, compression, memory_map, is_text, errors, storage_options)\u001b[0m\n\u001b[0;32m    851\u001b[0m \u001b[38;5;28;01melif\u001b[39;00m \u001b[38;5;28misinstance\u001b[39m(handle, \u001b[38;5;28mstr\u001b[39m):\n\u001b[0;32m    852\u001b[0m     \u001b[38;5;66;03m# Check whether the filename is to be opened in binary mode.\u001b[39;00m\n\u001b[0;32m    853\u001b[0m     \u001b[38;5;66;03m# Binary mode does not support 'encoding' and 'newline'.\u001b[39;00m\n\u001b[0;32m    854\u001b[0m     \u001b[38;5;28;01mif\u001b[39;00m ioargs\u001b[38;5;241m.\u001b[39mencoding \u001b[38;5;129;01mand\u001b[39;00m \u001b[38;5;124m\"\u001b[39m\u001b[38;5;124mb\u001b[39m\u001b[38;5;124m\"\u001b[39m \u001b[38;5;129;01mnot\u001b[39;00m \u001b[38;5;129;01min\u001b[39;00m ioargs\u001b[38;5;241m.\u001b[39mmode:\n\u001b[0;32m    855\u001b[0m         \u001b[38;5;66;03m# Encoding\u001b[39;00m\n\u001b[1;32m--> 856\u001b[0m         handle \u001b[38;5;241m=\u001b[39m \u001b[38;5;28;43mopen\u001b[39;49m\u001b[43m(\u001b[49m\n\u001b[0;32m    857\u001b[0m \u001b[43m            \u001b[49m\u001b[43mhandle\u001b[49m\u001b[43m,\u001b[49m\n\u001b[0;32m    858\u001b[0m \u001b[43m            \u001b[49m\u001b[43mioargs\u001b[49m\u001b[38;5;241;43m.\u001b[39;49m\u001b[43mmode\u001b[49m\u001b[43m,\u001b[49m\n\u001b[0;32m    859\u001b[0m \u001b[43m            \u001b[49m\u001b[43mencoding\u001b[49m\u001b[38;5;241;43m=\u001b[39;49m\u001b[43mioargs\u001b[49m\u001b[38;5;241;43m.\u001b[39;49m\u001b[43mencoding\u001b[49m\u001b[43m,\u001b[49m\n\u001b[0;32m    860\u001b[0m \u001b[43m            \u001b[49m\u001b[43merrors\u001b[49m\u001b[38;5;241;43m=\u001b[39;49m\u001b[43merrors\u001b[49m\u001b[43m,\u001b[49m\n\u001b[0;32m    861\u001b[0m \u001b[43m            \u001b[49m\u001b[43mnewline\u001b[49m\u001b[38;5;241;43m=\u001b[39;49m\u001b[38;5;124;43m\"\u001b[39;49m\u001b[38;5;124;43m\"\u001b[39;49m\u001b[43m,\u001b[49m\n\u001b[0;32m    862\u001b[0m \u001b[43m        \u001b[49m\u001b[43m)\u001b[49m\n\u001b[0;32m    863\u001b[0m     \u001b[38;5;28;01melse\u001b[39;00m:\n\u001b[0;32m    864\u001b[0m         \u001b[38;5;66;03m# Binary mode\u001b[39;00m\n\u001b[0;32m    865\u001b[0m         handle \u001b[38;5;241m=\u001b[39m \u001b[38;5;28mopen\u001b[39m(handle, ioargs\u001b[38;5;241m.\u001b[39mmode)\n",
      "\u001b[1;31mFileNotFoundError\u001b[0m: [Errno 2] No such file or directory: '/content/drive/MyDrive/Dibimbing/data/traffic_volume.csv'"
     ]
    }
   ],
   "source": [
    "# load data\n",
    "traffic = pd.read_csv('/content/drive/MyDrive/Dibimbing/data/traffic_volume.csv')\n",
    "traffic.head()"
   ]
  },
  {
   "cell_type": "code",
   "execution_count": null,
   "metadata": {
    "id": "IDel4JmJqQ4R"
   },
   "outputs": [],
   "source": [
    "# split train test\n",
    "from sklearn.model_selection import train_test_split\n",
    "\n",
    "feature = traffic.drop(columns='traffic_volume')\n",
    "target = traffic[['traffic_volume']]\n",
    "\n",
    "feature_traffic_pretrain, feature_traffic_test, target_traffic_pretrain, target_traffic_test = train_test_split(feature, target, test_size=0.20, random_state=42)\n",
    "\n",
    "feature_traffic_train, feature_traffic_validation, target_traffic_train, target_traffic_validation = train_test_split(feature_traffic_pretrain, target_traffic_pretrain, test_size=0.20, random_state=42)"
   ]
  },
  {
   "cell_type": "code",
   "execution_count": null,
   "metadata": {
    "colab": {
     "base_uri": "https://localhost:8080/",
     "height": 231
    },
    "executionInfo": {
     "elapsed": 7,
     "status": "ok",
     "timestamp": 1656727231940,
     "user": {
      "displayName": "Pararawendy Indarjo",
      "userId": "09035664507663317723"
     },
     "user_tz": -420
    },
    "id": "CpF9SSfUqQ4S",
    "outputId": "14f4eb8f-84cf-4285-e5ca-4f54dfb211e0"
   },
   "outputs": [],
   "source": [
    "# calulcate vif scores\n",
    "from statsmodels.stats.outliers_influence import variance_inflation_factor as vif \n",
    "from statsmodels.tools.tools import add_constant\n",
    "\n",
    "X = add_constant(feature_traffic_train)\n",
    "\n",
    "vif_df = pd.DataFrame([vif(X.values, i) \n",
    "               for i in range(X.shape[1])], \n",
    "              index=X.columns).reset_index()\n",
    "vif_df.columns = ['feature','vif_score']\n",
    "vif_df = vif_df.loc[vif_df.feature!='const']\n",
    "vif_df"
   ]
  },
  {
   "cell_type": "code",
   "execution_count": null,
   "metadata": {
    "colab": {
     "base_uri": "https://localhost:8080/",
     "height": 433
    },
    "executionInfo": {
     "elapsed": 580,
     "status": "ok",
     "timestamp": 1656727234520,
     "user": {
      "displayName": "Pararawendy Indarjo",
      "userId": "09035664507663317723"
     },
     "user_tz": -420
    },
    "id": "L89Pcm8fqQ4T",
    "outputId": "f660f243-8fa4-41ad-8b4a-d58f1c840d26"
   },
   "outputs": [],
   "source": [
    "# heatmap correlation\n",
    "traffic_train = pd.concat([feature_traffic_train, target_traffic_train], axis=1)\n",
    "corr = traffic_train.corr()\n",
    "\n",
    "plt.figure(figsize=(10,7))\n",
    "sns.heatmap(corr, annot=True, fmt='.2f')\n",
    "plt.show()"
   ]
  },
  {
   "cell_type": "markdown",
   "metadata": {
    "id": "kC_zqJcOqQ4T"
   },
   "source": [
    "NO need to drop!"
   ]
  },
  {
   "cell_type": "code",
   "execution_count": null,
   "metadata": {
    "colab": {
     "base_uri": "https://localhost:8080/"
    },
    "executionInfo": {
     "elapsed": 429,
     "status": "ok",
     "timestamp": 1656727236987,
     "user": {
      "displayName": "Pararawendy Indarjo",
      "userId": "09035664507663317723"
     },
     "user_tz": -420
    },
    "id": "1NDP7_8Z90Vt",
    "outputId": "8e7a0d9d-826c-4812-9f20-bace9d3e0ebc"
   },
   "outputs": [],
   "source": [
    "from sklearn.linear_model import Lasso\n",
    "\n",
    "# train the model\n",
    "X_traffic_train = feature_traffic_train.to_numpy()\n",
    "y_traffic_train = target_traffic_train.to_numpy()\n",
    "y_traffic_train = y_traffic_train.reshape(len(y_traffic_train),)\n",
    "\n",
    "# define the model\n",
    "lasso_reg_pointzeroone = Lasso(alpha=0.01, random_state=42)\n",
    "lasso_reg_pointone = Lasso(alpha=0.1, random_state=42)\n",
    "lasso_reg_one = Lasso(alpha=1, random_state=42)\n",
    "lasso_reg_ten = Lasso(alpha=10, random_state=42)\n",
    "\n",
    "# fit the model (training)\n",
    "lasso_reg_pointzeroone.fit(X_traffic_train, y_traffic_train)\n",
    "lasso_reg_pointone.fit(X_traffic_train, y_traffic_train)\n",
    "lasso_reg_one.fit(X_traffic_train, y_traffic_train)\n",
    "lasso_reg_ten.fit(X_traffic_train, y_traffic_train)"
   ]
  },
  {
   "cell_type": "markdown",
   "metadata": {
    "id": "J6E5OZ3F90V8"
   },
   "source": [
    "## Find the best model (alpha)\n",
    "Based on validation set"
   ]
  },
  {
   "cell_type": "code",
   "execution_count": null,
   "metadata": {
    "colab": {
     "base_uri": "https://localhost:8080/"
    },
    "executionInfo": {
     "elapsed": 397,
     "status": "ok",
     "timestamp": 1656727240100,
     "user": {
      "displayName": "Pararawendy Indarjo",
      "userId": "09035664507663317723"
     },
     "user_tz": -420
    },
    "id": "BsxbOK3a90V8",
    "outputId": "9b554994-4c41-4b97-d7fb-f2b80d2ea80d"
   },
   "outputs": [],
   "source": [
    "from sklearn.metrics import mean_squared_error\n",
    "\n",
    "X_traffic_validation = feature_traffic_validation.to_numpy()\n",
    "y_traffic_validation = target_traffic_validation.to_numpy()\n",
    "y_traffic_validation = y_traffic_validation.reshape(len(y_traffic_validation),)\n",
    "\n",
    "alphas = [0.01, 0.1, 1., 10]\n",
    "models = [lasso_reg_pointzeroone,\n",
    "          lasso_reg_pointone,\n",
    "          lasso_reg_one,\n",
    "          lasso_reg_ten]\n",
    "\n",
    "for model, alpha in zip(models, alphas):\n",
    "    y_predict_validation = model.predict(X_traffic_validation)\n",
    "    rmse = np.sqrt(mean_squared_error(y_traffic_validation,y_predict_validation))\n",
    "    print(f'RMSE of Lasso regression model with alpha = {alpha} is {rmse}')"
   ]
  },
  {
   "cell_type": "markdown",
   "metadata": {
    "id": "fjZjL2_-0_ah"
   },
   "source": [
    "Best lambda/alpha = 10"
   ]
  },
  {
   "cell_type": "markdown",
   "metadata": {
    "id": "xJA2f20590V8"
   },
   "source": [
    "## Model Evaluation"
   ]
  },
  {
   "cell_type": "code",
   "execution_count": null,
   "metadata": {
    "colab": {
     "base_uri": "https://localhost:8080/",
     "height": 206
    },
    "executionInfo": {
     "elapsed": 411,
     "status": "ok",
     "timestamp": 1656727249981,
     "user": {
      "displayName": "Pararawendy Indarjo",
      "userId": "09035664507663317723"
     },
     "user_tz": -420
    },
    "id": "EP0b8omA90V8",
    "outputId": "4bd214f3-718e-49cb-bc2f-ff375e6f8073"
   },
   "outputs": [],
   "source": [
    "lasso_best = lasso_reg_ten\n",
    "\n",
    "coef_df = pd.DataFrame({\n",
    "    'feature':['intercept'] + feature_traffic_train.columns.tolist(),\n",
    "    'coefficient':[lasso_best.intercept_] + list(lasso_best.coef_)\n",
    "})\n",
    "\n",
    "coef_df"
   ]
  },
  {
   "cell_type": "markdown",
   "metadata": {
    "id": "qyfylZid90V8"
   },
   "source": [
    "### Diagnostic Study"
   ]
  },
  {
   "cell_type": "code",
   "execution_count": null,
   "metadata": {
    "colab": {
     "base_uri": "https://localhost:8080/"
    },
    "executionInfo": {
     "elapsed": 417,
     "status": "ok",
     "timestamp": 1656727254843,
     "user": {
      "displayName": "Pararawendy Indarjo",
      "userId": "09035664507663317723"
     },
     "user_tz": -420
    },
    "id": "9l3bOclP90V8",
    "outputId": "2154eb8d-32f1-4d93-a89f-fb4bcf4c334a"
   },
   "outputs": [],
   "source": [
    "from sklearn.metrics import r2_score\n",
    "\n",
    "y_predict_train = lasso_best.predict(X_traffic_train)\n",
    "\n",
    "print('R-squared for training data is {}'.format(r2_score(y_traffic_train, y_predict_train)))"
   ]
  },
  {
   "cell_type": "code",
   "execution_count": null,
   "metadata": {
    "colab": {
     "base_uri": "https://localhost:8080/",
     "height": 280
    },
    "executionInfo": {
     "elapsed": 820,
     "status": "ok",
     "timestamp": 1656727257827,
     "user": {
      "displayName": "Pararawendy Indarjo",
      "userId": "09035664507663317723"
     },
     "user_tz": -420
    },
    "id": "Nh1HHDMj90V9",
    "outputId": "779d6ec9-4243-41fe-e649-24a15a71a376"
   },
   "outputs": [],
   "source": [
    "# calculate residuals\n",
    "residual = y_traffic_train - y_predict_train\n",
    "\n",
    "# prepare dataframe\n",
    "# 1 predictor --> predictor VS residual\n",
    "df_resid = pd.DataFrame({\n",
    "    'predicted_value': y_predict_train,\n",
    "    'residual': residual\n",
    "})\n",
    "\n",
    "# residual plot\n",
    "sns.scatterplot(data=df_resid, x=\"predicted_value\", y=\"residual\")\n",
    "plt.axhline(0)\n",
    "plt.show()"
   ]
  },
  {
   "cell_type": "markdown",
   "metadata": {
    "id": "Xui53pyX1YT9"
   },
   "source": [
    "Cek asumsi:\n",
    "1. Linear relationship: Rather OK. \n",
    "2. Variance konstan: NO.\n",
    "3. Residual independent: NO."
   ]
  },
  {
   "cell_type": "markdown",
   "metadata": {
    "id": "rlARNsAraHSJ"
   },
   "source": [
    "### Training Error"
   ]
  },
  {
   "cell_type": "code",
   "execution_count": null,
   "metadata": {
    "colab": {
     "base_uri": "https://localhost:8080/"
    },
    "executionInfo": {
     "elapsed": 4,
     "status": "ok",
     "timestamp": 1656727289937,
     "user": {
      "displayName": "Pararawendy Indarjo",
      "userId": "09035664507663317723"
     },
     "user_tz": -420
    },
    "id": "Ny4ND00UaGn-",
    "outputId": "231a3c51-d705-4fd0-c515-1ba58b8ac8e8"
   },
   "outputs": [],
   "source": [
    "# prepare prediction result on training data\n",
    "y_predict_train = lasso_best.predict(X_traffic_train)\n",
    "\n",
    "from sklearn.metrics import mean_squared_error\n",
    "from sklearn.metrics import mean_absolute_error\n",
    "from sklearn.metrics import mean_absolute_percentage_error\n",
    "\n",
    "print('RMSE for training data is {}'.format(np.sqrt(mean_squared_error(y_traffic_train, y_predict_train))))\n",
    "print('MAE for training data is {}'.format(mean_absolute_error(y_traffic_train, y_predict_train)))\n",
    "print('MAPE for training data is {}'.format(mean_absolute_percentage_error(y_traffic_train, y_predict_train)))"
   ]
  },
  {
   "cell_type": "markdown",
   "metadata": {
    "id": "FVulPv1N90V9"
   },
   "source": [
    "### Testing Error"
   ]
  },
  {
   "cell_type": "code",
   "execution_count": null,
   "metadata": {
    "id": "6k5_zO7r90V9"
   },
   "outputs": [],
   "source": [
    "# prepare prediction result on test data\n",
    "X_traffic_test = feature_traffic_test.to_numpy()\n",
    "y_predict_test = lasso_best.predict(X_traffic_test)\n",
    "\n",
    "# ground truth target\n",
    "y_traffic_test = target_traffic_test.to_numpy()\n",
    "y_traffic_test = y_traffic_test.reshape(len(y_traffic_test),)"
   ]
  },
  {
   "cell_type": "code",
   "execution_count": null,
   "metadata": {
    "colab": {
     "base_uri": "https://localhost:8080/"
    },
    "executionInfo": {
     "elapsed": 3,
     "status": "ok",
     "timestamp": 1656727297299,
     "user": {
      "displayName": "Pararawendy Indarjo",
      "userId": "09035664507663317723"
     },
     "user_tz": -420
    },
    "id": "uz3BSCDQ90V9",
    "outputId": "db0ba0a6-c9b3-4486-e45a-ee6cf067cf5d"
   },
   "outputs": [],
   "source": [
    "from sklearn.metrics import r2_score\n",
    "from sklearn.metrics import mean_absolute_error\n",
    "from sklearn.metrics import mean_absolute_percentage_error\n",
    "\n",
    "print('RMSE for testing data is {}'.format(np.sqrt(mean_squared_error(y_traffic_test, y_predict_test))))\n",
    "print('MAE for testing data is {}'.format(mean_absolute_error(y_traffic_test, y_predict_test)))\n",
    "print('MAPE for testing data is {}'.format(mean_absolute_percentage_error(y_traffic_test, y_predict_test)))"
   ]
  },
  {
   "cell_type": "code",
   "execution_count": null,
   "metadata": {
    "id": "wO1GVTMZpFkk"
   },
   "outputs": [],
   "source": []
  }
 ],
 "metadata": {
  "colab": {
   "authorship_tag": "ABX9TyMwwCXIZNmVEiIJpD5d5qky",
   "collapsed_sections": [],
   "mount_file_id": "1ZbpP-eFMVkrgCuU-vt8A42IDgGYggbjp",
   "name": "Regularized Linear Regression Python.ipynb",
   "provenance": [
    {
     "file_id": "1jGct-4K05_w4CBHqVDPT19_PhXcuwg8y",
     "timestamp": 1649121123077
    },
    {
     "file_id": "1JdJgihHOC9vSmcJwr5vYQq3L15LnVCgT",
     "timestamp": 1647913242632
    }
   ]
  },
  "kernelspec": {
   "display_name": "Python 3 (ipykernel)",
   "language": "python",
   "name": "python3"
  },
  "language_info": {
   "codemirror_mode": {
    "name": "ipython",
    "version": 3
   },
   "file_extension": ".py",
   "mimetype": "text/x-python",
   "name": "python",
   "nbconvert_exporter": "python",
   "pygments_lexer": "ipython3",
   "version": "3.11.0"
  }
 },
 "nbformat": 4,
 "nbformat_minor": 1
}
