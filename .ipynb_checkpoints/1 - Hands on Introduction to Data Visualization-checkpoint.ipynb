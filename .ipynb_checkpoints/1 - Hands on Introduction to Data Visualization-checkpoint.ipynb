{
 "cells": [
  {
   "cell_type": "code",
   "execution_count": 1,
   "id": "e5406dc8",
   "metadata": {
    "id": "e5406dc8"
   },
   "outputs": [],
   "source": [
    "# Ignore warnings\n",
    "import warnings\n",
    "\n",
    "warnings.simplefilter(action = \"ignore\", category = FutureWarning)\n",
    "\n",
    "# import the necessary Python libraries Numpy, Pandas and Matplotlib with their usual shorthand notation.\n",
    "import numpy as np\n",
    "import pandas as pd\n",
    "import matplotlib.pyplot as plt\n",
    "%matplotlib inline\n",
    "\n",
    "import seaborn as sns"
   ]
  },
  {
   "cell_type": "markdown",
   "id": "7WJCY_2ork1y",
   "metadata": {
    "id": "7WJCY_2ork1y"
   },
   "source": [
    "### Data Understanding and Preparation"
   ]
  },
  {
   "cell_type": "code",
   "execution_count": 2,
   "id": "2f11e7a2",
   "metadata": {
    "colab": {
     "base_uri": "https://localhost:8080/",
     "height": 206
    },
    "executionInfo": {
     "elapsed": 6,
     "status": "ok",
     "timestamp": 1677499067426,
     "user": {
      "displayName": "Muhammad Rois al haqq",
      "userId": "05628020901943186304"
     },
     "user_tz": -420
    },
    "id": "2f11e7a2",
    "outputId": "af6ac534-bbe0-423d-8bd8-9fb8893d5681"
   },
   "outputs": [
    {
     "data": {
      "text/html": [
       "<div>\n",
       "<style scoped>\n",
       "    .dataframe tbody tr th:only-of-type {\n",
       "        vertical-align: middle;\n",
       "    }\n",
       "\n",
       "    .dataframe tbody tr th {\n",
       "        vertical-align: top;\n",
       "    }\n",
       "\n",
       "    .dataframe thead th {\n",
       "        text-align: right;\n",
       "    }\n",
       "</style>\n",
       "<table border=\"1\" class=\"dataframe\">\n",
       "  <thead>\n",
       "    <tr style=\"text-align: right;\">\n",
       "      <th></th>\n",
       "      <th>mpg</th>\n",
       "      <th>cylinders</th>\n",
       "      <th>displacement</th>\n",
       "      <th>horsepower</th>\n",
       "      <th>weight</th>\n",
       "      <th>acceleration</th>\n",
       "      <th>model_year</th>\n",
       "      <th>origin</th>\n",
       "      <th>name</th>\n",
       "    </tr>\n",
       "  </thead>\n",
       "  <tbody>\n",
       "    <tr>\n",
       "      <th>0</th>\n",
       "      <td>18.0</td>\n",
       "      <td>8</td>\n",
       "      <td>307.0</td>\n",
       "      <td>130</td>\n",
       "      <td>3504</td>\n",
       "      <td>12.0</td>\n",
       "      <td>70</td>\n",
       "      <td>1</td>\n",
       "      <td>chevrolet chevelle malibu</td>\n",
       "    </tr>\n",
       "    <tr>\n",
       "      <th>1</th>\n",
       "      <td>15.0</td>\n",
       "      <td>8</td>\n",
       "      <td>350.0</td>\n",
       "      <td>165</td>\n",
       "      <td>3693</td>\n",
       "      <td>11.5</td>\n",
       "      <td>70</td>\n",
       "      <td>1</td>\n",
       "      <td>buick skylark 320</td>\n",
       "    </tr>\n",
       "    <tr>\n",
       "      <th>2</th>\n",
       "      <td>18.0</td>\n",
       "      <td>8</td>\n",
       "      <td>318.0</td>\n",
       "      <td>150</td>\n",
       "      <td>3436</td>\n",
       "      <td>11.0</td>\n",
       "      <td>70</td>\n",
       "      <td>1</td>\n",
       "      <td>plymouth satellite</td>\n",
       "    </tr>\n",
       "    <tr>\n",
       "      <th>3</th>\n",
       "      <td>16.0</td>\n",
       "      <td>8</td>\n",
       "      <td>304.0</td>\n",
       "      <td>150</td>\n",
       "      <td>3433</td>\n",
       "      <td>12.0</td>\n",
       "      <td>70</td>\n",
       "      <td>1</td>\n",
       "      <td>amc rebel sst</td>\n",
       "    </tr>\n",
       "    <tr>\n",
       "      <th>4</th>\n",
       "      <td>17.0</td>\n",
       "      <td>8</td>\n",
       "      <td>302.0</td>\n",
       "      <td>140</td>\n",
       "      <td>3449</td>\n",
       "      <td>10.5</td>\n",
       "      <td>70</td>\n",
       "      <td>1</td>\n",
       "      <td>ford torino</td>\n",
       "    </tr>\n",
       "  </tbody>\n",
       "</table>\n",
       "</div>"
      ],
      "text/plain": [
       "    mpg  cylinders  displacement horsepower  weight  acceleration  model_year  \\\n",
       "0  18.0          8         307.0        130    3504          12.0          70   \n",
       "1  15.0          8         350.0        165    3693          11.5          70   \n",
       "2  18.0          8         318.0        150    3436          11.0          70   \n",
       "3  16.0          8         304.0        150    3433          12.0          70   \n",
       "4  17.0          8         302.0        140    3449          10.5          70   \n",
       "\n",
       "   origin                       name  \n",
       "0       1  chevrolet chevelle malibu  \n",
       "1       1          buick skylark 320  \n",
       "2       1         plymouth satellite  \n",
       "3       1              amc rebel sst  \n",
       "4       1                ford torino  "
      ]
     },
     "execution_count": 2,
     "metadata": {},
     "output_type": "execute_result"
    }
   ],
   "source": [
    "# load dataset mpg\n",
    "path = 'mpg.csv'\n",
    "raw_df = pd.read_csv(path, index_col=0)\n",
    "raw_df.head(5)"
   ]
  },
  {
   "cell_type": "markdown",
   "id": "087cfb6a",
   "metadata": {
    "id": "087cfb6a"
   },
   "source": [
    "Penjelasan setiap variabel:\n",
    "\n",
    "- mpg : jarak tempuh mill per gallon\n",
    "- cylinders : jumlah silinder\n",
    "- displacement : volume langkah piston (cc)\n",
    "- horsepower : tenaga mesin yang dihasilkan\n",
    "- weight : berat mobil\n",
    "- acceleration : waktu akselerasi\n",
    "- model_year : tahun pembuatan\n",
    "- origin : asal mobil\n",
    "- name : nama mobil"
   ]
  },
  {
   "cell_type": "markdown",
   "id": "QQF8s_4xoDyk",
   "metadata": {
    "id": "QQF8s_4xoDyk"
   },
   "source": [
    "cek jumlah row dan column menggunakan **df.shape**"
   ]
  },
  {
   "cell_type": "code",
   "execution_count": 3,
   "id": "a3adc7f2",
   "metadata": {
    "colab": {
     "base_uri": "https://localhost:8080/"
    },
    "executionInfo": {
     "elapsed": 651,
     "status": "ok",
     "timestamp": 1677499068072,
     "user": {
      "displayName": "Muhammad Rois al haqq",
      "userId": "05628020901943186304"
     },
     "user_tz": -420
    },
    "id": "a3adc7f2",
    "outputId": "d99e1993-ea35-432b-c97e-1c414897fd45"
   },
   "outputs": [
    {
     "data": {
      "text/plain": [
       "(398, 9)"
      ]
     },
     "execution_count": 3,
     "metadata": {},
     "output_type": "execute_result"
    }
   ],
   "source": [
    "# make a copy of data \n",
    "mpg=raw_df.copy()\n",
    "\n",
    "# cek jumlah row dan column\n",
    "mpg.shape"
   ]
  },
  {
   "cell_type": "markdown",
   "id": "VwwDEFlzoGG9",
   "metadata": {
    "id": "VwwDEFlzoGG9"
   },
   "source": [
    "#### Cek missing value"
   ]
  },
  {
   "cell_type": "code",
   "execution_count": 4,
   "id": "464c3bae",
   "metadata": {
    "id": "464c3bae"
   },
   "outputs": [
    {
     "data": {
      "text/plain": [
       "mpg             0\n",
       "cylinders       0\n",
       "displacement    0\n",
       "horsepower      0\n",
       "weight          0\n",
       "acceleration    0\n",
       "model_year      0\n",
       "origin          0\n",
       "name            0\n",
       "dtype: int64"
      ]
     },
     "execution_count": 4,
     "metadata": {},
     "output_type": "execute_result"
    }
   ],
   "source": [
    "mpg.isna().sum()"
   ]
  },
  {
   "cell_type": "markdown",
   "id": "_1kfeOYioKzM",
   "metadata": {
    "id": "_1kfeOYioKzM"
   },
   "source": [
    "Cek summary statistik, menggunakan **df.describe()**\n",
    "\n",
    "*hanya untuk numerical*"
   ]
  },
  {
   "cell_type": "code",
   "execution_count": 5,
   "id": "6033bcd7",
   "metadata": {
    "id": "6033bcd7"
   },
   "outputs": [
    {
     "data": {
      "text/html": [
       "<div>\n",
       "<style scoped>\n",
       "    .dataframe tbody tr th:only-of-type {\n",
       "        vertical-align: middle;\n",
       "    }\n",
       "\n",
       "    .dataframe tbody tr th {\n",
       "        vertical-align: top;\n",
       "    }\n",
       "\n",
       "    .dataframe thead th {\n",
       "        text-align: right;\n",
       "    }\n",
       "</style>\n",
       "<table border=\"1\" class=\"dataframe\">\n",
       "  <thead>\n",
       "    <tr style=\"text-align: right;\">\n",
       "      <th></th>\n",
       "      <th>mpg</th>\n",
       "      <th>cylinders</th>\n",
       "      <th>displacement</th>\n",
       "      <th>weight</th>\n",
       "      <th>acceleration</th>\n",
       "      <th>model_year</th>\n",
       "      <th>origin</th>\n",
       "    </tr>\n",
       "  </thead>\n",
       "  <tbody>\n",
       "    <tr>\n",
       "      <th>count</th>\n",
       "      <td>398.000000</td>\n",
       "      <td>398.000000</td>\n",
       "      <td>398.000000</td>\n",
       "      <td>398.000000</td>\n",
       "      <td>398.000000</td>\n",
       "      <td>398.000000</td>\n",
       "      <td>398.000000</td>\n",
       "    </tr>\n",
       "    <tr>\n",
       "      <th>mean</th>\n",
       "      <td>23.514573</td>\n",
       "      <td>5.454774</td>\n",
       "      <td>193.425879</td>\n",
       "      <td>2970.424623</td>\n",
       "      <td>15.568090</td>\n",
       "      <td>76.010050</td>\n",
       "      <td>1.572864</td>\n",
       "    </tr>\n",
       "    <tr>\n",
       "      <th>std</th>\n",
       "      <td>7.815984</td>\n",
       "      <td>1.701004</td>\n",
       "      <td>104.269838</td>\n",
       "      <td>846.841774</td>\n",
       "      <td>2.757689</td>\n",
       "      <td>3.697627</td>\n",
       "      <td>0.802055</td>\n",
       "    </tr>\n",
       "    <tr>\n",
       "      <th>min</th>\n",
       "      <td>9.000000</td>\n",
       "      <td>3.000000</td>\n",
       "      <td>68.000000</td>\n",
       "      <td>1613.000000</td>\n",
       "      <td>8.000000</td>\n",
       "      <td>70.000000</td>\n",
       "      <td>1.000000</td>\n",
       "    </tr>\n",
       "    <tr>\n",
       "      <th>25%</th>\n",
       "      <td>17.500000</td>\n",
       "      <td>4.000000</td>\n",
       "      <td>104.250000</td>\n",
       "      <td>2223.750000</td>\n",
       "      <td>13.825000</td>\n",
       "      <td>73.000000</td>\n",
       "      <td>1.000000</td>\n",
       "    </tr>\n",
       "    <tr>\n",
       "      <th>50%</th>\n",
       "      <td>23.000000</td>\n",
       "      <td>4.000000</td>\n",
       "      <td>148.500000</td>\n",
       "      <td>2803.500000</td>\n",
       "      <td>15.500000</td>\n",
       "      <td>76.000000</td>\n",
       "      <td>1.000000</td>\n",
       "    </tr>\n",
       "    <tr>\n",
       "      <th>75%</th>\n",
       "      <td>29.000000</td>\n",
       "      <td>8.000000</td>\n",
       "      <td>262.000000</td>\n",
       "      <td>3608.000000</td>\n",
       "      <td>17.175000</td>\n",
       "      <td>79.000000</td>\n",
       "      <td>2.000000</td>\n",
       "    </tr>\n",
       "    <tr>\n",
       "      <th>max</th>\n",
       "      <td>46.600000</td>\n",
       "      <td>8.000000</td>\n",
       "      <td>455.000000</td>\n",
       "      <td>5140.000000</td>\n",
       "      <td>24.800000</td>\n",
       "      <td>82.000000</td>\n",
       "      <td>3.000000</td>\n",
       "    </tr>\n",
       "  </tbody>\n",
       "</table>\n",
       "</div>"
      ],
      "text/plain": [
       "              mpg   cylinders  displacement       weight  acceleration  \\\n",
       "count  398.000000  398.000000    398.000000   398.000000    398.000000   \n",
       "mean    23.514573    5.454774    193.425879  2970.424623     15.568090   \n",
       "std      7.815984    1.701004    104.269838   846.841774      2.757689   \n",
       "min      9.000000    3.000000     68.000000  1613.000000      8.000000   \n",
       "25%     17.500000    4.000000    104.250000  2223.750000     13.825000   \n",
       "50%     23.000000    4.000000    148.500000  2803.500000     15.500000   \n",
       "75%     29.000000    8.000000    262.000000  3608.000000     17.175000   \n",
       "max     46.600000    8.000000    455.000000  5140.000000     24.800000   \n",
       "\n",
       "       model_year      origin  \n",
       "count  398.000000  398.000000  \n",
       "mean    76.010050    1.572864  \n",
       "std      3.697627    0.802055  \n",
       "min     70.000000    1.000000  \n",
       "25%     73.000000    1.000000  \n",
       "50%     76.000000    1.000000  \n",
       "75%     79.000000    2.000000  \n",
       "max     82.000000    3.000000  "
      ]
     },
     "execution_count": 5,
     "metadata": {},
     "output_type": "execute_result"
    }
   ],
   "source": [
    "mpg.describe() "
   ]
  },
  {
   "cell_type": "markdown",
   "id": "1ff99d47",
   "metadata": {
    "id": "1ff99d47"
   },
   "source": [
    "Feature horsepower seharusnya masuk dalam output describe(), kita cek value horsepower menggunakan dtypes dan fungsi unique()"
   ]
  },
  {
   "cell_type": "code",
   "execution_count": 6,
   "id": "8M3R2gDYe9ej",
   "metadata": {
    "id": "8M3R2gDYe9ej"
   },
   "outputs": [
    {
     "data": {
      "text/plain": [
       "mpg             float64\n",
       "cylinders         int64\n",
       "displacement    float64\n",
       "horsepower       object\n",
       "weight            int64\n",
       "acceleration    float64\n",
       "model_year        int64\n",
       "origin            int64\n",
       "name             object\n",
       "dtype: object"
      ]
     },
     "execution_count": 6,
     "metadata": {},
     "output_type": "execute_result"
    }
   ],
   "source": [
    "# Get the data types of each attribute\n",
    "mpg.dtypes"
   ]
  },
  {
   "cell_type": "code",
   "execution_count": 7,
   "id": "aa4cd041",
   "metadata": {
    "id": "aa4cd041"
   },
   "outputs": [
    {
     "data": {
      "text/plain": [
       "array(['130', '165', '150', '140', '198', '220', '215', '225', '190',\n",
       "       '170', '160', '95', '97', '85', '88', '46', '87', '90', '113',\n",
       "       '200', '210', '193', '?', '100', '105', '175', '153', '180', '110',\n",
       "       '72', '86', '70', '76', '65', '69', '60', '80', '54', '208', '155',\n",
       "       '112', '92', '145', '137', '158', '167', '94', '107', '230', '49',\n",
       "       '75', '91', '122', '67', '83', '78', '52', '61', '93', '148',\n",
       "       '129', '96', '71', '98', '115', '53', '81', '79', '120', '152',\n",
       "       '102', '108', '68', '58', '149', '89', '63', '48', '66', '139',\n",
       "       '103', '125', '133', '138', '135', '142', '77', '62', '132', '84',\n",
       "       '64', '74', '116', '82'], dtype=object)"
      ]
     },
     "execution_count": 7,
     "metadata": {},
     "output_type": "execute_result"
    }
   ],
   "source": [
    "mpg['horsepower'].unique()"
   ]
  },
  {
   "cell_type": "markdown",
   "id": "dfad4c71",
   "metadata": {
    "id": "dfad4c71"
   },
   "source": [
    "Ternyata feature Horsepower memiliki value '?' dan tidak terdeteksi sebagai null value, kita replace value nya dengan Nan"
   ]
  },
  {
   "cell_type": "code",
   "execution_count": 8,
   "id": "87dfa945",
   "metadata": {
    "id": "87dfa945"
   },
   "outputs": [],
   "source": [
    "mpg['horsepower'] = mpg['horsepower'].replace('?', np.nan)"
   ]
  },
  {
   "cell_type": "markdown",
   "id": "ZnUORZLnoT6h",
   "metadata": {
    "id": "ZnUORZLnoT6h"
   },
   "source": [
    "Cek lagi missing value nya"
   ]
  },
  {
   "cell_type": "code",
   "execution_count": 9,
   "id": "69a6cf8f",
   "metadata": {
    "id": "69a6cf8f"
   },
   "outputs": [
    {
     "data": {
      "text/plain": [
       "mpg             0\n",
       "cylinders       0\n",
       "displacement    0\n",
       "horsepower      6\n",
       "weight          0\n",
       "acceleration    0\n",
       "model_year      0\n",
       "origin          0\n",
       "name            0\n",
       "dtype: int64"
      ]
     },
     "execution_count": 9,
     "metadata": {},
     "output_type": "execute_result"
    }
   ],
   "source": [
    "mpg.isna().sum()"
   ]
  },
  {
   "cell_type": "markdown",
   "id": "KF19oW0XoXzw",
   "metadata": {
    "id": "KF19oW0XoXzw"
   },
   "source": [
    "drop missing value dan mengganti type data menjadi integer, sebelumnya string"
   ]
  },
  {
   "cell_type": "code",
   "execution_count": 10,
   "id": "3f38a117",
   "metadata": {
    "id": "3f38a117"
   },
   "outputs": [
    {
     "data": {
      "text/html": [
       "<div>\n",
       "<style scoped>\n",
       "    .dataframe tbody tr th:only-of-type {\n",
       "        vertical-align: middle;\n",
       "    }\n",
       "\n",
       "    .dataframe tbody tr th {\n",
       "        vertical-align: top;\n",
       "    }\n",
       "\n",
       "    .dataframe thead th {\n",
       "        text-align: right;\n",
       "    }\n",
       "</style>\n",
       "<table border=\"1\" class=\"dataframe\">\n",
       "  <thead>\n",
       "    <tr style=\"text-align: right;\">\n",
       "      <th></th>\n",
       "      <th>mpg</th>\n",
       "      <th>cylinders</th>\n",
       "      <th>displacement</th>\n",
       "      <th>horsepower</th>\n",
       "      <th>weight</th>\n",
       "      <th>acceleration</th>\n",
       "      <th>model_year</th>\n",
       "      <th>origin</th>\n",
       "    </tr>\n",
       "  </thead>\n",
       "  <tbody>\n",
       "    <tr>\n",
       "      <th>count</th>\n",
       "      <td>392.000000</td>\n",
       "      <td>392.000000</td>\n",
       "      <td>392.000000</td>\n",
       "      <td>392.000000</td>\n",
       "      <td>392.000000</td>\n",
       "      <td>392.000000</td>\n",
       "      <td>392.000000</td>\n",
       "      <td>392.000000</td>\n",
       "    </tr>\n",
       "    <tr>\n",
       "      <th>mean</th>\n",
       "      <td>23.445918</td>\n",
       "      <td>5.471939</td>\n",
       "      <td>194.411990</td>\n",
       "      <td>104.469388</td>\n",
       "      <td>2977.584184</td>\n",
       "      <td>15.541327</td>\n",
       "      <td>75.979592</td>\n",
       "      <td>1.576531</td>\n",
       "    </tr>\n",
       "    <tr>\n",
       "      <th>std</th>\n",
       "      <td>7.805007</td>\n",
       "      <td>1.705783</td>\n",
       "      <td>104.644004</td>\n",
       "      <td>38.491160</td>\n",
       "      <td>849.402560</td>\n",
       "      <td>2.758864</td>\n",
       "      <td>3.683737</td>\n",
       "      <td>0.805518</td>\n",
       "    </tr>\n",
       "    <tr>\n",
       "      <th>min</th>\n",
       "      <td>9.000000</td>\n",
       "      <td>3.000000</td>\n",
       "      <td>68.000000</td>\n",
       "      <td>46.000000</td>\n",
       "      <td>1613.000000</td>\n",
       "      <td>8.000000</td>\n",
       "      <td>70.000000</td>\n",
       "      <td>1.000000</td>\n",
       "    </tr>\n",
       "    <tr>\n",
       "      <th>25%</th>\n",
       "      <td>17.000000</td>\n",
       "      <td>4.000000</td>\n",
       "      <td>105.000000</td>\n",
       "      <td>75.000000</td>\n",
       "      <td>2225.250000</td>\n",
       "      <td>13.775000</td>\n",
       "      <td>73.000000</td>\n",
       "      <td>1.000000</td>\n",
       "    </tr>\n",
       "    <tr>\n",
       "      <th>50%</th>\n",
       "      <td>22.750000</td>\n",
       "      <td>4.000000</td>\n",
       "      <td>151.000000</td>\n",
       "      <td>93.500000</td>\n",
       "      <td>2803.500000</td>\n",
       "      <td>15.500000</td>\n",
       "      <td>76.000000</td>\n",
       "      <td>1.000000</td>\n",
       "    </tr>\n",
       "    <tr>\n",
       "      <th>75%</th>\n",
       "      <td>29.000000</td>\n",
       "      <td>8.000000</td>\n",
       "      <td>275.750000</td>\n",
       "      <td>126.000000</td>\n",
       "      <td>3614.750000</td>\n",
       "      <td>17.025000</td>\n",
       "      <td>79.000000</td>\n",
       "      <td>2.000000</td>\n",
       "    </tr>\n",
       "    <tr>\n",
       "      <th>max</th>\n",
       "      <td>46.600000</td>\n",
       "      <td>8.000000</td>\n",
       "      <td>455.000000</td>\n",
       "      <td>230.000000</td>\n",
       "      <td>5140.000000</td>\n",
       "      <td>24.800000</td>\n",
       "      <td>82.000000</td>\n",
       "      <td>3.000000</td>\n",
       "    </tr>\n",
       "  </tbody>\n",
       "</table>\n",
       "</div>"
      ],
      "text/plain": [
       "              mpg   cylinders  displacement  horsepower       weight  \\\n",
       "count  392.000000  392.000000    392.000000  392.000000   392.000000   \n",
       "mean    23.445918    5.471939    194.411990  104.469388  2977.584184   \n",
       "std      7.805007    1.705783    104.644004   38.491160   849.402560   \n",
       "min      9.000000    3.000000     68.000000   46.000000  1613.000000   \n",
       "25%     17.000000    4.000000    105.000000   75.000000  2225.250000   \n",
       "50%     22.750000    4.000000    151.000000   93.500000  2803.500000   \n",
       "75%     29.000000    8.000000    275.750000  126.000000  3614.750000   \n",
       "max     46.600000    8.000000    455.000000  230.000000  5140.000000   \n",
       "\n",
       "       acceleration  model_year      origin  \n",
       "count    392.000000  392.000000  392.000000  \n",
       "mean      15.541327   75.979592    1.576531  \n",
       "std        2.758864    3.683737    0.805518  \n",
       "min        8.000000   70.000000    1.000000  \n",
       "25%       13.775000   73.000000    1.000000  \n",
       "50%       15.500000   76.000000    1.000000  \n",
       "75%       17.025000   79.000000    2.000000  \n",
       "max       24.800000   82.000000    3.000000  "
      ]
     },
     "execution_count": 10,
     "metadata": {},
     "output_type": "execute_result"
    }
   ],
   "source": [
    "mpg.dropna(inplace=True)\n",
    "mpg['horsepower'] = mpg['horsepower'].astype(int)\n",
    "mpg.describe()"
   ]
  },
  {
   "cell_type": "markdown",
   "id": "c5c8884e",
   "metadata": {
    "id": "c5c8884e"
   },
   "source": [
    "#### Cek labels atau value variable non continous,\n",
    "\n",
    "- model year tidak masuk continous variable karena termasuk date variable, walaupun valuenya 80, 81, 82\n",
    "- cylinder dan origin juga tidak masuk continous variable karena valuenya hanya tertentu saja\n",
    "\n",
    "Discrete data: Takes specific countable values\t\n",
    "Continuous data: Takes any measured value within a specific range"
   ]
  },
  {
   "cell_type": "code",
   "execution_count": 11,
   "id": "25c7121d",
   "metadata": {
    "id": "25c7121d"
   },
   "outputs": [
    {
     "data": {
      "text/html": [
       "<div>\n",
       "<style scoped>\n",
       "    .dataframe tbody tr th:only-of-type {\n",
       "        vertical-align: middle;\n",
       "    }\n",
       "\n",
       "    .dataframe tbody tr th {\n",
       "        vertical-align: top;\n",
       "    }\n",
       "\n",
       "    .dataframe thead th {\n",
       "        text-align: right;\n",
       "    }\n",
       "</style>\n",
       "<table border=\"1\" class=\"dataframe\">\n",
       "  <thead>\n",
       "    <tr style=\"text-align: right;\">\n",
       "      <th></th>\n",
       "      <th>cylinders</th>\n",
       "      <th>model_year</th>\n",
       "      <th>origin</th>\n",
       "      <th>name</th>\n",
       "    </tr>\n",
       "  </thead>\n",
       "  <tbody>\n",
       "    <tr>\n",
       "      <th>0</th>\n",
       "      <td>8</td>\n",
       "      <td>70</td>\n",
       "      <td>1</td>\n",
       "      <td>chevrolet chevelle malibu</td>\n",
       "    </tr>\n",
       "    <tr>\n",
       "      <th>1</th>\n",
       "      <td>8</td>\n",
       "      <td>70</td>\n",
       "      <td>1</td>\n",
       "      <td>buick skylark 320</td>\n",
       "    </tr>\n",
       "    <tr>\n",
       "      <th>2</th>\n",
       "      <td>8</td>\n",
       "      <td>70</td>\n",
       "      <td>1</td>\n",
       "      <td>plymouth satellite</td>\n",
       "    </tr>\n",
       "    <tr>\n",
       "      <th>3</th>\n",
       "      <td>8</td>\n",
       "      <td>70</td>\n",
       "      <td>1</td>\n",
       "      <td>amc rebel sst</td>\n",
       "    </tr>\n",
       "    <tr>\n",
       "      <th>4</th>\n",
       "      <td>8</td>\n",
       "      <td>70</td>\n",
       "      <td>1</td>\n",
       "      <td>ford torino</td>\n",
       "    </tr>\n",
       "  </tbody>\n",
       "</table>\n",
       "</div>"
      ],
      "text/plain": [
       "   cylinders  model_year  origin                       name\n",
       "0          8          70       1  chevrolet chevelle malibu\n",
       "1          8          70       1          buick skylark 320\n",
       "2          8          70       1         plymouth satellite\n",
       "3          8          70       1              amc rebel sst\n",
       "4          8          70       1                ford torino"
      ]
     },
     "execution_count": 11,
     "metadata": {},
     "output_type": "execute_result"
    }
   ],
   "source": [
    "non_continues_col = mpg[['cylinders', 'model_year', 'origin', 'name']]\n",
    "non_continues_col.head()"
   ]
  },
  {
   "cell_type": "markdown",
   "id": "t2zzywKAoePt",
   "metadata": {
    "id": "t2zzywKAoePt"
   },
   "source": [
    "Cek labels/value di categorical variables"
   ]
  },
  {
   "cell_type": "code",
   "execution_count": 12,
   "id": "ec84e037",
   "metadata": {
    "id": "ec84e037",
    "scrolled": true
   },
   "outputs": [
    {
     "name": "stdout",
     "output_type": "stream",
     "text": [
      "cylinders [3 4 5 6 8]\n",
      "\n",
      "\n",
      "model_year [70 71 72 73 74 75 76 77 78 79 80 81 82]\n",
      "\n",
      "\n",
      "origin [1 2 3]\n",
      "\n",
      "\n",
      "name ['amc ambassador brougham' 'amc ambassador dpl' 'amc ambassador sst'\n",
      " 'amc concord' 'amc concord d/l' 'amc concord dl 6' 'amc gremlin'\n",
      " 'amc hornet' 'amc hornet sportabout (sw)' 'amc matador'\n",
      " 'amc matador (sw)' 'amc pacer' 'amc pacer d/l' 'amc rebel sst'\n",
      " 'amc spirit dl' 'audi 100 ls' 'audi 100ls' 'audi 4000' 'audi 5000'\n",
      " 'audi 5000s (diesel)' 'audi fox' 'bmw 2002' 'bmw 320i' 'buick century'\n",
      " 'buick century 350' 'buick century limited' 'buick century luxus (sw)'\n",
      " 'buick century special' 'buick electra 225 custom'\n",
      " 'buick estate wagon (sw)' 'buick lesabre custom'\n",
      " 'buick opel isuzu deluxe' 'buick regal sport coupe (turbo)'\n",
      " 'buick skyhawk' 'buick skylark' 'buick skylark 320'\n",
      " 'buick skylark limited' 'cadillac eldorado' 'cadillac seville' 'capri ii'\n",
      " 'chevroelt chevelle malibu' 'chevrolet bel air' 'chevrolet camaro'\n",
      " 'chevrolet caprice classic' 'chevrolet cavalier'\n",
      " 'chevrolet cavalier 2-door' 'chevrolet cavalier wagon'\n",
      " 'chevrolet chevelle concours (sw)' 'chevrolet chevelle malibu'\n",
      " 'chevrolet chevelle malibu classic' 'chevrolet chevette'\n",
      " 'chevrolet citation' 'chevrolet concours' 'chevrolet impala'\n",
      " 'chevrolet malibu' 'chevrolet malibu classic (sw)'\n",
      " 'chevrolet monte carlo' 'chevrolet monte carlo landau'\n",
      " 'chevrolet monte carlo s' 'chevrolet monza 2+2' 'chevrolet nova'\n",
      " 'chevrolet nova custom' 'chevrolet vega' 'chevrolet vega (sw)'\n",
      " 'chevrolet vega 2300' 'chevrolet woody' 'chevy c10' 'chevy c20'\n",
      " 'chevy s-10' 'chrysler cordoba' 'chrysler lebaron medallion'\n",
      " 'chrysler lebaron salon' 'chrysler lebaron town @ country (sw)'\n",
      " 'chrysler new yorker brougham' 'chrysler newport royal' 'datsun 1200'\n",
      " 'datsun 200-sx' 'datsun 200sx' 'datsun 210' 'datsun 210 mpg'\n",
      " 'datsun 280-zx' 'datsun 310' 'datsun 310 gx' 'datsun 510'\n",
      " 'datsun 510 (sw)' 'datsun 510 hatchback' 'datsun 610' 'datsun 710'\n",
      " 'datsun 810' 'datsun 810 maxima' 'datsun b-210' 'datsun b210'\n",
      " 'datsun b210 gx' 'datsun f-10 hatchback' 'datsun pl510' 'dodge aries se'\n",
      " 'dodge aries wagon (sw)' 'dodge aspen' 'dodge aspen 6' 'dodge aspen se'\n",
      " 'dodge challenger se' 'dodge charger 2.2' 'dodge colt' 'dodge colt (sw)'\n",
      " 'dodge colt hardtop' 'dodge colt hatchback custom' 'dodge colt m/m'\n",
      " 'dodge coronet brougham' 'dodge coronet custom'\n",
      " 'dodge coronet custom (sw)' 'dodge d100' 'dodge d200' 'dodge dart custom'\n",
      " 'dodge diplomat' 'dodge magnum xe' 'dodge monaco (sw)'\n",
      " 'dodge monaco brougham' 'dodge omni' 'dodge rampage' 'dodge st. regis'\n",
      " 'fiat 124 sport coupe' 'fiat 124 tc' 'fiat 124b' 'fiat 128' 'fiat 131'\n",
      " 'fiat strada custom' 'fiat x1.9' 'ford country'\n",
      " 'ford country squire (sw)' 'ford escort 2h' 'ford escort 4w' 'ford f108'\n",
      " 'ford f250' 'ford fairmont' 'ford fairmont (auto)' 'ford fairmont (man)'\n",
      " 'ford fairmont 4' 'ford fairmont futura' 'ford fiesta' 'ford futura'\n",
      " 'ford galaxie 500' 'ford gran torino' 'ford gran torino (sw)'\n",
      " 'ford granada' 'ford granada ghia' 'ford granada gl' 'ford granada l'\n",
      " 'ford ltd' 'ford ltd landau' 'ford maverick' 'ford mustang'\n",
      " 'ford mustang gl' 'ford mustang ii' 'ford mustang ii 2+2' 'ford pinto'\n",
      " 'ford pinto (sw)' 'ford pinto runabout' 'ford ranger' 'ford thunderbird'\n",
      " 'ford torino' 'ford torino 500' 'hi 1200d' 'honda accord'\n",
      " 'honda accord cvcc' 'honda accord lx' 'honda civic' 'honda civic (auto)'\n",
      " 'honda civic 1300' 'honda civic 1500 gl' 'honda civic cvcc'\n",
      " 'honda prelude' 'maxda glc deluxe' 'maxda rx3' 'mazda 626' 'mazda glc'\n",
      " 'mazda glc 4' 'mazda glc custom' 'mazda glc custom l' 'mazda glc deluxe'\n",
      " 'mazda rx-4' 'mazda rx-7 gs' 'mazda rx2 coupe' 'mercedes benz 300d'\n",
      " 'mercedes-benz 240d' 'mercedes-benz 280s' 'mercury capri 2000'\n",
      " 'mercury capri v6' 'mercury cougar brougham' 'mercury grand marquis'\n",
      " 'mercury lynx l' 'mercury marquis' 'mercury marquis brougham'\n",
      " 'mercury monarch' 'mercury monarch ghia' 'mercury zephyr'\n",
      " 'mercury zephyr 6' 'nissan stanza xe' 'oldsmobile cutlass ciera (diesel)'\n",
      " 'oldsmobile cutlass ls' 'oldsmobile cutlass salon brougham'\n",
      " 'oldsmobile cutlass supreme' 'oldsmobile delta 88 royale'\n",
      " 'oldsmobile omega' 'oldsmobile omega brougham' 'oldsmobile starfire sx'\n",
      " 'oldsmobile vista cruiser' 'opel 1900' 'opel manta' 'peugeot 304'\n",
      " 'peugeot 504' 'peugeot 504 (sw)' 'peugeot 505s turbo diesel'\n",
      " 'peugeot 604sl' \"plymouth 'cuda 340\" 'plymouth arrow gs' 'plymouth champ'\n",
      " 'plymouth cricket' 'plymouth custom suburb' 'plymouth duster'\n",
      " 'plymouth fury' 'plymouth fury gran sedan' 'plymouth fury iii'\n",
      " 'plymouth grand fury' 'plymouth horizon' 'plymouth horizon 4'\n",
      " 'plymouth horizon miser' 'plymouth horizon tc3' 'plymouth reliant'\n",
      " 'plymouth sapporo' 'plymouth satellite' 'plymouth satellite custom'\n",
      " 'plymouth satellite custom (sw)' 'plymouth satellite sebring'\n",
      " 'plymouth valiant' 'plymouth valiant custom' 'plymouth volare'\n",
      " 'plymouth volare custom' 'plymouth volare premier v8' 'pontiac astro'\n",
      " 'pontiac catalina' 'pontiac catalina brougham' 'pontiac firebird'\n",
      " 'pontiac grand prix' 'pontiac grand prix lj' 'pontiac j2000 se hatchback'\n",
      " 'pontiac lemans v6' 'pontiac phoenix' 'pontiac phoenix lj'\n",
      " 'pontiac safari (sw)' 'pontiac sunbird coupe' 'pontiac ventura sj'\n",
      " 'renault 12 (sw)' 'renault 12tl' 'renault 5 gtl' 'saab 99e' 'saab 99gle'\n",
      " 'saab 99le' 'subaru' 'subaru dl' 'toyota carina' 'toyota celica gt'\n",
      " 'toyota celica gt liftback' 'toyota corolla' 'toyota corolla 1200'\n",
      " 'toyota corolla 1600 (sw)' 'toyota corolla liftback'\n",
      " 'toyota corolla tercel' 'toyota corona' 'toyota corona hardtop'\n",
      " 'toyota corona liftback' 'toyota corona mark ii' 'toyota cressida'\n",
      " 'toyota mark ii' 'toyota starlet' 'toyota tercel'\n",
      " 'toyouta corona mark ii (sw)' 'triumph tr7 coupe' 'vokswagen rabbit'\n",
      " 'volkswagen 1131 deluxe sedan' 'volkswagen 411 (sw)' 'volkswagen dasher'\n",
      " 'volkswagen jetta' 'volkswagen model 111' 'volkswagen rabbit'\n",
      " 'volkswagen rabbit custom' 'volkswagen rabbit custom diesel'\n",
      " 'volkswagen rabbit l' 'volkswagen scirocco' 'volkswagen super beetle'\n",
      " 'volkswagen type 3' 'volvo 144ea' 'volvo 145e (sw)' 'volvo 244dl'\n",
      " 'volvo 245' 'volvo 264gl' 'volvo diesel' 'vw dasher (diesel)' 'vw pickup'\n",
      " 'vw rabbit' 'vw rabbit c (diesel)' 'vw rabbit custom']\n",
      "\n",
      "\n"
     ]
    }
   ],
   "source": [
    "for col in non_continues_col.columns:\n",
    "    print(col, np.unique(mpg[col]))\n",
    "    print(\"\\n\")"
   ]
  },
  {
   "cell_type": "markdown",
   "id": "b6239abb",
   "metadata": {
    "id": "b6239abb"
   },
   "source": [
    "Discrete data is often referred to as categorical data because of the way observations can be collected into categories."
   ]
  },
  {
   "cell_type": "markdown",
   "id": "UgIqmln1ompN",
   "metadata": {
    "id": "UgIqmln1ompN"
   },
   "source": [
    "#### Cek koefisien correlation\n",
    "Cek koefisien correlation masing masing variable, menggunakan **.corr()**"
   ]
  },
  {
   "cell_type": "code",
   "execution_count": 13,
   "id": "b9a641f7",
   "metadata": {
    "id": "b9a641f7"
   },
   "outputs": [
    {
     "data": {
      "text/html": [
       "<div>\n",
       "<style scoped>\n",
       "    .dataframe tbody tr th:only-of-type {\n",
       "        vertical-align: middle;\n",
       "    }\n",
       "\n",
       "    .dataframe tbody tr th {\n",
       "        vertical-align: top;\n",
       "    }\n",
       "\n",
       "    .dataframe thead th {\n",
       "        text-align: right;\n",
       "    }\n",
       "</style>\n",
       "<table border=\"1\" class=\"dataframe\">\n",
       "  <thead>\n",
       "    <tr style=\"text-align: right;\">\n",
       "      <th></th>\n",
       "      <th>mpg</th>\n",
       "      <th>cylinders</th>\n",
       "      <th>displacement</th>\n",
       "      <th>horsepower</th>\n",
       "      <th>weight</th>\n",
       "      <th>acceleration</th>\n",
       "      <th>model_year</th>\n",
       "      <th>origin</th>\n",
       "    </tr>\n",
       "  </thead>\n",
       "  <tbody>\n",
       "    <tr>\n",
       "      <th>mpg</th>\n",
       "      <td>1.000000</td>\n",
       "      <td>-0.777618</td>\n",
       "      <td>-0.805127</td>\n",
       "      <td>-0.778427</td>\n",
       "      <td>-0.832244</td>\n",
       "      <td>0.423329</td>\n",
       "      <td>0.580541</td>\n",
       "      <td>0.565209</td>\n",
       "    </tr>\n",
       "    <tr>\n",
       "      <th>cylinders</th>\n",
       "      <td>-0.777618</td>\n",
       "      <td>1.000000</td>\n",
       "      <td>0.950823</td>\n",
       "      <td>0.842983</td>\n",
       "      <td>0.897527</td>\n",
       "      <td>-0.504683</td>\n",
       "      <td>-0.345647</td>\n",
       "      <td>-0.568932</td>\n",
       "    </tr>\n",
       "    <tr>\n",
       "      <th>displacement</th>\n",
       "      <td>-0.805127</td>\n",
       "      <td>0.950823</td>\n",
       "      <td>1.000000</td>\n",
       "      <td>0.897257</td>\n",
       "      <td>0.932994</td>\n",
       "      <td>-0.543800</td>\n",
       "      <td>-0.369855</td>\n",
       "      <td>-0.614535</td>\n",
       "    </tr>\n",
       "    <tr>\n",
       "      <th>horsepower</th>\n",
       "      <td>-0.778427</td>\n",
       "      <td>0.842983</td>\n",
       "      <td>0.897257</td>\n",
       "      <td>1.000000</td>\n",
       "      <td>0.864538</td>\n",
       "      <td>-0.689196</td>\n",
       "      <td>-0.416361</td>\n",
       "      <td>-0.455171</td>\n",
       "    </tr>\n",
       "    <tr>\n",
       "      <th>weight</th>\n",
       "      <td>-0.832244</td>\n",
       "      <td>0.897527</td>\n",
       "      <td>0.932994</td>\n",
       "      <td>0.864538</td>\n",
       "      <td>1.000000</td>\n",
       "      <td>-0.416839</td>\n",
       "      <td>-0.309120</td>\n",
       "      <td>-0.585005</td>\n",
       "    </tr>\n",
       "    <tr>\n",
       "      <th>acceleration</th>\n",
       "      <td>0.423329</td>\n",
       "      <td>-0.504683</td>\n",
       "      <td>-0.543800</td>\n",
       "      <td>-0.689196</td>\n",
       "      <td>-0.416839</td>\n",
       "      <td>1.000000</td>\n",
       "      <td>0.290316</td>\n",
       "      <td>0.212746</td>\n",
       "    </tr>\n",
       "    <tr>\n",
       "      <th>model_year</th>\n",
       "      <td>0.580541</td>\n",
       "      <td>-0.345647</td>\n",
       "      <td>-0.369855</td>\n",
       "      <td>-0.416361</td>\n",
       "      <td>-0.309120</td>\n",
       "      <td>0.290316</td>\n",
       "      <td>1.000000</td>\n",
       "      <td>0.181528</td>\n",
       "    </tr>\n",
       "    <tr>\n",
       "      <th>origin</th>\n",
       "      <td>0.565209</td>\n",
       "      <td>-0.568932</td>\n",
       "      <td>-0.614535</td>\n",
       "      <td>-0.455171</td>\n",
       "      <td>-0.585005</td>\n",
       "      <td>0.212746</td>\n",
       "      <td>0.181528</td>\n",
       "      <td>1.000000</td>\n",
       "    </tr>\n",
       "  </tbody>\n",
       "</table>\n",
       "</div>"
      ],
      "text/plain": [
       "                   mpg  cylinders  displacement  horsepower    weight  \\\n",
       "mpg           1.000000  -0.777618     -0.805127   -0.778427 -0.832244   \n",
       "cylinders    -0.777618   1.000000      0.950823    0.842983  0.897527   \n",
       "displacement -0.805127   0.950823      1.000000    0.897257  0.932994   \n",
       "horsepower   -0.778427   0.842983      0.897257    1.000000  0.864538   \n",
       "weight       -0.832244   0.897527      0.932994    0.864538  1.000000   \n",
       "acceleration  0.423329  -0.504683     -0.543800   -0.689196 -0.416839   \n",
       "model_year    0.580541  -0.345647     -0.369855   -0.416361 -0.309120   \n",
       "origin        0.565209  -0.568932     -0.614535   -0.455171 -0.585005   \n",
       "\n",
       "              acceleration  model_year    origin  \n",
       "mpg               0.423329    0.580541  0.565209  \n",
       "cylinders        -0.504683   -0.345647 -0.568932  \n",
       "displacement     -0.543800   -0.369855 -0.614535  \n",
       "horsepower       -0.689196   -0.416361 -0.455171  \n",
       "weight           -0.416839   -0.309120 -0.585005  \n",
       "acceleration      1.000000    0.290316  0.212746  \n",
       "model_year        0.290316    1.000000  0.181528  \n",
       "origin            0.212746    0.181528  1.000000  "
      ]
     },
     "execution_count": 13,
     "metadata": {},
     "output_type": "execute_result"
    }
   ],
   "source": [
    "mpg.corr()"
   ]
  },
  {
   "cell_type": "markdown",
   "id": "b37aa64a",
   "metadata": {
    "id": "b37aa64a"
   },
   "source": [
    "Gunakan bantuan chart heatmap untuk lebih mudah memahami koefisien korelasi. **sns.heatmap()**"
   ]
  },
  {
   "cell_type": "code",
   "execution_count": 14,
   "id": "7bc6bcbe",
   "metadata": {
    "id": "7bc6bcbe"
   },
   "outputs": [
    {
     "data": {
      "text/plain": [
       "<AxesSubplot: >"
      ]
     },
     "execution_count": 14,
     "metadata": {},
     "output_type": "execute_result"
    },
    {
     "data": {
      "image/png": "[encoded data removed]",
      "text/plain": [
       "<Figure size 800x600 with 2 Axes>"
      ]
     },
     "metadata": {},
     "output_type": "display_data"
    }
   ],
   "source": [
    "plt.figure(figsize=(8, 6))\n",
    "sns.heatmap(mpg.corr(), annot = True)"
   ]
  },
  {
   "cell_type": "markdown",
   "id": "35c5f9d4",
   "metadata": {
    "id": "35c5f9d4"
   },
   "source": [
    "##### So, what do we know about dataset?"
   ]
  },
  {
   "cell_type": "markdown",
   "id": "6cfef810",
   "metadata": {
    "id": "6cfef810"
   },
   "source": [
    "Jumlah row: 398\n",
    "\n",
    "Jumlah attribute: 9\n",
    "\n",
    "Attribute Information:\n",
    "- mpg: continuous\n",
    "- cylinders: multi-valued discrete\n",
    "- displacement: continuous\n",
    "- horsepower: continuous\n",
    "- weight: continuous\n",
    "- acceleration: continuous\n",
    "- model year: multi-valued discrete\n",
    "- origin: multi-valued discrete\n",
    "- name: string (unique for each instance)\n",
    "\n",
    "Jumlah missing value: horsepower (6)\n",
    "\n",
    "Feature displacement dan cylinder memiliki korelasi sangat kuat 9.5 disusul horsepower dan displacement 9"
   ]
  },
  {
   "cell_type": "markdown",
   "id": "21f368f9",
   "metadata": {
    "id": "21f368f9"
   },
   "source": [
    "### Data Cleaning"
   ]
  },
  {
   "cell_type": "markdown",
   "id": "AeWvarGco1g-",
   "metadata": {
    "id": "AeWvarGco1g-"
   },
   "source": [
    "cek df head"
   ]
  },
  {
   "cell_type": "code",
   "execution_count": 15,
   "id": "5b103a1e",
   "metadata": {
    "colab": {
     "base_uri": "https://localhost:8080/",
     "height": 206
    },
    "executionInfo": {
     "elapsed": 16,
     "status": "ok",
     "timestamp": 1677499068899,
     "user": {
      "displayName": "Muhammad Rois al haqq",
      "userId": "05628020901943186304"
     },
     "user_tz": -420
    },
    "id": "5b103a1e",
    "outputId": "60957b66-b2ad-4105-ae87-f7800d9cb4f9"
   },
   "outputs": [
    {
     "data": {
      "text/html": [
       "<div>\n",
       "<style scoped>\n",
       "    .dataframe tbody tr th:only-of-type {\n",
       "        vertical-align: middle;\n",
       "    }\n",
       "\n",
       "    .dataframe tbody tr th {\n",
       "        vertical-align: top;\n",
       "    }\n",
       "\n",
       "    .dataframe thead th {\n",
       "        text-align: right;\n",
       "    }\n",
       "</style>\n",
       "<table border=\"1\" class=\"dataframe\">\n",
       "  <thead>\n",
       "    <tr style=\"text-align: right;\">\n",
       "      <th></th>\n",
       "      <th>mpg</th>\n",
       "      <th>cylinders</th>\n",
       "      <th>displacement</th>\n",
       "      <th>horsepower</th>\n",
       "      <th>weight</th>\n",
       "      <th>acceleration</th>\n",
       "      <th>model_year</th>\n",
       "      <th>origin</th>\n",
       "      <th>name</th>\n",
       "    </tr>\n",
       "  </thead>\n",
       "  <tbody>\n",
       "    <tr>\n",
       "      <th>0</th>\n",
       "      <td>18.0</td>\n",
       "      <td>8</td>\n",
       "      <td>307.0</td>\n",
       "      <td>130</td>\n",
       "      <td>3504</td>\n",
       "      <td>12.0</td>\n",
       "      <td>70</td>\n",
       "      <td>1</td>\n",
       "      <td>chevrolet chevelle malibu</td>\n",
       "    </tr>\n",
       "    <tr>\n",
       "      <th>1</th>\n",
       "      <td>15.0</td>\n",
       "      <td>8</td>\n",
       "      <td>350.0</td>\n",
       "      <td>165</td>\n",
       "      <td>3693</td>\n",
       "      <td>11.5</td>\n",
       "      <td>70</td>\n",
       "      <td>1</td>\n",
       "      <td>buick skylark 320</td>\n",
       "    </tr>\n",
       "    <tr>\n",
       "      <th>2</th>\n",
       "      <td>18.0</td>\n",
       "      <td>8</td>\n",
       "      <td>318.0</td>\n",
       "      <td>150</td>\n",
       "      <td>3436</td>\n",
       "      <td>11.0</td>\n",
       "      <td>70</td>\n",
       "      <td>1</td>\n",
       "      <td>plymouth satellite</td>\n",
       "    </tr>\n",
       "    <tr>\n",
       "      <th>3</th>\n",
       "      <td>16.0</td>\n",
       "      <td>8</td>\n",
       "      <td>304.0</td>\n",
       "      <td>150</td>\n",
       "      <td>3433</td>\n",
       "      <td>12.0</td>\n",
       "      <td>70</td>\n",
       "      <td>1</td>\n",
       "      <td>amc rebel sst</td>\n",
       "    </tr>\n",
       "    <tr>\n",
       "      <th>4</th>\n",
       "      <td>17.0</td>\n",
       "      <td>8</td>\n",
       "      <td>302.0</td>\n",
       "      <td>140</td>\n",
       "      <td>3449</td>\n",
       "      <td>10.5</td>\n",
       "      <td>70</td>\n",
       "      <td>1</td>\n",
       "      <td>ford torino</td>\n",
       "    </tr>\n",
       "  </tbody>\n",
       "</table>\n",
       "</div>"
      ],
      "text/plain": [
       "    mpg  cylinders  displacement  horsepower  weight  acceleration  \\\n",
       "0  18.0          8         307.0         130    3504          12.0   \n",
       "1  15.0          8         350.0         165    3693          11.5   \n",
       "2  18.0          8         318.0         150    3436          11.0   \n",
       "3  16.0          8         304.0         150    3433          12.0   \n",
       "4  17.0          8         302.0         140    3449          10.5   \n",
       "\n",
       "   model_year  origin                       name  \n",
       "0          70       1  chevrolet chevelle malibu  \n",
       "1          70       1          buick skylark 320  \n",
       "2          70       1         plymouth satellite  \n",
       "3          70       1              amc rebel sst  \n",
       "4          70       1                ford torino  "
      ]
     },
     "execution_count": 15,
     "metadata": {},
     "output_type": "execute_result"
    }
   ],
   "source": [
    "mpg.head(5)"
   ]
  },
  {
   "cell_type": "markdown",
   "id": "e8519934",
   "metadata": {
    "id": "e8519934"
   },
   "source": [
    "Dalam feature name terlihat kata pertama merupakan nama produsen dari mobil, \n",
    "**chevrolet** chevelle malibu\n",
    "**ford** torino\n",
    "\n",
    "Gunakan **split()** untuk memisahkan kata"
   ]
  },
  {
   "cell_type": "code",
   "execution_count": 16,
   "id": "f0e7b2b6",
   "metadata": {
    "colab": {
     "base_uri": "https://localhost:8080/",
     "height": 250
    },
    "executionInfo": {
     "elapsed": 15,
     "status": "ok",
     "timestamp": 1677499068900,
     "user": {
      "displayName": "Muhammad Rois al haqq",
      "userId": "05628020901943186304"
     },
     "user_tz": -420
    },
    "id": "f0e7b2b6",
    "outputId": "67889154-262e-4305-bb7f-4530bf62c7d3"
   },
   "outputs": [
    {
     "data": {
      "text/html": [
       "<div>\n",
       "<style scoped>\n",
       "    .dataframe tbody tr th:only-of-type {\n",
       "        vertical-align: middle;\n",
       "    }\n",
       "\n",
       "    .dataframe tbody tr th {\n",
       "        vertical-align: top;\n",
       "    }\n",
       "\n",
       "    .dataframe thead th {\n",
       "        text-align: right;\n",
       "    }\n",
       "</style>\n",
       "<table border=\"1\" class=\"dataframe\">\n",
       "  <thead>\n",
       "    <tr style=\"text-align: right;\">\n",
       "      <th></th>\n",
       "      <th>mpg</th>\n",
       "      <th>cylinders</th>\n",
       "      <th>displacement</th>\n",
       "      <th>horsepower</th>\n",
       "      <th>weight</th>\n",
       "      <th>acceleration</th>\n",
       "      <th>model_year</th>\n",
       "      <th>origin</th>\n",
       "      <th>name</th>\n",
       "      <th>manufacturer</th>\n",
       "    </tr>\n",
       "  </thead>\n",
       "  <tbody>\n",
       "    <tr>\n",
       "      <th>0</th>\n",
       "      <td>18.0</td>\n",
       "      <td>8</td>\n",
       "      <td>307.0</td>\n",
       "      <td>130</td>\n",
       "      <td>3504</td>\n",
       "      <td>12.0</td>\n",
       "      <td>70</td>\n",
       "      <td>1</td>\n",
       "      <td>chevrolet chevelle malibu</td>\n",
       "      <td>chevrolet</td>\n",
       "    </tr>\n",
       "    <tr>\n",
       "      <th>1</th>\n",
       "      <td>15.0</td>\n",
       "      <td>8</td>\n",
       "      <td>350.0</td>\n",
       "      <td>165</td>\n",
       "      <td>3693</td>\n",
       "      <td>11.5</td>\n",
       "      <td>70</td>\n",
       "      <td>1</td>\n",
       "      <td>buick skylark 320</td>\n",
       "      <td>buick</td>\n",
       "    </tr>\n",
       "    <tr>\n",
       "      <th>2</th>\n",
       "      <td>18.0</td>\n",
       "      <td>8</td>\n",
       "      <td>318.0</td>\n",
       "      <td>150</td>\n",
       "      <td>3436</td>\n",
       "      <td>11.0</td>\n",
       "      <td>70</td>\n",
       "      <td>1</td>\n",
       "      <td>plymouth satellite</td>\n",
       "      <td>plymouth</td>\n",
       "    </tr>\n",
       "    <tr>\n",
       "      <th>3</th>\n",
       "      <td>16.0</td>\n",
       "      <td>8</td>\n",
       "      <td>304.0</td>\n",
       "      <td>150</td>\n",
       "      <td>3433</td>\n",
       "      <td>12.0</td>\n",
       "      <td>70</td>\n",
       "      <td>1</td>\n",
       "      <td>amc rebel sst</td>\n",
       "      <td>amc</td>\n",
       "    </tr>\n",
       "    <tr>\n",
       "      <th>4</th>\n",
       "      <td>17.0</td>\n",
       "      <td>8</td>\n",
       "      <td>302.0</td>\n",
       "      <td>140</td>\n",
       "      <td>3449</td>\n",
       "      <td>10.5</td>\n",
       "      <td>70</td>\n",
       "      <td>1</td>\n",
       "      <td>ford torino</td>\n",
       "      <td>ford</td>\n",
       "    </tr>\n",
       "  </tbody>\n",
       "</table>\n",
       "</div>"
      ],
      "text/plain": [
       "    mpg  cylinders  displacement  horsepower  weight  acceleration  \\\n",
       "0  18.0          8         307.0         130    3504          12.0   \n",
       "1  15.0          8         350.0         165    3693          11.5   \n",
       "2  18.0          8         318.0         150    3436          11.0   \n",
       "3  16.0          8         304.0         150    3433          12.0   \n",
       "4  17.0          8         302.0         140    3449          10.5   \n",
       "\n",
       "   model_year  origin                       name manufacturer  \n",
       "0          70       1  chevrolet chevelle malibu    chevrolet  \n",
       "1          70       1          buick skylark 320        buick  \n",
       "2          70       1         plymouth satellite     plymouth  \n",
       "3          70       1              amc rebel sst          amc  \n",
       "4          70       1                ford torino         ford  "
      ]
     },
     "execution_count": 16,
     "metadata": {},
     "output_type": "execute_result"
    }
   ],
   "source": [
    "mpg['manufacturer'] = mpg['name'].apply(lambda x: x.split()[0])\n",
    "mpg.head(5)"
   ]
  },
  {
   "cell_type": "markdown",
   "id": "pd3R27yMpEfW",
   "metadata": {
    "id": "pd3R27yMpEfW"
   },
   "source": [
    "Replace nama manufacturer ke nama seharusnya"
   ]
  },
  {
   "cell_type": "code",
   "execution_count": 17,
   "id": "cd8437cf",
   "metadata": {
    "colab": {
     "base_uri": "https://localhost:8080/"
    },
    "executionInfo": {
     "elapsed": 13,
     "status": "ok",
     "timestamp": 1677499068900,
     "user": {
      "displayName": "Muhammad Rois al haqq",
      "userId": "05628020901943186304"
     },
     "user_tz": -420
    },
    "id": "cd8437cf",
    "outputId": "a6fc88f1-26bd-4147-ef26-846b167071fd"
   },
   "outputs": [
    {
     "data": {
      "text/plain": [
       "array(['chevrolet', 'buick', 'plymouth', 'amc', 'ford', 'pontiac',\n",
       "       'dodge', 'toyota', 'datsun', 'volkswagen', 'peugeot', 'audi',\n",
       "       'saab', 'bmw', 'chevy', 'hi', 'mercury', 'opel', 'fiat',\n",
       "       'oldsmobile', 'chrysler', 'mazda', 'volvo', 'renault', 'honda',\n",
       "       'subaru', 'chevroelt', 'mercedes-benz', 'cadillac', 'triumph'],\n",
       "      dtype=object)"
      ]
     },
     "execution_count": 17,
     "metadata": {},
     "output_type": "execute_result"
    }
   ],
   "source": [
    "def clean_manufacturer(manufacturer):\n",
    "    if manufacturer == 'chevroelt' and manufacturer == 'chevy':\n",
    "        return 'chevrolet'\n",
    "    elif manufacturer == 'vokswagen' or manufacturer == 'vw':\n",
    "        return 'volkswagen'\n",
    "    elif manufacturer == 'mercedes':\n",
    "        return 'mercedes-benz'\n",
    "    elif manufacturer == 'toyouta':\n",
    "        return 'toyota'\n",
    "    elif manufacturer == 'maxda':\n",
    "        return 'mazda'\n",
    "    elif manufacturer == 'nissan':\n",
    "        return 'datsun'\n",
    "    elif manufacturer == 'capri':\n",
    "        return 'ford'\n",
    "    else:\n",
    "        return manufacturer\n",
    "    \n",
    "mpg['manufacturer'] = mpg['manufacturer'].apply(clean_manufacturer)\n",
    "mpg['manufacturer'].unique()"
   ]
  },
  {
   "cell_type": "markdown",
   "id": "89edbf5d",
   "metadata": {
    "id": "89edbf5d"
   },
   "source": [
    "Heatmap corr dapat membantu analisa dengan melihat korelasi antar variable. Gunakan **sns.heatmap()**"
   ]
  },
  {
   "cell_type": "code",
   "execution_count": 18,
   "id": "39f09ba0",
   "metadata": {
    "colab": {
     "base_uri": "https://localhost:8080/",
     "height": 453
    },
    "executionInfo": {
     "elapsed": 1143,
     "status": "ok",
     "timestamp": 1677499070034,
     "user": {
      "displayName": "Muhammad Rois al haqq",
      "userId": "05628020901943186304"
     },
     "user_tz": -420
    },
    "id": "39f09ba0",
    "outputId": "41b58f62-1de5-4bb6-c6c8-41b57a6e8658"
   },
   "outputs": [
    {
     "data": {
      "text/plain": [
       "<AxesSubplot: >"
      ]
     },
     "execution_count": 18,
     "metadata": {},
     "output_type": "execute_result"
    },
    {
     "data": {
      "image/png": "[encoded data removed]",
      "text/plain": [
       "<Figure size 800x600 with 2 Axes>"
      ]
     },
     "metadata": {},
     "output_type": "display_data"
    }
   ],
   "source": [
    "plt.figure(figsize=(8, 6))\n",
    "sns.heatmap(mpg.corr(), annot = True)"
   ]
  },
  {
   "cell_type": "markdown",
   "id": "p2IcoPJLlcwa",
   "metadata": {
    "id": "p2IcoPJLlcwa"
   },
   "source": [
    "Insight:"
   ]
  },
  {
   "cell_type": "markdown",
   "id": "af210959",
   "metadata": {
    "id": "af210959"
   },
   "source": [
    "### Plotting Bivariate Data"
   ]
  },
  {
   "cell_type": "markdown",
   "id": "5y9B5WGwiN8_",
   "metadata": {
    "id": "5y9B5WGwiN8_"
   },
   "source": [
    "#### Scatter Plot"
   ]
  },
  {
   "cell_type": "markdown",
   "id": "ada6433f",
   "metadata": {
    "id": "ada6433f"
   },
   "source": [
    "Untuk menampilkan visualisasi bivariate data, kita dapat menggunakan scatter plot.\n",
    "\n",
    "Coba visualisasikan variable 'displacement' dan 'horsepower' menggunakan fungsi **sns.scatterplot()**, untuk melihat korelasi antar jumlah cc dan tenaga mesin"
   ]
  },
  {
   "cell_type": "code",
   "execution_count": null,
   "id": "a45f747e",
   "metadata": {
    "id": "a45f747e"
   },
   "outputs": [],
   "source": []
  },
  {
   "cell_type": "markdown",
   "id": "O--3gGiSaJQa",
   "metadata": {
    "id": "O--3gGiSaJQa"
   },
   "source": [
    "Insight:\n"
   ]
  },
  {
   "cell_type": "markdown",
   "id": "ScTO9oGKpUqe",
   "metadata": {
    "id": "ScTO9oGKpUqe"
   },
   "source": [
    "untuk menampilkan parameter apa saja yang bisa digunakan dapat menggunakan ?sns.scatterplot"
   ]
  },
  {
   "cell_type": "code",
   "execution_count": 19,
   "id": "d638a5fe",
   "metadata": {
    "id": "d638a5fe"
   },
   "outputs": [],
   "source": [
    "?sns.scatterplot"
   ]
  },
  {
   "cell_type": "markdown",
   "id": "adda0f11",
   "metadata": {
    "id": "adda0f11"
   },
   "source": [
    "Fungsi yang digunakan di matplotlib **plt.scatter()**"
   ]
  },
  {
   "cell_type": "code",
   "execution_count": 20,
   "id": "c958f294",
   "metadata": {
    "id": "c958f294"
   },
   "outputs": [
    {
     "data": {
      "text/plain": [
       "Text(0, 0.5, 'horsepower')"
      ]
     },
     "execution_count": 20,
     "metadata": {},
     "output_type": "execute_result"
    },
    {
     "data": {
      "image/png": "[encoded data removed]",
      "text/plain": [
       "<Figure size 640x480 with 1 Axes>"
      ]
     },
     "metadata": {},
     "output_type": "display_data"
    }
   ],
   "source": [
    "plt.scatter(x=mpg['displacement'], y=mpg['horsepower'])\n",
    "\n",
    "plt.xlabel('displacement')\n",
    "plt.ylabel('horsepower')"
   ]
  },
  {
   "cell_type": "code",
   "execution_count": 21,
   "id": "YR-3eLtRmFtY",
   "metadata": {
    "id": "YR-3eLtRmFtY"
   },
   "outputs": [
    {
     "data": {
      "image/png": "[encoded data removed]",
      "text/plain": [
       "<Figure size 1000x400 with 2 Axes>"
      ]
     },
     "metadata": {},
     "output_type": "display_data"
    }
   ],
   "source": [
    "fig, (ax1, ax2) = plt.subplots(1, 2, figsize=(10, 4))\n",
    "\n",
    "sns.scatterplot(x=mpg['displacement'], y=mpg['horsepower'], ax=ax1)\n",
    "ax1.title.set_text('using seaborn')\n",
    "\n",
    "ax2.scatter(x=mpg['displacement'], y=mpg['horsepower'])\n",
    "\n",
    "plt.xlabel('displacement')\n",
    "plt.ylabel('horsepower')\n",
    "ax2.title.set_text('using matplotlib')"
   ]
  },
  {
   "cell_type": "markdown",
   "id": "2ec26041",
   "metadata": {
    "id": "2ec26041"
   },
   "source": [
    "#### Exercises 1\n",
    "Coba tampilkan scatterplot untuk melihat korelasi antara tenaga mesin (horsepower) dan konsumsi bahan bakarnya (mpg)"
   ]
  },
  {
   "cell_type": "code",
   "execution_count": null,
   "id": "eadc38c0",
   "metadata": {
    "id": "eadc38c0"
   },
   "outputs": [],
   "source": []
  },
  {
   "cell_type": "markdown",
   "id": "TwESPs_j3Okf",
   "metadata": {
    "id": "TwESPs_j3Okf"
   },
   "source": [
    "Insight:"
   ]
  },
  {
   "cell_type": "markdown",
   "id": "924887f8",
   "metadata": {
    "id": "924887f8"
   },
   "source": [
    "Coba buat scatter plot untuk melihat perbandingan antara tenaga mesin (horsepower) vs. konsumsi bahan bakarnya (mpg) dengan untuk masing masing cylinders\n",
    "\n",
    "gunakan parameter hue untuk meng-encode pewarnaan"
   ]
  },
  {
   "cell_type": "code",
   "execution_count": 22,
   "id": "7c7bb897",
   "metadata": {
    "id": "7c7bb897"
   },
   "outputs": [
    {
     "data": {
      "text/plain": [
       "<AxesSubplot: xlabel='horsepower', ylabel='mpg'>"
      ]
     },
     "execution_count": 22,
     "metadata": {},
     "output_type": "execute_result"
    },
    {
     "data": {
      "image/png": "[encoded data removed]",
      "text/plain": [
       "<Figure size 640x480 with 1 Axes>"
      ]
     },
     "metadata": {},
     "output_type": "display_data"
    }
   ],
   "source": [
    "sns.scatterplot(x=\"horsepower\", y=\"mpg\", \n",
    "            data=mpg, \n",
    "            hue=\"cylinders\")"
   ]
  },
  {
   "cell_type": "markdown",
   "id": "HPALp5mN3S1q",
   "metadata": {
    "id": "HPALp5mN3S1q"
   },
   "source": [
    "Insight:"
   ]
  },
  {
   "cell_type": "markdown",
   "id": "e0O1glgnpiZl",
   "metadata": {
    "id": "e0O1glgnpiZl"
   },
   "source": [
    "tambahkan parameter size untuk melihat perbedaan ukuran weight"
   ]
  },
  {
   "cell_type": "code",
   "execution_count": 23,
   "id": "a01c4ad9",
   "metadata": {
    "id": "a01c4ad9"
   },
   "outputs": [
    {
     "data": {
      "text/plain": [
       "<AxesSubplot: xlabel='horsepower', ylabel='mpg'>"
      ]
     },
     "execution_count": 23,
     "metadata": {},
     "output_type": "execute_result"
    },
    {
     "data": {
      "image/png": "[encoded data removed]",
      "text/plain": [
       "<Figure size 640x480 with 1 Axes>"
      ]
     },
     "metadata": {},
     "output_type": "display_data"
    }
   ],
   "source": [
    "sns.scatterplot(x=\"horsepower\", y=\"mpg\", \n",
    "            data=mpg, \n",
    "            hue=\"cylinders\", \n",
    "            size=\"weight\")"
   ]
  },
  {
   "cell_type": "markdown",
   "id": "fKEsntrX3Ucv",
   "metadata": {
    "id": "fKEsntrX3Ucv"
   },
   "source": [
    "Insight:"
   ]
  },
  {
   "cell_type": "markdown",
   "id": "jllpBv_pplB3",
   "metadata": {
    "id": "jllpBv_pplB3"
   },
   "source": [
    "#### Box plot\n",
    "\n",
    "Untuk melakukan bivariate analysis menggunakan variable categorical, dapat menggunakan boxplot **sns.boxplot()**\n",
    "\n",
    "Coba visualisasikan variable 'origin' dan 'mpg' menggunakan boxplot"
   ]
  },
  {
   "cell_type": "code",
   "execution_count": null,
   "id": "b2632175",
   "metadata": {
    "id": "b2632175"
   },
   "outputs": [],
   "source": []
  },
  {
   "cell_type": "markdown",
   "id": "4pXQ8_G2i-pZ",
   "metadata": {
    "id": "4pXQ8_G2i-pZ"
   },
   "source": [
    "### Feature Engineering"
   ]
  },
  {
   "cell_type": "markdown",
   "id": "BZK6Yl9CpptF",
   "metadata": {
    "id": "BZK6Yl9CpptF"
   },
   "source": [
    "Kode origin masih 1, 2, 3 Mari kita ubah code origin ke bentuk name origin"
   ]
  },
  {
   "cell_type": "code",
   "execution_count": 24,
   "id": "96f31552",
   "metadata": {
    "colab": {
     "base_uri": "https://localhost:8080/"
    },
    "executionInfo": {
     "elapsed": 10,
     "status": "ok",
     "timestamp": 1675350858779,
     "user": {
      "displayName": "Muhammad Rois al haqq",
      "userId": "05628020901943186304"
     },
     "user_tz": -420
    },
    "id": "96f31552",
    "outputId": "6d62206e-2b4c-4bce-b05d-1aa504d796bd"
   },
   "outputs": [
    {
     "data": {
      "text/plain": [
       "array(['usa', 'japan', 'europe'], dtype=object)"
      ]
     },
     "execution_count": 24,
     "metadata": {},
     "output_type": "execute_result"
    }
   ],
   "source": [
    "def clean_origin(origin):\n",
    "    if origin == 1:\n",
    "        return 'usa'\n",
    "    elif origin == 2:\n",
    "        return 'europe'\n",
    "    elif origin == 3:\n",
    "        return 'japan'\n",
    "    \n",
    "mpg['origin'] = mpg['origin'].apply(clean_origin)\n",
    "mpg['origin'].unique()"
   ]
  },
  {
   "cell_type": "markdown",
   "id": "UkJhqsirptVn",
   "metadata": {
    "id": "UkJhqsirptVn"
   },
   "source": [
    "Sekarang coba cek lagi hasilnya"
   ]
  },
  {
   "cell_type": "code",
   "execution_count": null,
   "id": "5f8151da",
   "metadata": {
    "id": "5f8151da"
   },
   "outputs": [],
   "source": []
  },
  {
   "cell_type": "markdown",
   "id": "KAc6QNn3pwRG",
   "metadata": {
    "id": "KAc6QNn3pwRG"
   },
   "source": [
    "Sekarang kita coba visualisasikan 'acceleration' dan 'origin'"
   ]
  },
  {
   "cell_type": "code",
   "execution_count": null,
   "id": "027aceb1",
   "metadata": {
    "id": "027aceb1"
   },
   "outputs": [],
   "source": []
  },
  {
   "cell_type": "markdown",
   "id": "eUqyNh-D3H3o",
   "metadata": {
    "id": "eUqyNh-D3H3o"
   },
   "source": [
    "Insight:"
   ]
  },
  {
   "cell_type": "markdown",
   "id": "0a5611f6",
   "metadata": {
    "id": "0a5611f6"
   },
   "source": [
    "### Categorical Data"
   ]
  },
  {
   "cell_type": "markdown",
   "id": "3eb4d128",
   "metadata": {
    "id": "3eb4d128"
   },
   "source": [
    "Untuk menampilkan visualisasi categorical data, kita dapat menggunakan bar plot. Fungsi yang digunakan di seaborn **sns.barplot()**\n",
    "\n",
    "Semisal kita ingin memvisualisasikan jumlah mobil yang dipabrikasi berdasarkan origin, yang perlu dilakukan adalah\n",
    "1. preprocessing (count data)\n",
    "2. visualisasi menggunakan sns.barplot()"
   ]
  },
  {
   "cell_type": "markdown",
   "id": "11d9c034",
   "metadata": {
    "id": "11d9c034"
   },
   "source": [
    "##### preprocessing, get count data\n",
    "\n",
    "coba kita hitung jumlah masing masing valuenya menggunakan fungsi pandas groupby()"
   ]
  },
  {
   "cell_type": "code",
   "execution_count": 25,
   "id": "0ec86935",
   "metadata": {
    "colab": {
     "base_uri": "https://localhost:8080/",
     "height": 206
    },
    "executionInfo": {
     "elapsed": 13,
     "status": "ok",
     "timestamp": 1675350859565,
     "user": {
      "displayName": "Muhammad Rois al haqq",
      "userId": "05628020901943186304"
     },
     "user_tz": -420
    },
    "id": "0ec86935",
    "outputId": "b9a5db4c-641f-43b9-fba2-7616eda96d4b"
   },
   "outputs": [
    {
     "data": {
      "text/html": [
       "<div>\n",
       "<style scoped>\n",
       "    .dataframe tbody tr th:only-of-type {\n",
       "        vertical-align: middle;\n",
       "    }\n",
       "\n",
       "    .dataframe tbody tr th {\n",
       "        vertical-align: top;\n",
       "    }\n",
       "\n",
       "    .dataframe thead th {\n",
       "        text-align: right;\n",
       "    }\n",
       "</style>\n",
       "<table border=\"1\" class=\"dataframe\">\n",
       "  <thead>\n",
       "    <tr style=\"text-align: right;\">\n",
       "      <th></th>\n",
       "      <th>manufacturer</th>\n",
       "      <th>size</th>\n",
       "    </tr>\n",
       "  </thead>\n",
       "  <tbody>\n",
       "    <tr>\n",
       "      <th>0</th>\n",
       "      <td>amc</td>\n",
       "      <td>27</td>\n",
       "    </tr>\n",
       "    <tr>\n",
       "      <th>1</th>\n",
       "      <td>audi</td>\n",
       "      <td>7</td>\n",
       "    </tr>\n",
       "    <tr>\n",
       "      <th>2</th>\n",
       "      <td>bmw</td>\n",
       "      <td>2</td>\n",
       "    </tr>\n",
       "    <tr>\n",
       "      <th>3</th>\n",
       "      <td>buick</td>\n",
       "      <td>17</td>\n",
       "    </tr>\n",
       "    <tr>\n",
       "      <th>4</th>\n",
       "      <td>cadillac</td>\n",
       "      <td>2</td>\n",
       "    </tr>\n",
       "  </tbody>\n",
       "</table>\n",
       "</div>"
      ],
      "text/plain": [
       "  manufacturer  size\n",
       "0          amc    27\n",
       "1         audi     7\n",
       "2          bmw     2\n",
       "3        buick    17\n",
       "4     cadillac     2"
      ]
     },
     "execution_count": 25,
     "metadata": {},
     "output_type": "execute_result"
    }
   ],
   "source": [
    "# coba kita hitung jumlah masing masing valuenya menggunakan fungsi pandas groupby()\n",
    "manufacturer_count = mpg.groupby(['manufacturer'], as_index=False).size()\n",
    "manufacturer_count.head(5)"
   ]
  },
  {
   "cell_type": "markdown",
   "id": "FulvC5Xbp7qP",
   "metadata": {
    "id": "FulvC5Xbp7qP"
   },
   "source": [
    "Setelah mendapatkan count datanya, visualisasikan menggunakan **sns.barplot()**"
   ]
  },
  {
   "cell_type": "code",
   "execution_count": null,
   "id": "44ce1278",
   "metadata": {
    "id": "44ce1278"
   },
   "outputs": [],
   "source": []
  },
  {
   "cell_type": "markdown",
   "id": "d8da77ea",
   "metadata": {
    "id": "d8da77ea"
   },
   "source": [
    "Coba besarkan gambarnya supaya label nya terlihat lebih jelas\n",
    "\n",
    "- untuk mengatur ukuran gambar dapat menggunakan plt.figure(figsize=())"
   ]
  },
  {
   "cell_type": "code",
   "execution_count": null,
   "id": "7f522d8f",
   "metadata": {
    "id": "7f522d8f"
   },
   "outputs": [],
   "source": []
  },
  {
   "cell_type": "markdown",
   "id": "fdf5d94e",
   "metadata": {
    "id": "fdf5d94e"
   },
   "source": [
    "Cara menampilkan bar chart supaya tersusun berurutan dapat menggunakan sort_values()\n",
    "\n",
    "- sort_values(variable, ascending=True/False)"
   ]
  },
  {
   "cell_type": "code",
   "execution_count": 26,
   "id": "42215cc7",
   "metadata": {
    "colab": {
     "base_uri": "https://localhost:8080/",
     "height": 363
    },
    "executionInfo": {
     "elapsed": 8,
     "status": "ok",
     "timestamp": 1675350859967,
     "user": {
      "displayName": "Muhammad Rois al haqq",
      "userId": "05628020901943186304"
     },
     "user_tz": -420
    },
    "id": "42215cc7",
    "outputId": "50dc8d0b-c0f0-4bd2-e2af-55a61bd5f2c0"
   },
   "outputs": [
    {
     "data": {
      "text/html": [
       "<div>\n",
       "<style scoped>\n",
       "    .dataframe tbody tr th:only-of-type {\n",
       "        vertical-align: middle;\n",
       "    }\n",
       "\n",
       "    .dataframe tbody tr th {\n",
       "        vertical-align: top;\n",
       "    }\n",
       "\n",
       "    .dataframe thead th {\n",
       "        text-align: right;\n",
       "    }\n",
       "</style>\n",
       "<table border=\"1\" class=\"dataframe\">\n",
       "  <thead>\n",
       "    <tr style=\"text-align: right;\">\n",
       "      <th></th>\n",
       "      <th>manufacturer</th>\n",
       "      <th>size</th>\n",
       "    </tr>\n",
       "  </thead>\n",
       "  <tbody>\n",
       "    <tr>\n",
       "      <th>12</th>\n",
       "      <td>ford</td>\n",
       "      <td>49</td>\n",
       "    </tr>\n",
       "    <tr>\n",
       "      <th>6</th>\n",
       "      <td>chevrolet</td>\n",
       "      <td>43</td>\n",
       "    </tr>\n",
       "    <tr>\n",
       "      <th>21</th>\n",
       "      <td>plymouth</td>\n",
       "      <td>31</td>\n",
       "    </tr>\n",
       "    <tr>\n",
       "      <th>10</th>\n",
       "      <td>dodge</td>\n",
       "      <td>28</td>\n",
       "    </tr>\n",
       "    <tr>\n",
       "      <th>0</th>\n",
       "      <td>amc</td>\n",
       "      <td>27</td>\n",
       "    </tr>\n",
       "    <tr>\n",
       "      <th>26</th>\n",
       "      <td>toyota</td>\n",
       "      <td>26</td>\n",
       "    </tr>\n",
       "    <tr>\n",
       "      <th>9</th>\n",
       "      <td>datsun</td>\n",
       "      <td>24</td>\n",
       "    </tr>\n",
       "    <tr>\n",
       "      <th>28</th>\n",
       "      <td>volkswagen</td>\n",
       "      <td>22</td>\n",
       "    </tr>\n",
       "    <tr>\n",
       "      <th>3</th>\n",
       "      <td>buick</td>\n",
       "      <td>17</td>\n",
       "    </tr>\n",
       "    <tr>\n",
       "      <th>22</th>\n",
       "      <td>pontiac</td>\n",
       "      <td>16</td>\n",
       "    </tr>\n",
       "  </tbody>\n",
       "</table>\n",
       "</div>"
      ],
      "text/plain": [
       "   manufacturer  size\n",
       "12         ford    49\n",
       "6     chevrolet    43\n",
       "21     plymouth    31\n",
       "10        dodge    28\n",
       "0           amc    27\n",
       "26       toyota    26\n",
       "9        datsun    24\n",
       "28   volkswagen    22\n",
       "3         buick    17\n",
       "22      pontiac    16"
      ]
     },
     "execution_count": 26,
     "metadata": {},
     "output_type": "execute_result"
    }
   ],
   "source": [
    "manufacturer_count = mpg.groupby(['manufacturer'], as_index=False).size().sort_values('size', ascending=False)\n",
    "manufacturer_count.head(10)"
   ]
  },
  {
   "cell_type": "markdown",
   "id": "_J3gtG0TqLzF",
   "metadata": {
    "id": "_J3gtG0TqLzF"
   },
   "source": [
    "Coba tampilkan kembali barplotnya"
   ]
  },
  {
   "cell_type": "code",
   "execution_count": 27,
   "id": "d806bc8f",
   "metadata": {
    "id": "d806bc8f"
   },
   "outputs": [
    {
     "data": {
      "text/plain": [
       "<AxesSubplot: xlabel='size', ylabel='manufacturer'>"
      ]
     },
     "execution_count": 27,
     "metadata": {},
     "output_type": "execute_result"
    },
    {
     "data": {
      "image/png": "[encoded data removed]",
      "text/plain": [
       "<Figure size 600x600 with 1 Axes>"
      ]
     },
     "metadata": {},
     "output_type": "display_data"
    }
   ],
   "source": [
    "plt.figure(figsize=(6, 6))\n",
    "sns.barplot(data=manufacturer_count, x='size', y='manufacturer')"
   ]
  },
  {
   "cell_type": "markdown",
   "id": "09e967c6",
   "metadata": {
    "id": "09e967c6"
   },
   "source": [
    "##### Exercises 2\n",
    "\n",
    "Coba tambahkan feature mpg_level dengan mengambil data dari mpg. Dengan aturan:\n",
    "1. low <17\n",
    "2. \\>=17 medium <=29\n",
    "3. \\>29 high\n",
    "\n",
    "Clue: proses preprocessing sebelumnya (cleaning manufacturer)"
   ]
  },
  {
   "cell_type": "code",
   "execution_count": null,
   "id": "89c60bc0",
   "metadata": {
    "id": "89c60bc0"
   },
   "outputs": [],
   "source": []
  },
  {
   "cell_type": "markdown",
   "id": "5bEjyS0tqR_7",
   "metadata": {
    "id": "5bEjyS0tqR_7"
   },
   "source": [
    "Caranya bisa ada dua yaitu menggunakan apply def dan apply lambda"
   ]
  },
  {
   "cell_type": "code",
   "execution_count": 28,
   "id": "8b6cb136",
   "metadata": {
    "id": "8b6cb136"
   },
   "outputs": [
    {
     "ename": "ValueError",
     "evalue": "could not convert string to float: 'medium'",
     "output_type": "error",
     "traceback": [
      "\u001b[1;31m---------------------------------------------------------------------------\u001b[0m",
      "\u001b[1;31mValueError\u001b[0m                                Traceback (most recent call last)",
      "Cell \u001b[1;32mIn [28], line 4\u001b[0m\n\u001b[0;32m      1\u001b[0m add_mpg_level \u001b[38;5;241m=\u001b[39m \u001b[38;5;28;01mlambda\u001b[39;00m x: \u001b[38;5;124m'\u001b[39m\u001b[38;5;124mlow\u001b[39m\u001b[38;5;124m'\u001b[39m \u001b[38;5;28;01mif\u001b[39;00m x\u001b[38;5;241m<\u001b[39m\u001b[38;5;241m17\u001b[39m \u001b[38;5;28;01melse\u001b[39;00m \u001b[38;5;124m'\u001b[39m\u001b[38;5;124mmedium\u001b[39m\u001b[38;5;124m'\u001b[39m \u001b[38;5;28;01mif\u001b[39;00m x\u001b[38;5;241m>\u001b[39m\u001b[38;5;241m=\u001b[39m \u001b[38;5;241m17\u001b[39m \u001b[38;5;129;01mand\u001b[39;00m x\u001b[38;5;241m<\u001b[39m\u001b[38;5;241m=\u001b[39m \u001b[38;5;241m29\u001b[39m \u001b[38;5;28;01melse\u001b[39;00m \u001b[38;5;124m'\u001b[39m\u001b[38;5;124mhigh\u001b[39m\u001b[38;5;124m'\u001b[39m\n\u001b[0;32m      3\u001b[0m mpg[\u001b[38;5;124m'\u001b[39m\u001b[38;5;124mmpg_level\u001b[39m\u001b[38;5;124m'\u001b[39m] \u001b[38;5;241m=\u001b[39m mpg[\u001b[38;5;124m'\u001b[39m\u001b[38;5;124mmpg\u001b[39m\u001b[38;5;124m'\u001b[39m]\u001b[38;5;241m.\u001b[39mapply(add_mpg_level)\n\u001b[1;32m----> 4\u001b[0m \u001b[43msns\u001b[49m\u001b[38;5;241;43m.\u001b[39;49m\u001b[43mcountplot\u001b[49m\u001b[43m(\u001b[49m\u001b[43mmpg\u001b[49m\u001b[43m[\u001b[49m\u001b[38;5;124;43m'\u001b[39;49m\u001b[38;5;124;43mmpg_level\u001b[39;49m\u001b[38;5;124;43m'\u001b[39;49m\u001b[43m]\u001b[49m\u001b[43m)\u001b[49m\n",
      "File \u001b[1;32m~\\AppData\\Local\\Programs\\Python\\Python311\\Lib\\site-packages\\seaborn\\categorical.py:2942\u001b[0m, in \u001b[0;36mcountplot\u001b[1;34m(data, x, y, hue, order, hue_order, orient, color, palette, saturation, width, dodge, ax, **kwargs)\u001b[0m\n\u001b[0;32m   2939\u001b[0m \u001b[38;5;28;01melif\u001b[39;00m x \u001b[38;5;129;01mis\u001b[39;00m \u001b[38;5;129;01mnot\u001b[39;00m \u001b[38;5;28;01mNone\u001b[39;00m \u001b[38;5;129;01mand\u001b[39;00m y \u001b[38;5;129;01mis\u001b[39;00m \u001b[38;5;129;01mnot\u001b[39;00m \u001b[38;5;28;01mNone\u001b[39;00m:\n\u001b[0;32m   2940\u001b[0m     \u001b[38;5;28;01mraise\u001b[39;00m \u001b[38;5;167;01mValueError\u001b[39;00m(\u001b[38;5;124m\"\u001b[39m\u001b[38;5;124mCannot pass values for both `x` and `y`\u001b[39m\u001b[38;5;124m\"\u001b[39m)\n\u001b[1;32m-> 2942\u001b[0m plotter \u001b[38;5;241m=\u001b[39m \u001b[43m_CountPlotter\u001b[49m\u001b[43m(\u001b[49m\n\u001b[0;32m   2943\u001b[0m \u001b[43m    \u001b[49m\u001b[43mx\u001b[49m\u001b[43m,\u001b[49m\u001b[43m \u001b[49m\u001b[43my\u001b[49m\u001b[43m,\u001b[49m\u001b[43m \u001b[49m\u001b[43mhue\u001b[49m\u001b[43m,\u001b[49m\u001b[43m \u001b[49m\u001b[43mdata\u001b[49m\u001b[43m,\u001b[49m\u001b[43m \u001b[49m\u001b[43morder\u001b[49m\u001b[43m,\u001b[49m\u001b[43m \u001b[49m\u001b[43mhue_order\u001b[49m\u001b[43m,\u001b[49m\n\u001b[0;32m   2944\u001b[0m \u001b[43m    \u001b[49m\u001b[43mestimator\u001b[49m\u001b[43m,\u001b[49m\u001b[43m \u001b[49m\u001b[43merrorbar\u001b[49m\u001b[43m,\u001b[49m\u001b[43m \u001b[49m\u001b[43mn_boot\u001b[49m\u001b[43m,\u001b[49m\u001b[43m \u001b[49m\u001b[43munits\u001b[49m\u001b[43m,\u001b[49m\u001b[43m \u001b[49m\u001b[43mseed\u001b[49m\u001b[43m,\u001b[49m\n\u001b[0;32m   2945\u001b[0m \u001b[43m    \u001b[49m\u001b[43morient\u001b[49m\u001b[43m,\u001b[49m\u001b[43m \u001b[49m\u001b[43mcolor\u001b[49m\u001b[43m,\u001b[49m\u001b[43m \u001b[49m\u001b[43mpalette\u001b[49m\u001b[43m,\u001b[49m\u001b[43m \u001b[49m\u001b[43msaturation\u001b[49m\u001b[43m,\u001b[49m\n\u001b[0;32m   2946\u001b[0m \u001b[43m    \u001b[49m\u001b[43mwidth\u001b[49m\u001b[43m,\u001b[49m\u001b[43m \u001b[49m\u001b[43merrcolor\u001b[49m\u001b[43m,\u001b[49m\u001b[43m \u001b[49m\u001b[43merrwidth\u001b[49m\u001b[43m,\u001b[49m\u001b[43m \u001b[49m\u001b[43mcapsize\u001b[49m\u001b[43m,\u001b[49m\u001b[43m \u001b[49m\u001b[43mdodge\u001b[49m\n\u001b[0;32m   2947\u001b[0m \u001b[43m\u001b[49m\u001b[43m)\u001b[49m\n\u001b[0;32m   2949\u001b[0m plotter\u001b[38;5;241m.\u001b[39mvalue_label \u001b[38;5;241m=\u001b[39m \u001b[38;5;124m\"\u001b[39m\u001b[38;5;124mcount\u001b[39m\u001b[38;5;124m\"\u001b[39m\n\u001b[0;32m   2951\u001b[0m \u001b[38;5;28;01mif\u001b[39;00m ax \u001b[38;5;129;01mis\u001b[39;00m \u001b[38;5;28;01mNone\u001b[39;00m:\n",
      "File \u001b[1;32m~\\AppData\\Local\\Programs\\Python\\Python311\\Lib\\site-packages\\seaborn\\categorical.py:1530\u001b[0m, in \u001b[0;36m_BarPlotter.__init__\u001b[1;34m(self, x, y, hue, data, order, hue_order, estimator, errorbar, n_boot, units, seed, orient, color, palette, saturation, width, errcolor, errwidth, capsize, dodge)\u001b[0m\n\u001b[0;32m   1525\u001b[0m \u001b[38;5;28;01mdef\u001b[39;00m \u001b[38;5;21m__init__\u001b[39m(\u001b[38;5;28mself\u001b[39m, x, y, hue, data, order, hue_order,\n\u001b[0;32m   1526\u001b[0m              estimator, errorbar, n_boot, units, seed,\n\u001b[0;32m   1527\u001b[0m              orient, color, palette, saturation, width,\n\u001b[0;32m   1528\u001b[0m              errcolor, errwidth, capsize, dodge):\n\u001b[0;32m   1529\u001b[0m     \u001b[38;5;124;03m\"\"\"Initialize the plotter.\"\"\"\u001b[39;00m\n\u001b[1;32m-> 1530\u001b[0m     \u001b[38;5;28;43mself\u001b[39;49m\u001b[38;5;241;43m.\u001b[39;49m\u001b[43mestablish_variables\u001b[49m\u001b[43m(\u001b[49m\u001b[43mx\u001b[49m\u001b[43m,\u001b[49m\u001b[43m \u001b[49m\u001b[43my\u001b[49m\u001b[43m,\u001b[49m\u001b[43m \u001b[49m\u001b[43mhue\u001b[49m\u001b[43m,\u001b[49m\u001b[43m \u001b[49m\u001b[43mdata\u001b[49m\u001b[43m,\u001b[49m\u001b[43m \u001b[49m\u001b[43morient\u001b[49m\u001b[43m,\u001b[49m\n\u001b[0;32m   1531\u001b[0m \u001b[43m                             \u001b[49m\u001b[43morder\u001b[49m\u001b[43m,\u001b[49m\u001b[43m \u001b[49m\u001b[43mhue_order\u001b[49m\u001b[43m,\u001b[49m\u001b[43m \u001b[49m\u001b[43munits\u001b[49m\u001b[43m)\u001b[49m\n\u001b[0;32m   1532\u001b[0m     \u001b[38;5;28mself\u001b[39m\u001b[38;5;241m.\u001b[39mestablish_colors(color, palette, saturation)\n\u001b[0;32m   1533\u001b[0m     \u001b[38;5;28mself\u001b[39m\u001b[38;5;241m.\u001b[39mestimate_statistic(estimator, errorbar, n_boot, seed)\n",
      "File \u001b[1;32m~\\AppData\\Local\\Programs\\Python\\Python311\\Lib\\site-packages\\seaborn\\categorical.py:516\u001b[0m, in \u001b[0;36m_CategoricalPlotter.establish_variables\u001b[1;34m(self, x, y, hue, data, orient, order, hue_order, units)\u001b[0m\n\u001b[0;32m    513\u001b[0m     plot_data \u001b[38;5;241m=\u001b[39m data\n\u001b[0;32m    515\u001b[0m \u001b[38;5;66;03m# Convert to a list of arrays, the common representation\u001b[39;00m\n\u001b[1;32m--> 516\u001b[0m plot_data \u001b[38;5;241m=\u001b[39m \u001b[43m[\u001b[49m\u001b[43mnp\u001b[49m\u001b[38;5;241;43m.\u001b[39;49m\u001b[43masarray\u001b[49m\u001b[43m(\u001b[49m\u001b[43md\u001b[49m\u001b[43m,\u001b[49m\u001b[43m \u001b[49m\u001b[38;5;28;43mfloat\u001b[39;49m\u001b[43m)\u001b[49m\u001b[43m \u001b[49m\u001b[38;5;28;43;01mfor\u001b[39;49;00m\u001b[43m \u001b[49m\u001b[43md\u001b[49m\u001b[43m \u001b[49m\u001b[38;5;129;43;01min\u001b[39;49;00m\u001b[43m \u001b[49m\u001b[43mplot_data\u001b[49m\u001b[43m]\u001b[49m\n\u001b[0;32m    518\u001b[0m \u001b[38;5;66;03m# The group names will just be numeric indices\u001b[39;00m\n\u001b[0;32m    519\u001b[0m group_names \u001b[38;5;241m=\u001b[39m \u001b[38;5;28mlist\u001b[39m(\u001b[38;5;28mrange\u001b[39m(\u001b[38;5;28mlen\u001b[39m(plot_data)))\n",
      "File \u001b[1;32m~\\AppData\\Local\\Programs\\Python\\Python311\\Lib\\site-packages\\seaborn\\categorical.py:516\u001b[0m, in \u001b[0;36m<listcomp>\u001b[1;34m(.0)\u001b[0m\n\u001b[0;32m    513\u001b[0m     plot_data \u001b[38;5;241m=\u001b[39m data\n\u001b[0;32m    515\u001b[0m \u001b[38;5;66;03m# Convert to a list of arrays, the common representation\u001b[39;00m\n\u001b[1;32m--> 516\u001b[0m plot_data \u001b[38;5;241m=\u001b[39m [\u001b[43mnp\u001b[49m\u001b[38;5;241;43m.\u001b[39;49m\u001b[43masarray\u001b[49m\u001b[43m(\u001b[49m\u001b[43md\u001b[49m\u001b[43m,\u001b[49m\u001b[43m \u001b[49m\u001b[38;5;28;43mfloat\u001b[39;49m\u001b[43m)\u001b[49m \u001b[38;5;28;01mfor\u001b[39;00m d \u001b[38;5;129;01min\u001b[39;00m plot_data]\n\u001b[0;32m    518\u001b[0m \u001b[38;5;66;03m# The group names will just be numeric indices\u001b[39;00m\n\u001b[0;32m    519\u001b[0m group_names \u001b[38;5;241m=\u001b[39m \u001b[38;5;28mlist\u001b[39m(\u001b[38;5;28mrange\u001b[39m(\u001b[38;5;28mlen\u001b[39m(plot_data)))\n",
      "File \u001b[1;32m~\\AppData\\Local\\Programs\\Python\\Python311\\Lib\\site-packages\\pandas\\core\\series.py:893\u001b[0m, in \u001b[0;36mSeries.__array__\u001b[1;34m(self, dtype)\u001b[0m\n\u001b[0;32m    846\u001b[0m \u001b[38;5;28;01mdef\u001b[39;00m \u001b[38;5;21m__array__\u001b[39m(\u001b[38;5;28mself\u001b[39m, dtype: npt\u001b[38;5;241m.\u001b[39mDTypeLike \u001b[38;5;241m|\u001b[39m \u001b[38;5;28;01mNone\u001b[39;00m \u001b[38;5;241m=\u001b[39m \u001b[38;5;28;01mNone\u001b[39;00m) \u001b[38;5;241m-\u001b[39m\u001b[38;5;241m>\u001b[39m np\u001b[38;5;241m.\u001b[39mndarray:\n\u001b[0;32m    847\u001b[0m     \u001b[38;5;124;03m\"\"\"\u001b[39;00m\n\u001b[0;32m    848\u001b[0m \u001b[38;5;124;03m    Return the values as a NumPy array.\u001b[39;00m\n\u001b[0;32m    849\u001b[0m \n\u001b[1;32m   (...)\u001b[0m\n\u001b[0;32m    891\u001b[0m \u001b[38;5;124;03m          dtype='datetime64[ns]')\u001b[39;00m\n\u001b[0;32m    892\u001b[0m \u001b[38;5;124;03m    \"\"\"\u001b[39;00m\n\u001b[1;32m--> 893\u001b[0m     \u001b[38;5;28;01mreturn\u001b[39;00m np\u001b[38;5;241m.\u001b[39masarray(\u001b[38;5;28mself\u001b[39m\u001b[38;5;241m.\u001b[39m_values, dtype)\n",
      "\u001b[1;31mValueError\u001b[0m: could not convert string to float: 'medium'"
     ]
    }
   ],
   "source": [
    "add_mpg_level = lambda x: 'low' if x<17 else 'medium' if x>= 17 and x<= 29 else 'high'\n",
    "\n",
    "mpg['mpg_level'] = mpg['mpg'].apply(add_mpg_level)\n",
    "sns.countplot(mpg['mpg_level'])"
   ]
  },
  {
   "cell_type": "markdown",
   "id": "f6237ca4",
   "metadata": {
    "id": "f6237ca4"
   },
   "source": [
    "Cara menampilkan bar chart supaya tersusun berurutan dengan input manual urutannya"
   ]
  },
  {
   "cell_type": "code",
   "execution_count": null,
   "id": "d3c8125b",
   "metadata": {
    "id": "d3c8125b"
   },
   "outputs": [],
   "source": []
  },
  {
   "cell_type": "markdown",
   "id": "70b4d3af",
   "metadata": {
    "id": "70b4d3af"
   },
   "source": [
    "Coba gunakan parameter Hue dalam sns.countplot() dan urutkan dengan menambahkan parameter hue_order"
   ]
  },
  {
   "cell_type": "code",
   "execution_count": null,
   "id": "4cbc96f3",
   "metadata": {
    "id": "4cbc96f3"
   },
   "outputs": [],
   "source": [
    "hue_order = ['low', 'medium', 'high']\n",
    "sns.countplot(x='cylinders', data=mpg, hue='mpg_level', hue_order = hue_order)\n",
    "plt.legend(loc='right', bbox_to_anchor=(1.3, 0.5))"
   ]
  },
  {
   "cell_type": "markdown",
   "id": "6d0cb33a",
   "metadata": {
    "id": "6d0cb33a"
   },
   "source": [
    "#### Mengatur warna"
   ]
  },
  {
   "cell_type": "markdown",
   "id": "84b87fcc",
   "metadata": {
    "id": "84b87fcc"
   },
   "source": [
    "Untuk mengatur warna, dapat menambahkan parameter palette"
   ]
  },
  {
   "cell_type": "code",
   "execution_count": null,
   "id": "0268de84",
   "metadata": {
    "id": "0268de84"
   },
   "outputs": [],
   "source": []
  },
  {
   "cell_type": "markdown",
   "id": "80Vmtm5I1YGU",
   "metadata": {
    "id": "80Vmtm5I1YGU"
   },
   "source": [
    "Insight:"
   ]
  },
  {
   "cell_type": "markdown",
   "id": "fd4102a0",
   "metadata": {
    "id": "fd4102a0"
   },
   "source": [
    "### Distribusi Data\n",
    "\n",
    "Untuk menampilkan visualisasi distribusi data, kita dapat menggunakan histogram. Fungsi yang digunakan di seaborn **sns.displot()**"
   ]
  },
  {
   "cell_type": "markdown",
   "id": "94UuMJr2qpnJ",
   "metadata": {
    "id": "94UuMJr2qpnJ"
   },
   "source": [
    "Coba visualisasikan distribusi 'acceleration'"
   ]
  },
  {
   "cell_type": "code",
   "execution_count": null,
   "id": "d7ce01ab",
   "metadata": {
    "id": "d7ce01ab"
   },
   "outputs": [],
   "source": [
    "sns.displot(mpg['acceleration'])"
   ]
  },
  {
   "cell_type": "markdown",
   "id": "ZeX8Nwg9kFGK",
   "metadata": {
    "id": "ZeX8Nwg9kFGK"
   },
   "source": [
    "Bisa terlihat bahwa distribusi data dari plot di atas adalah symmetrical/normal distribution\n",
    "\n",
    "\n",
    "<img src=\"data:image/jpeg;base64,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\">\n"
   ]
  },
  {
   "cell_type": "markdown",
   "id": "fea144fc",
   "metadata": {
    "id": "fea144fc"
   },
   "source": [
    "coba tampilkan kde dari histogram, dengan menambahkan parameter kde = True\n",
    "\n",
    "kde = Kernel Density Estimation, probability of distribution"
   ]
  },
  {
   "cell_type": "code",
   "execution_count": null,
   "id": "af5fa244",
   "metadata": {
    "colab": {
     "base_uri": "https://localhost:8080/",
     "height": 387
    },
    "executionInfo": {
     "elapsed": 495,
     "status": "ok",
     "timestamp": 1675350862594,
     "user": {
      "displayName": "Muhammad Rois al haqq",
      "userId": "05628020901943186304"
     },
     "user_tz": -420
    },
    "id": "af5fa244",
    "outputId": "32411f9f-1521-44d7-a009-613f522fce7e"
   },
   "outputs": [],
   "source": [
    "sns.displot(mpg['acceleration'], kde = True)"
   ]
  },
  {
   "cell_type": "markdown",
   "id": "ef320987",
   "metadata": {
    "id": "ef320987"
   },
   "source": [
    "##### Exercises 3\n",
    "Coba tampilkan distribusi feature 'mpg' dengan menampilkan histogram dan kde, serta berikan interpretasi/insight"
   ]
  },
  {
   "cell_type": "code",
   "execution_count": null,
   "id": "3e1acfe3",
   "metadata": {
    "colab": {
     "base_uri": "https://localhost:8080/",
     "height": 387
    },
    "executionInfo": {
     "elapsed": 368,
     "status": "ok",
     "timestamp": 1675350862960,
     "user": {
      "displayName": "Muhammad Rois al haqq",
      "userId": "05628020901943186304"
     },
     "user_tz": -420
    },
    "id": "3e1acfe3",
    "outputId": "97e30bab-8c4b-4cbf-f0b0-1c824bc16d0a"
   },
   "outputs": [],
   "source": [
    "sns.displot(mpg['mpg'], kde = True)"
   ]
  },
  {
   "cell_type": "markdown",
   "id": "WjZdjUhrqtnp",
   "metadata": {
    "id": "WjZdjUhrqtnp"
   },
   "source": [
    "coba tampilkan persentile dari feature 'mpg', dengan menambahkan parameter kind='ecdf', empirical cumulative distribution functions"
   ]
  },
  {
   "cell_type": "code",
   "execution_count": null,
   "id": "ff693afa",
   "metadata": {
    "colab": {
     "base_uri": "https://localhost:8080/",
     "height": 387
    },
    "executionInfo": {
     "elapsed": 1039,
     "status": "ok",
     "timestamp": 1675350864286,
     "user": {
      "displayName": "Muhammad Rois al haqq",
      "userId": "05628020901943186304"
     },
     "user_tz": -420
    },
    "id": "ff693afa",
    "outputId": "2a746d0a-2ea5-4d44-91b4-48da3dd27b72"
   },
   "outputs": [],
   "source": [
    "sns.displot(mpg['mpg'], kind='ecdf')"
   ]
  },
  {
   "cell_type": "markdown",
   "id": "Ve15cLXJkN5I",
   "metadata": {
    "id": "Ve15cLXJkN5I"
   },
   "source": [
    "Dengan chart di atas kita bisa menjawab pertanyaan di bawah ini:\n",
    "1. Berapa presentase jenis mobil yang diproduksi yang penggunaan bahan bakarnya kurang dari 30?\n",
    "2. Berapa perkiraan persentase perusahaan yang memproduksi mobil dengan penggunaan bahan bakar lebih dari 35?\n",
    "\n",
    "Jawaban:\n",
    "1. kurang dari 80%\n",
    "2. sekitar 15%"
   ]
  },
  {
   "cell_type": "markdown",
   "id": "6fdc99f7",
   "metadata": {
    "id": "6fdc99f7"
   },
   "source": [
    "### Menampilkan presentase record"
   ]
  },
  {
   "cell_type": "code",
   "execution_count": null,
   "id": "s_26aCWe1uQP",
   "metadata": {
    "id": "s_26aCWe1uQP"
   },
   "outputs": [],
   "source": [
    "hue_order = ['low', 'medium', 'high']\n",
    "sns.countplot(mpg['mpg_level'], order=hue_order)"
   ]
  },
  {
   "cell_type": "markdown",
   "id": "okDRz83O1s9q",
   "metadata": {
    "id": "okDRz83O1s9q"
   },
   "source": [
    "Setelah memvisualisasikan jumlah masing masing mpg level menggunakan bar chart, coba cek presentase masing masing mpg level\n",
    "\n",
    "Untuk menampilkan presentase record dapat menggunakan pie chart, tetapi sebelum itu perlu melakukan preprocessing untuk mendapatkan presentase nya.\n",
    "\n",
    "Cara mudah untuk mendapatkan presentase dapat menggunakan function value_counts(normalize=True)*100"
   ]
  },
  {
   "cell_type": "code",
   "execution_count": null,
   "id": "05e8d028",
   "metadata": {
    "colab": {
     "base_uri": "https://localhost:8080/"
    },
    "executionInfo": {
     "elapsed": 12,
     "status": "ok",
     "timestamp": 1675350864287,
     "user": {
      "displayName": "Muhammad Rois al haqq",
      "userId": "05628020901943186304"
     },
     "user_tz": -420
    },
    "id": "05e8d028",
    "outputId": "38983e12-fdc7-469f-e95b-91989809bc4c"
   },
   "outputs": [],
   "source": [
    "perc=mpg['mpg_level'].value_counts(normalize=True)*100\n",
    "perc"
   ]
  },
  {
   "cell_type": "markdown",
   "id": "uS5ukNGwq7-t",
   "metadata": {
    "id": "uS5ukNGwq7-t"
   },
   "source": [
    "Coba visualisasikan menggunakan pie chart, plt.pie()"
   ]
  },
  {
   "cell_type": "code",
   "execution_count": null,
   "id": "d4bda70f",
   "metadata": {
    "id": "d4bda70f"
   },
   "outputs": [],
   "source": []
  },
  {
   "cell_type": "code",
   "execution_count": null,
   "id": "u5ULN9bNDuMv",
   "metadata": {
    "id": "u5ULN9bNDuMv"
   },
   "outputs": [],
   "source": [
    "plt.pie(perc.values, labels=perc.index, startangle=90, autopct='%1.0f%%')\n",
    "\n",
    "plt.title(\"the percentage of records\")\n",
    "plt.xlabel(\"mpg level\")\n",
    "plt.show()"
   ]
  },
  {
   "cell_type": "markdown",
   "id": "XYhrns3cq_xD",
   "metadata": {
    "id": "XYhrns3cq_xD"
   },
   "source": [
    "Coba pisahkan bagian medium dengan menambahkan parameter explode()"
   ]
  },
  {
   "cell_type": "code",
   "execution_count": null,
   "id": "066d81f6",
   "metadata": {
    "id": "066d81f6"
   },
   "outputs": [],
   "source": []
  },
  {
   "cell_type": "markdown",
   "id": "02a14e30",
   "metadata": {
    "id": "02a14e30"
   },
   "source": [
    "##### Exercises 4\n",
    "Coba highlight bagian medium dengan warna orange dan darkgrey untuk bagian lainnya.\n",
    "- tambahkan pemisah antar bagian darkgrey, dengan menambahkan parameter wedgeprops (bisa googling)\n",
    "- tambahkan parameter colors"
   ]
  },
  {
   "cell_type": "code",
   "execution_count": null,
   "id": "e083d3da",
   "metadata": {
    "id": "e083d3da"
   },
   "outputs": [],
   "source": []
  },
  {
   "cell_type": "markdown",
   "id": "bcd9d1b9",
   "metadata": {
    "id": "bcd9d1b9"
   },
   "source": [
    "### Menampilkan data time series"
   ]
  },
  {
   "cell_type": "markdown",
   "id": "6f8d4f59",
   "metadata": {
    "id": "6f8d4f59"
   },
   "source": [
    "Coba tampilkan mills per galon mobil yang diproduksi dari tahun ke tahun, gunakan line chart dan variable 'model_year' dan 'mpg'"
   ]
  },
  {
   "cell_type": "code",
   "execution_count": null,
   "id": "4f7a2525",
   "metadata": {
    "colab": {
     "base_uri": "https://localhost:8080/",
     "height": 314
    },
    "executionInfo": {
     "elapsed": 7,
     "status": "ok",
     "timestamp": 1675350864754,
     "user": {
      "displayName": "Muhammad Rois al haqq",
      "userId": "05628020901943186304"
     },
     "user_tz": -420
    },
    "id": "4f7a2525",
    "outputId": "588ef293-aad2-4003-b0a7-166639a07b17"
   },
   "outputs": [],
   "source": [
    "sns.lineplot(x=\"model_year\", y=\"mpg\", \n",
    "            data=mpg, \n",
    "            ci=None)\n",
    "\n",
    "plt.title(\"Mills per Gallon Over Time\", fontsize=13)"
   ]
  },
  {
   "cell_type": "markdown",
   "id": "gLpZczP63ZAc",
   "metadata": {
    "id": "gLpZczP63ZAc"
   },
   "source": [
    "Insight:"
   ]
  },
  {
   "cell_type": "markdown",
   "id": "s5y2bSWprxbT",
   "metadata": {
    "id": "s5y2bSWprxbT"
   },
   "source": [
    "Jika diteliti lebih lanjut, sebenarnya chart tersebut sudah dilakukan rata-rata\n",
    "\n",
    "Coba kita cek"
   ]
  },
  {
   "cell_type": "code",
   "execution_count": null,
   "id": "wjIzbsILswdX",
   "metadata": {
    "colab": {
     "base_uri": "https://localhost:8080/"
    },
    "executionInfo": {
     "elapsed": 2,
     "status": "ok",
     "timestamp": 1675351266452,
     "user": {
      "displayName": "Muhammad Rois al haqq",
      "userId": "05628020901943186304"
     },
     "user_tz": -420
    },
    "id": "wjIzbsILswdX",
    "outputId": "21fbd123-3351-4b17-98ce-65eedc122f67"
   },
   "outputs": [],
   "source": [
    "mpg['mpg'].loc[mpg['model_year'] == 70]"
   ]
  },
  {
   "cell_type": "code",
   "execution_count": null,
   "id": "G47aalEdtJFq",
   "metadata": {
    "colab": {
     "base_uri": "https://localhost:8080/"
    },
    "executionInfo": {
     "elapsed": 349,
     "status": "ok",
     "timestamp": 1675351273694,
     "user": {
      "displayName": "Muhammad Rois al haqq",
      "userId": "05628020901943186304"
     },
     "user_tz": -420
    },
    "id": "G47aalEdtJFq",
    "outputId": "694f6bdb-b557-43d7-d0d7-4632bf978371"
   },
   "outputs": [],
   "source": [
    "mpg['mpg'].loc[mpg['model_year'] == 82]"
   ]
  },
  {
   "cell_type": "code",
   "execution_count": null,
   "id": "btyzi4rEt-Bo",
   "metadata": {
    "colab": {
     "base_uri": "https://localhost:8080/",
     "height": 488
    },
    "executionInfo": {
     "elapsed": 2,
     "status": "ok",
     "timestamp": 1675351347176,
     "user": {
      "displayName": "Muhammad Rois al haqq",
      "userId": "05628020901943186304"
     },
     "user_tz": -420
    },
    "id": "btyzi4rEt-Bo",
    "outputId": "4dfad82b-5a11-45c0-b0f9-8d108c879faf"
   },
   "outputs": [],
   "source": [
    "mpg[['mpg','model_year']].groupby(['model_year']).mean()"
   ]
  },
  {
   "cell_type": "code",
   "execution_count": null,
   "id": "XTGaDAoTulxl",
   "metadata": {
    "id": "XTGaDAoTulxl"
   },
   "outputs": [],
   "source": [
    "sns.lineplot(x=\"model_year\", y=\"mpg\", \n",
    "            data=mpg, \n",
    "            ci=None)\n",
    "\n",
    "plt.title(\"Mills per Gallon Over Time\", fontsize=13)"
   ]
  },
  {
   "cell_type": "markdown",
   "id": "00ad95b2",
   "metadata": {
    "id": "00ad95b2"
   },
   "source": [
    "Coba tampilkan mills per galon mobil yang diproduksi dari tahun ke tahun berdasarkan originnya, gunakan line chart dan variable 'model_year' 'mpg' dan 'origin'"
   ]
  },
  {
   "cell_type": "code",
   "execution_count": null,
   "id": "56481bf8",
   "metadata": {
    "colab": {
     "base_uri": "https://localhost:8080/",
     "height": 314
    },
    "executionInfo": {
     "elapsed": 599,
     "status": "ok",
     "timestamp": 1675350865348,
     "user": {
      "displayName": "Muhammad Rois al haqq",
      "userId": "05628020901943186304"
     },
     "user_tz": -420
    },
    "id": "56481bf8",
    "outputId": "79916016-0c89-4ffc-84c3-2331d1e3db16"
   },
   "outputs": [],
   "source": [
    "# plt.figure(figsize=(10, 6))\n",
    "sns.lineplot(x=\"model_year\", y=\"mpg\", \n",
    "            data=mpg,\n",
    "            style=\"origin\",\n",
    "            hue=\"origin\", \n",
    "            ci=None)\n",
    "\n",
    "plt.title(\"Mills per Gallon Over Time by Origin\", fontsize=13)"
   ]
  },
  {
   "cell_type": "markdown",
   "id": "0a3f43b9",
   "metadata": {
    "id": "0a3f43b9"
   },
   "source": [
    "Tambahkan marker dan ubah garisnya menjadi garis solid tanpa ada putus putus"
   ]
  },
  {
   "cell_type": "code",
   "execution_count": null,
   "id": "921e7ed3",
   "metadata": {
    "colab": {
     "base_uri": "https://localhost:8080/",
     "height": 314
    },
    "executionInfo": {
     "elapsed": 1452,
     "status": "ok",
     "timestamp": 1675350866797,
     "user": {
      "displayName": "Muhammad Rois al haqq",
      "userId": "05628020901943186304"
     },
     "user_tz": -420
    },
    "id": "921e7ed3",
    "outputId": "965b29d0-8965-4423-e4cc-6ed570ae90c8"
   },
   "outputs": [],
   "source": [
    "# plt.figure(figsize=(10, 6))\n",
    "sns.lineplot(x=\"model_year\", y=\"mpg\", \n",
    "            data=mpg,\n",
    "            style=\"origin\",\n",
    "            hue=\"origin\", \n",
    "            ci=None, \n",
    "            dashes=False, \n",
    "            markers=True)\n",
    "\n",
    "plt.title(\"Mills per Gallon Over Time by Origin\", fontsize=13)"
   ]
  },
  {
   "cell_type": "markdown",
   "id": "Vf8xbidR3ahi",
   "metadata": {
    "id": "Vf8xbidR3ahi"
   },
   "source": [
    "Insight:"
   ]
  },
  {
   "cell_type": "code",
   "execution_count": null,
   "id": "12bbed9a",
   "metadata": {
    "id": "12bbed9a"
   },
   "outputs": [],
   "source": []
  }
 ],
 "metadata": {
  "colab": {
   "provenance": []
  },
  "kernelspec": {
   "display_name": "Python 3 (ipykernel)",
   "language": "python",
   "name": "python3"
  },
  "language_info": {
   "codemirror_mode": {
    "name": "ipython",
    "version": 3
   },
   "file_extension": ".py",
   "mimetype": "text/x-python",
   "name": "python",
   "nbconvert_exporter": "python",
   "pygments_lexer": "ipython3",
   "version": "3.11.0"
  }
 },
 "nbformat": 4,
 "nbformat_minor": 5
}
