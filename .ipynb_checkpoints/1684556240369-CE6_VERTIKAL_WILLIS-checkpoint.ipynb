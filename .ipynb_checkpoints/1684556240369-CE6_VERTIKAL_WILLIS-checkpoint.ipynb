{
 "cells": [
  {
   "cell_type": "code",
   "execution_count": 1,
   "id": "75ebaeb0",
   "metadata": {
    "id": "75ebaeb0"
   },
   "outputs": [],
   "source": [
    "import pandas as pd\n",
    "import pandasql\n",
    "\n",
    "from pandasql import sqldf \n",
    "sql_run = lambda q: sqldf(q, globals())"
   ]
  },
  {
   "cell_type": "code",
   "execution_count": 2,
   "id": "142c51ce",
   "metadata": {
    "id": "142c51ce"
   },
   "outputs": [],
   "source": [
    "worldcity = pd.read_csv('https://raw.githubusercontent.com/vertikalwil/Data-Analyst/main/worldcities.csv', sep = ';', encoding = 'latin-1')\n",
    "uscity = pd.read_csv('https://raw.githubusercontent.com/vertikalwil/Data-Analyst/main/uscities.csv', sep = ';', encoding = 'latin-1')\n",
    "uscity.columns = ['city', 'state_id', 'state_name', 'county_fips', 'county_name',\n",
    "       'lat', 'lng', 'population', 'density', 'source', 'military',\n",
    "       'incorporated', 'timezone', 'ranking', 'zips', 'id']"
   ]
  },
  {
   "cell_type": "markdown",
   "id": "71458e3c",
   "metadata": {
    "id": "71458e3c"
   },
   "source": [
    "### Tutorial Bagaimana Cara Melakukan Query Menggunakan Pandasql"
   ]
  },
  {
   "cell_type": "markdown",
   "id": "2ad629e1",
   "metadata": {
    "id": "2ad629e1"
   },
   "source": [
    "Contoh: Bagaimana melakukan query untuk mendapatkan kota-kota dari worldcity yang merupakan:\n",
    "- berada di antara 33 - 40 'latitude'\n",
    "- berada di antara 100 - 140 'longitude'\n",
    "- merupakan kota 'primary' pada kolom 'capital'\n",
    "- memiliki populasi lebih dari 20 juta"
   ]
  },
  {
   "cell_type": "code",
   "execution_count": 3,
   "id": "bba7f207",
   "metadata": {},
   "outputs": [
    {
     "data": {
      "text/html": [
       "<div>\n",
       "<style scoped>\n",
       "    .dataframe tbody tr th:only-of-type {\n",
       "        vertical-align: middle;\n",
       "    }\n",
       "\n",
       "    .dataframe tbody tr th {\n",
       "        vertical-align: top;\n",
       "    }\n",
       "\n",
       "    .dataframe thead th {\n",
       "        text-align: right;\n",
       "    }\n",
       "</style>\n",
       "<table border=\"1\" class=\"dataframe\">\n",
       "  <thead>\n",
       "    <tr style=\"text-align: right;\">\n",
       "      <th></th>\n",
       "      <th>city</th>\n",
       "      <th>state_id</th>\n",
       "      <th>state_name</th>\n",
       "      <th>county_fips</th>\n",
       "      <th>county_name</th>\n",
       "      <th>lat</th>\n",
       "      <th>lng</th>\n",
       "      <th>population</th>\n",
       "      <th>density</th>\n",
       "      <th>source</th>\n",
       "      <th>military</th>\n",
       "      <th>incorporated</th>\n",
       "      <th>timezone</th>\n",
       "      <th>ranking</th>\n",
       "      <th>zips</th>\n",
       "      <th>id</th>\n",
       "    </tr>\n",
       "  </thead>\n",
       "  <tbody>\n",
       "    <tr>\n",
       "      <th>0</th>\n",
       "      <td>New York</td>\n",
       "      <td>NY</td>\n",
       "      <td>New York</td>\n",
       "      <td>36061</td>\n",
       "      <td>New York</td>\n",
       "      <td>40.6943</td>\n",
       "      <td>-73.9249</td>\n",
       "      <td>18713220</td>\n",
       "      <td>10715</td>\n",
       "      <td>polygon</td>\n",
       "      <td>False</td>\n",
       "      <td>True</td>\n",
       "      <td>America/New_York</td>\n",
       "      <td>1</td>\n",
       "      <td>11229 11226 11225 11224 11222 11221 11220 1138...</td>\n",
       "      <td>1840034016</td>\n",
       "    </tr>\n",
       "    <tr>\n",
       "      <th>1</th>\n",
       "      <td>Los Angeles</td>\n",
       "      <td>CA</td>\n",
       "      <td>California</td>\n",
       "      <td>6037</td>\n",
       "      <td>Los Angeles</td>\n",
       "      <td>34.1139</td>\n",
       "      <td>-118.4068</td>\n",
       "      <td>12750807</td>\n",
       "      <td>3276</td>\n",
       "      <td>polygon</td>\n",
       "      <td>False</td>\n",
       "      <td>True</td>\n",
       "      <td>America/Los_Angeles</td>\n",
       "      <td>1</td>\n",
       "      <td>90291 90293 90292 91316 91311 90037 90031 9000...</td>\n",
       "      <td>1840020491</td>\n",
       "    </tr>\n",
       "    <tr>\n",
       "      <th>2</th>\n",
       "      <td>Chicago</td>\n",
       "      <td>IL</td>\n",
       "      <td>Illinois</td>\n",
       "      <td>17031</td>\n",
       "      <td>Cook</td>\n",
       "      <td>41.8373</td>\n",
       "      <td>-87.6862</td>\n",
       "      <td>8604203</td>\n",
       "      <td>4574</td>\n",
       "      <td>polygon</td>\n",
       "      <td>False</td>\n",
       "      <td>True</td>\n",
       "      <td>America/Chicago</td>\n",
       "      <td>1</td>\n",
       "      <td>60018 60649 60641 60640 60643 60642 60645 6064...</td>\n",
       "      <td>1840000494</td>\n",
       "    </tr>\n",
       "    <tr>\n",
       "      <th>3</th>\n",
       "      <td>Miami</td>\n",
       "      <td>FL</td>\n",
       "      <td>Florida</td>\n",
       "      <td>12086</td>\n",
       "      <td>Miami-Dade</td>\n",
       "      <td>25.7839</td>\n",
       "      <td>-80.2102</td>\n",
       "      <td>6445545</td>\n",
       "      <td>5019</td>\n",
       "      <td>polygon</td>\n",
       "      <td>False</td>\n",
       "      <td>True</td>\n",
       "      <td>America/New_York</td>\n",
       "      <td>1</td>\n",
       "      <td>33129 33125 33126 33127 33128 33149 33144 3314...</td>\n",
       "      <td>1840015149</td>\n",
       "    </tr>\n",
       "    <tr>\n",
       "      <th>4</th>\n",
       "      <td>Dallas</td>\n",
       "      <td>TX</td>\n",
       "      <td>Texas</td>\n",
       "      <td>48113</td>\n",
       "      <td>Dallas</td>\n",
       "      <td>32.7936</td>\n",
       "      <td>-96.7662</td>\n",
       "      <td>5743938</td>\n",
       "      <td>1526</td>\n",
       "      <td>polygon</td>\n",
       "      <td>False</td>\n",
       "      <td>True</td>\n",
       "      <td>America/Chicago</td>\n",
       "      <td>1</td>\n",
       "      <td>75287 75098 75233 75254 75251 75252 75253 7503...</td>\n",
       "      <td>1840019440</td>\n",
       "    </tr>\n",
       "  </tbody>\n",
       "</table>\n",
       "</div>"
      ],
      "text/plain": [
       "          city state_id  state_name  county_fips  county_name      lat  \\\n",
       "0     New York       NY    New York        36061     New York  40.6943   \n",
       "1  Los Angeles       CA  California         6037  Los Angeles  34.1139   \n",
       "2      Chicago       IL    Illinois        17031         Cook  41.8373   \n",
       "3        Miami       FL     Florida        12086   Miami-Dade  25.7839   \n",
       "4       Dallas       TX       Texas        48113       Dallas  32.7936   \n",
       "\n",
       "        lng  population  density   source  military  incorporated  \\\n",
       "0  -73.9249    18713220    10715  polygon     False          True   \n",
       "1 -118.4068    12750807     3276  polygon     False          True   \n",
       "2  -87.6862     8604203     4574  polygon     False          True   \n",
       "3  -80.2102     6445545     5019  polygon     False          True   \n",
       "4  -96.7662     5743938     1526  polygon     False          True   \n",
       "\n",
       "              timezone  ranking  \\\n",
       "0     America/New_York        1   \n",
       "1  America/Los_Angeles        1   \n",
       "2      America/Chicago        1   \n",
       "3     America/New_York        1   \n",
       "4      America/Chicago        1   \n",
       "\n",
       "                                                zips          id  \n",
       "0  11229 11226 11225 11224 11222 11221 11220 1138...  1840034016  \n",
       "1  90291 90293 90292 91316 91311 90037 90031 9000...  1840020491  \n",
       "2  60018 60649 60641 60640 60643 60642 60645 6064...  1840000494  \n",
       "3  33129 33125 33126 33127 33128 33149 33144 3314...  1840015149  \n",
       "4  75287 75098 75233 75254 75251 75252 75253 7503...  1840019440  "
      ]
     },
     "execution_count": 3,
     "metadata": {},
     "output_type": "execute_result"
    }
   ],
   "source": [
    "uscity.head()"
   ]
  },
  {
   "cell_type": "code",
   "execution_count": 4,
   "id": "7c97be7f",
   "metadata": {
    "id": "7c97be7f",
    "outputId": "45c9cbe3-fe5b-4c63-ac93-df958618ff31"
   },
   "outputs": [
    {
     "data": {
      "text/html": [
       "<div>\n",
       "<style scoped>\n",
       "    .dataframe tbody tr th:only-of-type {\n",
       "        vertical-align: middle;\n",
       "    }\n",
       "\n",
       "    .dataframe tbody tr th {\n",
       "        vertical-align: top;\n",
       "    }\n",
       "\n",
       "    .dataframe thead th {\n",
       "        text-align: right;\n",
       "    }\n",
       "</style>\n",
       "<table border=\"1\" class=\"dataframe\">\n",
       "  <thead>\n",
       "    <tr style=\"text-align: right;\">\n",
       "      <th></th>\n",
       "      <th>city</th>\n",
       "      <th>lat</th>\n",
       "      <th>lng</th>\n",
       "      <th>country</th>\n",
       "      <th>iso2</th>\n",
       "      <th>iso3</th>\n",
       "      <th>capital</th>\n",
       "      <th>population</th>\n",
       "      <th>id</th>\n",
       "    </tr>\n",
       "  </thead>\n",
       "  <tbody>\n",
       "    <tr>\n",
       "      <th>0</th>\n",
       "      <td>Tokyo</td>\n",
       "      <td>35.6897</td>\n",
       "      <td>139.6922</td>\n",
       "      <td>Japan</td>\n",
       "      <td>JP</td>\n",
       "      <td>JPN</td>\n",
       "      <td>primary</td>\n",
       "      <td>37977000.0</td>\n",
       "      <td>1392685764</td>\n",
       "    </tr>\n",
       "    <tr>\n",
       "      <th>1</th>\n",
       "      <td>Jakarta</td>\n",
       "      <td>-6.2146</td>\n",
       "      <td>106.8451</td>\n",
       "      <td>Indonesia</td>\n",
       "      <td>ID</td>\n",
       "      <td>IDN</td>\n",
       "      <td>primary</td>\n",
       "      <td>34540000.0</td>\n",
       "      <td>1360771077</td>\n",
       "    </tr>\n",
       "    <tr>\n",
       "      <th>2</th>\n",
       "      <td>Delhi</td>\n",
       "      <td>28.6600</td>\n",
       "      <td>77.2300</td>\n",
       "      <td>India</td>\n",
       "      <td>IN</td>\n",
       "      <td>IND</td>\n",
       "      <td>admin</td>\n",
       "      <td>29617000.0</td>\n",
       "      <td>1356872604</td>\n",
       "    </tr>\n",
       "    <tr>\n",
       "      <th>3</th>\n",
       "      <td>Mumbai</td>\n",
       "      <td>18.9667</td>\n",
       "      <td>72.8333</td>\n",
       "      <td>India</td>\n",
       "      <td>IN</td>\n",
       "      <td>IND</td>\n",
       "      <td>admin</td>\n",
       "      <td>23355000.0</td>\n",
       "      <td>1356226629</td>\n",
       "    </tr>\n",
       "    <tr>\n",
       "      <th>4</th>\n",
       "      <td>Manila</td>\n",
       "      <td>14.6000</td>\n",
       "      <td>120.9833</td>\n",
       "      <td>Philippines</td>\n",
       "      <td>PH</td>\n",
       "      <td>PHL</td>\n",
       "      <td>primary</td>\n",
       "      <td>23088000.0</td>\n",
       "      <td>1608618140</td>\n",
       "    </tr>\n",
       "    <tr>\n",
       "      <th>...</th>\n",
       "      <td>...</td>\n",
       "      <td>...</td>\n",
       "      <td>...</td>\n",
       "      <td>...</td>\n",
       "      <td>...</td>\n",
       "      <td>...</td>\n",
       "      <td>...</td>\n",
       "      <td>...</td>\n",
       "      <td>...</td>\n",
       "    </tr>\n",
       "    <tr>\n",
       "      <th>40996</th>\n",
       "      <td>Tukchi</td>\n",
       "      <td>57.3670</td>\n",
       "      <td>139.5000</td>\n",
       "      <td>Russia</td>\n",
       "      <td>RU</td>\n",
       "      <td>RUS</td>\n",
       "      <td>NaN</td>\n",
       "      <td>10.0</td>\n",
       "      <td>1643472801</td>\n",
       "    </tr>\n",
       "    <tr>\n",
       "      <th>40997</th>\n",
       "      <td>Numto</td>\n",
       "      <td>63.6667</td>\n",
       "      <td>71.3333</td>\n",
       "      <td>Russia</td>\n",
       "      <td>RU</td>\n",
       "      <td>RUS</td>\n",
       "      <td>NaN</td>\n",
       "      <td>10.0</td>\n",
       "      <td>1643985006</td>\n",
       "    </tr>\n",
       "    <tr>\n",
       "      <th>40998</th>\n",
       "      <td>Nord</td>\n",
       "      <td>81.7166</td>\n",
       "      <td>-17.8000</td>\n",
       "      <td>Greenland</td>\n",
       "      <td>GL</td>\n",
       "      <td>GRL</td>\n",
       "      <td>NaN</td>\n",
       "      <td>10.0</td>\n",
       "      <td>1304217709</td>\n",
       "    </tr>\n",
       "    <tr>\n",
       "      <th>40999</th>\n",
       "      <td>Timmiarmiut</td>\n",
       "      <td>62.5333</td>\n",
       "      <td>-42.2167</td>\n",
       "      <td>Greenland</td>\n",
       "      <td>GL</td>\n",
       "      <td>GRL</td>\n",
       "      <td>NaN</td>\n",
       "      <td>10.0</td>\n",
       "      <td>1304206491</td>\n",
       "    </tr>\n",
       "    <tr>\n",
       "      <th>41000</th>\n",
       "      <td>Nordvik</td>\n",
       "      <td>74.0165</td>\n",
       "      <td>111.5100</td>\n",
       "      <td>Russia</td>\n",
       "      <td>RU</td>\n",
       "      <td>RUS</td>\n",
       "      <td>NaN</td>\n",
       "      <td>0.0</td>\n",
       "      <td>1643587468</td>\n",
       "    </tr>\n",
       "  </tbody>\n",
       "</table>\n",
       "<p>41001 rows × 9 columns</p>\n",
       "</div>"
      ],
      "text/plain": [
       "              city      lat       lng      country iso2 iso3  capital  \\\n",
       "0            Tokyo  35.6897  139.6922        Japan   JP  JPN  primary   \n",
       "1          Jakarta  -6.2146  106.8451    Indonesia   ID  IDN  primary   \n",
       "2            Delhi  28.6600   77.2300        India   IN  IND    admin   \n",
       "3           Mumbai  18.9667   72.8333        India   IN  IND    admin   \n",
       "4           Manila  14.6000  120.9833  Philippines   PH  PHL  primary   \n",
       "...            ...      ...       ...          ...  ...  ...      ...   \n",
       "40996       Tukchi  57.3670  139.5000       Russia   RU  RUS      NaN   \n",
       "40997        Numto  63.6667   71.3333       Russia   RU  RUS      NaN   \n",
       "40998         Nord  81.7166  -17.8000    Greenland   GL  GRL      NaN   \n",
       "40999  Timmiarmiut  62.5333  -42.2167    Greenland   GL  GRL      NaN   \n",
       "41000      Nordvik  74.0165  111.5100       Russia   RU  RUS      NaN   \n",
       "\n",
       "       population          id  \n",
       "0      37977000.0  1392685764  \n",
       "1      34540000.0  1360771077  \n",
       "2      29617000.0  1356872604  \n",
       "3      23355000.0  1356226629  \n",
       "4      23088000.0  1608618140  \n",
       "...           ...         ...  \n",
       "40996        10.0  1643472801  \n",
       "40997        10.0  1643985006  \n",
       "40998        10.0  1304217709  \n",
       "40999        10.0  1304206491  \n",
       "41000         0.0  1643587468  \n",
       "\n",
       "[41001 rows x 9 columns]"
      ]
     },
     "execution_count": 4,
     "metadata": {},
     "output_type": "execute_result"
    }
   ],
   "source": [
    "worldcity"
   ]
  },
  {
   "cell_type": "markdown",
   "id": "ff068191",
   "metadata": {
    "id": "ff068191"
   },
   "source": [
    "### Question 1 Point : 40"
   ]
  },
  {
   "cell_type": "markdown",
   "id": "29b7b49c",
   "metadata": {
    "id": "29b7b49c"
   },
   "source": [
    "Temukan kota-kota dari worldcity yang memenuhi semua kondisi ini:\n",
    "- populasi kota tersebut melebih populasi dari kota terbanyak penduduknya di negara Filipina. (Maksudnya: misalnya kota X adalah kota di Filipina yang paling banyak penduduknya. Kita mau daftar kota-kota yang jumlah penduduknya lebih besar dari kota X tersebut), DAN\n",
    "- ada kota di Amerika Serikat (uscity) dengan nama kota yang sama dengan kota-kota pilihan\n",
    "\n",
    "Keluarkan hanya nama kota-kota yang memenuhi 2 syarat di atas saja, tidak usah kolom-kolom lain.\n",
    "\n",
    "##### NOTE: Hilangkan duplicate rows.\n",
    "\n",
    "Lakukan hanya 1x query saja, jangan melakukan lebih dari 1 query"
   ]
  },
  {
   "cell_type": "code",
   "execution_count": 5,
   "id": "dd52d4f9",
   "metadata": {},
   "outputs": [
    {
     "data": {
      "text/plain": [
       "228"
      ]
     },
     "execution_count": 5,
     "metadata": {},
     "output_type": "execute_result"
    }
   ],
   "source": [
    "#There are many duplicates city in 'Phillipines', we need to sum all the city's populations first by grouping them.\n",
    "worldcity[worldcity.country == 'Philippines'].city.duplicated().sum()"
   ]
  },
  {
   "cell_type": "code",
   "execution_count": 6,
   "id": "1602d323",
   "metadata": {},
   "outputs": [
    {
     "data": {
      "text/html": [
       "<div>\n",
       "<style scoped>\n",
       "    .dataframe tbody tr th:only-of-type {\n",
       "        vertical-align: middle;\n",
       "    }\n",
       "\n",
       "    .dataframe tbody tr th {\n",
       "        vertical-align: top;\n",
       "    }\n",
       "\n",
       "    .dataframe thead th {\n",
       "        text-align: right;\n",
       "    }\n",
       "</style>\n",
       "<table border=\"1\" class=\"dataframe\">\n",
       "  <thead>\n",
       "    <tr style=\"text-align: right;\">\n",
       "      <th></th>\n",
       "      <th>kota</th>\n",
       "    </tr>\n",
       "  </thead>\n",
       "  <tbody>\n",
       "    <tr>\n",
       "      <th>0</th>\n",
       "      <td>Delhi</td>\n",
       "    </tr>\n",
       "  </tbody>\n",
       "</table>\n",
       "</div>"
      ],
      "text/plain": [
       "    kota\n",
       "0  Delhi"
      ]
     },
     "execution_count": 6,
     "metadata": {},
     "output_type": "execute_result"
    }
   ],
   "source": [
    "query = \"\"\"\n",
    "WITH tabel as \n",
    "(SELECT city as kota FROM worldcity\n",
    "WHERE population > (SELECT MAX(jumlah) FROM (SELECT SUM(population) as jumlah FROM worldcity WHERE country == 'Philippines' GROUP BY city)))\n",
    "\n",
    "SELECT kota from tabel\n",
    "WHERE kota IN (SELECT city FROM uscity)\n",
    "\"\"\"\n",
    "sql_run(query)"
   ]
  },
  {
   "cell_type": "code",
   "execution_count": 7,
   "id": "3bc0d078",
   "metadata": {},
   "outputs": [
    {
     "data": {
      "text/plain": [
       "2    Delhi\n",
       "Name: city, dtype: object"
      ]
     },
     "execution_count": 7,
     "metadata": {},
     "output_type": "execute_result"
    }
   ],
   "source": [
    "#check using python pandas to make sure.\n",
    "df = worldcity[worldcity.population > worldcity[worldcity.country == 'Philippines'].groupby('city')['population'].agg('sum').max()]\n",
    "df[df.city.isin(uscity.city)].city"
   ]
  },
  {
   "cell_type": "markdown",
   "id": "e344a517",
   "metadata": {
    "id": "e344a517"
   },
   "source": [
    "### Question 2 Point : 60"
   ]
  },
  {
   "cell_type": "markdown",
   "id": "adebb3e7",
   "metadata": {
    "id": "adebb3e7"
   },
   "source": [
    "Temukan kota-kota di Amerika Serikat (uscity) yang memenuhi semua kondisi berikut:\n",
    "- memiliki nama 'city' yang tidak sama dengan 'state_name', dan juga\n",
    "- memiliki populasi di atas rata-rata populasi kota-kota di 'county_name' Miami-Dade, dan juga\n",
    "- terdiri dari dua atau lebih kata (contoh: Los Angeles, New York)\n",
    "\n",
    "Output yang diharapkan hanya kolom 'city' saja, tidak usah kolom yang lain\n",
    "\n",
    "Lakukan hanya 1x query saja, jangan melakukan lebih dari 1 query"
   ]
  },
  {
   "cell_type": "code",
   "execution_count": 8,
   "id": "7daa6e77",
   "metadata": {},
   "outputs": [
    {
     "data": {
      "text/plain": [
       "0"
      ]
     },
     "execution_count": 8,
     "metadata": {},
     "output_type": "execute_result"
    }
   ],
   "source": [
    "#no duplicate city in 'Miami-Dade', Here we can use avg population directly without grouping the city first.\n",
    "uscity[uscity.county_name == 'Miami-Dade'].city.duplicated().sum()"
   ]
  },
  {
   "cell_type": "code",
   "execution_count": 9,
   "id": "4c760ecf",
   "metadata": {
    "id": "4c760ecf"
   },
   "outputs": [
    {
     "data": {
      "text/html": [
       "<div>\n",
       "<style scoped>\n",
       "    .dataframe tbody tr th:only-of-type {\n",
       "        vertical-align: middle;\n",
       "    }\n",
       "\n",
       "    .dataframe tbody tr th {\n",
       "        vertical-align: top;\n",
       "    }\n",
       "\n",
       "    .dataframe thead th {\n",
       "        text-align: right;\n",
       "    }\n",
       "</style>\n",
       "<table border=\"1\" class=\"dataframe\">\n",
       "  <thead>\n",
       "    <tr style=\"text-align: right;\">\n",
       "      <th></th>\n",
       "      <th>city</th>\n",
       "    </tr>\n",
       "  </thead>\n",
       "  <tbody>\n",
       "    <tr>\n",
       "      <th>0</th>\n",
       "      <td>Los Angeles</td>\n",
       "    </tr>\n",
       "    <tr>\n",
       "      <th>1</th>\n",
       "      <td>San Francisco</td>\n",
       "    </tr>\n",
       "    <tr>\n",
       "      <th>2</th>\n",
       "      <td>San Diego</td>\n",
       "    </tr>\n",
       "    <tr>\n",
       "      <th>3</th>\n",
       "      <td>Las Vegas</td>\n",
       "    </tr>\n",
       "    <tr>\n",
       "      <th>4</th>\n",
       "      <td>San Antonio</td>\n",
       "    </tr>\n",
       "    <tr>\n",
       "      <th>...</th>\n",
       "      <td>...</td>\n",
       "    </tr>\n",
       "    <tr>\n",
       "      <th>85</th>\n",
       "      <td>South Lyon</td>\n",
       "    </tr>\n",
       "    <tr>\n",
       "      <th>86</th>\n",
       "      <td>Lehigh Acres</td>\n",
       "    </tr>\n",
       "    <tr>\n",
       "      <th>87</th>\n",
       "      <td>East Los Angeles</td>\n",
       "    </tr>\n",
       "    <tr>\n",
       "      <th>88</th>\n",
       "      <td>St. George</td>\n",
       "    </tr>\n",
       "    <tr>\n",
       "      <th>89</th>\n",
       "      <td>Yuba City</td>\n",
       "    </tr>\n",
       "  </tbody>\n",
       "</table>\n",
       "<p>90 rows × 1 columns</p>\n",
       "</div>"
      ],
      "text/plain": [
       "                city\n",
       "0        Los Angeles\n",
       "1      San Francisco\n",
       "2          San Diego\n",
       "3          Las Vegas\n",
       "4        San Antonio\n",
       "..               ...\n",
       "85        South Lyon\n",
       "86      Lehigh Acres\n",
       "87  East Los Angeles\n",
       "88        St. George\n",
       "89         Yuba City\n",
       "\n",
       "[90 rows x 1 columns]"
      ]
     },
     "execution_count": 9,
     "metadata": {},
     "output_type": "execute_result"
    }
   ],
   "source": [
    "query = \"\"\"\n",
    "WITH tabel as \n",
    "(SELECT *, LENGTH(city) - LENGTH(replace(city,' ','')) as koma FROM uscity)\n",
    "SELECT city FROM tabel\n",
    "WHERE city != state_name AND\n",
    "population > (SELECT AVG(population) FROM uscity WHERE county_name = 'Miami-Dade') AND\n",
    "koma > 0\n",
    "\"\"\"\n",
    "soal2df = sql_run(query)\n",
    "soal2df"
   ]
  },
  {
   "cell_type": "code",
   "execution_count": 10,
   "id": "1ccd1107",
   "metadata": {},
   "outputs": [
    {
     "data": {
      "text/html": [
       "<div>\n",
       "<style scoped>\n",
       "    .dataframe tbody tr th:only-of-type {\n",
       "        vertical-align: middle;\n",
       "    }\n",
       "\n",
       "    .dataframe tbody tr th {\n",
       "        vertical-align: top;\n",
       "    }\n",
       "\n",
       "    .dataframe thead th {\n",
       "        text-align: right;\n",
       "    }\n",
       "</style>\n",
       "<table border=\"1\" class=\"dataframe\">\n",
       "  <thead>\n",
       "    <tr style=\"text-align: right;\">\n",
       "      <th></th>\n",
       "      <th>city</th>\n",
       "    </tr>\n",
       "  </thead>\n",
       "  <tbody>\n",
       "    <tr>\n",
       "      <th>0</th>\n",
       "      <td>Los Angeles</td>\n",
       "    </tr>\n",
       "    <tr>\n",
       "      <th>1</th>\n",
       "      <td>San Francisco</td>\n",
       "    </tr>\n",
       "    <tr>\n",
       "      <th>2</th>\n",
       "      <td>San Diego</td>\n",
       "    </tr>\n",
       "    <tr>\n",
       "      <th>3</th>\n",
       "      <td>Las Vegas</td>\n",
       "    </tr>\n",
       "    <tr>\n",
       "      <th>4</th>\n",
       "      <td>San Antonio</td>\n",
       "    </tr>\n",
       "    <tr>\n",
       "      <th>...</th>\n",
       "      <td>...</td>\n",
       "    </tr>\n",
       "    <tr>\n",
       "      <th>85</th>\n",
       "      <td>South Lyon</td>\n",
       "    </tr>\n",
       "    <tr>\n",
       "      <th>86</th>\n",
       "      <td>Lehigh Acres</td>\n",
       "    </tr>\n",
       "    <tr>\n",
       "      <th>87</th>\n",
       "      <td>East Los Angeles</td>\n",
       "    </tr>\n",
       "    <tr>\n",
       "      <th>88</th>\n",
       "      <td>St. George</td>\n",
       "    </tr>\n",
       "    <tr>\n",
       "      <th>89</th>\n",
       "      <td>Yuba City</td>\n",
       "    </tr>\n",
       "  </tbody>\n",
       "</table>\n",
       "<p>90 rows × 1 columns</p>\n",
       "</div>"
      ],
      "text/plain": [
       "                city\n",
       "0        Los Angeles\n",
       "1      San Francisco\n",
       "2          San Diego\n",
       "3          Las Vegas\n",
       "4        San Antonio\n",
       "..               ...\n",
       "85        South Lyon\n",
       "86      Lehigh Acres\n",
       "87  East Los Angeles\n",
       "88        St. George\n",
       "89         Yuba City\n",
       "\n",
       "[90 rows x 1 columns]"
      ]
     },
     "execution_count": 10,
     "metadata": {},
     "output_type": "execute_result"
    }
   ],
   "source": [
    "#check using python pandas to make sure.\n",
    "df = uscity[uscity.city != uscity.state_name]\n",
    "df = df[df.population > uscity[uscity.county_name == 'Miami-Dade'].population.mean()]\n",
    "df[df.city.str.count(\" \") > 0][['city']].reset_index(drop=True)"
   ]
  },
  {
   "cell_type": "code",
   "execution_count": 11,
   "id": "e31de553",
   "metadata": {},
   "outputs": [
    {
     "data": {
      "text/plain": [
       "True"
      ]
     },
     "execution_count": 11,
     "metadata": {},
     "output_type": "execute_result"
    }
   ],
   "source": [
    "df[df.city.str.count(\" \") > 0][['city']].reset_index(drop=True).equals(soal2df)"
   ]
  }
 ],
 "metadata": {
  "colab": {
   "provenance": []
  },
  "kernelspec": {
   "display_name": "Python 3 (ipykernel)",
   "language": "python",
   "name": "python3"
  },
  "language_info": {
   "codemirror_mode": {
    "name": "ipython",
    "version": 3
   },
   "file_extension": ".py",
   "mimetype": "text/x-python",
   "name": "python",
   "nbconvert_exporter": "python",
   "pygments_lexer": "ipython3",
   "version": "3.11.0"
  }
 },
 "nbformat": 4,
 "nbformat_minor": 5
}
