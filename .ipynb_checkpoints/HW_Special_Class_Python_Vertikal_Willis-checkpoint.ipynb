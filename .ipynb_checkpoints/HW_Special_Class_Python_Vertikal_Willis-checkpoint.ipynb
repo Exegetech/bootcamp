{
 "cells": [
  {
   "cell_type": "markdown",
   "id": "120a042c",
   "metadata": {
    "id": "120a042c"
   },
   "source": [
    "### Soal Nomor 1: Next Leap Year"
   ]
  },
  {
   "cell_type": "markdown",
   "id": "e230c384",
   "metadata": {
    "id": "e230c384"
   },
   "source": [
    "Diberikan input sebuah tahun. Return nilai tahun terdekat berikutnya yang merupakan tahun kabisat. Jika tahun input sudah tahun kabisat, maka return nilai tahun input tersebut. \n",
    "\n",
    "Contoh:\n",
    "- Input: 1999\n",
    "- Output: 2000\n",
    "\n",
    "Contoh:\n",
    "- Input: 2005\n",
    "- Output: 2008\n",
    "\n",
    "\n",
    "Contoh:\n",
    "- Input: 2004\n",
    "- Output: 2004"
   ]
  },
  {
   "cell_type": "code",
   "execution_count": 1,
   "id": "9bdf0eac",
   "metadata": {
    "id": "9bdf0eac"
   },
   "outputs": [],
   "source": [
    "def next_leap_year(year):\n",
    "    while True:\n",
    "        leap = False\n",
    "        if year % 4 == 0:\n",
    "            if year % 100 == 0:\n",
    "                if year % 400 == 0 :\n",
    "                    leap = True\n",
    "                else:\n",
    "                    leap = False\n",
    "            else:\n",
    "                leap = True\n",
    "        else:\n",
    "            leap = False\n",
    "        if leap:\n",
    "            return year\n",
    "        else:\n",
    "            year += 1"
   ]
  },
  {
   "cell_type": "code",
   "execution_count": 2,
   "id": "69d04c85",
   "metadata": {
    "id": "69d04c85"
   },
   "outputs": [
    {
     "name": "stdout",
     "output_type": "stream",
     "text": [
      "2000\n"
     ]
    }
   ],
   "source": [
    "print(next_leap_year(1999))"
   ]
  },
  {
   "cell_type": "code",
   "execution_count": 3,
   "id": "ba451e78",
   "metadata": {
    "id": "ba451e78"
   },
   "outputs": [
    {
     "name": "stdout",
     "output_type": "stream",
     "text": [
      "2008\n"
     ]
    }
   ],
   "source": [
    "print(next_leap_year(2005))"
   ]
  },
  {
   "cell_type": "code",
   "execution_count": 4,
   "id": "9486e144",
   "metadata": {
    "id": "9486e144"
   },
   "outputs": [
    {
     "name": "stdout",
     "output_type": "stream",
     "text": [
      "2004\n"
     ]
    }
   ],
   "source": [
    "print(next_leap_year(2004))"
   ]
  },
  {
   "cell_type": "code",
   "execution_count": 5,
   "id": "a11f4f16",
   "metadata": {
    "id": "a11f4f16"
   },
   "outputs": [
    {
     "name": "stdout",
     "output_type": "stream",
     "text": [
      "1904\n",
      "2000\n",
      "2004\n",
      "2008\n"
     ]
    }
   ],
   "source": [
    "### JANGAN HAPUS CELL INI\n",
    "\n",
    "print(next_leap_year(1899))\n",
    "print(next_leap_year(1999))\n",
    "print(next_leap_year(2004))\n",
    "print(next_leap_year(2005))"
   ]
  },
  {
   "cell_type": "markdown",
   "id": "9d127b6d",
   "metadata": {
    "id": "9d127b6d"
   },
   "source": [
    "### Soal Nomor 2: Hitung Berapa Banyak Bilangan tanpa bilangan '5' di digitnya"
   ]
  },
  {
   "cell_type": "markdown",
   "id": "7f028f50",
   "metadata": {
    "id": "7f028f50"
   },
   "source": [
    "Diberikan suatu input yaitu sebuah bilangan bulat 'n'.\n",
    "\n",
    "Hitunglah, terdapat berapa banyak bilangan bulat positif (dari 1 sampai 'n') yang tidak memiliki angka '5' di digitnya.\n",
    "\n",
    "Contoh:\n",
    "- Input: 10\n",
    "- Nah, dari 1, 2, 3, 4, 5, 6, 7, 8, 9, 10, ada 9 bilangan yang tidak memiliki '5' di digitnya\n",
    "- Output: 9\n",
    "\n",
    "Contoh:\n",
    "- Input: 30\n",
    "- Nah, dari angka 1 sampai 30, terdapat 3 bilangan yang memiliki angka '5' di digitnya, yaitu 5, 15, 25. Maka...\n",
    "- Output: 27"
   ]
  },
  {
   "cell_type": "code",
   "execution_count": 6,
   "id": "0a04d579",
   "metadata": {
    "id": "0a04d579"
   },
   "outputs": [],
   "source": [
    "def tanpa_bilangan_lima(n):\n",
    "    k = 0\n",
    "    for x in range(1,n+1):\n",
    "        if str(x).find('5') == -1:\n",
    "            k+=1\n",
    "    return k    "
   ]
  },
  {
   "cell_type": "code",
   "execution_count": 7,
   "id": "fa48ba7a",
   "metadata": {
    "id": "fa48ba7a"
   },
   "outputs": [
    {
     "data": {
      "text/plain": [
       "9"
      ]
     },
     "execution_count": 7,
     "metadata": {},
     "output_type": "execute_result"
    }
   ],
   "source": [
    "tanpa_bilangan_lima(10)"
   ]
  },
  {
   "cell_type": "code",
   "execution_count": 8,
   "id": "268e5bc6",
   "metadata": {
    "id": "268e5bc6"
   },
   "outputs": [
    {
     "data": {
      "text/plain": [
       "27"
      ]
     },
     "execution_count": 8,
     "metadata": {},
     "output_type": "execute_result"
    }
   ],
   "source": [
    "tanpa_bilangan_lima(30)"
   ]
  },
  {
   "cell_type": "code",
   "execution_count": 9,
   "id": "6d91cb2a",
   "metadata": {},
   "outputs": [
    {
     "data": {
      "text/plain": [
       "36"
      ]
     },
     "execution_count": 9,
     "metadata": {},
     "output_type": "execute_result"
    }
   ],
   "source": [
    "tanpa_bilangan_lima(40)"
   ]
  },
  {
   "cell_type": "code",
   "execution_count": 10,
   "id": "d1575c88",
   "metadata": {
    "id": "d1575c88"
   },
   "outputs": [
    {
     "name": "stdout",
     "output_type": "stream",
     "text": [
      "4\n",
      "11\n",
      "51\n"
     ]
    }
   ],
   "source": [
    "#### JANGAN HAPUS CELL INI\n",
    "\n",
    "print(tanpa_bilangan_lima(4))\n",
    "print(tanpa_bilangan_lima(12))\n",
    "print(tanpa_bilangan_lima(67))"
   ]
  },
  {
   "cell_type": "markdown",
   "id": "a13de226",
   "metadata": {
    "id": "a13de226"
   },
   "source": [
    "### Soal Nomor 3: Longest SubVector whose Sum is Divisible by 5"
   ]
  },
  {
   "cell_type": "markdown",
   "id": "47a30922",
   "metadata": {
    "id": "47a30922"
   },
   "source": [
    "Diberikan sebuah 1 Dimensional Numpy Array (Vector).\n",
    "\n",
    "Return subvector dari Numpy Array tersebut yang ***sum*** nya habis dibagi 5. "
   ]
  },
  {
   "cell_type": "markdown",
   "id": "57e30d90",
   "metadata": {
    "id": "57e30d90"
   },
   "source": [
    "Penjelasan subvector. \n",
    "\n",
    "Subvector adalah vector yang merupakan anggota dari vector utama. \n",
    "\n",
    "- ```['a','b','c']``` adalah subvector dari ```['a','b','c','d','e']```\n",
    "- ```['b','c','d']``` adalah subvector dari ```['a','b','c','d','e']```\n",
    "- ```['a','b','e']``` bukanlah subvector dari ```['a','b','c','d','e']``` karena ```'a','b', dan 'e'``` tidak saling berurutan. Ya, mereka tiga-tiganya merupakan anggota dari vector awal, tapi tidak berurutan, jadi INVALID\n",
    "\n",
    "\n",
    "\n",
    "Contoh: \n",
    "\n",
    "- Input: ```[1,2,3,4,5,6,7,8]```\n",
    "- Penjelasan: dari array di atas, jika kita memilih:\n",
    "    - ```[2,3]``` maka memang, sum dari ```[2,3]``` dapat dibagi oleh 5. Namun, itu bukanlah 'subvector' yang paling panjang yang sum nya bisa dibagi 5\n",
    "    - ```[1,2,3,4]``` maka memang, sum dari ```[1,2,3,4]```, yaitu 10, bisa dibagi oleh 5. Namun, apakah ini merupakan 'subvector' paling panjang yang sum nya bisa dibagi 5? \n",
    "    - ```[7,8]``` juga merupakan kandidat yang valid, tapi sayangnya bukan merupakan subvector yang paling panjang yang sum nya bisa dibagi 5\n",
    "    - ```[5,7,8]``` bukan merupakan kandidat yang valid, karena MESKIPUN sum nya bisa habis dibagi 5, tapi ```[5,7,8]``` bukanlah subvector dari vector awal kita (karena dia ngelongkap angka 6)\n",
    "    - ```[1,2,3,4,5]``` adalah subvector dari input yang paling panjang, yang sum nya habis dibagi 5\n",
    "    \n",
    "    \n"
   ]
  },
  {
   "cell_type": "code",
   "execution_count": 11,
   "id": "21922157",
   "metadata": {
    "id": "21922157"
   },
   "outputs": [],
   "source": [
    "def longest_subvector(vector):\n",
    "    hasil = []\n",
    "    for j in range(len(vector)+1):\n",
    "        for x in range(j, len(vector)+1):\n",
    "            if sum(vector[j:x+1]) % 5 == 0:\n",
    "                if len(vector[j:x+1]) > len(hasil):\n",
    "                    hasil = vector[j:x+1]\n",
    "    return hasil"
   ]
  },
  {
   "cell_type": "code",
   "execution_count": 12,
   "id": "62ff7e44",
   "metadata": {
    "id": "62ff7e44"
   },
   "outputs": [
    {
     "data": {
      "text/plain": [
       "[2, 3, 4, 5, 6, 7, 8]"
      ]
     },
     "execution_count": 12,
     "metadata": {},
     "output_type": "execute_result"
    }
   ],
   "source": [
    "longest_subvector([1,2,3,4,5,6,7,8])"
   ]
  },
  {
   "cell_type": "code",
   "execution_count": null,
   "id": "f4ce60c5",
   "metadata": {
    "id": "f4ce60c5"
   },
   "outputs": [],
   "source": []
  },
  {
   "cell_type": "code",
   "execution_count": null,
   "id": "3b6ea070",
   "metadata": {
    "id": "3b6ea070"
   },
   "outputs": [],
   "source": []
  },
  {
   "cell_type": "markdown",
   "id": "182312ac",
   "metadata": {
    "id": "182312ac"
   },
   "source": [
    "*****!!! JANGAN HAPUS 3 CELL DI BAWAH INI !!!*****"
   ]
  },
  {
   "cell_type": "code",
   "execution_count": 13,
   "id": "88204d78",
   "metadata": {
    "id": "88204d78"
   },
   "outputs": [
    {
     "data": {
      "text/plain": [
       "[2, 3, 4, 5, 6, 7, 8]"
      ]
     },
     "execution_count": 13,
     "metadata": {},
     "output_type": "execute_result"
    }
   ],
   "source": [
    "longest_subvector([1,2,3,4,5,6,7,8])"
   ]
  },
  {
   "cell_type": "code",
   "execution_count": 14,
   "id": "c7180fe1",
   "metadata": {
    "id": "c7180fe1"
   },
   "outputs": [
    {
     "data": {
      "text/plain": [
       "[-2, 2, -2, 2, -2, 2]"
      ]
     },
     "execution_count": 14,
     "metadata": {},
     "output_type": "execute_result"
    }
   ],
   "source": [
    "longest_subvector([-2,2,-2,2,-2,2,8])"
   ]
  },
  {
   "cell_type": "code",
   "execution_count": 15,
   "id": "aa115d8c",
   "metadata": {
    "id": "aa115d8c"
   },
   "outputs": [
    {
     "data": {
      "text/plain": [
       "[3, 5, 7, 9, 2, 4]"
      ]
     },
     "execution_count": 15,
     "metadata": {},
     "output_type": "execute_result"
    }
   ],
   "source": [
    "longest_subvector([1,3,5,7,9,2,4,6])"
   ]
  }
 ],
 "metadata": {
  "colab": {
   "provenance": []
  },
  "kernelspec": {
   "display_name": "Python 3 (ipykernel)",
   "language": "python",
   "name": "python3"
  },
  "language_info": {
   "codemirror_mode": {
    "name": "ipython",
    "version": 3
   },
   "file_extension": ".py",
   "mimetype": "text/x-python",
   "name": "python",
   "nbconvert_exporter": "python",
   "pygments_lexer": "ipython3",
   "version": "3.11.0"
  }
 },
 "nbformat": 4,
 "nbformat_minor": 5
}
