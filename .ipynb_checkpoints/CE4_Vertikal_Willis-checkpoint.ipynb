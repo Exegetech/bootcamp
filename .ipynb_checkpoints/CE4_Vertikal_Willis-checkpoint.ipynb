{
 "cells": [
  {
   "cell_type": "code",
   "execution_count": 1,
   "id": "0e3a1e16",
   "metadata": {},
   "outputs": [],
   "source": [
    "import numpy as np"
   ]
  },
  {
   "cell_type": "markdown",
   "id": "rgyHha0XVqWk",
   "metadata": {
    "id": "rgyHha0XVqWk"
   },
   "source": [
    "## Welcome to Coding challenge 4\n",
    "**Kamu hanya diminta untuk menyelesaikan 2 pertanyaan**\n"
   ]
  },
  {
   "cell_type": "markdown",
   "id": "yYHzZQQ7VqWo",
   "metadata": {
    "id": "yYHzZQQ7VqWo"
   },
   "source": [
    "### Question 1. \n",
    "### \"Shifting Members of an Array\""
   ]
  },
  {
   "cell_type": "markdown",
   "id": "HnQ0f2qIVqWp",
   "metadata": {
    "id": "HnQ0f2qIVqWp"
   },
   "source": [
    "Pada pertanyaan ini, kita ingin menggeser array ke kanan. seberapa banyak?\n",
    "Tergantung dari input\n",
    "\n",
    "##### Example 1:\n",
    "array = [1,2,3,4,5]\n",
    "steps = 3\n",
    "\n",
    "Kita harus menggeser array 3 langkah ke kanan.\n",
    "- Original array = [1,2,3,4,5]\n",
    "- Step 1 = [5,1,2,3,4]\n",
    "- Step 2 = [4,5,1,2,3]\n",
    "- Step 3 = [3,4,5,1,2]\n",
    "\n",
    "Answer = [3,4,5,1,2]\n",
    "\n",
    "##### Example 2:\n",
    "array = [1,2,3]\n",
    "steps = 5\n",
    "\n",
    "Kita harus menggeser array 3 langkah ke kanan.\n",
    "\n",
    "- Original array = [1,2,3]\n",
    "- Step 1 = [3,1,2]\n",
    "- Step 2 = [2,3,1]\n",
    "- Step 3 = [1,2,3]\n",
    "- Step 4 = [3,1,2]\n",
    "- Step 5 = [2,3,1]\n",
    "\n",
    "Answer = [2,3,1]"
   ]
  },
  {
   "cell_type": "code",
   "execution_count": 2,
   "id": "fJsYHD2DVqWq",
   "metadata": {
    "id": "fJsYHD2DVqWq"
   },
   "outputs": [],
   "source": [
    "### Write your function here ###\n",
    "def shift(array, steps):\n",
    "    return list(np.roll(array, steps))"
   ]
  },
  {
   "cell_type": "code",
   "execution_count": 3,
   "id": "qpDQUNijXhd7",
   "metadata": {
    "id": "qpDQUNijXhd7"
   },
   "outputs": [
    {
     "data": {
      "text/plain": [
       "[2, 3, 4, 5, 1]"
      ]
     },
     "execution_count": 3,
     "metadata": {},
     "output_type": "execute_result"
    }
   ],
   "source": [
    "shift([1,2,3,4,5],4)\n",
    "\n",
    "# Expected Output: [2, 3, 4, 5, 1]"
   ]
  },
  {
   "cell_type": "code",
   "execution_count": 4,
   "id": "jnr5znJUVqWr",
   "metadata": {
    "id": "jnr5znJUVqWr"
   },
   "outputs": [
    {
     "data": {
      "text/plain": [
       "['budi', 'charlie', 'doni', 'andi']"
      ]
     },
     "execution_count": 4,
     "metadata": {},
     "output_type": "execute_result"
    }
   ],
   "source": [
    "shift(['andi', 'budi', 'charlie', 'doni'],7)\n",
    "\n",
    "# Expected Output: ['budi', 'charlie', 'doni', 'andi']"
   ]
  },
  {
   "cell_type": "code",
   "execution_count": 5,
   "id": "LJaWSk-sW9ak",
   "metadata": {
    "id": "LJaWSk-sW9ak"
   },
   "outputs": [
    {
     "data": {
      "text/plain": [
       "['bing', '123', 'data', 'science', 'di', 'bim']"
      ]
     },
     "execution_count": 5,
     "metadata": {},
     "output_type": "execute_result"
    }
   ],
   "source": [
    "shift(['di', 'bim', 'bing', 123, 'data', 'science'],10)\n",
    "\n",
    "# Expected Output: ['bing', 123, 'data', 'science', 'di', 'bim']"
   ]
  },
  {
   "cell_type": "markdown",
   "id": "MRxU2bsKVqWs",
   "metadata": {
    "id": "MRxU2bsKVqWs"
   },
   "source": [
    "### Question 2. \n",
    "### \"Segitiga Paskal\""
   ]
  },
  {
   "cell_type": "markdown",
   "id": "hBUS1vtjVqWs",
   "metadata": {
    "id": "hBUS1vtjVqWs"
   },
   "source": [
    "Kita akan membuat segitiga paskal sebanyak n-baris. fungsi yang dibuat harus bernama ```pascal```. Apabila belum mengetahui apa itu segitiga paskal, silahkan lihat video:https://www.youtube.com/watch?v=1D3KsvfB8b0 dan baca https://www.mathsisfun.com/pascals-triangle.html\n",
    "\n",
    "##### Example 1:\n",
    "Input = 4,\n",
    "\n",
    "Answer = [1,4,6,4,1]\n",
    "\n",
    "##### Example 2:\n",
    "input = 3,\n",
    "\n",
    "Answer = [1,3,3,1]\n",
    "\n"
   ]
  },
  {
   "cell_type": "code",
   "execution_count": 6,
   "id": "2KDt9NdfVqWt",
   "metadata": {
    "id": "2KDt9NdfVqWt"
   },
   "outputs": [],
   "source": [
    "### Write your solution here ###\n",
    "def pascal(x):\n",
    "    prev = [1]\n",
    "    for i in range(1, x + 1):\n",
    "        curr = (prev[i - 1] * (x - i + 1)) // i\n",
    "        prev.append(curr)\n",
    "    return prev\n",
    " "
   ]
  },
  {
   "cell_type": "code",
   "execution_count": 7,
   "id": "oRbvyp8oYsrU",
   "metadata": {
    "id": "oRbvyp8oYsrU"
   },
   "outputs": [
    {
     "data": {
      "text/plain": [
       "[1, 3, 3, 1]"
      ]
     },
     "execution_count": 7,
     "metadata": {},
     "output_type": "execute_result"
    }
   ],
   "source": [
    "pascal(3)"
   ]
  },
  {
   "cell_type": "code",
   "execution_count": 8,
   "id": "f254184e",
   "metadata": {},
   "outputs": [
    {
     "data": {
      "text/plain": [
       "[1, 4, 6, 4, 1]"
      ]
     },
     "execution_count": 8,
     "metadata": {},
     "output_type": "execute_result"
    }
   ],
   "source": [
    "pascal(4)"
   ]
  },
  {
   "cell_type": "markdown",
   "id": "UJFlJIG_VqWv",
   "metadata": {
    "id": "UJFlJIG_VqWv"
   },
   "source": [
    "### Question 3"
   ]
  },
  {
   "cell_type": "markdown",
   "id": "q_vw2BtGVqWv",
   "metadata": {
    "id": "q_vw2BtGVqWv"
   },
   "source": [
    "### \"Jarak maksimal antara 3 titik\""
   ]
  },
  {
   "cell_type": "markdown",
   "id": "k6qNbSInVqWw",
   "metadata": {
    "id": "k6qNbSInVqWw"
   },
   "source": [
    "Terdapat 3 koordinat, tentukan jarak antar 2 titik mana yang memiliki jarak terjauh, dan berikan output jarak kedua titik tersebut. fungsi yang anda buat haurs bernama ```max_ditance```. titik koordinat pertama disebut 'A', titik kedua disebut'B', dan titik ketiga disebut 'C'\n",
    "\n",
    "##### Example:\n",
    "A = [1,2],\n",
    "B = [10,-10],\n",
    "C = [-3, 5]\n",
    "\n",
    "- The distance between AB = 15\n",
    "- The distance between BC = 19.8\n",
    "- The distance between AC = 5.0\n",
    "\n",
    "Answer = \"The point B,C are furthest apart with distance 19.8\"\n"
   ]
  },
  {
   "cell_type": "code",
   "execution_count": 9,
   "id": "la5u9FV4VqWw",
   "metadata": {
    "id": "la5u9FV4VqWw"
   },
   "outputs": [],
   "source": [
    "### Write your solution here ###\n",
    "def max_distance(A,B,C):\n",
    "    dictt = {'A':np.array(A), 'B':np.array(B), 'C':np.array(C)}\n",
    "    D = {'AB':1, 'BC':1, 'AC':1}\n",
    "    for x in D:\n",
    "        D[x] = (np.linalg.norm(dictt[x[0]]-dictt[x[1]]))\n",
    "    result = list(D.keys())[list(D.values()).index(max(D.values()))]\n",
    "    return f'The point {result[0]},{result[1]} are furthest apart with distance {round(max(D.values()), 1)}'"
   ]
  },
  {
   "cell_type": "code",
   "execution_count": 10,
   "id": "AOlaM0grVqWy",
   "metadata": {
    "id": "AOlaM0grVqWy"
   },
   "outputs": [
    {
     "data": {
      "text/plain": [
       "'The point B,C are furthest apart with distance 19.8'"
      ]
     },
     "execution_count": 10,
     "metadata": {},
     "output_type": "execute_result"
    }
   ],
   "source": [
    "max_distance([1,2],[10,-10],[-3,5])"
   ]
  }
 ],
 "metadata": {
  "colab": {
   "provenance": []
  },
  "kernelspec": {
   "display_name": "Python 3 (ipykernel)",
   "language": "python",
   "name": "python3"
  },
  "language_info": {
   "codemirror_mode": {
    "name": "ipython",
    "version": 3
   },
   "file_extension": ".py",
   "mimetype": "text/x-python",
   "name": "python",
   "nbconvert_exporter": "python",
   "pygments_lexer": "ipython3",
   "version": "3.11.0"
  }
 },
 "nbformat": 4,
 "nbformat_minor": 5
}
