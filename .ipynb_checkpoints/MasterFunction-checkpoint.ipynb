{
 "cells": [
  {
   "cell_type": "code",
   "execution_count": 1,
   "id": "45e0f9d8",
   "metadata": {},
   "outputs": [],
   "source": [
    "import pandas as pd"
   ]
  },
  {
   "cell_type": "code",
   "execution_count": 2,
   "id": "20217b26",
   "metadata": {},
   "outputs": [],
   "source": [
    "df = pd.read_csv('test.csv',delimiter=';')"
   ]
  },
  {
   "cell_type": "code",
   "execution_count": 95,
   "id": "5867d207",
   "metadata": {},
   "outputs": [],
   "source": [
    "def checkmissingvalue(df):\n",
    "    missing = []\n",
    "    total = []\n",
    "    for x in df.columns:\n",
    "        missing.append(df[x].isnull().sum())\n",
    "        total.append(len(df[x]))\n",
    "    daftar = pd.DataFrame([missing,total])  \n",
    "    daftar.loc[3,:] = daftar.apply(lambda x: x[0] / x[1])\n",
    "    daftar.columns = df.columns\n",
    "    daftar.index = ['TotalMissingVal','TotalVal','%MissingVal']\n",
    "    return daftar.convert_dtypes()"
   ]
  },
  {
   "cell_type": "code",
   "execution_count": 96,
   "id": "0b113bb2",
   "metadata": {},
   "outputs": [
    {
     "data": {
      "text/html": [
       "<div>\n",
       "<style scoped>\n",
       "    .dataframe tbody tr th:only-of-type {\n",
       "        vertical-align: middle;\n",
       "    }\n",
       "\n",
       "    .dataframe tbody tr th {\n",
       "        vertical-align: top;\n",
       "    }\n",
       "\n",
       "    .dataframe thead th {\n",
       "        text-align: right;\n",
       "    }\n",
       "</style>\n",
       "<table border=\"1\" class=\"dataframe\">\n",
       "  <thead>\n",
       "    <tr style=\"text-align: right;\">\n",
       "      <th></th>\n",
       "      <th>a</th>\n",
       "      <th>b</th>\n",
       "      <th>c</th>\n",
       "      <th>d</th>\n",
       "    </tr>\n",
       "  </thead>\n",
       "  <tbody>\n",
       "    <tr>\n",
       "      <th>TotalMissingVal</th>\n",
       "      <td>2.0</td>\n",
       "      <td>1.0</td>\n",
       "      <td>0</td>\n",
       "      <td>2.0</td>\n",
       "    </tr>\n",
       "    <tr>\n",
       "      <th>TotalVal</th>\n",
       "      <td>8.0</td>\n",
       "      <td>8.0</td>\n",
       "      <td>8</td>\n",
       "      <td>8.0</td>\n",
       "    </tr>\n",
       "    <tr>\n",
       "      <th>%MissingVal</th>\n",
       "      <td>0.25</td>\n",
       "      <td>0.125</td>\n",
       "      <td>0</td>\n",
       "      <td>0.25</td>\n",
       "    </tr>\n",
       "  </tbody>\n",
       "</table>\n",
       "</div>"
      ],
      "text/plain": [
       "                    a      b  c     d\n",
       "TotalMissingVal   2.0    1.0  0   2.0\n",
       "TotalVal          8.0    8.0  8   8.0\n",
       "%MissingVal      0.25  0.125  0  0.25"
      ]
     },
     "execution_count": 96,
     "metadata": {},
     "output_type": "execute_result"
    }
   ],
   "source": [
    "checkmissingvalue(df)"
   ]
  },
  {
   "cell_type": "code",
   "execution_count": 99,
   "id": "f00ae7ae",
   "metadata": {},
   "outputs": [],
   "source": [
    "def replacemissingvalue(df, dictt):\n",
    "    for x in dictt:\n",
    "        if dictt[x] == 'mean':\n",
    "            df[x].fillna(df[x].mean(), inplace=True)\n",
    "        else:\n",
    "            df[x].fillna(dictt[x], inplace=True)\n",
    "    return df.convert_dtypes()\n",
    "            "
   ]
  },
  {
   "cell_type": "code",
   "execution_count": 101,
   "id": "c7a31c70",
   "metadata": {},
   "outputs": [
    {
     "data": {
      "text/html": [
       "<div>\n",
       "<style scoped>\n",
       "    .dataframe tbody tr th:only-of-type {\n",
       "        vertical-align: middle;\n",
       "    }\n",
       "\n",
       "    .dataframe tbody tr th {\n",
       "        vertical-align: top;\n",
       "    }\n",
       "\n",
       "    .dataframe thead th {\n",
       "        text-align: right;\n",
       "    }\n",
       "</style>\n",
       "<table border=\"1\" class=\"dataframe\">\n",
       "  <thead>\n",
       "    <tr style=\"text-align: right;\">\n",
       "      <th></th>\n",
       "      <th>a</th>\n",
       "      <th>b</th>\n",
       "      <th>c</th>\n",
       "      <th>d</th>\n",
       "    </tr>\n",
       "  </thead>\n",
       "  <tbody>\n",
       "    <tr>\n",
       "      <th>0</th>\n",
       "      <td>1.0</td>\n",
       "      <td>p</td>\n",
       "      <td>4</td>\n",
       "      <td>5.0</td>\n",
       "    </tr>\n",
       "    <tr>\n",
       "      <th>1</th>\n",
       "      <td>23.0</td>\n",
       "      <td>2.0</td>\n",
       "      <td>4</td>\n",
       "      <td>5.0</td>\n",
       "    </tr>\n",
       "    <tr>\n",
       "      <th>2</th>\n",
       "      <td>4.0</td>\n",
       "      <td>3.0</td>\n",
       "      <td>4</td>\n",
       "      <td>5.0</td>\n",
       "    </tr>\n",
       "    <tr>\n",
       "      <th>3</th>\n",
       "      <td>5.0</td>\n",
       "      <td>3.0</td>\n",
       "      <td>4</td>\n",
       "      <td>x</td>\n",
       "    </tr>\n",
       "    <tr>\n",
       "      <th>4</th>\n",
       "      <td>6.0</td>\n",
       "      <td>3.0</td>\n",
       "      <td>4</td>\n",
       "      <td>5.0</td>\n",
       "    </tr>\n",
       "    <tr>\n",
       "      <th>5</th>\n",
       "      <td>7.833333</td>\n",
       "      <td>3.0</td>\n",
       "      <td>4</td>\n",
       "      <td>x</td>\n",
       "    </tr>\n",
       "    <tr>\n",
       "      <th>6</th>\n",
       "      <td>7.833333</td>\n",
       "      <td>3.0</td>\n",
       "      <td>4</td>\n",
       "      <td>5.0</td>\n",
       "    </tr>\n",
       "    <tr>\n",
       "      <th>7</th>\n",
       "      <td>8.0</td>\n",
       "      <td>3.0</td>\n",
       "      <td>5</td>\n",
       "      <td>5.0</td>\n",
       "    </tr>\n",
       "  </tbody>\n",
       "</table>\n",
       "</div>"
      ],
      "text/plain": [
       "          a    b  c    d\n",
       "0       1.0    p  4  5.0\n",
       "1      23.0  2.0  4  5.0\n",
       "2       4.0  3.0  4  5.0\n",
       "3       5.0  3.0  4    x\n",
       "4       6.0  3.0  4  5.0\n",
       "5  7.833333  3.0  4    x\n",
       "6  7.833333  3.0  4  5.0\n",
       "7       8.0  3.0  5  5.0"
      ]
     },
     "execution_count": 101,
     "metadata": {},
     "output_type": "execute_result"
    }
   ],
   "source": [
    "replacemissingvalue(df,{'a' : 'mean','b' : 'p','d':'x'})"
   ]
  },
  {
   "cell_type": "code",
   "execution_count": 113,
   "id": "83c243de",
   "metadata": {},
   "outputs": [],
   "source": [
    "def numericategoric(df):\n",
    "    num = len(df._get_numeric_data().columns)\n",
    "    cat = len(df.columns) - num\n",
    "    print(\"TotalNumericalData = \" + str(num))\n",
    "    print(\"TotalCategoricalData = \" + str(cat))\n",
    "    print(\"Numerical = \" + str(list(df._get_numeric_data().columns )))\n",
    "    print(\"Categorical = \" + str(list(df.drop(df._get_numeric_data().columns, axis=1).columns)))"
   ]
  },
  {
   "cell_type": "code",
   "execution_count": 114,
   "id": "f2d89c5b",
   "metadata": {},
   "outputs": [
    {
     "name": "stdout",
     "output_type": "stream",
     "text": [
      "TotalNumericalData = 2\n",
      "TotalCategoricalData = 2\n",
      "Numerical = ['a', 'c']\n",
      "Categorical = ['b', 'd']\n"
     ]
    }
   ],
   "source": [
    "numericategoric(df)"
   ]
  },
  {
   "cell_type": "code",
   "execution_count": null,
   "id": "3896e6a0",
   "metadata": {},
   "outputs": [],
   "source": [
    "def threshold_tuning(model, xtest, ytest, thres, fnvalues, fpvalues):\n",
    "    recall = []\n",
    "    precision = []\n",
    "    f1_score = []\n",
    "    accuracy_score = []\n",
    "    score = []\n",
    "    for k in thres:\n",
    "        y = pd.DataFrame(clf.predict_proba(xtest), columns=['%No','%Yes'])[['%No']]\n",
    "        y['prediction'] = y['%No'].apply(lambda x: 0 if x > k else 1 )\n",
    "        recall.append(metrics.recall_score(ytest, y.prediction))\n",
    "        precision.append(metrics.precision_score(ytest, y.prediction))\n",
    "        f1_score.append(metrics.f1_score(ytest, y.prediction))\n",
    "        accuracy_score.append(metrics.accuracy_score(ytest, y.prediction))\n",
    "        score.append((metrics.confusion_matrix(ytest, y.prediction)[1][0] * fnvalues) + (metrics.confusion_matrix(y_test, y.prediction)[0][1] * fpvalues))\n",
    "    df = pd.DataFrame([thres,recall,precision,f1_score,accuracy_score,score]).transpose()\n",
    "    df.columns = ['thresold','recall','precision','f1-score','accuracy-score','score']\n",
    "    return df"
   ]
  }
 ],
 "metadata": {
  "kernelspec": {
   "display_name": "Python 3 (ipykernel)",
   "language": "python",
   "name": "python3"
  },
  "language_info": {
   "codemirror_mode": {
    "name": "ipython",
    "version": 3
   },
   "file_extension": ".py",
   "mimetype": "text/x-python",
   "name": "python",
   "nbconvert_exporter": "python",
   "pygments_lexer": "ipython3",
   "version": "3.11.0"
  }
 },
 "nbformat": 4,
 "nbformat_minor": 5
}
