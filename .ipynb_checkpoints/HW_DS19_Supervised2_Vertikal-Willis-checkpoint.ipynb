{
 "cells": [
  {
   "cell_type": "markdown",
   "id": "832297bb",
   "metadata": {},
   "source": [
    "***\n",
    "> ## Data Introduction\n",
    "This dataset contain informations about customers that churn and not churned in a telco company. Below is the column informations:<Br>\n",
    "1.customerID = customer unique ID.<Br>\n",
    "2.gender = customer gender (M/F).<br>\n",
    "3.SeniorCitizen = old / young customer.<br>\n",
    "4.Partner = either a customer has partners or not.<br>\n",
    "5.Dependents = either a customer has dependents or not.<br>\n",
    "6.tenure = how long the customer subscribed (in month).<br>\n",
    "7.MultipleLines = either a customer using multiple lines or not (phone lines).<br>\n",
    "8.InternetService = either a customer using InternetService lines or not.<br>\n",
    "9.OnlineSecurity = either a customer has OnlineSecurity or not.<br>\n",
    "10.OnlineBackup = either a customer has OnlineBackup or not.<br>\n",
    "11.DeviceProtection = either a customer has DeviceProtection or not.<br>\n",
    "12.TechSupport = either a customer has TechSupport or not.<br>\n",
    "13.StreamingTV = either a customer has StreamingTV or not.<br>\n",
    "14.StreamingMovies = either a customer has StreamingMovie or not.<br>\n",
    "15.Contract = types of contract.<Br>\n",
    "16.PaperlessBilling = either a customer has PaperlessBilling or not.<br>\n",
    "17.PaymentMethod = types of the payment method.<Br>\n",
    "18.MonthlyCharges = how much charges per month.<br>\n",
    "19.TotalCharges = total charges of all time.<br>\n",
    "20.Churn = either a customer churn or not.<br>"
   ]
  },
  {
   "cell_type": "markdown",
   "id": "63afc6b5",
   "metadata": {},
   "source": [
    "## Data Preparation (Import libraries, data cleaning & data wrangling)\n",
    "***"
   ]
  },
  {
   "cell_type": "code",
   "execution_count": 1,
   "id": "81ccba4d",
   "metadata": {},
   "outputs": [],
   "source": [
    "import numpy as np\n",
    "import pandas as pd\n",
    "import matplotlib.pyplot as plt\n",
    "import seaborn as sns\n",
    "from sklearn import metrics\n",
    "from sklearn.model_selection import train_test_split\n",
    "sns.set()"
   ]
  },
  {
   "cell_type": "code",
   "execution_count": 2,
   "id": "a8abbf47",
   "metadata": {},
   "outputs": [
    {
     "data": {
      "text/html": [
       "<div>\n",
       "<style scoped>\n",
       "    .dataframe tbody tr th:only-of-type {\n",
       "        vertical-align: middle;\n",
       "    }\n",
       "\n",
       "    .dataframe tbody tr th {\n",
       "        vertical-align: top;\n",
       "    }\n",
       "\n",
       "    .dataframe thead th {\n",
       "        text-align: right;\n",
       "    }\n",
       "</style>\n",
       "<table border=\"1\" class=\"dataframe\">\n",
       "  <thead>\n",
       "    <tr style=\"text-align: right;\">\n",
       "      <th></th>\n",
       "      <th>customerID</th>\n",
       "      <th>gender</th>\n",
       "      <th>SeniorCitizen</th>\n",
       "      <th>Partner</th>\n",
       "      <th>Dependents</th>\n",
       "      <th>tenure</th>\n",
       "      <th>PhoneService</th>\n",
       "      <th>MultipleLines</th>\n",
       "      <th>InternetService</th>\n",
       "      <th>OnlineSecurity</th>\n",
       "      <th>...</th>\n",
       "      <th>DeviceProtection</th>\n",
       "      <th>TechSupport</th>\n",
       "      <th>StreamingTV</th>\n",
       "      <th>StreamingMovies</th>\n",
       "      <th>Contract</th>\n",
       "      <th>PaperlessBilling</th>\n",
       "      <th>PaymentMethod</th>\n",
       "      <th>MonthlyCharges</th>\n",
       "      <th>TotalCharges</th>\n",
       "      <th>Churn</th>\n",
       "    </tr>\n",
       "  </thead>\n",
       "  <tbody>\n",
       "    <tr>\n",
       "      <th>0</th>\n",
       "      <td>7590-VHVEG</td>\n",
       "      <td>Female</td>\n",
       "      <td>0</td>\n",
       "      <td>Yes</td>\n",
       "      <td>No</td>\n",
       "      <td>1</td>\n",
       "      <td>No</td>\n",
       "      <td>No phone service</td>\n",
       "      <td>DSL</td>\n",
       "      <td>No</td>\n",
       "      <td>...</td>\n",
       "      <td>No</td>\n",
       "      <td>No</td>\n",
       "      <td>No</td>\n",
       "      <td>No</td>\n",
       "      <td>Month-to-month</td>\n",
       "      <td>Yes</td>\n",
       "      <td>Electronic check</td>\n",
       "      <td>29.85</td>\n",
       "      <td>29.85</td>\n",
       "      <td>No</td>\n",
       "    </tr>\n",
       "    <tr>\n",
       "      <th>1</th>\n",
       "      <td>5575-GNVDE</td>\n",
       "      <td>Male</td>\n",
       "      <td>0</td>\n",
       "      <td>No</td>\n",
       "      <td>No</td>\n",
       "      <td>34</td>\n",
       "      <td>Yes</td>\n",
       "      <td>No</td>\n",
       "      <td>DSL</td>\n",
       "      <td>Yes</td>\n",
       "      <td>...</td>\n",
       "      <td>Yes</td>\n",
       "      <td>No</td>\n",
       "      <td>No</td>\n",
       "      <td>No</td>\n",
       "      <td>One year</td>\n",
       "      <td>No</td>\n",
       "      <td>Mailed check</td>\n",
       "      <td>56.95</td>\n",
       "      <td>1889.5</td>\n",
       "      <td>No</td>\n",
       "    </tr>\n",
       "    <tr>\n",
       "      <th>2</th>\n",
       "      <td>3668-QPYBK</td>\n",
       "      <td>Male</td>\n",
       "      <td>0</td>\n",
       "      <td>No</td>\n",
       "      <td>No</td>\n",
       "      <td>2</td>\n",
       "      <td>Yes</td>\n",
       "      <td>No</td>\n",
       "      <td>DSL</td>\n",
       "      <td>Yes</td>\n",
       "      <td>...</td>\n",
       "      <td>No</td>\n",
       "      <td>No</td>\n",
       "      <td>No</td>\n",
       "      <td>No</td>\n",
       "      <td>Month-to-month</td>\n",
       "      <td>Yes</td>\n",
       "      <td>Mailed check</td>\n",
       "      <td>53.85</td>\n",
       "      <td>108.15</td>\n",
       "      <td>Yes</td>\n",
       "    </tr>\n",
       "    <tr>\n",
       "      <th>3</th>\n",
       "      <td>7795-CFOCW</td>\n",
       "      <td>Male</td>\n",
       "      <td>0</td>\n",
       "      <td>No</td>\n",
       "      <td>No</td>\n",
       "      <td>45</td>\n",
       "      <td>No</td>\n",
       "      <td>No phone service</td>\n",
       "      <td>DSL</td>\n",
       "      <td>Yes</td>\n",
       "      <td>...</td>\n",
       "      <td>Yes</td>\n",
       "      <td>Yes</td>\n",
       "      <td>No</td>\n",
       "      <td>No</td>\n",
       "      <td>One year</td>\n",
       "      <td>No</td>\n",
       "      <td>Bank transfer (automatic)</td>\n",
       "      <td>42.30</td>\n",
       "      <td>1840.75</td>\n",
       "      <td>No</td>\n",
       "    </tr>\n",
       "    <tr>\n",
       "      <th>4</th>\n",
       "      <td>9237-HQITU</td>\n",
       "      <td>Female</td>\n",
       "      <td>0</td>\n",
       "      <td>No</td>\n",
       "      <td>No</td>\n",
       "      <td>2</td>\n",
       "      <td>Yes</td>\n",
       "      <td>No</td>\n",
       "      <td>Fiber optic</td>\n",
       "      <td>No</td>\n",
       "      <td>...</td>\n",
       "      <td>No</td>\n",
       "      <td>No</td>\n",
       "      <td>No</td>\n",
       "      <td>No</td>\n",
       "      <td>Month-to-month</td>\n",
       "      <td>Yes</td>\n",
       "      <td>Electronic check</td>\n",
       "      <td>70.70</td>\n",
       "      <td>151.65</td>\n",
       "      <td>Yes</td>\n",
       "    </tr>\n",
       "  </tbody>\n",
       "</table>\n",
       "<p>5 rows × 21 columns</p>\n",
       "</div>"
      ],
      "text/plain": [
       "   customerID  gender  SeniorCitizen Partner Dependents  tenure PhoneService  \\\n",
       "0  7590-VHVEG  Female              0     Yes         No       1           No   \n",
       "1  5575-GNVDE    Male              0      No         No      34          Yes   \n",
       "2  3668-QPYBK    Male              0      No         No       2          Yes   \n",
       "3  7795-CFOCW    Male              0      No         No      45           No   \n",
       "4  9237-HQITU  Female              0      No         No       2          Yes   \n",
       "\n",
       "      MultipleLines InternetService OnlineSecurity  ... DeviceProtection  \\\n",
       "0  No phone service             DSL             No  ...               No   \n",
       "1                No             DSL            Yes  ...              Yes   \n",
       "2                No             DSL            Yes  ...               No   \n",
       "3  No phone service             DSL            Yes  ...              Yes   \n",
       "4                No     Fiber optic             No  ...               No   \n",
       "\n",
       "  TechSupport StreamingTV StreamingMovies        Contract PaperlessBilling  \\\n",
       "0          No          No              No  Month-to-month              Yes   \n",
       "1          No          No              No        One year               No   \n",
       "2          No          No              No  Month-to-month              Yes   \n",
       "3         Yes          No              No        One year               No   \n",
       "4          No          No              No  Month-to-month              Yes   \n",
       "\n",
       "               PaymentMethod MonthlyCharges  TotalCharges Churn  \n",
       "0           Electronic check          29.85         29.85    No  \n",
       "1               Mailed check          56.95        1889.5    No  \n",
       "2               Mailed check          53.85        108.15   Yes  \n",
       "3  Bank transfer (automatic)          42.30       1840.75    No  \n",
       "4           Electronic check          70.70        151.65   Yes  \n",
       "\n",
       "[5 rows x 21 columns]"
      ]
     },
     "execution_count": 2,
     "metadata": {},
     "output_type": "execute_result"
    }
   ],
   "source": [
    "df = pd.read_csv('https://raw.githubusercontent.com/vertikalwil/Data-Analyst/main/datasets/telco.csv')\n",
    "df.head()"
   ]
  },
  {
   "cell_type": "code",
   "execution_count": 3,
   "id": "ecbda188",
   "metadata": {},
   "outputs": [
    {
     "name": "stdout",
     "output_type": "stream",
     "text": [
      "<class 'pandas.core.frame.DataFrame'>\n",
      "RangeIndex: 7043 entries, 0 to 7042\n",
      "Data columns (total 21 columns):\n",
      " #   Column            Non-Null Count  Dtype  \n",
      "---  ------            --------------  -----  \n",
      " 0   customerID        7043 non-null   object \n",
      " 1   gender            7043 non-null   object \n",
      " 2   SeniorCitizen     7043 non-null   int64  \n",
      " 3   Partner           7043 non-null   object \n",
      " 4   Dependents        7043 non-null   object \n",
      " 5   tenure            7043 non-null   int64  \n",
      " 6   PhoneService      7043 non-null   object \n",
      " 7   MultipleLines     7043 non-null   object \n",
      " 8   InternetService   7043 non-null   object \n",
      " 9   OnlineSecurity    7043 non-null   object \n",
      " 10  OnlineBackup      7043 non-null   object \n",
      " 11  DeviceProtection  7043 non-null   object \n",
      " 12  TechSupport       7043 non-null   object \n",
      " 13  StreamingTV       7043 non-null   object \n",
      " 14  StreamingMovies   7043 non-null   object \n",
      " 15  Contract          7043 non-null   object \n",
      " 16  PaperlessBilling  7043 non-null   object \n",
      " 17  PaymentMethod     7043 non-null   object \n",
      " 18  MonthlyCharges    7043 non-null   float64\n",
      " 19  TotalCharges      7043 non-null   object \n",
      " 20  Churn             7043 non-null   object \n",
      "dtypes: float64(1), int64(2), object(18)\n",
      "memory usage: 1.1+ MB\n"
     ]
    }
   ],
   "source": [
    "df.info()"
   ]
  },
  {
   "cell_type": "code",
   "execution_count": 4,
   "id": "1b75ce38",
   "metadata": {},
   "outputs": [
    {
     "name": "stdout",
     "output_type": "stream",
     "text": [
      "Unable to convert to float with this value :  \n",
      "Unable to convert to float with this value :  \n",
      "Unable to convert to float with this value :  \n",
      "Unable to convert to float with this value :  \n",
      "Unable to convert to float with this value :  \n",
      "Unable to convert to float with this value :  \n",
      "Unable to convert to float with this value :  \n",
      "Unable to convert to float with this value :  \n",
      "Unable to convert to float with this value :  \n",
      "Unable to convert to float with this value :  \n",
      "Unable to convert to float with this value :  \n"
     ]
    }
   ],
   "source": [
    "#there's a space in the total charges column.\n",
    "for x in df.TotalCharges:\n",
    "    try:\n",
    "        float(x)\n",
    "    except:\n",
    "        print(f'Unable to convert to float with this value : {x}')"
   ]
  },
  {
   "cell_type": "code",
   "execution_count": 5,
   "id": "465ac18e",
   "metadata": {},
   "outputs": [
    {
     "data": {
      "text/html": [
       "<div>\n",
       "<style scoped>\n",
       "    .dataframe tbody tr th:only-of-type {\n",
       "        vertical-align: middle;\n",
       "    }\n",
       "\n",
       "    .dataframe tbody tr th {\n",
       "        vertical-align: top;\n",
       "    }\n",
       "\n",
       "    .dataframe thead th {\n",
       "        text-align: right;\n",
       "    }\n",
       "</style>\n",
       "<table border=\"1\" class=\"dataframe\">\n",
       "  <thead>\n",
       "    <tr style=\"text-align: right;\">\n",
       "      <th></th>\n",
       "      <th>customerID</th>\n",
       "      <th>gender</th>\n",
       "      <th>SeniorCitizen</th>\n",
       "      <th>Partner</th>\n",
       "      <th>Dependents</th>\n",
       "      <th>tenure</th>\n",
       "      <th>PhoneService</th>\n",
       "      <th>MultipleLines</th>\n",
       "      <th>InternetService</th>\n",
       "      <th>OnlineSecurity</th>\n",
       "      <th>...</th>\n",
       "      <th>DeviceProtection</th>\n",
       "      <th>TechSupport</th>\n",
       "      <th>StreamingTV</th>\n",
       "      <th>StreamingMovies</th>\n",
       "      <th>Contract</th>\n",
       "      <th>PaperlessBilling</th>\n",
       "      <th>PaymentMethod</th>\n",
       "      <th>MonthlyCharges</th>\n",
       "      <th>TotalCharges</th>\n",
       "      <th>Churn</th>\n",
       "    </tr>\n",
       "  </thead>\n",
       "  <tbody>\n",
       "    <tr>\n",
       "      <th>488</th>\n",
       "      <td>4472-LVYGI</td>\n",
       "      <td>Female</td>\n",
       "      <td>0</td>\n",
       "      <td>Yes</td>\n",
       "      <td>Yes</td>\n",
       "      <td>0</td>\n",
       "      <td>No</td>\n",
       "      <td>No phone service</td>\n",
       "      <td>DSL</td>\n",
       "      <td>Yes</td>\n",
       "      <td>...</td>\n",
       "      <td>Yes</td>\n",
       "      <td>Yes</td>\n",
       "      <td>Yes</td>\n",
       "      <td>No</td>\n",
       "      <td>Two year</td>\n",
       "      <td>Yes</td>\n",
       "      <td>Bank transfer (automatic)</td>\n",
       "      <td>52.55</td>\n",
       "      <td></td>\n",
       "      <td>No</td>\n",
       "    </tr>\n",
       "    <tr>\n",
       "      <th>753</th>\n",
       "      <td>3115-CZMZD</td>\n",
       "      <td>Male</td>\n",
       "      <td>0</td>\n",
       "      <td>No</td>\n",
       "      <td>Yes</td>\n",
       "      <td>0</td>\n",
       "      <td>Yes</td>\n",
       "      <td>No</td>\n",
       "      <td>No</td>\n",
       "      <td>No internet service</td>\n",
       "      <td>...</td>\n",
       "      <td>No internet service</td>\n",
       "      <td>No internet service</td>\n",
       "      <td>No internet service</td>\n",
       "      <td>No internet service</td>\n",
       "      <td>Two year</td>\n",
       "      <td>No</td>\n",
       "      <td>Mailed check</td>\n",
       "      <td>20.25</td>\n",
       "      <td></td>\n",
       "      <td>No</td>\n",
       "    </tr>\n",
       "    <tr>\n",
       "      <th>936</th>\n",
       "      <td>5709-LVOEQ</td>\n",
       "      <td>Female</td>\n",
       "      <td>0</td>\n",
       "      <td>Yes</td>\n",
       "      <td>Yes</td>\n",
       "      <td>0</td>\n",
       "      <td>Yes</td>\n",
       "      <td>No</td>\n",
       "      <td>DSL</td>\n",
       "      <td>Yes</td>\n",
       "      <td>...</td>\n",
       "      <td>Yes</td>\n",
       "      <td>No</td>\n",
       "      <td>Yes</td>\n",
       "      <td>Yes</td>\n",
       "      <td>Two year</td>\n",
       "      <td>No</td>\n",
       "      <td>Mailed check</td>\n",
       "      <td>80.85</td>\n",
       "      <td></td>\n",
       "      <td>No</td>\n",
       "    </tr>\n",
       "    <tr>\n",
       "      <th>1082</th>\n",
       "      <td>4367-NUYAO</td>\n",
       "      <td>Male</td>\n",
       "      <td>0</td>\n",
       "      <td>Yes</td>\n",
       "      <td>Yes</td>\n",
       "      <td>0</td>\n",
       "      <td>Yes</td>\n",
       "      <td>Yes</td>\n",
       "      <td>No</td>\n",
       "      <td>No internet service</td>\n",
       "      <td>...</td>\n",
       "      <td>No internet service</td>\n",
       "      <td>No internet service</td>\n",
       "      <td>No internet service</td>\n",
       "      <td>No internet service</td>\n",
       "      <td>Two year</td>\n",
       "      <td>No</td>\n",
       "      <td>Mailed check</td>\n",
       "      <td>25.75</td>\n",
       "      <td></td>\n",
       "      <td>No</td>\n",
       "    </tr>\n",
       "    <tr>\n",
       "      <th>1340</th>\n",
       "      <td>1371-DWPAZ</td>\n",
       "      <td>Female</td>\n",
       "      <td>0</td>\n",
       "      <td>Yes</td>\n",
       "      <td>Yes</td>\n",
       "      <td>0</td>\n",
       "      <td>No</td>\n",
       "      <td>No phone service</td>\n",
       "      <td>DSL</td>\n",
       "      <td>Yes</td>\n",
       "      <td>...</td>\n",
       "      <td>Yes</td>\n",
       "      <td>Yes</td>\n",
       "      <td>Yes</td>\n",
       "      <td>No</td>\n",
       "      <td>Two year</td>\n",
       "      <td>No</td>\n",
       "      <td>Credit card (automatic)</td>\n",
       "      <td>56.05</td>\n",
       "      <td></td>\n",
       "      <td>No</td>\n",
       "    </tr>\n",
       "    <tr>\n",
       "      <th>3331</th>\n",
       "      <td>7644-OMVMY</td>\n",
       "      <td>Male</td>\n",
       "      <td>0</td>\n",
       "      <td>Yes</td>\n",
       "      <td>Yes</td>\n",
       "      <td>0</td>\n",
       "      <td>Yes</td>\n",
       "      <td>No</td>\n",
       "      <td>No</td>\n",
       "      <td>No internet service</td>\n",
       "      <td>...</td>\n",
       "      <td>No internet service</td>\n",
       "      <td>No internet service</td>\n",
       "      <td>No internet service</td>\n",
       "      <td>No internet service</td>\n",
       "      <td>Two year</td>\n",
       "      <td>No</td>\n",
       "      <td>Mailed check</td>\n",
       "      <td>19.85</td>\n",
       "      <td></td>\n",
       "      <td>No</td>\n",
       "    </tr>\n",
       "    <tr>\n",
       "      <th>3826</th>\n",
       "      <td>3213-VVOLG</td>\n",
       "      <td>Male</td>\n",
       "      <td>0</td>\n",
       "      <td>Yes</td>\n",
       "      <td>Yes</td>\n",
       "      <td>0</td>\n",
       "      <td>Yes</td>\n",
       "      <td>Yes</td>\n",
       "      <td>No</td>\n",
       "      <td>No internet service</td>\n",
       "      <td>...</td>\n",
       "      <td>No internet service</td>\n",
       "      <td>No internet service</td>\n",
       "      <td>No internet service</td>\n",
       "      <td>No internet service</td>\n",
       "      <td>Two year</td>\n",
       "      <td>No</td>\n",
       "      <td>Mailed check</td>\n",
       "      <td>25.35</td>\n",
       "      <td></td>\n",
       "      <td>No</td>\n",
       "    </tr>\n",
       "    <tr>\n",
       "      <th>4380</th>\n",
       "      <td>2520-SGTTA</td>\n",
       "      <td>Female</td>\n",
       "      <td>0</td>\n",
       "      <td>Yes</td>\n",
       "      <td>Yes</td>\n",
       "      <td>0</td>\n",
       "      <td>Yes</td>\n",
       "      <td>No</td>\n",
       "      <td>No</td>\n",
       "      <td>No internet service</td>\n",
       "      <td>...</td>\n",
       "      <td>No internet service</td>\n",
       "      <td>No internet service</td>\n",
       "      <td>No internet service</td>\n",
       "      <td>No internet service</td>\n",
       "      <td>Two year</td>\n",
       "      <td>No</td>\n",
       "      <td>Mailed check</td>\n",
       "      <td>20.00</td>\n",
       "      <td></td>\n",
       "      <td>No</td>\n",
       "    </tr>\n",
       "    <tr>\n",
       "      <th>5218</th>\n",
       "      <td>2923-ARZLG</td>\n",
       "      <td>Male</td>\n",
       "      <td>0</td>\n",
       "      <td>Yes</td>\n",
       "      <td>Yes</td>\n",
       "      <td>0</td>\n",
       "      <td>Yes</td>\n",
       "      <td>No</td>\n",
       "      <td>No</td>\n",
       "      <td>No internet service</td>\n",
       "      <td>...</td>\n",
       "      <td>No internet service</td>\n",
       "      <td>No internet service</td>\n",
       "      <td>No internet service</td>\n",
       "      <td>No internet service</td>\n",
       "      <td>One year</td>\n",
       "      <td>Yes</td>\n",
       "      <td>Mailed check</td>\n",
       "      <td>19.70</td>\n",
       "      <td></td>\n",
       "      <td>No</td>\n",
       "    </tr>\n",
       "    <tr>\n",
       "      <th>6670</th>\n",
       "      <td>4075-WKNIU</td>\n",
       "      <td>Female</td>\n",
       "      <td>0</td>\n",
       "      <td>Yes</td>\n",
       "      <td>Yes</td>\n",
       "      <td>0</td>\n",
       "      <td>Yes</td>\n",
       "      <td>Yes</td>\n",
       "      <td>DSL</td>\n",
       "      <td>No</td>\n",
       "      <td>...</td>\n",
       "      <td>Yes</td>\n",
       "      <td>Yes</td>\n",
       "      <td>Yes</td>\n",
       "      <td>No</td>\n",
       "      <td>Two year</td>\n",
       "      <td>No</td>\n",
       "      <td>Mailed check</td>\n",
       "      <td>73.35</td>\n",
       "      <td></td>\n",
       "      <td>No</td>\n",
       "    </tr>\n",
       "    <tr>\n",
       "      <th>6754</th>\n",
       "      <td>2775-SEFEE</td>\n",
       "      <td>Male</td>\n",
       "      <td>0</td>\n",
       "      <td>No</td>\n",
       "      <td>Yes</td>\n",
       "      <td>0</td>\n",
       "      <td>Yes</td>\n",
       "      <td>Yes</td>\n",
       "      <td>DSL</td>\n",
       "      <td>Yes</td>\n",
       "      <td>...</td>\n",
       "      <td>No</td>\n",
       "      <td>Yes</td>\n",
       "      <td>No</td>\n",
       "      <td>No</td>\n",
       "      <td>Two year</td>\n",
       "      <td>Yes</td>\n",
       "      <td>Bank transfer (automatic)</td>\n",
       "      <td>61.90</td>\n",
       "      <td></td>\n",
       "      <td>No</td>\n",
       "    </tr>\n",
       "  </tbody>\n",
       "</table>\n",
       "<p>11 rows × 21 columns</p>\n",
       "</div>"
      ],
      "text/plain": [
       "      customerID  gender  SeniorCitizen Partner Dependents  tenure  \\\n",
       "488   4472-LVYGI  Female              0     Yes        Yes       0   \n",
       "753   3115-CZMZD    Male              0      No        Yes       0   \n",
       "936   5709-LVOEQ  Female              0     Yes        Yes       0   \n",
       "1082  4367-NUYAO    Male              0     Yes        Yes       0   \n",
       "1340  1371-DWPAZ  Female              0     Yes        Yes       0   \n",
       "3331  7644-OMVMY    Male              0     Yes        Yes       0   \n",
       "3826  3213-VVOLG    Male              0     Yes        Yes       0   \n",
       "4380  2520-SGTTA  Female              0     Yes        Yes       0   \n",
       "5218  2923-ARZLG    Male              0     Yes        Yes       0   \n",
       "6670  4075-WKNIU  Female              0     Yes        Yes       0   \n",
       "6754  2775-SEFEE    Male              0      No        Yes       0   \n",
       "\n",
       "     PhoneService     MultipleLines InternetService       OnlineSecurity  ...  \\\n",
       "488            No  No phone service             DSL                  Yes  ...   \n",
       "753           Yes                No              No  No internet service  ...   \n",
       "936           Yes                No             DSL                  Yes  ...   \n",
       "1082          Yes               Yes              No  No internet service  ...   \n",
       "1340           No  No phone service             DSL                  Yes  ...   \n",
       "3331          Yes                No              No  No internet service  ...   \n",
       "3826          Yes               Yes              No  No internet service  ...   \n",
       "4380          Yes                No              No  No internet service  ...   \n",
       "5218          Yes                No              No  No internet service  ...   \n",
       "6670          Yes               Yes             DSL                   No  ...   \n",
       "6754          Yes               Yes             DSL                  Yes  ...   \n",
       "\n",
       "         DeviceProtection          TechSupport          StreamingTV  \\\n",
       "488                   Yes                  Yes                  Yes   \n",
       "753   No internet service  No internet service  No internet service   \n",
       "936                   Yes                   No                  Yes   \n",
       "1082  No internet service  No internet service  No internet service   \n",
       "1340                  Yes                  Yes                  Yes   \n",
       "3331  No internet service  No internet service  No internet service   \n",
       "3826  No internet service  No internet service  No internet service   \n",
       "4380  No internet service  No internet service  No internet service   \n",
       "5218  No internet service  No internet service  No internet service   \n",
       "6670                  Yes                  Yes                  Yes   \n",
       "6754                   No                  Yes                   No   \n",
       "\n",
       "          StreamingMovies  Contract PaperlessBilling  \\\n",
       "488                    No  Two year              Yes   \n",
       "753   No internet service  Two year               No   \n",
       "936                   Yes  Two year               No   \n",
       "1082  No internet service  Two year               No   \n",
       "1340                   No  Two year               No   \n",
       "3331  No internet service  Two year               No   \n",
       "3826  No internet service  Two year               No   \n",
       "4380  No internet service  Two year               No   \n",
       "5218  No internet service  One year              Yes   \n",
       "6670                   No  Two year               No   \n",
       "6754                   No  Two year              Yes   \n",
       "\n",
       "                  PaymentMethod MonthlyCharges  TotalCharges Churn  \n",
       "488   Bank transfer (automatic)          52.55                  No  \n",
       "753                Mailed check          20.25                  No  \n",
       "936                Mailed check          80.85                  No  \n",
       "1082               Mailed check          25.75                  No  \n",
       "1340    Credit card (automatic)          56.05                  No  \n",
       "3331               Mailed check          19.85                  No  \n",
       "3826               Mailed check          25.35                  No  \n",
       "4380               Mailed check          20.00                  No  \n",
       "5218               Mailed check          19.70                  No  \n",
       "6670               Mailed check          73.35                  No  \n",
       "6754  Bank transfer (automatic)          61.90                  No  \n",
       "\n",
       "[11 rows x 21 columns]"
      ]
     },
     "execution_count": 5,
     "metadata": {},
     "output_type": "execute_result"
    }
   ],
   "source": [
    "df[df.TotalCharges == ' ']"
   ]
  },
  {
   "cell_type": "markdown",
   "id": "1da539f4",
   "metadata": {},
   "source": [
    ">Berdasarkan data diatas, ketika TotalChargesnya kosong maka nilai tenure-nya juga 0. Ini menandakan bahwa rows tersebut merupakan customer yang baru bergabung (belum ada charges). Jumlahnya hanya 11 baris, let's drop it."
   ]
  },
  {
   "cell_type": "code",
   "execution_count": 6,
   "id": "532f6bc6",
   "metadata": {},
   "outputs": [],
   "source": [
    "df = df.drop(df.index[df.TotalCharges == ' ']).reset_index(drop=True)"
   ]
  },
  {
   "cell_type": "code",
   "execution_count": 7,
   "id": "f1cda12d",
   "metadata": {},
   "outputs": [
    {
     "data": {
      "text/plain": [
       "True"
      ]
     },
     "execution_count": 7,
     "metadata": {},
     "output_type": "execute_result"
    }
   ],
   "source": [
    "#check for duplicate data, if True then there's no duplicate.\n",
    "df.customerID.nunique() == len(df) "
   ]
  },
  {
   "cell_type": "code",
   "execution_count": 8,
   "id": "53ee311e",
   "metadata": {},
   "outputs": [],
   "source": [
    "#drop useless column\n",
    "df.drop(columns=['customerID'], inplace=True)"
   ]
  },
  {
   "cell_type": "code",
   "execution_count": 9,
   "id": "6ce7ecfa",
   "metadata": {},
   "outputs": [],
   "source": [
    "df.tenure = df.tenure.astype('int64')\n",
    "df.MonthlyCharges = df.MonthlyCharges.astype('float64')\n",
    "df.TotalCharges = df.TotalCharges.astype('float64')"
   ]
  },
  {
   "cell_type": "code",
   "execution_count": 10,
   "id": "31de7b5a",
   "metadata": {},
   "outputs": [
    {
     "name": "stdout",
     "output_type": "stream",
     "text": [
      "<class 'pandas.core.frame.DataFrame'>\n",
      "RangeIndex: 7032 entries, 0 to 7031\n",
      "Data columns (total 20 columns):\n",
      " #   Column            Non-Null Count  Dtype  \n",
      "---  ------            --------------  -----  \n",
      " 0   gender            7032 non-null   object \n",
      " 1   SeniorCitizen     7032 non-null   int64  \n",
      " 2   Partner           7032 non-null   object \n",
      " 3   Dependents        7032 non-null   object \n",
      " 4   tenure            7032 non-null   int64  \n",
      " 5   PhoneService      7032 non-null   object \n",
      " 6   MultipleLines     7032 non-null   object \n",
      " 7   InternetService   7032 non-null   object \n",
      " 8   OnlineSecurity    7032 non-null   object \n",
      " 9   OnlineBackup      7032 non-null   object \n",
      " 10  DeviceProtection  7032 non-null   object \n",
      " 11  TechSupport       7032 non-null   object \n",
      " 12  StreamingTV       7032 non-null   object \n",
      " 13  StreamingMovies   7032 non-null   object \n",
      " 14  Contract          7032 non-null   object \n",
      " 15  PaperlessBilling  7032 non-null   object \n",
      " 16  PaymentMethod     7032 non-null   object \n",
      " 17  MonthlyCharges    7032 non-null   float64\n",
      " 18  TotalCharges      7032 non-null   float64\n",
      " 19  Churn             7032 non-null   object \n",
      "dtypes: float64(2), int64(2), object(16)\n",
      "memory usage: 1.1+ MB\n"
     ]
    }
   ],
   "source": [
    "df.info()"
   ]
  },
  {
   "cell_type": "markdown",
   "id": "171c285a",
   "metadata": {},
   "source": [
    "> Columns non-null entry sudah sesuai data entry, yang artinya tidak ada missing value. Data type juga sudah sesuai."
   ]
  },
  {
   "cell_type": "code",
   "execution_count": 11,
   "id": "0ce06620",
   "metadata": {},
   "outputs": [],
   "source": [
    "def numericategoric(df):\n",
    "    num = len(df._get_numeric_data().columns)\n",
    "    cat = len(df.columns) - num\n",
    "    print(\"TotalNumericalData = \" + str(num))\n",
    "    print(\"TotalCategoricalData = \" + str(cat))\n",
    "    print(\"Numerical = \" + str(list(df._get_numeric_data().columns )))\n",
    "    print(\"Categorical = \" + str(list(df.drop(df._get_numeric_data().columns, axis=1).columns)))"
   ]
  },
  {
   "cell_type": "code",
   "execution_count": 12,
   "id": "02d0b87a",
   "metadata": {},
   "outputs": [
    {
     "name": "stdout",
     "output_type": "stream",
     "text": [
      "TotalNumericalData = 4\n",
      "TotalCategoricalData = 16\n",
      "Numerical = ['SeniorCitizen', 'tenure', 'MonthlyCharges', 'TotalCharges']\n",
      "Categorical = ['gender', 'Partner', 'Dependents', 'PhoneService', 'MultipleLines', 'InternetService', 'OnlineSecurity', 'OnlineBackup', 'DeviceProtection', 'TechSupport', 'StreamingTV', 'StreamingMovies', 'Contract', 'PaperlessBilling', 'PaymentMethod', 'Churn']\n"
     ]
    }
   ],
   "source": [
    "numericategoric(df)"
   ]
  },
  {
   "cell_type": "markdown",
   "id": "168ac32d",
   "metadata": {},
   "source": [
    ">Mayoritas kolom adalah categorical."
   ]
  },
  {
   "cell_type": "code",
   "execution_count": 13,
   "id": "7cbf84ed",
   "metadata": {},
   "outputs": [
    {
     "data": {
      "text/plain": [
       "No     0.734215\n",
       "Yes    0.265785\n",
       "Name: Churn, dtype: float64"
      ]
     },
     "execution_count": 13,
     "metadata": {},
     "output_type": "execute_result"
    }
   ],
   "source": [
    "df.Churn.value_counts(normalize=True)"
   ]
  },
  {
   "cell_type": "markdown",
   "id": "5833c7b3",
   "metadata": {},
   "source": [
    "> Dataset is imbalanced"
   ]
  },
  {
   "cell_type": "markdown",
   "id": "1692b69f",
   "metadata": {},
   "source": [
    "# FLOW PENGERJAAN & CONDITIONS"
   ]
  },
  {
   "cell_type": "markdown",
   "id": "5426cf3e",
   "metadata": {},
   "source": [
    "> Flow pengerjaan :<br>\n",
    "1.Data Pre-Processing 0 = Encode non numeric columns only.<br>\n",
    "2.Modelling 0 = Melakukan modelling Random Forest, Decision Tree dan XGBoost dan memilih threshold terbaik berdasarkan data Pre-Processing 0.<br>\n",
    "3.Data Pre-Processing 1 = Encode non numeric columns dan oversampling menggunakan SMOTE.<br>\n",
    "4.Modelling 1 = Melakukan modelling Random Forest, Decision Tree dan XGBoost dan memilih threshold terbaik berdasarkan data Pre-Processing 1.<br>\n",
    "5.Data Pre-Processing 2 = Encode non numeric columns dan undersampling.<br>\n",
    "6.Modelling 2 = Melakukan modelling Random Forest, Decision Tree dan XGBoost dan memilih threshold terbaik berdasarkan data Pre-Processing 2.<br>\n",
    "7.Data Pre-Processing 3 = Encode non numeric columns, feature creation and scaling.<br>\n",
    "8.Modelling 3 = Melakukan modelling Random Forest, Decision Tree dan XGBoost dan memilih threshold terbaik berdasarkan data Pre-Processing 3.<br>\n",
    "9.Kesimpulan = recap hasil dan memilih model terbaik."
   ]
  },
  {
   "cell_type": "markdown",
   "id": "b4daef1d",
   "metadata": {},
   "source": [
    ">Conditions :<br>\n",
    "1.Model menggunakan parameter default tanpa hyperparameter tuning.<br>\n",
    "2.Type I dan II errors (FP & FN) memiliki porsi efek yang sama kemudian data yang ada juga data imbalanced sehingga metric difokuskan menggunakan F1 Score."
   ]
  },
  {
   "cell_type": "code",
   "execution_count": 14,
   "id": "402ec49c",
   "metadata": {},
   "outputs": [],
   "source": [
    "def threshold_score(model, xtest, ytest, thres):\n",
    "    recall = []\n",
    "    precision = []\n",
    "    f1_score = []\n",
    "    rocauc_score = []\n",
    "    accuracy_score = []\n",
    "    for k in thres:\n",
    "        y = pd.DataFrame(model.predict_proba(xtest), columns=['%No','%Yes'])[['%Yes']]\n",
    "        y['prediction'] = y['%Yes'].apply(lambda x: 1 if x > k else 0 )\n",
    "        recall.append(metrics.recall_score(ytest, y.prediction))\n",
    "        precision.append(metrics.precision_score(ytest, y.prediction))\n",
    "        f1_score.append(metrics.f1_score(ytest, y.prediction))\n",
    "        rocauc_score.append(metrics.roc_auc_score(ytest, y.prediction))\n",
    "        accuracy_score.append(metrics.accuracy_score(ytest, y.prediction))\n",
    "    dfresult = pd.DataFrame([thres,recall,precision,f1_score,rocauc_score,accuracy_score]).transpose()\n",
    "    dfresult.columns = ['thresold','recall','precision','f1-score','RocAuc-score','Accuracy-score']\n",
    "    return dfresult"
   ]
  },
  {
   "cell_type": "markdown",
   "id": "07893471",
   "metadata": {},
   "source": [
    "> Fungsi diatas berguna untuk menampilkan berbagai hasil evaluasi metrics per threshold model sekaligus."
   ]
  },
  {
   "cell_type": "markdown",
   "id": "2666f505",
   "metadata": {},
   "source": [
    "## Data Pre-Processing 0\n",
    "***\n",
    "> Saya tidak akan melakukan banyak hal khusus, hanya encoding saja."
   ]
  },
  {
   "cell_type": "code",
   "execution_count": 15,
   "id": "a99b5b1d",
   "metadata": {},
   "outputs": [],
   "source": [
    "df1 = df.copy()"
   ]
  },
  {
   "cell_type": "code",
   "execution_count": 16,
   "id": "7d5f1be5",
   "metadata": {},
   "outputs": [],
   "source": [
    "convert = {\n",
    "    'Yes':1,\n",
    "    'No':0,\n",
    "    'No phone service':0,\n",
    "    'Male':1,\n",
    "    'Female':0,\n",
    "    'Month-to-month':1,\n",
    "    'One year':2,\n",
    "    'Two year':3,\n",
    "    'No internet service':0\n",
    "}\n",
    "kolom = ['gender','Partner','Dependents','PhoneService','MultipleLines','OnlineSecurity','OnlineBackup','DeviceProtection','TechSupport','StreamingTV','StreamingMovies','Contract','PaperlessBilling','Churn']"
   ]
  },
  {
   "cell_type": "code",
   "execution_count": 17,
   "id": "0617ac1f",
   "metadata": {},
   "outputs": [],
   "source": [
    "for x in kolom:\n",
    "    df1[x] = df[x].map(convert)"
   ]
  },
  {
   "cell_type": "code",
   "execution_count": 18,
   "id": "9cb1a9fd",
   "metadata": {},
   "outputs": [],
   "source": [
    "df1 = pd.get_dummies(df1, columns = ['InternetService', 'PaymentMethod'])"
   ]
  },
  {
   "cell_type": "markdown",
   "id": "607efa5a",
   "metadata": {},
   "source": [
    "> Rata-rata kategorikal kolom diconvert ke binary, sedangkan untuk contract dilakukan ordinal encoding. Untuk InternetService dan PaymentMethod dilakukan One Hot Encoding."
   ]
  },
  {
   "cell_type": "code",
   "execution_count": 19,
   "id": "80ea4efd",
   "metadata": {},
   "outputs": [],
   "source": [
    "x = df1.drop(columns=['Churn'])\n",
    "y = df1['Churn']"
   ]
  },
  {
   "cell_type": "code",
   "execution_count": 20,
   "id": "a9bc1be2",
   "metadata": {},
   "outputs": [],
   "source": [
    "x_pretrain, x_test, y_pretrain, y_test = train_test_split(x, y, test_size = 0.25, random_state=123)\n",
    "x_train, x_validation, y_train, y_validation = train_test_split(x_pretrain, y_pretrain, test_size = 0.20, random_state=123)"
   ]
  },
  {
   "cell_type": "markdown",
   "id": "f31a0d6f",
   "metadata": {},
   "source": [
    "## Random Forest Modelling 0\n",
    "***"
   ]
  },
  {
   "cell_type": "code",
   "execution_count": 21,
   "id": "89121565",
   "metadata": {},
   "outputs": [
    {
     "data": {
      "text/plain": [
       "RandomForestClassifier()"
      ]
     },
     "execution_count": 21,
     "metadata": {},
     "output_type": "execute_result"
    }
   ],
   "source": [
    "from sklearn.ensemble import RandomForestClassifier\n",
    "clfrf = RandomForestClassifier()\n",
    "clfrf.fit(x_train, y_train)"
   ]
  },
  {
   "cell_type": "code",
   "execution_count": 22,
   "id": "65b7d7be",
   "metadata": {},
   "outputs": [
    {
     "data": {
      "text/html": [
       "<div>\n",
       "<style scoped>\n",
       "    .dataframe tbody tr th:only-of-type {\n",
       "        vertical-align: middle;\n",
       "    }\n",
       "\n",
       "    .dataframe tbody tr th {\n",
       "        vertical-align: top;\n",
       "    }\n",
       "\n",
       "    .dataframe thead th {\n",
       "        text-align: right;\n",
       "    }\n",
       "</style>\n",
       "<table border=\"1\" class=\"dataframe\">\n",
       "  <thead>\n",
       "    <tr style=\"text-align: right;\">\n",
       "      <th></th>\n",
       "      <th>thresold</th>\n",
       "      <th>recall</th>\n",
       "      <th>precision</th>\n",
       "      <th>f1-score</th>\n",
       "      <th>RocAuc-score</th>\n",
       "      <th>Accuracy-score</th>\n",
       "    </tr>\n",
       "  </thead>\n",
       "  <tbody>\n",
       "    <tr>\n",
       "      <th>0</th>\n",
       "      <td>0.1</td>\n",
       "      <td>0.942748</td>\n",
       "      <td>0.378254</td>\n",
       "      <td>0.539891</td>\n",
       "      <td>0.715384</td>\n",
       "      <td>0.600948</td>\n",
       "    </tr>\n",
       "    <tr>\n",
       "      <th>1</th>\n",
       "      <td>0.2</td>\n",
       "      <td>0.820611</td>\n",
       "      <td>0.449791</td>\n",
       "      <td>0.581081</td>\n",
       "      <td>0.744479</td>\n",
       "      <td>0.706161</td>\n",
       "    </tr>\n",
       "    <tr>\n",
       "      <th>2</th>\n",
       "      <td>0.3</td>\n",
       "      <td>0.706107</td>\n",
       "      <td>0.521127</td>\n",
       "      <td>0.599676</td>\n",
       "      <td>0.745866</td>\n",
       "      <td>0.765877</td>\n",
       "    </tr>\n",
       "    <tr>\n",
       "      <th>3</th>\n",
       "      <td>0.4</td>\n",
       "      <td>0.576336</td>\n",
       "      <td>0.565543</td>\n",
       "      <td>0.570888</td>\n",
       "      <td>0.715028</td>\n",
       "      <td>0.784834</td>\n",
       "    </tr>\n",
       "    <tr>\n",
       "      <th>4</th>\n",
       "      <td>0.5</td>\n",
       "      <td>0.461832</td>\n",
       "      <td>0.636842</td>\n",
       "      <td>0.535398</td>\n",
       "      <td>0.687410</td>\n",
       "      <td>0.800948</td>\n",
       "    </tr>\n",
       "    <tr>\n",
       "      <th>5</th>\n",
       "      <td>0.6</td>\n",
       "      <td>0.354962</td>\n",
       "      <td>0.720930</td>\n",
       "      <td>0.475703</td>\n",
       "      <td>0.654782</td>\n",
       "      <td>0.805687</td>\n",
       "    </tr>\n",
       "    <tr>\n",
       "      <th>6</th>\n",
       "      <td>0.7</td>\n",
       "      <td>0.248092</td>\n",
       "      <td>0.764706</td>\n",
       "      <td>0.374640</td>\n",
       "      <td>0.611435</td>\n",
       "      <td>0.794313</td>\n",
       "    </tr>\n",
       "    <tr>\n",
       "      <th>7</th>\n",
       "      <td>0.8</td>\n",
       "      <td>0.141221</td>\n",
       "      <td>0.822222</td>\n",
       "      <td>0.241042</td>\n",
       "      <td>0.565567</td>\n",
       "      <td>0.779147</td>\n",
       "    </tr>\n",
       "    <tr>\n",
       "      <th>8</th>\n",
       "      <td>0.9</td>\n",
       "      <td>0.045802</td>\n",
       "      <td>1.000000</td>\n",
       "      <td>0.087591</td>\n",
       "      <td>0.522901</td>\n",
       "      <td>0.763033</td>\n",
       "    </tr>\n",
       "  </tbody>\n",
       "</table>\n",
       "</div>"
      ],
      "text/plain": [
       "   thresold    recall  precision  f1-score  RocAuc-score  Accuracy-score\n",
       "0       0.1  0.942748   0.378254  0.539891      0.715384        0.600948\n",
       "1       0.2  0.820611   0.449791  0.581081      0.744479        0.706161\n",
       "2       0.3  0.706107   0.521127  0.599676      0.745866        0.765877\n",
       "3       0.4  0.576336   0.565543  0.570888      0.715028        0.784834\n",
       "4       0.5  0.461832   0.636842  0.535398      0.687410        0.800948\n",
       "5       0.6  0.354962   0.720930  0.475703      0.654782        0.805687\n",
       "6       0.7  0.248092   0.764706  0.374640      0.611435        0.794313\n",
       "7       0.8  0.141221   0.822222  0.241042      0.565567        0.779147\n",
       "8       0.9  0.045802   1.000000  0.087591      0.522901        0.763033"
      ]
     },
     "execution_count": 22,
     "metadata": {},
     "output_type": "execute_result"
    }
   ],
   "source": [
    "threshold_score(clfrf, x_validation, y_validation, np.arange(0.1, 1, 0.1))"
   ]
  },
  {
   "cell_type": "code",
   "execution_count": 23,
   "id": "37992a27",
   "metadata": {},
   "outputs": [
    {
     "data": {
      "text/html": [
       "<div>\n",
       "<style scoped>\n",
       "    .dataframe tbody tr th:only-of-type {\n",
       "        vertical-align: middle;\n",
       "    }\n",
       "\n",
       "    .dataframe tbody tr th {\n",
       "        vertical-align: top;\n",
       "    }\n",
       "\n",
       "    .dataframe thead th {\n",
       "        text-align: right;\n",
       "    }\n",
       "</style>\n",
       "<table border=\"1\" class=\"dataframe\">\n",
       "  <thead>\n",
       "    <tr style=\"text-align: right;\">\n",
       "      <th></th>\n",
       "      <th>thresold</th>\n",
       "      <th>recall</th>\n",
       "      <th>precision</th>\n",
       "      <th>f1-score</th>\n",
       "      <th>RocAuc-score</th>\n",
       "      <th>Accuracy-score</th>\n",
       "    </tr>\n",
       "  </thead>\n",
       "  <tbody>\n",
       "    <tr>\n",
       "      <th>0</th>\n",
       "      <td>0.3</td>\n",
       "      <td>0.692748</td>\n",
       "      <td>0.57619</td>\n",
       "      <td>0.629116</td>\n",
       "      <td>0.738189</td>\n",
       "      <td>0.756542</td>\n",
       "    </tr>\n",
       "  </tbody>\n",
       "</table>\n",
       "</div>"
      ],
      "text/plain": [
       "   thresold    recall  precision  f1-score  RocAuc-score  Accuracy-score\n",
       "0       0.3  0.692748    0.57619  0.629116      0.738189        0.756542"
      ]
     },
     "execution_count": 23,
     "metadata": {},
     "output_type": "execute_result"
    }
   ],
   "source": [
    "threshold_score(clfrf, x_test, y_test, [0.3])"
   ]
  },
  {
   "cell_type": "code",
   "execution_count": 24,
   "id": "a35f5f18",
   "metadata": {},
   "outputs": [
    {
     "data": {
      "text/html": [
       "<div>\n",
       "<style scoped>\n",
       "    .dataframe tbody tr th:only-of-type {\n",
       "        vertical-align: middle;\n",
       "    }\n",
       "\n",
       "    .dataframe tbody tr th {\n",
       "        vertical-align: top;\n",
       "    }\n",
       "\n",
       "    .dataframe thead th {\n",
       "        text-align: right;\n",
       "    }\n",
       "</style>\n",
       "<table border=\"1\" class=\"dataframe\">\n",
       "  <thead>\n",
       "    <tr style=\"text-align: right;\">\n",
       "      <th></th>\n",
       "      <th>thresold</th>\n",
       "      <th>recall</th>\n",
       "      <th>precision</th>\n",
       "      <th>f1-score</th>\n",
       "      <th>RocAuc-score</th>\n",
       "      <th>Accuracy-score</th>\n",
       "    </tr>\n",
       "  </thead>\n",
       "  <tbody>\n",
       "    <tr>\n",
       "      <th>0</th>\n",
       "      <td>0.3</td>\n",
       "      <td>1.0</td>\n",
       "      <td>0.956714</td>\n",
       "      <td>0.977878</td>\n",
       "      <td>0.992188</td>\n",
       "      <td>0.988386</td>\n",
       "    </tr>\n",
       "  </tbody>\n",
       "</table>\n",
       "</div>"
      ],
      "text/plain": [
       "   thresold  recall  precision  f1-score  RocAuc-score  Accuracy-score\n",
       "0       0.3     1.0   0.956714  0.977878      0.992188        0.988386"
      ]
     },
     "execution_count": 24,
     "metadata": {},
     "output_type": "execute_result"
    }
   ],
   "source": [
    "threshold_score(clfrf, x_train, y_train, [0.3])"
   ]
  },
  {
   "cell_type": "markdown",
   "id": "687c6c87",
   "metadata": {},
   "source": [
    "> Saat dituning didapat bahwa threshold 0.3 merupakan nilai f1-score terbaik. Saat di test data didapat hasil f1 score sebesar 0.62 dan ditrain 0.97. Dalam kondisi sekarang, model ini termasuk overfitting."
   ]
  },
  {
   "cell_type": "code",
   "execution_count": 25,
   "id": "ca3a81e3",
   "metadata": {},
   "outputs": [],
   "source": [
    "status = 'Encoding Only'\n",
    "dfhasil = pd.DataFrame(['RandomForest',float(threshold_score(clfrf, x_test, y_test, [0.3])['f1-score']), float(threshold_score(clfrf, x_test, y_test, [0.3])['thresold']),status]).transpose()"
   ]
  },
  {
   "cell_type": "markdown",
   "id": "f7513f2e",
   "metadata": {},
   "source": [
    "## Decision Tree Modelling 0\n",
    "***"
   ]
  },
  {
   "cell_type": "code",
   "execution_count": 26,
   "id": "0ade4e19",
   "metadata": {},
   "outputs": [
    {
     "data": {
      "text/plain": [
       "DecisionTreeClassifier()"
      ]
     },
     "execution_count": 26,
     "metadata": {},
     "output_type": "execute_result"
    }
   ],
   "source": [
    "from sklearn.tree import DecisionTreeClassifier\n",
    "clfdt = DecisionTreeClassifier()\n",
    "clfdt.fit(x_train, y_train)"
   ]
  },
  {
   "cell_type": "code",
   "execution_count": 27,
   "id": "6eb57172",
   "metadata": {},
   "outputs": [
    {
     "data": {
      "text/html": [
       "<div>\n",
       "<style scoped>\n",
       "    .dataframe tbody tr th:only-of-type {\n",
       "        vertical-align: middle;\n",
       "    }\n",
       "\n",
       "    .dataframe tbody tr th {\n",
       "        vertical-align: top;\n",
       "    }\n",
       "\n",
       "    .dataframe thead th {\n",
       "        text-align: right;\n",
       "    }\n",
       "</style>\n",
       "<table border=\"1\" class=\"dataframe\">\n",
       "  <thead>\n",
       "    <tr style=\"text-align: right;\">\n",
       "      <th></th>\n",
       "      <th>thresold</th>\n",
       "      <th>recall</th>\n",
       "      <th>precision</th>\n",
       "      <th>f1-score</th>\n",
       "      <th>RocAuc-score</th>\n",
       "      <th>Accuracy-score</th>\n",
       "    </tr>\n",
       "  </thead>\n",
       "  <tbody>\n",
       "    <tr>\n",
       "      <th>0</th>\n",
       "      <td>0.1</td>\n",
       "      <td>0.442748</td>\n",
       "      <td>0.454902</td>\n",
       "      <td>0.448743</td>\n",
       "      <td>0.633732</td>\n",
       "      <td>0.729858</td>\n",
       "    </tr>\n",
       "    <tr>\n",
       "      <th>1</th>\n",
       "      <td>0.2</td>\n",
       "      <td>0.442748</td>\n",
       "      <td>0.454902</td>\n",
       "      <td>0.448743</td>\n",
       "      <td>0.633732</td>\n",
       "      <td>0.729858</td>\n",
       "    </tr>\n",
       "    <tr>\n",
       "      <th>2</th>\n",
       "      <td>0.3</td>\n",
       "      <td>0.442748</td>\n",
       "      <td>0.454902</td>\n",
       "      <td>0.448743</td>\n",
       "      <td>0.633732</td>\n",
       "      <td>0.729858</td>\n",
       "    </tr>\n",
       "    <tr>\n",
       "      <th>3</th>\n",
       "      <td>0.4</td>\n",
       "      <td>0.442748</td>\n",
       "      <td>0.454902</td>\n",
       "      <td>0.448743</td>\n",
       "      <td>0.633732</td>\n",
       "      <td>0.729858</td>\n",
       "    </tr>\n",
       "    <tr>\n",
       "      <th>4</th>\n",
       "      <td>0.5</td>\n",
       "      <td>0.442748</td>\n",
       "      <td>0.456693</td>\n",
       "      <td>0.449612</td>\n",
       "      <td>0.634363</td>\n",
       "      <td>0.730806</td>\n",
       "    </tr>\n",
       "    <tr>\n",
       "      <th>5</th>\n",
       "      <td>0.6</td>\n",
       "      <td>0.442748</td>\n",
       "      <td>0.456693</td>\n",
       "      <td>0.449612</td>\n",
       "      <td>0.634363</td>\n",
       "      <td>0.730806</td>\n",
       "    </tr>\n",
       "    <tr>\n",
       "      <th>6</th>\n",
       "      <td>0.7</td>\n",
       "      <td>0.442748</td>\n",
       "      <td>0.456693</td>\n",
       "      <td>0.449612</td>\n",
       "      <td>0.634363</td>\n",
       "      <td>0.730806</td>\n",
       "    </tr>\n",
       "    <tr>\n",
       "      <th>7</th>\n",
       "      <td>0.8</td>\n",
       "      <td>0.442748</td>\n",
       "      <td>0.456693</td>\n",
       "      <td>0.449612</td>\n",
       "      <td>0.634363</td>\n",
       "      <td>0.730806</td>\n",
       "    </tr>\n",
       "    <tr>\n",
       "      <th>8</th>\n",
       "      <td>0.9</td>\n",
       "      <td>0.442748</td>\n",
       "      <td>0.456693</td>\n",
       "      <td>0.449612</td>\n",
       "      <td>0.634363</td>\n",
       "      <td>0.730806</td>\n",
       "    </tr>\n",
       "  </tbody>\n",
       "</table>\n",
       "</div>"
      ],
      "text/plain": [
       "   thresold    recall  precision  f1-score  RocAuc-score  Accuracy-score\n",
       "0       0.1  0.442748   0.454902  0.448743      0.633732        0.729858\n",
       "1       0.2  0.442748   0.454902  0.448743      0.633732        0.729858\n",
       "2       0.3  0.442748   0.454902  0.448743      0.633732        0.729858\n",
       "3       0.4  0.442748   0.454902  0.448743      0.633732        0.729858\n",
       "4       0.5  0.442748   0.456693  0.449612      0.634363        0.730806\n",
       "5       0.6  0.442748   0.456693  0.449612      0.634363        0.730806\n",
       "6       0.7  0.442748   0.456693  0.449612      0.634363        0.730806\n",
       "7       0.8  0.442748   0.456693  0.449612      0.634363        0.730806\n",
       "8       0.9  0.442748   0.456693  0.449612      0.634363        0.730806"
      ]
     },
     "execution_count": 27,
     "metadata": {},
     "output_type": "execute_result"
    }
   ],
   "source": [
    "threshold_score(clfdt, x_validation, y_validation, np.arange(0.1, 1, 0.1))"
   ]
  },
  {
   "cell_type": "code",
   "execution_count": 28,
   "id": "530b103e",
   "metadata": {},
   "outputs": [
    {
     "data": {
      "text/html": [
       "<div>\n",
       "<style scoped>\n",
       "    .dataframe tbody tr th:only-of-type {\n",
       "        vertical-align: middle;\n",
       "    }\n",
       "\n",
       "    .dataframe tbody tr th {\n",
       "        vertical-align: top;\n",
       "    }\n",
       "\n",
       "    .dataframe thead th {\n",
       "        text-align: right;\n",
       "    }\n",
       "</style>\n",
       "<table border=\"1\" class=\"dataframe\">\n",
       "  <thead>\n",
       "    <tr style=\"text-align: right;\">\n",
       "      <th></th>\n",
       "      <th>thresold</th>\n",
       "      <th>recall</th>\n",
       "      <th>precision</th>\n",
       "      <th>f1-score</th>\n",
       "      <th>RocAuc-score</th>\n",
       "      <th>Accuracy-score</th>\n",
       "    </tr>\n",
       "  </thead>\n",
       "  <tbody>\n",
       "    <tr>\n",
       "      <th>0</th>\n",
       "      <td>0.5</td>\n",
       "      <td>0.46374</td>\n",
       "      <td>0.535242</td>\n",
       "      <td>0.496933</td>\n",
       "      <td>0.646376</td>\n",
       "      <td>0.720137</td>\n",
       "    </tr>\n",
       "  </tbody>\n",
       "</table>\n",
       "</div>"
      ],
      "text/plain": [
       "   thresold   recall  precision  f1-score  RocAuc-score  Accuracy-score\n",
       "0       0.5  0.46374   0.535242  0.496933      0.646376        0.720137"
      ]
     },
     "execution_count": 28,
     "metadata": {},
     "output_type": "execute_result"
    }
   ],
   "source": [
    "threshold_score(clfdt, x_test, y_test, [0.5])"
   ]
  },
  {
   "cell_type": "code",
   "execution_count": 29,
   "id": "304e0eae",
   "metadata": {},
   "outputs": [
    {
     "data": {
      "text/html": [
       "<div>\n",
       "<style scoped>\n",
       "    .dataframe tbody tr th:only-of-type {\n",
       "        vertical-align: middle;\n",
       "    }\n",
       "\n",
       "    .dataframe tbody tr th {\n",
       "        vertical-align: top;\n",
       "    }\n",
       "\n",
       "    .dataframe thead th {\n",
       "        text-align: right;\n",
       "    }\n",
       "</style>\n",
       "<table border=\"1\" class=\"dataframe\">\n",
       "  <thead>\n",
       "    <tr style=\"text-align: right;\">\n",
       "      <th></th>\n",
       "      <th>thresold</th>\n",
       "      <th>recall</th>\n",
       "      <th>precision</th>\n",
       "      <th>f1-score</th>\n",
       "      <th>RocAuc-score</th>\n",
       "      <th>Accuracy-score</th>\n",
       "    </tr>\n",
       "  </thead>\n",
       "  <tbody>\n",
       "    <tr>\n",
       "      <th>0</th>\n",
       "      <td>0.5</td>\n",
       "      <td>0.99446</td>\n",
       "      <td>1.0</td>\n",
       "      <td>0.997222</td>\n",
       "      <td>0.99723</td>\n",
       "      <td>0.998578</td>\n",
       "    </tr>\n",
       "  </tbody>\n",
       "</table>\n",
       "</div>"
      ],
      "text/plain": [
       "   thresold   recall  precision  f1-score  RocAuc-score  Accuracy-score\n",
       "0       0.5  0.99446        1.0  0.997222       0.99723        0.998578"
      ]
     },
     "execution_count": 29,
     "metadata": {},
     "output_type": "execute_result"
    }
   ],
   "source": [
    "threshold_score(clfdt, x_train, y_train, [0.5])"
   ]
  },
  {
   "cell_type": "markdown",
   "id": "66de6f4b",
   "metadata": {},
   "source": [
    ">Untuk decision tree, bisa dilihat saat kita melakukan threshold tuning didapat banyak nilai metrics yang sama. Ini artinya model banyak memprediksi nilai probabilitas 100% atau 0% ditambah nilai f1-score nya pada training data sangat bagus dan jelek di test data. Model ini mengalami overfitting yang cukup parah."
   ]
  },
  {
   "cell_type": "code",
   "execution_count": 30,
   "id": "8da18664",
   "metadata": {},
   "outputs": [],
   "source": [
    "dfhasil = pd.concat([dfhasil,pd.DataFrame(['DecisionTree',float(threshold_score(clfdt, x_test, y_test, [0.5])['f1-score']), float(threshold_score(clfdt, x_test, y_test, [0.5])['thresold']),status]).transpose()])"
   ]
  },
  {
   "cell_type": "markdown",
   "id": "e10077bf",
   "metadata": {},
   "source": [
    "## XGBoost Modelling 0\n",
    "***"
   ]
  },
  {
   "cell_type": "code",
   "execution_count": 31,
   "id": "ecabfadf",
   "metadata": {},
   "outputs": [
    {
     "data": {
      "text/plain": [
       "XGBClassifier(base_score=None, booster=None, callbacks=None,\n",
       "              colsample_bylevel=None, colsample_bynode=None,\n",
       "              colsample_bytree=None, early_stopping_rounds=None,\n",
       "              enable_categorical=False, eval_metric=None, feature_types=None,\n",
       "              gamma=None, gpu_id=None, grow_policy=None, importance_type=None,\n",
       "              interaction_constraints=None, learning_rate=None, max_bin=None,\n",
       "              max_cat_threshold=None, max_cat_to_onehot=None,\n",
       "              max_delta_step=None, max_depth=None, max_leaves=None,\n",
       "              min_child_weight=None, missing=nan, monotone_constraints=None,\n",
       "              n_estimators=100, n_jobs=None, num_parallel_tree=None,\n",
       "              predictor=None, random_state=None, ...)"
      ]
     },
     "execution_count": 31,
     "metadata": {},
     "output_type": "execute_result"
    }
   ],
   "source": [
    "from xgboost import XGBClassifier \n",
    "from xgboost import plot_importance\n",
    "clfxg = XGBClassifier()\n",
    "clfxg.fit(x_train, y_train)"
   ]
  },
  {
   "cell_type": "code",
   "execution_count": 32,
   "id": "a913e1f1",
   "metadata": {},
   "outputs": [
    {
     "data": {
      "text/html": [
       "<div>\n",
       "<style scoped>\n",
       "    .dataframe tbody tr th:only-of-type {\n",
       "        vertical-align: middle;\n",
       "    }\n",
       "\n",
       "    .dataframe tbody tr th {\n",
       "        vertical-align: top;\n",
       "    }\n",
       "\n",
       "    .dataframe thead th {\n",
       "        text-align: right;\n",
       "    }\n",
       "</style>\n",
       "<table border=\"1\" class=\"dataframe\">\n",
       "  <thead>\n",
       "    <tr style=\"text-align: right;\">\n",
       "      <th></th>\n",
       "      <th>thresold</th>\n",
       "      <th>recall</th>\n",
       "      <th>precision</th>\n",
       "      <th>f1-score</th>\n",
       "      <th>RocAuc-score</th>\n",
       "      <th>Accuracy-score</th>\n",
       "    </tr>\n",
       "  </thead>\n",
       "  <tbody>\n",
       "    <tr>\n",
       "      <th>0</th>\n",
       "      <td>0.1</td>\n",
       "      <td>0.866412</td>\n",
       "      <td>0.414234</td>\n",
       "      <td>0.560494</td>\n",
       "      <td>0.730810</td>\n",
       "      <td>0.662559</td>\n",
       "    </tr>\n",
       "    <tr>\n",
       "      <th>1</th>\n",
       "      <td>0.2</td>\n",
       "      <td>0.748092</td>\n",
       "      <td>0.482759</td>\n",
       "      <td>0.586826</td>\n",
       "      <td>0.741637</td>\n",
       "      <td>0.738389</td>\n",
       "    </tr>\n",
       "    <tr>\n",
       "      <th>2</th>\n",
       "      <td>0.3</td>\n",
       "      <td>0.687023</td>\n",
       "      <td>0.545455</td>\n",
       "      <td>0.608108</td>\n",
       "      <td>0.748934</td>\n",
       "      <td>0.780095</td>\n",
       "    </tr>\n",
       "    <tr>\n",
       "      <th>3</th>\n",
       "      <td>0.4</td>\n",
       "      <td>0.599237</td>\n",
       "      <td>0.585821</td>\n",
       "      <td>0.592453</td>\n",
       "      <td>0.729631</td>\n",
       "      <td>0.795261</td>\n",
       "    </tr>\n",
       "    <tr>\n",
       "      <th>4</th>\n",
       "      <td>0.5</td>\n",
       "      <td>0.496183</td>\n",
       "      <td>0.622010</td>\n",
       "      <td>0.552017</td>\n",
       "      <td>0.698281</td>\n",
       "      <td>0.800000</td>\n",
       "    </tr>\n",
       "    <tr>\n",
       "      <th>5</th>\n",
       "      <td>0.6</td>\n",
       "      <td>0.385496</td>\n",
       "      <td>0.647436</td>\n",
       "      <td>0.483254</td>\n",
       "      <td>0.658070</td>\n",
       "      <td>0.795261</td>\n",
       "    </tr>\n",
       "    <tr>\n",
       "      <th>6</th>\n",
       "      <td>0.7</td>\n",
       "      <td>0.270992</td>\n",
       "      <td>0.657407</td>\n",
       "      <td>0.383784</td>\n",
       "      <td>0.612167</td>\n",
       "      <td>0.783886</td>\n",
       "    </tr>\n",
       "    <tr>\n",
       "      <th>7</th>\n",
       "      <td>0.8</td>\n",
       "      <td>0.213740</td>\n",
       "      <td>0.788732</td>\n",
       "      <td>0.336336</td>\n",
       "      <td>0.597412</td>\n",
       "      <td>0.790521</td>\n",
       "    </tr>\n",
       "    <tr>\n",
       "      <th>8</th>\n",
       "      <td>0.9</td>\n",
       "      <td>0.118321</td>\n",
       "      <td>0.885714</td>\n",
       "      <td>0.208754</td>\n",
       "      <td>0.556638</td>\n",
       "      <td>0.777251</td>\n",
       "    </tr>\n",
       "  </tbody>\n",
       "</table>\n",
       "</div>"
      ],
      "text/plain": [
       "   thresold    recall  precision  f1-score  RocAuc-score  Accuracy-score\n",
       "0       0.1  0.866412   0.414234  0.560494      0.730810        0.662559\n",
       "1       0.2  0.748092   0.482759  0.586826      0.741637        0.738389\n",
       "2       0.3  0.687023   0.545455  0.608108      0.748934        0.780095\n",
       "3       0.4  0.599237   0.585821  0.592453      0.729631        0.795261\n",
       "4       0.5  0.496183   0.622010  0.552017      0.698281        0.800000\n",
       "5       0.6  0.385496   0.647436  0.483254      0.658070        0.795261\n",
       "6       0.7  0.270992   0.657407  0.383784      0.612167        0.783886\n",
       "7       0.8  0.213740   0.788732  0.336336      0.597412        0.790521\n",
       "8       0.9  0.118321   0.885714  0.208754      0.556638        0.777251"
      ]
     },
     "execution_count": 32,
     "metadata": {},
     "output_type": "execute_result"
    }
   ],
   "source": [
    "threshold_score(clfxg, x_validation, y_validation, np.arange(0.1, 1, 0.1))"
   ]
  },
  {
   "cell_type": "code",
   "execution_count": 33,
   "id": "8e37bc8f",
   "metadata": {},
   "outputs": [
    {
     "data": {
      "text/html": [
       "<div>\n",
       "<style scoped>\n",
       "    .dataframe tbody tr th:only-of-type {\n",
       "        vertical-align: middle;\n",
       "    }\n",
       "\n",
       "    .dataframe tbody tr th {\n",
       "        vertical-align: top;\n",
       "    }\n",
       "\n",
       "    .dataframe thead th {\n",
       "        text-align: right;\n",
       "    }\n",
       "</style>\n",
       "<table border=\"1\" class=\"dataframe\">\n",
       "  <thead>\n",
       "    <tr style=\"text-align: right;\">\n",
       "      <th></th>\n",
       "      <th>thresold</th>\n",
       "      <th>recall</th>\n",
       "      <th>precision</th>\n",
       "      <th>f1-score</th>\n",
       "      <th>RocAuc-score</th>\n",
       "      <th>Accuracy-score</th>\n",
       "    </tr>\n",
       "  </thead>\n",
       "  <tbody>\n",
       "    <tr>\n",
       "      <th>0</th>\n",
       "      <td>0.3</td>\n",
       "      <td>0.685115</td>\n",
       "      <td>0.620035</td>\n",
       "      <td>0.650952</td>\n",
       "      <td>0.753416</td>\n",
       "      <td>0.781001</td>\n",
       "    </tr>\n",
       "  </tbody>\n",
       "</table>\n",
       "</div>"
      ],
      "text/plain": [
       "   thresold    recall  precision  f1-score  RocAuc-score  Accuracy-score\n",
       "0       0.3  0.685115   0.620035  0.650952      0.753416        0.781001"
      ]
     },
     "execution_count": 33,
     "metadata": {},
     "output_type": "execute_result"
    }
   ],
   "source": [
    "threshold_score(clfxg, x_test, y_test, [0.3])"
   ]
  },
  {
   "cell_type": "code",
   "execution_count": 34,
   "id": "d9c8d8f5",
   "metadata": {},
   "outputs": [
    {
     "data": {
      "text/html": [
       "<div>\n",
       "<style scoped>\n",
       "    .dataframe tbody tr th:only-of-type {\n",
       "        vertical-align: middle;\n",
       "    }\n",
       "\n",
       "    .dataframe tbody tr th {\n",
       "        vertical-align: top;\n",
       "    }\n",
       "\n",
       "    .dataframe thead th {\n",
       "        text-align: right;\n",
       "    }\n",
       "</style>\n",
       "<table border=\"1\" class=\"dataframe\">\n",
       "  <thead>\n",
       "    <tr style=\"text-align: right;\">\n",
       "      <th></th>\n",
       "      <th>thresold</th>\n",
       "      <th>recall</th>\n",
       "      <th>precision</th>\n",
       "      <th>f1-score</th>\n",
       "      <th>RocAuc-score</th>\n",
       "      <th>Accuracy-score</th>\n",
       "    </tr>\n",
       "  </thead>\n",
       "  <tbody>\n",
       "    <tr>\n",
       "      <th>0</th>\n",
       "      <td>0.3</td>\n",
       "      <td>0.971376</td>\n",
       "      <td>0.788606</td>\n",
       "      <td>0.870501</td>\n",
       "      <td>0.940726</td>\n",
       "      <td>0.925812</td>\n",
       "    </tr>\n",
       "  </tbody>\n",
       "</table>\n",
       "</div>"
      ],
      "text/plain": [
       "   thresold    recall  precision  f1-score  RocAuc-score  Accuracy-score\n",
       "0       0.3  0.971376   0.788606  0.870501      0.940726        0.925812"
      ]
     },
     "execution_count": 34,
     "metadata": {},
     "output_type": "execute_result"
    }
   ],
   "source": [
    "threshold_score(clfxg, x_train, y_train, [0.3])"
   ]
  },
  {
   "cell_type": "markdown",
   "id": "58874938",
   "metadata": {},
   "source": [
    "> Saat dituning didapat bahwa threshold 0.3 merupakan nilai f1-score terbaik. Saat di test data didapat hasil f1 score sebesar 0.65 dan ditrain 0.87. Dalam kondisi sekarang, model ini termasuk overfitting."
   ]
  },
  {
   "cell_type": "code",
   "execution_count": 35,
   "id": "68a0a3ba",
   "metadata": {},
   "outputs": [],
   "source": [
    "dfhasil = pd.concat([dfhasil,pd.DataFrame(['XGBoost',float(threshold_score(clfxg, x_test, y_test, [0.3])['f1-score']), float(threshold_score(clfxg, x_test, y_test, [0.3])['thresold']),status]).transpose()])"
   ]
  },
  {
   "cell_type": "markdown",
   "id": "cfbde01c",
   "metadata": {},
   "source": [
    "## Data Pre-Processing 1\n",
    "***\n",
    "> Saya akan melakukan encoding + oversampling menggunakan SMOTE."
   ]
  },
  {
   "cell_type": "code",
   "execution_count": 36,
   "id": "31ec3023",
   "metadata": {},
   "outputs": [],
   "source": [
    "df1 = df.copy()"
   ]
  },
  {
   "cell_type": "code",
   "execution_count": 37,
   "id": "0e9de909",
   "metadata": {},
   "outputs": [],
   "source": [
    "convert = {\n",
    "    'Yes':1,\n",
    "    'No':0,\n",
    "    'No phone service':0,\n",
    "    'Male':1,\n",
    "    'Female':0,\n",
    "    'Month-to-month':1,\n",
    "    'One year':2,\n",
    "    'Two year':3,\n",
    "    'No internet service':0\n",
    "}\n",
    "kolom = ['gender','Partner','Dependents','PhoneService','MultipleLines','OnlineSecurity','OnlineBackup','DeviceProtection','TechSupport','StreamingTV','StreamingMovies','Contract','PaperlessBilling','Churn']"
   ]
  },
  {
   "cell_type": "code",
   "execution_count": 38,
   "id": "d51d37b3",
   "metadata": {},
   "outputs": [],
   "source": [
    "for x in kolom:\n",
    "    df1[x] = df[x].map(convert)"
   ]
  },
  {
   "cell_type": "code",
   "execution_count": 39,
   "id": "96446187",
   "metadata": {},
   "outputs": [],
   "source": [
    "df1 = pd.get_dummies(df1, columns = ['InternetService', 'PaymentMethod'])"
   ]
  },
  {
   "cell_type": "markdown",
   "id": "01c932d3",
   "metadata": {},
   "source": [
    "> Rata-rata kategorikal kolom diconvert ke binary, sedangkan untuk contract dilakukan ordinal encoding. Untuk InternetService dan PaymentMethod dilakukan One Hot Encoding."
   ]
  },
  {
   "cell_type": "code",
   "execution_count": 40,
   "id": "1e6615b4",
   "metadata": {},
   "outputs": [],
   "source": [
    "x = df1.drop(columns=['Churn'])\n",
    "y = df1['Churn']"
   ]
  },
  {
   "cell_type": "code",
   "execution_count": 41,
   "id": "31eb0fb5",
   "metadata": {},
   "outputs": [],
   "source": [
    "x_pretrain, x_test, y_pretrain, y_test = train_test_split(x, y, test_size = 0.25, random_state=123)\n",
    "x_train, x_validation, y_train, y_validation = train_test_split(x_pretrain, y_pretrain, test_size = 0.20, random_state=123)"
   ]
  },
  {
   "cell_type": "code",
   "execution_count": 42,
   "id": "3a5a1cd3",
   "metadata": {},
   "outputs": [],
   "source": [
    "from imblearn import under_sampling, over_sampling\n",
    "x_train, y_train = over_sampling.SMOTE().fit_resample(x_train, y_train)\n",
    "#x_train, y_train = under_sampling.RandomUnderSampler().fit_resample(x_train, y_train)"
   ]
  },
  {
   "cell_type": "code",
   "execution_count": 43,
   "id": "3f6e4159",
   "metadata": {},
   "outputs": [
    {
     "data": {
      "text/plain": [
       "0    3136\n",
       "1    3136\n",
       "Name: Churn, dtype: int64"
      ]
     },
     "execution_count": 43,
     "metadata": {},
     "output_type": "execute_result"
    }
   ],
   "source": [
    "y_train.value_counts()"
   ]
  },
  {
   "cell_type": "markdown",
   "id": "98ed07ae",
   "metadata": {},
   "source": [
    "## Random Forest Modelling 1\n",
    "***"
   ]
  },
  {
   "cell_type": "code",
   "execution_count": 44,
   "id": "7adad039",
   "metadata": {},
   "outputs": [
    {
     "data": {
      "text/plain": [
       "RandomForestClassifier()"
      ]
     },
     "execution_count": 44,
     "metadata": {},
     "output_type": "execute_result"
    }
   ],
   "source": [
    "from sklearn.ensemble import RandomForestClassifier\n",
    "clfrf = RandomForestClassifier()\n",
    "clfrf.fit(x_train, y_train)"
   ]
  },
  {
   "cell_type": "code",
   "execution_count": 45,
   "id": "58f5bf5f",
   "metadata": {},
   "outputs": [
    {
     "data": {
      "text/html": [
       "<div>\n",
       "<style scoped>\n",
       "    .dataframe tbody tr th:only-of-type {\n",
       "        vertical-align: middle;\n",
       "    }\n",
       "\n",
       "    .dataframe tbody tr th {\n",
       "        vertical-align: top;\n",
       "    }\n",
       "\n",
       "    .dataframe thead th {\n",
       "        text-align: right;\n",
       "    }\n",
       "</style>\n",
       "<table border=\"1\" class=\"dataframe\">\n",
       "  <thead>\n",
       "    <tr style=\"text-align: right;\">\n",
       "      <th></th>\n",
       "      <th>thresold</th>\n",
       "      <th>recall</th>\n",
       "      <th>precision</th>\n",
       "      <th>f1-score</th>\n",
       "      <th>RocAuc-score</th>\n",
       "      <th>Accuracy-score</th>\n",
       "    </tr>\n",
       "  </thead>\n",
       "  <tbody>\n",
       "    <tr>\n",
       "      <th>0</th>\n",
       "      <td>0.1</td>\n",
       "      <td>0.969466</td>\n",
       "      <td>0.359264</td>\n",
       "      <td>0.524252</td>\n",
       "      <td>0.699109</td>\n",
       "      <td>0.563033</td>\n",
       "    </tr>\n",
       "    <tr>\n",
       "      <th>1</th>\n",
       "      <td>0.2</td>\n",
       "      <td>0.866412</td>\n",
       "      <td>0.419593</td>\n",
       "      <td>0.565380</td>\n",
       "      <td>0.735224</td>\n",
       "      <td>0.669194</td>\n",
       "    </tr>\n",
       "    <tr>\n",
       "      <th>2</th>\n",
       "      <td>0.3</td>\n",
       "      <td>0.755725</td>\n",
       "      <td>0.474820</td>\n",
       "      <td>0.583211</td>\n",
       "      <td>0.739779</td>\n",
       "      <td>0.731754</td>\n",
       "    </tr>\n",
       "    <tr>\n",
       "      <th>3</th>\n",
       "      <td>0.4</td>\n",
       "      <td>0.645038</td>\n",
       "      <td>0.526480</td>\n",
       "      <td>0.579760</td>\n",
       "      <td>0.726680</td>\n",
       "      <td>0.767773</td>\n",
       "    </tr>\n",
       "    <tr>\n",
       "      <th>4</th>\n",
       "      <td>0.5</td>\n",
       "      <td>0.530534</td>\n",
       "      <td>0.565041</td>\n",
       "      <td>0.547244</td>\n",
       "      <td>0.697802</td>\n",
       "      <td>0.781991</td>\n",
       "    </tr>\n",
       "    <tr>\n",
       "      <th>5</th>\n",
       "      <td>0.6</td>\n",
       "      <td>0.423664</td>\n",
       "      <td>0.613260</td>\n",
       "      <td>0.501129</td>\n",
       "      <td>0.667696</td>\n",
       "      <td>0.790521</td>\n",
       "    </tr>\n",
       "    <tr>\n",
       "      <th>6</th>\n",
       "      <td>0.7</td>\n",
       "      <td>0.343511</td>\n",
       "      <td>0.661765</td>\n",
       "      <td>0.452261</td>\n",
       "      <td>0.642752</td>\n",
       "      <td>0.793365</td>\n",
       "    </tr>\n",
       "    <tr>\n",
       "      <th>7</th>\n",
       "      <td>0.8</td>\n",
       "      <td>0.217557</td>\n",
       "      <td>0.791667</td>\n",
       "      <td>0.341317</td>\n",
       "      <td>0.599321</td>\n",
       "      <td>0.791469</td>\n",
       "    </tr>\n",
       "    <tr>\n",
       "      <th>8</th>\n",
       "      <td>0.9</td>\n",
       "      <td>0.110687</td>\n",
       "      <td>0.852941</td>\n",
       "      <td>0.195946</td>\n",
       "      <td>0.552191</td>\n",
       "      <td>0.774408</td>\n",
       "    </tr>\n",
       "  </tbody>\n",
       "</table>\n",
       "</div>"
      ],
      "text/plain": [
       "   thresold    recall  precision  f1-score  RocAuc-score  Accuracy-score\n",
       "0       0.1  0.969466   0.359264  0.524252      0.699109        0.563033\n",
       "1       0.2  0.866412   0.419593  0.565380      0.735224        0.669194\n",
       "2       0.3  0.755725   0.474820  0.583211      0.739779        0.731754\n",
       "3       0.4  0.645038   0.526480  0.579760      0.726680        0.767773\n",
       "4       0.5  0.530534   0.565041  0.547244      0.697802        0.781991\n",
       "5       0.6  0.423664   0.613260  0.501129      0.667696        0.790521\n",
       "6       0.7  0.343511   0.661765  0.452261      0.642752        0.793365\n",
       "7       0.8  0.217557   0.791667  0.341317      0.599321        0.791469\n",
       "8       0.9  0.110687   0.852941  0.195946      0.552191        0.774408"
      ]
     },
     "execution_count": 45,
     "metadata": {},
     "output_type": "execute_result"
    }
   ],
   "source": [
    "threshold_score(clfrf, x_validation, y_validation, np.arange(0.1, 1, 0.1))"
   ]
  },
  {
   "cell_type": "code",
   "execution_count": 46,
   "id": "59c2592c",
   "metadata": {},
   "outputs": [
    {
     "data": {
      "text/html": [
       "<div>\n",
       "<style scoped>\n",
       "    .dataframe tbody tr th:only-of-type {\n",
       "        vertical-align: middle;\n",
       "    }\n",
       "\n",
       "    .dataframe tbody tr th {\n",
       "        vertical-align: top;\n",
       "    }\n",
       "\n",
       "    .dataframe thead th {\n",
       "        text-align: right;\n",
       "    }\n",
       "</style>\n",
       "<table border=\"1\" class=\"dataframe\">\n",
       "  <thead>\n",
       "    <tr style=\"text-align: right;\">\n",
       "      <th></th>\n",
       "      <th>thresold</th>\n",
       "      <th>recall</th>\n",
       "      <th>precision</th>\n",
       "      <th>f1-score</th>\n",
       "      <th>RocAuc-score</th>\n",
       "      <th>Accuracy-score</th>\n",
       "    </tr>\n",
       "  </thead>\n",
       "  <tbody>\n",
       "    <tr>\n",
       "      <th>0</th>\n",
       "      <td>0.3</td>\n",
       "      <td>0.748092</td>\n",
       "      <td>0.531165</td>\n",
       "      <td>0.621236</td>\n",
       "      <td>0.733851</td>\n",
       "      <td>0.7281</td>\n",
       "    </tr>\n",
       "  </tbody>\n",
       "</table>\n",
       "</div>"
      ],
      "text/plain": [
       "   thresold    recall  precision  f1-score  RocAuc-score  Accuracy-score\n",
       "0       0.3  0.748092   0.531165  0.621236      0.733851          0.7281"
      ]
     },
     "execution_count": 46,
     "metadata": {},
     "output_type": "execute_result"
    }
   ],
   "source": [
    "threshold_score(clfrf, x_test, y_test, [0.3])"
   ]
  },
  {
   "cell_type": "code",
   "execution_count": 47,
   "id": "c754202a",
   "metadata": {},
   "outputs": [
    {
     "data": {
      "text/html": [
       "<div>\n",
       "<style scoped>\n",
       "    .dataframe tbody tr th:only-of-type {\n",
       "        vertical-align: middle;\n",
       "    }\n",
       "\n",
       "    .dataframe tbody tr th {\n",
       "        vertical-align: top;\n",
       "    }\n",
       "\n",
       "    .dataframe thead th {\n",
       "        text-align: right;\n",
       "    }\n",
       "</style>\n",
       "<table border=\"1\" class=\"dataframe\">\n",
       "  <thead>\n",
       "    <tr style=\"text-align: right;\">\n",
       "      <th></th>\n",
       "      <th>thresold</th>\n",
       "      <th>recall</th>\n",
       "      <th>precision</th>\n",
       "      <th>f1-score</th>\n",
       "      <th>RocAuc-score</th>\n",
       "      <th>Accuracy-score</th>\n",
       "    </tr>\n",
       "  </thead>\n",
       "  <tbody>\n",
       "    <tr>\n",
       "      <th>0</th>\n",
       "      <td>0.3</td>\n",
       "      <td>1.0</td>\n",
       "      <td>0.969697</td>\n",
       "      <td>0.984615</td>\n",
       "      <td>0.984375</td>\n",
       "      <td>0.984375</td>\n",
       "    </tr>\n",
       "  </tbody>\n",
       "</table>\n",
       "</div>"
      ],
      "text/plain": [
       "   thresold  recall  precision  f1-score  RocAuc-score  Accuracy-score\n",
       "0       0.3     1.0   0.969697  0.984615      0.984375        0.984375"
      ]
     },
     "execution_count": 47,
     "metadata": {},
     "output_type": "execute_result"
    }
   ],
   "source": [
    "threshold_score(clfrf, x_train, y_train, [0.3])"
   ]
  },
  {
   "cell_type": "markdown",
   "id": "63651715",
   "metadata": {},
   "source": [
    "> Threshold terbaik ada pada 0.3 (berdasarkan f1 score). Untuk f1 score test data ada dinilai 0.64 dan test datanya di 0.98. Model masih overfitting dan result pada test data tidak begitu banyak berubah dari yang tanpa SMOTE."
   ]
  },
  {
   "cell_type": "code",
   "execution_count": 48,
   "id": "bf6038c6",
   "metadata": {},
   "outputs": [],
   "source": [
    "status = 'Encoding and SMOTE'\n",
    "dfhasil = pd.concat([dfhasil,pd.DataFrame(['RandomForest',float(threshold_score(clfrf, x_test, y_test, [0.3])['f1-score']), float(threshold_score(clfrf, x_test, y_test, [0.3])['thresold']),status]).transpose()])"
   ]
  },
  {
   "cell_type": "markdown",
   "id": "77b00137",
   "metadata": {},
   "source": [
    "## Decision Tree Modelling 1\n",
    "***"
   ]
  },
  {
   "cell_type": "code",
   "execution_count": 49,
   "id": "7afa7f37",
   "metadata": {},
   "outputs": [
    {
     "data": {
      "text/plain": [
       "DecisionTreeClassifier()"
      ]
     },
     "execution_count": 49,
     "metadata": {},
     "output_type": "execute_result"
    }
   ],
   "source": [
    "from sklearn.tree import DecisionTreeClassifier\n",
    "clfdt = DecisionTreeClassifier()\n",
    "clfdt.fit(x_train, y_train)"
   ]
  },
  {
   "cell_type": "code",
   "execution_count": 50,
   "id": "e650384c",
   "metadata": {},
   "outputs": [
    {
     "data": {
      "text/html": [
       "<div>\n",
       "<style scoped>\n",
       "    .dataframe tbody tr th:only-of-type {\n",
       "        vertical-align: middle;\n",
       "    }\n",
       "\n",
       "    .dataframe tbody tr th {\n",
       "        vertical-align: top;\n",
       "    }\n",
       "\n",
       "    .dataframe thead th {\n",
       "        text-align: right;\n",
       "    }\n",
       "</style>\n",
       "<table border=\"1\" class=\"dataframe\">\n",
       "  <thead>\n",
       "    <tr style=\"text-align: right;\">\n",
       "      <th></th>\n",
       "      <th>thresold</th>\n",
       "      <th>recall</th>\n",
       "      <th>precision</th>\n",
       "      <th>f1-score</th>\n",
       "      <th>RocAuc-score</th>\n",
       "      <th>Accuracy-score</th>\n",
       "    </tr>\n",
       "  </thead>\n",
       "  <tbody>\n",
       "    <tr>\n",
       "      <th>0</th>\n",
       "      <td>0.1</td>\n",
       "      <td>0.515267</td>\n",
       "      <td>0.509434</td>\n",
       "      <td>0.512334</td>\n",
       "      <td>0.675666</td>\n",
       "      <td>0.756398</td>\n",
       "    </tr>\n",
       "    <tr>\n",
       "      <th>1</th>\n",
       "      <td>0.2</td>\n",
       "      <td>0.515267</td>\n",
       "      <td>0.509434</td>\n",
       "      <td>0.512334</td>\n",
       "      <td>0.675666</td>\n",
       "      <td>0.756398</td>\n",
       "    </tr>\n",
       "    <tr>\n",
       "      <th>2</th>\n",
       "      <td>0.3</td>\n",
       "      <td>0.515267</td>\n",
       "      <td>0.509434</td>\n",
       "      <td>0.512334</td>\n",
       "      <td>0.675666</td>\n",
       "      <td>0.756398</td>\n",
       "    </tr>\n",
       "    <tr>\n",
       "      <th>3</th>\n",
       "      <td>0.4</td>\n",
       "      <td>0.515267</td>\n",
       "      <td>0.509434</td>\n",
       "      <td>0.512334</td>\n",
       "      <td>0.675666</td>\n",
       "      <td>0.756398</td>\n",
       "    </tr>\n",
       "    <tr>\n",
       "      <th>4</th>\n",
       "      <td>0.5</td>\n",
       "      <td>0.515267</td>\n",
       "      <td>0.511364</td>\n",
       "      <td>0.513308</td>\n",
       "      <td>0.676297</td>\n",
       "      <td>0.757346</td>\n",
       "    </tr>\n",
       "    <tr>\n",
       "      <th>5</th>\n",
       "      <td>0.6</td>\n",
       "      <td>0.515267</td>\n",
       "      <td>0.511364</td>\n",
       "      <td>0.513308</td>\n",
       "      <td>0.676297</td>\n",
       "      <td>0.757346</td>\n",
       "    </tr>\n",
       "    <tr>\n",
       "      <th>6</th>\n",
       "      <td>0.7</td>\n",
       "      <td>0.515267</td>\n",
       "      <td>0.511364</td>\n",
       "      <td>0.513308</td>\n",
       "      <td>0.676297</td>\n",
       "      <td>0.757346</td>\n",
       "    </tr>\n",
       "    <tr>\n",
       "      <th>7</th>\n",
       "      <td>0.8</td>\n",
       "      <td>0.515267</td>\n",
       "      <td>0.511364</td>\n",
       "      <td>0.513308</td>\n",
       "      <td>0.676297</td>\n",
       "      <td>0.757346</td>\n",
       "    </tr>\n",
       "    <tr>\n",
       "      <th>8</th>\n",
       "      <td>0.9</td>\n",
       "      <td>0.515267</td>\n",
       "      <td>0.511364</td>\n",
       "      <td>0.513308</td>\n",
       "      <td>0.676297</td>\n",
       "      <td>0.757346</td>\n",
       "    </tr>\n",
       "  </tbody>\n",
       "</table>\n",
       "</div>"
      ],
      "text/plain": [
       "   thresold    recall  precision  f1-score  RocAuc-score  Accuracy-score\n",
       "0       0.1  0.515267   0.509434  0.512334      0.675666        0.756398\n",
       "1       0.2  0.515267   0.509434  0.512334      0.675666        0.756398\n",
       "2       0.3  0.515267   0.509434  0.512334      0.675666        0.756398\n",
       "3       0.4  0.515267   0.509434  0.512334      0.675666        0.756398\n",
       "4       0.5  0.515267   0.511364  0.513308      0.676297        0.757346\n",
       "5       0.6  0.515267   0.511364  0.513308      0.676297        0.757346\n",
       "6       0.7  0.515267   0.511364  0.513308      0.676297        0.757346\n",
       "7       0.8  0.515267   0.511364  0.513308      0.676297        0.757346\n",
       "8       0.9  0.515267   0.511364  0.513308      0.676297        0.757346"
      ]
     },
     "execution_count": 50,
     "metadata": {},
     "output_type": "execute_result"
    }
   ],
   "source": [
    "threshold_score(clfdt, x_validation, y_validation, np.arange(0.1, 1, 0.1))"
   ]
  },
  {
   "cell_type": "code",
   "execution_count": 51,
   "id": "1143d4b7",
   "metadata": {},
   "outputs": [
    {
     "data": {
      "text/html": [
       "<div>\n",
       "<style scoped>\n",
       "    .dataframe tbody tr th:only-of-type {\n",
       "        vertical-align: middle;\n",
       "    }\n",
       "\n",
       "    .dataframe tbody tr th {\n",
       "        vertical-align: top;\n",
       "    }\n",
       "\n",
       "    .dataframe thead th {\n",
       "        text-align: right;\n",
       "    }\n",
       "</style>\n",
       "<table border=\"1\" class=\"dataframe\">\n",
       "  <thead>\n",
       "    <tr style=\"text-align: right;\">\n",
       "      <th></th>\n",
       "      <th>thresold</th>\n",
       "      <th>recall</th>\n",
       "      <th>precision</th>\n",
       "      <th>f1-score</th>\n",
       "      <th>RocAuc-score</th>\n",
       "      <th>Accuracy-score</th>\n",
       "    </tr>\n",
       "  </thead>\n",
       "  <tbody>\n",
       "    <tr>\n",
       "      <th>0</th>\n",
       "      <td>0.5</td>\n",
       "      <td>0.498092</td>\n",
       "      <td>0.531568</td>\n",
       "      <td>0.514286</td>\n",
       "      <td>0.655853</td>\n",
       "      <td>0.719568</td>\n",
       "    </tr>\n",
       "  </tbody>\n",
       "</table>\n",
       "</div>"
      ],
      "text/plain": [
       "   thresold    recall  precision  f1-score  RocAuc-score  Accuracy-score\n",
       "0       0.5  0.498092   0.531568  0.514286      0.655853        0.719568"
      ]
     },
     "execution_count": 51,
     "metadata": {},
     "output_type": "execute_result"
    }
   ],
   "source": [
    "threshold_score(clfdt, x_test, y_test, [0.5])"
   ]
  },
  {
   "cell_type": "code",
   "execution_count": 52,
   "id": "22e1b581",
   "metadata": {},
   "outputs": [
    {
     "data": {
      "text/html": [
       "<div>\n",
       "<style scoped>\n",
       "    .dataframe tbody tr th:only-of-type {\n",
       "        vertical-align: middle;\n",
       "    }\n",
       "\n",
       "    .dataframe tbody tr th {\n",
       "        vertical-align: top;\n",
       "    }\n",
       "\n",
       "    .dataframe thead th {\n",
       "        text-align: right;\n",
       "    }\n",
       "</style>\n",
       "<table border=\"1\" class=\"dataframe\">\n",
       "  <thead>\n",
       "    <tr style=\"text-align: right;\">\n",
       "      <th></th>\n",
       "      <th>thresold</th>\n",
       "      <th>recall</th>\n",
       "      <th>precision</th>\n",
       "      <th>f1-score</th>\n",
       "      <th>RocAuc-score</th>\n",
       "      <th>Accuracy-score</th>\n",
       "    </tr>\n",
       "  </thead>\n",
       "  <tbody>\n",
       "    <tr>\n",
       "      <th>0</th>\n",
       "      <td>0.5</td>\n",
       "      <td>0.998087</td>\n",
       "      <td>1.0</td>\n",
       "      <td>0.999042</td>\n",
       "      <td>0.999043</td>\n",
       "      <td>0.999043</td>\n",
       "    </tr>\n",
       "  </tbody>\n",
       "</table>\n",
       "</div>"
      ],
      "text/plain": [
       "   thresold    recall  precision  f1-score  RocAuc-score  Accuracy-score\n",
       "0       0.5  0.998087        1.0  0.999042      0.999043        0.999043"
      ]
     },
     "execution_count": 52,
     "metadata": {},
     "output_type": "execute_result"
    }
   ],
   "source": [
    "threshold_score(clfdt, x_train, y_train, [0.5])"
   ]
  },
  {
   "cell_type": "markdown",
   "id": "aaf4f02c",
   "metadata": {},
   "source": [
    "> Untuk Decision Tree, model masih sangat overfitting dan resultnya kurang lebih sama dengan yang sebelum SMOTE."
   ]
  },
  {
   "cell_type": "code",
   "execution_count": 53,
   "id": "4a905eab",
   "metadata": {},
   "outputs": [],
   "source": [
    "dfhasil = pd.concat([dfhasil,pd.DataFrame(['DecisionTree',float(threshold_score(clfdt, x_test, y_test, [0.5])['f1-score']), float(threshold_score(clfdt, x_test, y_test, [0.5])['thresold']),status]).transpose()])"
   ]
  },
  {
   "cell_type": "markdown",
   "id": "2c187c88",
   "metadata": {},
   "source": [
    "## XGBoost Modelling 1\n",
    "***"
   ]
  },
  {
   "cell_type": "code",
   "execution_count": 54,
   "id": "62f85ce5",
   "metadata": {},
   "outputs": [
    {
     "data": {
      "text/plain": [
       "XGBClassifier(base_score=None, booster=None, callbacks=None,\n",
       "              colsample_bylevel=None, colsample_bynode=None,\n",
       "              colsample_bytree=None, early_stopping_rounds=None,\n",
       "              enable_categorical=False, eval_metric=None, feature_types=None,\n",
       "              gamma=None, gpu_id=None, grow_policy=None, importance_type=None,\n",
       "              interaction_constraints=None, learning_rate=None, max_bin=None,\n",
       "              max_cat_threshold=None, max_cat_to_onehot=None,\n",
       "              max_delta_step=None, max_depth=None, max_leaves=None,\n",
       "              min_child_weight=None, missing=nan, monotone_constraints=None,\n",
       "              n_estimators=100, n_jobs=None, num_parallel_tree=None,\n",
       "              predictor=None, random_state=None, ...)"
      ]
     },
     "execution_count": 54,
     "metadata": {},
     "output_type": "execute_result"
    }
   ],
   "source": [
    "from xgboost import XGBClassifier \n",
    "clfxg = XGBClassifier()\n",
    "clfxg.fit(x_train, y_train)"
   ]
  },
  {
   "cell_type": "code",
   "execution_count": 55,
   "id": "f40708ca",
   "metadata": {},
   "outputs": [
    {
     "data": {
      "text/html": [
       "<div>\n",
       "<style scoped>\n",
       "    .dataframe tbody tr th:only-of-type {\n",
       "        vertical-align: middle;\n",
       "    }\n",
       "\n",
       "    .dataframe tbody tr th {\n",
       "        vertical-align: top;\n",
       "    }\n",
       "\n",
       "    .dataframe thead th {\n",
       "        text-align: right;\n",
       "    }\n",
       "</style>\n",
       "<table border=\"1\" class=\"dataframe\">\n",
       "  <thead>\n",
       "    <tr style=\"text-align: right;\">\n",
       "      <th></th>\n",
       "      <th>thresold</th>\n",
       "      <th>recall</th>\n",
       "      <th>precision</th>\n",
       "      <th>f1-score</th>\n",
       "      <th>RocAuc-score</th>\n",
       "      <th>Accuracy-score</th>\n",
       "    </tr>\n",
       "  </thead>\n",
       "  <tbody>\n",
       "    <tr>\n",
       "      <th>0</th>\n",
       "      <td>0.1</td>\n",
       "      <td>0.843511</td>\n",
       "      <td>0.412313</td>\n",
       "      <td>0.553885</td>\n",
       "      <td>0.723143</td>\n",
       "      <td>0.662559</td>\n",
       "    </tr>\n",
       "    <tr>\n",
       "      <th>1</th>\n",
       "      <td>0.2</td>\n",
       "      <td>0.751908</td>\n",
       "      <td>0.479319</td>\n",
       "      <td>0.585438</td>\n",
       "      <td>0.741024</td>\n",
       "      <td>0.735545</td>\n",
       "    </tr>\n",
       "    <tr>\n",
       "      <th>2</th>\n",
       "      <td>0.3</td>\n",
       "      <td>0.679389</td>\n",
       "      <td>0.521994</td>\n",
       "      <td>0.590381</td>\n",
       "      <td>0.736920</td>\n",
       "      <td>0.765877</td>\n",
       "    </tr>\n",
       "    <tr>\n",
       "      <th>3</th>\n",
       "      <td>0.4</td>\n",
       "      <td>0.618321</td>\n",
       "      <td>0.554795</td>\n",
       "      <td>0.584838</td>\n",
       "      <td>0.727193</td>\n",
       "      <td>0.781991</td>\n",
       "    </tr>\n",
       "    <tr>\n",
       "      <th>4</th>\n",
       "      <td>0.5</td>\n",
       "      <td>0.522901</td>\n",
       "      <td>0.561475</td>\n",
       "      <td>0.541502</td>\n",
       "      <td>0.693985</td>\n",
       "      <td>0.780095</td>\n",
       "    </tr>\n",
       "    <tr>\n",
       "      <th>5</th>\n",
       "      <td>0.6</td>\n",
       "      <td>0.454198</td>\n",
       "      <td>0.601010</td>\n",
       "      <td>0.517391</td>\n",
       "      <td>0.677288</td>\n",
       "      <td>0.789573</td>\n",
       "    </tr>\n",
       "    <tr>\n",
       "      <th>6</th>\n",
       "      <td>0.7</td>\n",
       "      <td>0.366412</td>\n",
       "      <td>0.680851</td>\n",
       "      <td>0.476427</td>\n",
       "      <td>0.654833</td>\n",
       "      <td>0.800000</td>\n",
       "    </tr>\n",
       "    <tr>\n",
       "      <th>7</th>\n",
       "      <td>0.8</td>\n",
       "      <td>0.312977</td>\n",
       "      <td>0.759259</td>\n",
       "      <td>0.443243</td>\n",
       "      <td>0.640095</td>\n",
       "      <td>0.804739</td>\n",
       "    </tr>\n",
       "    <tr>\n",
       "      <th>8</th>\n",
       "      <td>0.9</td>\n",
       "      <td>0.194656</td>\n",
       "      <td>0.879310</td>\n",
       "      <td>0.318750</td>\n",
       "      <td>0.592915</td>\n",
       "      <td>0.793365</td>\n",
       "    </tr>\n",
       "  </tbody>\n",
       "</table>\n",
       "</div>"
      ],
      "text/plain": [
       "   thresold    recall  precision  f1-score  RocAuc-score  Accuracy-score\n",
       "0       0.1  0.843511   0.412313  0.553885      0.723143        0.662559\n",
       "1       0.2  0.751908   0.479319  0.585438      0.741024        0.735545\n",
       "2       0.3  0.679389   0.521994  0.590381      0.736920        0.765877\n",
       "3       0.4  0.618321   0.554795  0.584838      0.727193        0.781991\n",
       "4       0.5  0.522901   0.561475  0.541502      0.693985        0.780095\n",
       "5       0.6  0.454198   0.601010  0.517391      0.677288        0.789573\n",
       "6       0.7  0.366412   0.680851  0.476427      0.654833        0.800000\n",
       "7       0.8  0.312977   0.759259  0.443243      0.640095        0.804739\n",
       "8       0.9  0.194656   0.879310  0.318750      0.592915        0.793365"
      ]
     },
     "execution_count": 55,
     "metadata": {},
     "output_type": "execute_result"
    }
   ],
   "source": [
    "threshold_score(clfxg, x_validation, y_validation, np.arange(0.1, 1, 0.1))"
   ]
  },
  {
   "cell_type": "code",
   "execution_count": 56,
   "id": "9bad43be",
   "metadata": {},
   "outputs": [
    {
     "data": {
      "text/html": [
       "<div>\n",
       "<style scoped>\n",
       "    .dataframe tbody tr th:only-of-type {\n",
       "        vertical-align: middle;\n",
       "    }\n",
       "\n",
       "    .dataframe tbody tr th {\n",
       "        vertical-align: top;\n",
       "    }\n",
       "\n",
       "    .dataframe thead th {\n",
       "        text-align: right;\n",
       "    }\n",
       "</style>\n",
       "<table border=\"1\" class=\"dataframe\">\n",
       "  <thead>\n",
       "    <tr style=\"text-align: right;\">\n",
       "      <th></th>\n",
       "      <th>thresold</th>\n",
       "      <th>recall</th>\n",
       "      <th>precision</th>\n",
       "      <th>f1-score</th>\n",
       "      <th>RocAuc-score</th>\n",
       "      <th>Accuracy-score</th>\n",
       "    </tr>\n",
       "  </thead>\n",
       "  <tbody>\n",
       "    <tr>\n",
       "      <th>0</th>\n",
       "      <td>0.3</td>\n",
       "      <td>0.715649</td>\n",
       "      <td>0.588697</td>\n",
       "      <td>0.645995</td>\n",
       "      <td>0.751666</td>\n",
       "      <td>0.766212</td>\n",
       "    </tr>\n",
       "  </tbody>\n",
       "</table>\n",
       "</div>"
      ],
      "text/plain": [
       "   thresold    recall  precision  f1-score  RocAuc-score  Accuracy-score\n",
       "0       0.3  0.715649   0.588697  0.645995      0.751666        0.766212"
      ]
     },
     "execution_count": 56,
     "metadata": {},
     "output_type": "execute_result"
    }
   ],
   "source": [
    "threshold_score(clfxg, x_test, y_test, [0.3])"
   ]
  },
  {
   "cell_type": "code",
   "execution_count": 57,
   "id": "00998cec",
   "metadata": {},
   "outputs": [
    {
     "data": {
      "text/html": [
       "<div>\n",
       "<style scoped>\n",
       "    .dataframe tbody tr th:only-of-type {\n",
       "        vertical-align: middle;\n",
       "    }\n",
       "\n",
       "    .dataframe tbody tr th {\n",
       "        vertical-align: top;\n",
       "    }\n",
       "\n",
       "    .dataframe thead th {\n",
       "        text-align: right;\n",
       "    }\n",
       "</style>\n",
       "<table border=\"1\" class=\"dataframe\">\n",
       "  <thead>\n",
       "    <tr style=\"text-align: right;\">\n",
       "      <th></th>\n",
       "      <th>thresold</th>\n",
       "      <th>recall</th>\n",
       "      <th>precision</th>\n",
       "      <th>f1-score</th>\n",
       "      <th>RocAuc-score</th>\n",
       "      <th>Accuracy-score</th>\n",
       "    </tr>\n",
       "  </thead>\n",
       "  <tbody>\n",
       "    <tr>\n",
       "      <th>0</th>\n",
       "      <td>0.3</td>\n",
       "      <td>0.996811</td>\n",
       "      <td>0.910574</td>\n",
       "      <td>0.951743</td>\n",
       "      <td>0.949458</td>\n",
       "      <td>0.949458</td>\n",
       "    </tr>\n",
       "  </tbody>\n",
       "</table>\n",
       "</div>"
      ],
      "text/plain": [
       "   thresold    recall  precision  f1-score  RocAuc-score  Accuracy-score\n",
       "0       0.3  0.996811   0.910574  0.951743      0.949458        0.949458"
      ]
     },
     "execution_count": 57,
     "metadata": {},
     "output_type": "execute_result"
    }
   ],
   "source": [
    "threshold_score(clfxg, x_train, y_train, [0.3])"
   ]
  },
  {
   "cell_type": "markdown",
   "id": "3480659e",
   "metadata": {},
   "source": [
    "> Untuk XGBoost, thresold terbaik berdasarkan f1 score ada di 0.3. Untuk hasil f1 score pada test data ada di 0.64 dan train 0.94. "
   ]
  },
  {
   "cell_type": "code",
   "execution_count": 58,
   "id": "8ef1b92a",
   "metadata": {},
   "outputs": [],
   "source": [
    "dfhasil = pd.concat([dfhasil,pd.DataFrame(['XGBoost',float(threshold_score(clfxg, x_test, y_test, [0.3])['f1-score']), float(threshold_score(clfxg, x_test, y_test, [0.3])['thresold']),status]).transpose()])"
   ]
  },
  {
   "cell_type": "markdown",
   "id": "8be2c04a",
   "metadata": {},
   "source": [
    "## Data Pre-Processing 2\n",
    "***\n",
    "> Saya akan melakukan encoding + undersampling."
   ]
  },
  {
   "cell_type": "code",
   "execution_count": 59,
   "id": "bf04aed5",
   "metadata": {},
   "outputs": [],
   "source": [
    "df1 = df.copy()"
   ]
  },
  {
   "cell_type": "code",
   "execution_count": 60,
   "id": "bebd1c29",
   "metadata": {},
   "outputs": [],
   "source": [
    "convert = {\n",
    "    'Yes':1,\n",
    "    'No':0,\n",
    "    'No phone service':0,\n",
    "    'Male':1,\n",
    "    'Female':0,\n",
    "    'Month-to-month':1,\n",
    "    'One year':2,\n",
    "    'Two year':3,\n",
    "    'No internet service':0\n",
    "}\n",
    "kolom = ['gender','Partner','Dependents','PhoneService','MultipleLines','OnlineSecurity','OnlineBackup','DeviceProtection','TechSupport','StreamingTV','StreamingMovies','Contract','PaperlessBilling','Churn']"
   ]
  },
  {
   "cell_type": "code",
   "execution_count": 61,
   "id": "f93ecf66",
   "metadata": {},
   "outputs": [],
   "source": [
    "for x in kolom:\n",
    "    df1[x] = df[x].map(convert)"
   ]
  },
  {
   "cell_type": "code",
   "execution_count": 62,
   "id": "2e946eb5",
   "metadata": {},
   "outputs": [],
   "source": [
    "df1 = pd.get_dummies(df1, columns = ['InternetService', 'PaymentMethod'])"
   ]
  },
  {
   "cell_type": "markdown",
   "id": "933f5648",
   "metadata": {},
   "source": [
    "> Rata-rata kategorikal kolom diconvert ke binary, sedangkan untuk contract dilakukan ordinal encoding. Untuk InternetService dan PaymentMethod dilakukan One Hot Encoding."
   ]
  },
  {
   "cell_type": "code",
   "execution_count": 63,
   "id": "028c717d",
   "metadata": {},
   "outputs": [],
   "source": [
    "x = df1.drop(columns=['Churn'])\n",
    "y = df1['Churn']"
   ]
  },
  {
   "cell_type": "code",
   "execution_count": 64,
   "id": "e66dc6df",
   "metadata": {},
   "outputs": [],
   "source": [
    "x_pretrain, x_test, y_pretrain, y_test = train_test_split(x, y, test_size = 0.25, random_state=123)\n",
    "x_train, x_validation, y_train, y_validation = train_test_split(x_pretrain, y_pretrain, test_size = 0.20, random_state=123)"
   ]
  },
  {
   "cell_type": "code",
   "execution_count": 65,
   "id": "bb13e8e6",
   "metadata": {},
   "outputs": [],
   "source": [
    "from imblearn import under_sampling, over_sampling\n",
    "x_train, y_train = under_sampling.RandomUnderSampler().fit_resample(x_train, y_train)"
   ]
  },
  {
   "cell_type": "code",
   "execution_count": 66,
   "id": "3a3159e8",
   "metadata": {},
   "outputs": [
    {
     "data": {
      "text/plain": [
       "0    1083\n",
       "1    1083\n",
       "Name: Churn, dtype: int64"
      ]
     },
     "execution_count": 66,
     "metadata": {},
     "output_type": "execute_result"
    }
   ],
   "source": [
    "y_train.value_counts()"
   ]
  },
  {
   "cell_type": "markdown",
   "id": "e17342d7",
   "metadata": {},
   "source": [
    "## Random Forest Modelling 2\n",
    "***"
   ]
  },
  {
   "cell_type": "code",
   "execution_count": 67,
   "id": "ff4f7571",
   "metadata": {},
   "outputs": [
    {
     "data": {
      "text/plain": [
       "RandomForestClassifier()"
      ]
     },
     "execution_count": 67,
     "metadata": {},
     "output_type": "execute_result"
    }
   ],
   "source": [
    "from sklearn.ensemble import RandomForestClassifier\n",
    "clfrf = RandomForestClassifier()\n",
    "clfrf.fit(x_train, y_train)"
   ]
  },
  {
   "cell_type": "code",
   "execution_count": 68,
   "id": "b93c3e13",
   "metadata": {},
   "outputs": [
    {
     "data": {
      "text/html": [
       "<div>\n",
       "<style scoped>\n",
       "    .dataframe tbody tr th:only-of-type {\n",
       "        vertical-align: middle;\n",
       "    }\n",
       "\n",
       "    .dataframe tbody tr th {\n",
       "        vertical-align: top;\n",
       "    }\n",
       "\n",
       "    .dataframe thead th {\n",
       "        text-align: right;\n",
       "    }\n",
       "</style>\n",
       "<table border=\"1\" class=\"dataframe\">\n",
       "  <thead>\n",
       "    <tr style=\"text-align: right;\">\n",
       "      <th></th>\n",
       "      <th>thresold</th>\n",
       "      <th>recall</th>\n",
       "      <th>precision</th>\n",
       "      <th>f1-score</th>\n",
       "      <th>RocAuc-score</th>\n",
       "      <th>Accuracy-score</th>\n",
       "    </tr>\n",
       "  </thead>\n",
       "  <tbody>\n",
       "    <tr>\n",
       "      <th>0</th>\n",
       "      <td>0.1</td>\n",
       "      <td>0.984733</td>\n",
       "      <td>0.314251</td>\n",
       "      <td>0.476454</td>\n",
       "      <td>0.637385</td>\n",
       "      <td>0.462559</td>\n",
       "    </tr>\n",
       "    <tr>\n",
       "      <th>1</th>\n",
       "      <td>0.2</td>\n",
       "      <td>0.969466</td>\n",
       "      <td>0.357746</td>\n",
       "      <td>0.522634</td>\n",
       "      <td>0.697217</td>\n",
       "      <td>0.560190</td>\n",
       "    </tr>\n",
       "    <tr>\n",
       "      <th>2</th>\n",
       "      <td>0.3</td>\n",
       "      <td>0.912214</td>\n",
       "      <td>0.398333</td>\n",
       "      <td>0.554524</td>\n",
       "      <td>0.728490</td>\n",
       "      <td>0.636019</td>\n",
       "    </tr>\n",
       "    <tr>\n",
       "      <th>3</th>\n",
       "      <td>0.4</td>\n",
       "      <td>0.854962</td>\n",
       "      <td>0.452525</td>\n",
       "      <td>0.591810</td>\n",
       "      <td>0.756611</td>\n",
       "      <td>0.707109</td>\n",
       "    </tr>\n",
       "    <tr>\n",
       "      <th>4</th>\n",
       "      <td>0.5</td>\n",
       "      <td>0.736641</td>\n",
       "      <td>0.481297</td>\n",
       "      <td>0.582202</td>\n",
       "      <td>0.737173</td>\n",
       "      <td>0.737441</td>\n",
       "    </tr>\n",
       "    <tr>\n",
       "      <th>5</th>\n",
       "      <td>0.6</td>\n",
       "      <td>0.637405</td>\n",
       "      <td>0.533546</td>\n",
       "      <td>0.580870</td>\n",
       "      <td>0.726647</td>\n",
       "      <td>0.771564</td>\n",
       "    </tr>\n",
       "    <tr>\n",
       "      <th>6</th>\n",
       "      <td>0.7</td>\n",
       "      <td>0.522901</td>\n",
       "      <td>0.600877</td>\n",
       "      <td>0.559184</td>\n",
       "      <td>0.704073</td>\n",
       "      <td>0.795261</td>\n",
       "    </tr>\n",
       "    <tr>\n",
       "      <th>7</th>\n",
       "      <td>0.8</td>\n",
       "      <td>0.385496</td>\n",
       "      <td>0.677852</td>\n",
       "      <td>0.491484</td>\n",
       "      <td>0.662483</td>\n",
       "      <td>0.801896</td>\n",
       "    </tr>\n",
       "    <tr>\n",
       "      <th>8</th>\n",
       "      <td>0.9</td>\n",
       "      <td>0.225191</td>\n",
       "      <td>0.766234</td>\n",
       "      <td>0.348083</td>\n",
       "      <td>0.601246</td>\n",
       "      <td>0.790521</td>\n",
       "    </tr>\n",
       "  </tbody>\n",
       "</table>\n",
       "</div>"
      ],
      "text/plain": [
       "   thresold    recall  precision  f1-score  RocAuc-score  Accuracy-score\n",
       "0       0.1  0.984733   0.314251  0.476454      0.637385        0.462559\n",
       "1       0.2  0.969466   0.357746  0.522634      0.697217        0.560190\n",
       "2       0.3  0.912214   0.398333  0.554524      0.728490        0.636019\n",
       "3       0.4  0.854962   0.452525  0.591810      0.756611        0.707109\n",
       "4       0.5  0.736641   0.481297  0.582202      0.737173        0.737441\n",
       "5       0.6  0.637405   0.533546  0.580870      0.726647        0.771564\n",
       "6       0.7  0.522901   0.600877  0.559184      0.704073        0.795261\n",
       "7       0.8  0.385496   0.677852  0.491484      0.662483        0.801896\n",
       "8       0.9  0.225191   0.766234  0.348083      0.601246        0.790521"
      ]
     },
     "execution_count": 68,
     "metadata": {},
     "output_type": "execute_result"
    }
   ],
   "source": [
    "threshold_score(clfrf, x_validation, y_validation, np.arange(0.1, 1, 0.1))"
   ]
  },
  {
   "cell_type": "code",
   "execution_count": 69,
   "id": "c626e5bc",
   "metadata": {},
   "outputs": [
    {
     "data": {
      "text/html": [
       "<div>\n",
       "<style scoped>\n",
       "    .dataframe tbody tr th:only-of-type {\n",
       "        vertical-align: middle;\n",
       "    }\n",
       "\n",
       "    .dataframe tbody tr th {\n",
       "        vertical-align: top;\n",
       "    }\n",
       "\n",
       "    .dataframe thead th {\n",
       "        text-align: right;\n",
       "    }\n",
       "</style>\n",
       "<table border=\"1\" class=\"dataframe\">\n",
       "  <thead>\n",
       "    <tr style=\"text-align: right;\">\n",
       "      <th></th>\n",
       "      <th>thresold</th>\n",
       "      <th>recall</th>\n",
       "      <th>precision</th>\n",
       "      <th>f1-score</th>\n",
       "      <th>RocAuc-score</th>\n",
       "      <th>Accuracy-score</th>\n",
       "    </tr>\n",
       "  </thead>\n",
       "  <tbody>\n",
       "    <tr>\n",
       "      <th>0</th>\n",
       "      <td>0.5</td>\n",
       "      <td>0.740458</td>\n",
       "      <td>0.553495</td>\n",
       "      <td>0.633469</td>\n",
       "      <td>0.743406</td>\n",
       "      <td>0.744596</td>\n",
       "    </tr>\n",
       "  </tbody>\n",
       "</table>\n",
       "</div>"
      ],
      "text/plain": [
       "   thresold    recall  precision  f1-score  RocAuc-score  Accuracy-score\n",
       "0       0.5  0.740458   0.553495  0.633469      0.743406        0.744596"
      ]
     },
     "execution_count": 69,
     "metadata": {},
     "output_type": "execute_result"
    }
   ],
   "source": [
    "threshold_score(clfrf, x_test, y_test, [0.5])"
   ]
  },
  {
   "cell_type": "code",
   "execution_count": 70,
   "id": "2585a8ae",
   "metadata": {},
   "outputs": [
    {
     "data": {
      "text/html": [
       "<div>\n",
       "<style scoped>\n",
       "    .dataframe tbody tr th:only-of-type {\n",
       "        vertical-align: middle;\n",
       "    }\n",
       "\n",
       "    .dataframe tbody tr th {\n",
       "        vertical-align: top;\n",
       "    }\n",
       "\n",
       "    .dataframe thead th {\n",
       "        text-align: right;\n",
       "    }\n",
       "</style>\n",
       "<table border=\"1\" class=\"dataframe\">\n",
       "  <thead>\n",
       "    <tr style=\"text-align: right;\">\n",
       "      <th></th>\n",
       "      <th>thresold</th>\n",
       "      <th>recall</th>\n",
       "      <th>precision</th>\n",
       "      <th>f1-score</th>\n",
       "      <th>RocAuc-score</th>\n",
       "      <th>Accuracy-score</th>\n",
       "    </tr>\n",
       "  </thead>\n",
       "  <tbody>\n",
       "    <tr>\n",
       "      <th>0</th>\n",
       "      <td>0.5</td>\n",
       "      <td>0.999077</td>\n",
       "      <td>0.999077</td>\n",
       "      <td>0.999077</td>\n",
       "      <td>0.999077</td>\n",
       "      <td>0.999077</td>\n",
       "    </tr>\n",
       "  </tbody>\n",
       "</table>\n",
       "</div>"
      ],
      "text/plain": [
       "   thresold    recall  precision  f1-score  RocAuc-score  Accuracy-score\n",
       "0       0.5  0.999077   0.999077  0.999077      0.999077        0.999077"
      ]
     },
     "execution_count": 70,
     "metadata": {},
     "output_type": "execute_result"
    }
   ],
   "source": [
    "threshold_score(clfrf, x_train, y_train, [0.5])"
   ]
  },
  {
   "cell_type": "markdown",
   "id": "d337bb0f",
   "metadata": {},
   "source": [
    "> Dengan menggunakan under sampling, threshold terbaik sekarang ada pada 0.5 namun untuk nilai f1 scorenya kurang lebih masih sama."
   ]
  },
  {
   "cell_type": "code",
   "execution_count": 71,
   "id": "78b1a07d",
   "metadata": {},
   "outputs": [],
   "source": [
    "status = 'Encoding and Undersampling'\n",
    "dfhasil = pd.concat([dfhasil,pd.DataFrame(['RandomForest',float(threshold_score(clfrf, x_test, y_test, [0.5])['f1-score']), float(threshold_score(clfrf, x_test, y_test, [0.5])['thresold']),status]).transpose()])"
   ]
  },
  {
   "cell_type": "markdown",
   "id": "0f5122e0",
   "metadata": {},
   "source": [
    "## Decision Tree Modelling 2\n",
    "***"
   ]
  },
  {
   "cell_type": "code",
   "execution_count": 72,
   "id": "41f336c4",
   "metadata": {},
   "outputs": [
    {
     "data": {
      "text/plain": [
       "DecisionTreeClassifier()"
      ]
     },
     "execution_count": 72,
     "metadata": {},
     "output_type": "execute_result"
    }
   ],
   "source": [
    "from sklearn.tree import DecisionTreeClassifier\n",
    "clfdt = DecisionTreeClassifier()\n",
    "clfdt.fit(x_train, y_train)"
   ]
  },
  {
   "cell_type": "code",
   "execution_count": 73,
   "id": "0f09934c",
   "metadata": {},
   "outputs": [
    {
     "data": {
      "text/html": [
       "<div>\n",
       "<style scoped>\n",
       "    .dataframe tbody tr th:only-of-type {\n",
       "        vertical-align: middle;\n",
       "    }\n",
       "\n",
       "    .dataframe tbody tr th {\n",
       "        vertical-align: top;\n",
       "    }\n",
       "\n",
       "    .dataframe thead th {\n",
       "        text-align: right;\n",
       "    }\n",
       "</style>\n",
       "<table border=\"1\" class=\"dataframe\">\n",
       "  <thead>\n",
       "    <tr style=\"text-align: right;\">\n",
       "      <th></th>\n",
       "      <th>thresold</th>\n",
       "      <th>recall</th>\n",
       "      <th>precision</th>\n",
       "      <th>f1-score</th>\n",
       "      <th>RocAuc-score</th>\n",
       "      <th>Accuracy-score</th>\n",
       "    </tr>\n",
       "  </thead>\n",
       "  <tbody>\n",
       "    <tr>\n",
       "      <th>0</th>\n",
       "      <td>0.1</td>\n",
       "      <td>0.679389</td>\n",
       "      <td>0.426859</td>\n",
       "      <td>0.524300</td>\n",
       "      <td>0.689001</td>\n",
       "      <td>0.693839</td>\n",
       "    </tr>\n",
       "    <tr>\n",
       "      <th>1</th>\n",
       "      <td>0.2</td>\n",
       "      <td>0.679389</td>\n",
       "      <td>0.426859</td>\n",
       "      <td>0.524300</td>\n",
       "      <td>0.689001</td>\n",
       "      <td>0.693839</td>\n",
       "    </tr>\n",
       "    <tr>\n",
       "      <th>2</th>\n",
       "      <td>0.3</td>\n",
       "      <td>0.679389</td>\n",
       "      <td>0.426859</td>\n",
       "      <td>0.524300</td>\n",
       "      <td>0.689001</td>\n",
       "      <td>0.693839</td>\n",
       "    </tr>\n",
       "    <tr>\n",
       "      <th>3</th>\n",
       "      <td>0.4</td>\n",
       "      <td>0.679389</td>\n",
       "      <td>0.426859</td>\n",
       "      <td>0.524300</td>\n",
       "      <td>0.689001</td>\n",
       "      <td>0.693839</td>\n",
       "    </tr>\n",
       "    <tr>\n",
       "      <th>4</th>\n",
       "      <td>0.5</td>\n",
       "      <td>0.679389</td>\n",
       "      <td>0.427885</td>\n",
       "      <td>0.525074</td>\n",
       "      <td>0.689632</td>\n",
       "      <td>0.694787</td>\n",
       "    </tr>\n",
       "    <tr>\n",
       "      <th>5</th>\n",
       "      <td>0.6</td>\n",
       "      <td>0.679389</td>\n",
       "      <td>0.427885</td>\n",
       "      <td>0.525074</td>\n",
       "      <td>0.689632</td>\n",
       "      <td>0.694787</td>\n",
       "    </tr>\n",
       "    <tr>\n",
       "      <th>6</th>\n",
       "      <td>0.7</td>\n",
       "      <td>0.679389</td>\n",
       "      <td>0.427885</td>\n",
       "      <td>0.525074</td>\n",
       "      <td>0.689632</td>\n",
       "      <td>0.694787</td>\n",
       "    </tr>\n",
       "    <tr>\n",
       "      <th>7</th>\n",
       "      <td>0.8</td>\n",
       "      <td>0.679389</td>\n",
       "      <td>0.427885</td>\n",
       "      <td>0.525074</td>\n",
       "      <td>0.689632</td>\n",
       "      <td>0.694787</td>\n",
       "    </tr>\n",
       "    <tr>\n",
       "      <th>8</th>\n",
       "      <td>0.9</td>\n",
       "      <td>0.679389</td>\n",
       "      <td>0.427885</td>\n",
       "      <td>0.525074</td>\n",
       "      <td>0.689632</td>\n",
       "      <td>0.694787</td>\n",
       "    </tr>\n",
       "  </tbody>\n",
       "</table>\n",
       "</div>"
      ],
      "text/plain": [
       "   thresold    recall  precision  f1-score  RocAuc-score  Accuracy-score\n",
       "0       0.1  0.679389   0.426859  0.524300      0.689001        0.693839\n",
       "1       0.2  0.679389   0.426859  0.524300      0.689001        0.693839\n",
       "2       0.3  0.679389   0.426859  0.524300      0.689001        0.693839\n",
       "3       0.4  0.679389   0.426859  0.524300      0.689001        0.693839\n",
       "4       0.5  0.679389   0.427885  0.525074      0.689632        0.694787\n",
       "5       0.6  0.679389   0.427885  0.525074      0.689632        0.694787\n",
       "6       0.7  0.679389   0.427885  0.525074      0.689632        0.694787\n",
       "7       0.8  0.679389   0.427885  0.525074      0.689632        0.694787\n",
       "8       0.9  0.679389   0.427885  0.525074      0.689632        0.694787"
      ]
     },
     "execution_count": 73,
     "metadata": {},
     "output_type": "execute_result"
    }
   ],
   "source": [
    "threshold_score(clfdt, x_validation, y_validation, np.arange(0.1, 1, 0.1))"
   ]
  },
  {
   "cell_type": "code",
   "execution_count": 74,
   "id": "a9d79f5c",
   "metadata": {},
   "outputs": [
    {
     "data": {
      "text/html": [
       "<div>\n",
       "<style scoped>\n",
       "    .dataframe tbody tr th:only-of-type {\n",
       "        vertical-align: middle;\n",
       "    }\n",
       "\n",
       "    .dataframe tbody tr th {\n",
       "        vertical-align: top;\n",
       "    }\n",
       "\n",
       "    .dataframe thead th {\n",
       "        text-align: right;\n",
       "    }\n",
       "</style>\n",
       "<table border=\"1\" class=\"dataframe\">\n",
       "  <thead>\n",
       "    <tr style=\"text-align: right;\">\n",
       "      <th></th>\n",
       "      <th>thresold</th>\n",
       "      <th>recall</th>\n",
       "      <th>precision</th>\n",
       "      <th>f1-score</th>\n",
       "      <th>RocAuc-score</th>\n",
       "      <th>Accuracy-score</th>\n",
       "    </tr>\n",
       "  </thead>\n",
       "  <tbody>\n",
       "    <tr>\n",
       "      <th>0</th>\n",
       "      <td>0.5</td>\n",
       "      <td>0.69084</td>\n",
       "      <td>0.49118</td>\n",
       "      <td>0.574148</td>\n",
       "      <td>0.693475</td>\n",
       "      <td>0.694539</td>\n",
       "    </tr>\n",
       "  </tbody>\n",
       "</table>\n",
       "</div>"
      ],
      "text/plain": [
       "   thresold   recall  precision  f1-score  RocAuc-score  Accuracy-score\n",
       "0       0.5  0.69084    0.49118  0.574148      0.693475        0.694539"
      ]
     },
     "execution_count": 74,
     "metadata": {},
     "output_type": "execute_result"
    }
   ],
   "source": [
    "threshold_score(clfdt, x_test, y_test, [0.5])"
   ]
  },
  {
   "cell_type": "code",
   "execution_count": 75,
   "id": "1fdd66ab",
   "metadata": {},
   "outputs": [
    {
     "data": {
      "text/html": [
       "<div>\n",
       "<style scoped>\n",
       "    .dataframe tbody tr th:only-of-type {\n",
       "        vertical-align: middle;\n",
       "    }\n",
       "\n",
       "    .dataframe tbody tr th {\n",
       "        vertical-align: top;\n",
       "    }\n",
       "\n",
       "    .dataframe thead th {\n",
       "        text-align: right;\n",
       "    }\n",
       "</style>\n",
       "<table border=\"1\" class=\"dataframe\">\n",
       "  <thead>\n",
       "    <tr style=\"text-align: right;\">\n",
       "      <th></th>\n",
       "      <th>thresold</th>\n",
       "      <th>recall</th>\n",
       "      <th>precision</th>\n",
       "      <th>f1-score</th>\n",
       "      <th>RocAuc-score</th>\n",
       "      <th>Accuracy-score</th>\n",
       "    </tr>\n",
       "  </thead>\n",
       "  <tbody>\n",
       "    <tr>\n",
       "      <th>0</th>\n",
       "      <td>0.5</td>\n",
       "      <td>0.999077</td>\n",
       "      <td>1.0</td>\n",
       "      <td>0.999538</td>\n",
       "      <td>0.999538</td>\n",
       "      <td>0.999538</td>\n",
       "    </tr>\n",
       "  </tbody>\n",
       "</table>\n",
       "</div>"
      ],
      "text/plain": [
       "   thresold    recall  precision  f1-score  RocAuc-score  Accuracy-score\n",
       "0       0.5  0.999077        1.0  0.999538      0.999538        0.999538"
      ]
     },
     "execution_count": 75,
     "metadata": {},
     "output_type": "execute_result"
    }
   ],
   "source": [
    "threshold_score(clfdt, x_train, y_train, [0.5])"
   ]
  },
  {
   "cell_type": "markdown",
   "id": "283a5bff",
   "metadata": {},
   "source": [
    "> Dengan undersampling, f1-score pada test data dengan menggunakan decision tree lebih tinggi dari baseline dan SMOTE yaitu hampir mencapai 0.6."
   ]
  },
  {
   "cell_type": "code",
   "execution_count": 76,
   "id": "5877524c",
   "metadata": {},
   "outputs": [],
   "source": [
    "dfhasil = pd.concat([dfhasil,pd.DataFrame(['DecisionTree',float(threshold_score(clfdt, x_test, y_test, [0.5])['f1-score']), float(threshold_score(clfdt, x_test, y_test, [0.5])['thresold']),status]).transpose()])"
   ]
  },
  {
   "cell_type": "markdown",
   "id": "429171d6",
   "metadata": {},
   "source": [
    "## XGBoost Modelling 2\n",
    "***"
   ]
  },
  {
   "cell_type": "code",
   "execution_count": 77,
   "id": "ec1f7134",
   "metadata": {},
   "outputs": [
    {
     "data": {
      "text/plain": [
       "XGBClassifier(base_score=None, booster=None, callbacks=None,\n",
       "              colsample_bylevel=None, colsample_bynode=None,\n",
       "              colsample_bytree=None, early_stopping_rounds=None,\n",
       "              enable_categorical=False, eval_metric=None, feature_types=None,\n",
       "              gamma=None, gpu_id=None, grow_policy=None, importance_type=None,\n",
       "              interaction_constraints=None, learning_rate=None, max_bin=None,\n",
       "              max_cat_threshold=None, max_cat_to_onehot=None,\n",
       "              max_delta_step=None, max_depth=None, max_leaves=None,\n",
       "              min_child_weight=None, missing=nan, monotone_constraints=None,\n",
       "              n_estimators=100, n_jobs=None, num_parallel_tree=None,\n",
       "              predictor=None, random_state=None, ...)"
      ]
     },
     "execution_count": 77,
     "metadata": {},
     "output_type": "execute_result"
    }
   ],
   "source": [
    "from xgboost import XGBClassifier \n",
    "clfxg = XGBClassifier()\n",
    "clfxg.fit(x_train, y_train)"
   ]
  },
  {
   "cell_type": "code",
   "execution_count": 78,
   "id": "6556118e",
   "metadata": {},
   "outputs": [
    {
     "data": {
      "text/html": [
       "<div>\n",
       "<style scoped>\n",
       "    .dataframe tbody tr th:only-of-type {\n",
       "        vertical-align: middle;\n",
       "    }\n",
       "\n",
       "    .dataframe tbody tr th {\n",
       "        vertical-align: top;\n",
       "    }\n",
       "\n",
       "    .dataframe thead th {\n",
       "        text-align: right;\n",
       "    }\n",
       "</style>\n",
       "<table border=\"1\" class=\"dataframe\">\n",
       "  <thead>\n",
       "    <tr style=\"text-align: right;\">\n",
       "      <th></th>\n",
       "      <th>thresold</th>\n",
       "      <th>recall</th>\n",
       "      <th>precision</th>\n",
       "      <th>f1-score</th>\n",
       "      <th>RocAuc-score</th>\n",
       "      <th>Accuracy-score</th>\n",
       "    </tr>\n",
       "  </thead>\n",
       "  <tbody>\n",
       "    <tr>\n",
       "      <th>0</th>\n",
       "      <td>0.1</td>\n",
       "      <td>0.942748</td>\n",
       "      <td>0.355396</td>\n",
       "      <td>0.516196</td>\n",
       "      <td>0.688902</td>\n",
       "      <td>0.561137</td>\n",
       "    </tr>\n",
       "    <tr>\n",
       "      <th>1</th>\n",
       "      <td>0.2</td>\n",
       "      <td>0.919847</td>\n",
       "      <td>0.387460</td>\n",
       "      <td>0.545249</td>\n",
       "      <td>0.719697</td>\n",
       "      <td>0.618957</td>\n",
       "    </tr>\n",
       "    <tr>\n",
       "      <th>2</th>\n",
       "      <td>0.3</td>\n",
       "      <td>0.874046</td>\n",
       "      <td>0.416364</td>\n",
       "      <td>0.564039</td>\n",
       "      <td>0.734627</td>\n",
       "      <td>0.664455</td>\n",
       "    </tr>\n",
       "    <tr>\n",
       "      <th>3</th>\n",
       "      <td>0.4</td>\n",
       "      <td>0.828244</td>\n",
       "      <td>0.451143</td>\n",
       "      <td>0.584118</td>\n",
       "      <td>0.747666</td>\n",
       "      <td>0.707109</td>\n",
       "    </tr>\n",
       "    <tr>\n",
       "      <th>4</th>\n",
       "      <td>0.5</td>\n",
       "      <td>0.740458</td>\n",
       "      <td>0.460808</td>\n",
       "      <td>0.568082</td>\n",
       "      <td>0.727102</td>\n",
       "      <td>0.720379</td>\n",
       "    </tr>\n",
       "    <tr>\n",
       "      <th>5</th>\n",
       "      <td>0.6</td>\n",
       "      <td>0.679389</td>\n",
       "      <td>0.493075</td>\n",
       "      <td>0.571429</td>\n",
       "      <td>0.724310</td>\n",
       "      <td>0.746919</td>\n",
       "    </tr>\n",
       "    <tr>\n",
       "      <th>6</th>\n",
       "      <td>0.7</td>\n",
       "      <td>0.568702</td>\n",
       "      <td>0.519164</td>\n",
       "      <td>0.542805</td>\n",
       "      <td>0.697340</td>\n",
       "      <td>0.762085</td>\n",
       "    </tr>\n",
       "    <tr>\n",
       "      <th>7</th>\n",
       "      <td>0.8</td>\n",
       "      <td>0.488550</td>\n",
       "      <td>0.592593</td>\n",
       "      <td>0.535565</td>\n",
       "      <td>0.688789</td>\n",
       "      <td>0.789573</td>\n",
       "    </tr>\n",
       "    <tr>\n",
       "      <th>8</th>\n",
       "      <td>0.9</td>\n",
       "      <td>0.316794</td>\n",
       "      <td>0.685950</td>\n",
       "      <td>0.433420</td>\n",
       "      <td>0.634437</td>\n",
       "      <td>0.794313</td>\n",
       "    </tr>\n",
       "  </tbody>\n",
       "</table>\n",
       "</div>"
      ],
      "text/plain": [
       "   thresold    recall  precision  f1-score  RocAuc-score  Accuracy-score\n",
       "0       0.1  0.942748   0.355396  0.516196      0.688902        0.561137\n",
       "1       0.2  0.919847   0.387460  0.545249      0.719697        0.618957\n",
       "2       0.3  0.874046   0.416364  0.564039      0.734627        0.664455\n",
       "3       0.4  0.828244   0.451143  0.584118      0.747666        0.707109\n",
       "4       0.5  0.740458   0.460808  0.568082      0.727102        0.720379\n",
       "5       0.6  0.679389   0.493075  0.571429      0.724310        0.746919\n",
       "6       0.7  0.568702   0.519164  0.542805      0.697340        0.762085\n",
       "7       0.8  0.488550   0.592593  0.535565      0.688789        0.789573\n",
       "8       0.9  0.316794   0.685950  0.433420      0.634437        0.794313"
      ]
     },
     "execution_count": 78,
     "metadata": {},
     "output_type": "execute_result"
    }
   ],
   "source": [
    "threshold_score(clfxg, x_validation, y_validation, np.arange(0.1, 1, 0.1))"
   ]
  },
  {
   "cell_type": "code",
   "execution_count": 79,
   "id": "7d9297ce",
   "metadata": {},
   "outputs": [
    {
     "data": {
      "text/html": [
       "<div>\n",
       "<style scoped>\n",
       "    .dataframe tbody tr th:only-of-type {\n",
       "        vertical-align: middle;\n",
       "    }\n",
       "\n",
       "    .dataframe tbody tr th {\n",
       "        vertical-align: top;\n",
       "    }\n",
       "\n",
       "    .dataframe thead th {\n",
       "        text-align: right;\n",
       "    }\n",
       "</style>\n",
       "<table border=\"1\" class=\"dataframe\">\n",
       "  <thead>\n",
       "    <tr style=\"text-align: right;\">\n",
       "      <th></th>\n",
       "      <th>thresold</th>\n",
       "      <th>recall</th>\n",
       "      <th>precision</th>\n",
       "      <th>f1-score</th>\n",
       "      <th>RocAuc-score</th>\n",
       "      <th>Accuracy-score</th>\n",
       "    </tr>\n",
       "  </thead>\n",
       "  <tbody>\n",
       "    <tr>\n",
       "      <th>0</th>\n",
       "      <td>0.6</td>\n",
       "      <td>0.692748</td>\n",
       "      <td>0.57346</td>\n",
       "      <td>0.627485</td>\n",
       "      <td>0.736974</td>\n",
       "      <td>0.754835</td>\n",
       "    </tr>\n",
       "  </tbody>\n",
       "</table>\n",
       "</div>"
      ],
      "text/plain": [
       "   thresold    recall  precision  f1-score  RocAuc-score  Accuracy-score\n",
       "0       0.6  0.692748    0.57346  0.627485      0.736974        0.754835"
      ]
     },
     "execution_count": 79,
     "metadata": {},
     "output_type": "execute_result"
    }
   ],
   "source": [
    "threshold_score(clfxg, x_test, y_test, [0.6])"
   ]
  },
  {
   "cell_type": "code",
   "execution_count": 80,
   "id": "c44a3346",
   "metadata": {},
   "outputs": [
    {
     "data": {
      "text/html": [
       "<div>\n",
       "<style scoped>\n",
       "    .dataframe tbody tr th:only-of-type {\n",
       "        vertical-align: middle;\n",
       "    }\n",
       "\n",
       "    .dataframe tbody tr th {\n",
       "        vertical-align: top;\n",
       "    }\n",
       "\n",
       "    .dataframe thead th {\n",
       "        text-align: right;\n",
       "    }\n",
       "</style>\n",
       "<table border=\"1\" class=\"dataframe\">\n",
       "  <thead>\n",
       "    <tr style=\"text-align: right;\">\n",
       "      <th></th>\n",
       "      <th>thresold</th>\n",
       "      <th>recall</th>\n",
       "      <th>precision</th>\n",
       "      <th>f1-score</th>\n",
       "      <th>RocAuc-score</th>\n",
       "      <th>Accuracy-score</th>\n",
       "    </tr>\n",
       "  </thead>\n",
       "  <tbody>\n",
       "    <tr>\n",
       "      <th>0</th>\n",
       "      <td>0.6</td>\n",
       "      <td>0.967682</td>\n",
       "      <td>0.984038</td>\n",
       "      <td>0.975791</td>\n",
       "      <td>0.975993</td>\n",
       "      <td>0.975993</td>\n",
       "    </tr>\n",
       "  </tbody>\n",
       "</table>\n",
       "</div>"
      ],
      "text/plain": [
       "   thresold    recall  precision  f1-score  RocAuc-score  Accuracy-score\n",
       "0       0.6  0.967682   0.984038  0.975791      0.975993        0.975993"
      ]
     },
     "execution_count": 80,
     "metadata": {},
     "output_type": "execute_result"
    }
   ],
   "source": [
    "threshold_score(clfxg, x_train, y_train, [0.6])"
   ]
  },
  {
   "cell_type": "markdown",
   "id": "83ca52bd",
   "metadata": {},
   "source": [
    "> Threshold tertinggi berdasarkan f1 score ada pada 0.6, dan nilai f1-score pada test data ada di 0.62 dan 0.98 pada train data."
   ]
  },
  {
   "cell_type": "code",
   "execution_count": 81,
   "id": "cf9967e9",
   "metadata": {},
   "outputs": [],
   "source": [
    "dfhasil = pd.concat([dfhasil,pd.DataFrame(['XGBoost',float(threshold_score(clfxg, x_test, y_test, [0.6])['f1-score']), float(threshold_score(clfxg, x_test, y_test, [0.6])['thresold']),status]).transpose()])"
   ]
  },
  {
   "cell_type": "markdown",
   "id": "367e0d6f",
   "metadata": {},
   "source": [
    "## Data Pre-Processing 3\n",
    "***\n",
    "> Saya akan melakukan encoding, feature creation dan scaling."
   ]
  },
  {
   "cell_type": "code",
   "execution_count": 82,
   "id": "0a6a7023",
   "metadata": {},
   "outputs": [],
   "source": [
    "df1 = df.copy()"
   ]
  },
  {
   "cell_type": "code",
   "execution_count": 83,
   "id": "42a36990",
   "metadata": {},
   "outputs": [],
   "source": [
    "convert = {\n",
    "    'Yes':1,\n",
    "    'No':0,\n",
    "    'No phone service':0,\n",
    "    'Male':1,\n",
    "    'Female':0,\n",
    "    'Month-to-month':1,\n",
    "    'One year':2,\n",
    "    'Two year':3,\n",
    "    'No internet service':0\n",
    "}\n",
    "kolom = ['gender','Partner','Dependents','PhoneService','MultipleLines','OnlineSecurity','OnlineBackup','DeviceProtection','TechSupport','StreamingTV','StreamingMovies','Contract','PaperlessBilling','Churn']"
   ]
  },
  {
   "cell_type": "code",
   "execution_count": 84,
   "id": "744f03b2",
   "metadata": {},
   "outputs": [],
   "source": [
    "df1['TotalBenefits'] = df.loc[:,'OnlineSecurity':'StreamingMovies'].apply(lambda x: list(x).count('Yes'),axis=1)"
   ]
  },
  {
   "cell_type": "code",
   "execution_count": 85,
   "id": "769aa058",
   "metadata": {},
   "outputs": [],
   "source": [
    "for x in kolom:\n",
    "    df1[x] = df[x].map(convert)"
   ]
  },
  {
   "cell_type": "code",
   "execution_count": 86,
   "id": "c414a62e",
   "metadata": {},
   "outputs": [],
   "source": [
    "df1 = pd.get_dummies(df1, columns = ['InternetService', 'PaymentMethod'])"
   ]
  },
  {
   "cell_type": "markdown",
   "id": "a6b90f50",
   "metadata": {},
   "source": [
    "> Rata-rata kategorikal kolom diconvert ke binary, sedangkan untuk contract dilakukan ordinal encoding. Untuk InternetService dan PaymentMethod dilakukan One Hot Encoding."
   ]
  },
  {
   "cell_type": "code",
   "execution_count": 87,
   "id": "44ee0431",
   "metadata": {},
   "outputs": [],
   "source": [
    "#scaling\n",
    "from sklearn.preprocessing import StandardScaler\n",
    "df1['tenure'] = StandardScaler().fit_transform(df1['tenure'].values.reshape(len(df1), 1))\n",
    "df1['MonthlyCharges'] = StandardScaler().fit_transform(df1['MonthlyCharges'].values.reshape(len(df1), 1))\n",
    "df1['TotalCharges'] = StandardScaler().fit_transform(df1['TotalCharges'].values.reshape(len(df1), 1))\n",
    "df1['TotalBenefits'] = StandardScaler().fit_transform(df1['TotalBenefits'].values.reshape(len(df1), 1))"
   ]
  },
  {
   "cell_type": "code",
   "execution_count": 88,
   "id": "2af507b1",
   "metadata": {},
   "outputs": [],
   "source": [
    "x = df1.drop(columns=['Churn'])\n",
    "y = df1['Churn']"
   ]
  },
  {
   "cell_type": "code",
   "execution_count": 89,
   "id": "a0a2103e",
   "metadata": {},
   "outputs": [],
   "source": [
    "x_pretrain, x_test, y_pretrain, y_test = train_test_split(x, y, test_size = 0.25, random_state=123)\n",
    "x_train, x_validation, y_train, y_validation = train_test_split(x_pretrain, y_pretrain, test_size = 0.20, random_state=123)"
   ]
  },
  {
   "cell_type": "code",
   "execution_count": 90,
   "id": "f912d0c9",
   "metadata": {},
   "outputs": [
    {
     "data": {
      "text/plain": [
       "0    3136\n",
       "1    1083\n",
       "Name: Churn, dtype: int64"
      ]
     },
     "execution_count": 90,
     "metadata": {},
     "output_type": "execute_result"
    }
   ],
   "source": [
    "y_train.value_counts()"
   ]
  },
  {
   "cell_type": "markdown",
   "id": "a0640c9c",
   "metadata": {},
   "source": [
    "## Random Forest Modelling 3\n",
    "***"
   ]
  },
  {
   "cell_type": "code",
   "execution_count": 91,
   "id": "4d9df0c3",
   "metadata": {},
   "outputs": [
    {
     "data": {
      "text/plain": [
       "RandomForestClassifier()"
      ]
     },
     "execution_count": 91,
     "metadata": {},
     "output_type": "execute_result"
    }
   ],
   "source": [
    "from sklearn.ensemble import RandomForestClassifier\n",
    "clfrf = RandomForestClassifier()\n",
    "clfrf.fit(x_train, y_train)"
   ]
  },
  {
   "cell_type": "code",
   "execution_count": 92,
   "id": "3fcab23a",
   "metadata": {},
   "outputs": [
    {
     "data": {
      "text/html": [
       "<div>\n",
       "<style scoped>\n",
       "    .dataframe tbody tr th:only-of-type {\n",
       "        vertical-align: middle;\n",
       "    }\n",
       "\n",
       "    .dataframe tbody tr th {\n",
       "        vertical-align: top;\n",
       "    }\n",
       "\n",
       "    .dataframe thead th {\n",
       "        text-align: right;\n",
       "    }\n",
       "</style>\n",
       "<table border=\"1\" class=\"dataframe\">\n",
       "  <thead>\n",
       "    <tr style=\"text-align: right;\">\n",
       "      <th></th>\n",
       "      <th>thresold</th>\n",
       "      <th>recall</th>\n",
       "      <th>precision</th>\n",
       "      <th>f1-score</th>\n",
       "      <th>RocAuc-score</th>\n",
       "      <th>Accuracy-score</th>\n",
       "    </tr>\n",
       "  </thead>\n",
       "  <tbody>\n",
       "    <tr>\n",
       "      <th>0</th>\n",
       "      <td>0.1</td>\n",
       "      <td>0.946565</td>\n",
       "      <td>0.376328</td>\n",
       "      <td>0.538545</td>\n",
       "      <td>0.714140</td>\n",
       "      <td>0.597156</td>\n",
       "    </tr>\n",
       "    <tr>\n",
       "      <th>1</th>\n",
       "      <td>0.2</td>\n",
       "      <td>0.828244</td>\n",
       "      <td>0.456842</td>\n",
       "      <td>0.588874</td>\n",
       "      <td>0.751449</td>\n",
       "      <td>0.712796</td>\n",
       "    </tr>\n",
       "    <tr>\n",
       "      <th>2</th>\n",
       "      <td>0.3</td>\n",
       "      <td>0.709924</td>\n",
       "      <td>0.510989</td>\n",
       "      <td>0.594249</td>\n",
       "      <td>0.742730</td>\n",
       "      <td>0.759242</td>\n",
       "    </tr>\n",
       "    <tr>\n",
       "      <th>3</th>\n",
       "      <td>0.4</td>\n",
       "      <td>0.561069</td>\n",
       "      <td>0.550562</td>\n",
       "      <td>0.555766</td>\n",
       "      <td>0.704872</td>\n",
       "      <td>0.777251</td>\n",
       "    </tr>\n",
       "    <tr>\n",
       "      <th>4</th>\n",
       "      <td>0.5</td>\n",
       "      <td>0.450382</td>\n",
       "      <td>0.634409</td>\n",
       "      <td>0.526786</td>\n",
       "      <td>0.682316</td>\n",
       "      <td>0.799052</td>\n",
       "    </tr>\n",
       "    <tr>\n",
       "      <th>5</th>\n",
       "      <td>0.6</td>\n",
       "      <td>0.351145</td>\n",
       "      <td>0.736000</td>\n",
       "      <td>0.475452</td>\n",
       "      <td>0.654765</td>\n",
       "      <td>0.807583</td>\n",
       "    </tr>\n",
       "    <tr>\n",
       "      <th>6</th>\n",
       "      <td>0.7</td>\n",
       "      <td>0.255725</td>\n",
       "      <td>0.761364</td>\n",
       "      <td>0.382857</td>\n",
       "      <td>0.614622</td>\n",
       "      <td>0.795261</td>\n",
       "    </tr>\n",
       "    <tr>\n",
       "      <th>7</th>\n",
       "      <td>0.8</td>\n",
       "      <td>0.152672</td>\n",
       "      <td>0.851064</td>\n",
       "      <td>0.258900</td>\n",
       "      <td>0.571922</td>\n",
       "      <td>0.782938</td>\n",
       "    </tr>\n",
       "    <tr>\n",
       "      <th>8</th>\n",
       "      <td>0.9</td>\n",
       "      <td>0.068702</td>\n",
       "      <td>1.000000</td>\n",
       "      <td>0.128571</td>\n",
       "      <td>0.534351</td>\n",
       "      <td>0.768720</td>\n",
       "    </tr>\n",
       "  </tbody>\n",
       "</table>\n",
       "</div>"
      ],
      "text/plain": [
       "   thresold    recall  precision  f1-score  RocAuc-score  Accuracy-score\n",
       "0       0.1  0.946565   0.376328  0.538545      0.714140        0.597156\n",
       "1       0.2  0.828244   0.456842  0.588874      0.751449        0.712796\n",
       "2       0.3  0.709924   0.510989  0.594249      0.742730        0.759242\n",
       "3       0.4  0.561069   0.550562  0.555766      0.704872        0.777251\n",
       "4       0.5  0.450382   0.634409  0.526786      0.682316        0.799052\n",
       "5       0.6  0.351145   0.736000  0.475452      0.654765        0.807583\n",
       "6       0.7  0.255725   0.761364  0.382857      0.614622        0.795261\n",
       "7       0.8  0.152672   0.851064  0.258900      0.571922        0.782938\n",
       "8       0.9  0.068702   1.000000  0.128571      0.534351        0.768720"
      ]
     },
     "execution_count": 92,
     "metadata": {},
     "output_type": "execute_result"
    }
   ],
   "source": [
    "threshold_score(clfrf, x_validation, y_validation, np.arange(0.1, 1, 0.1))"
   ]
  },
  {
   "cell_type": "code",
   "execution_count": 93,
   "id": "594935b6",
   "metadata": {},
   "outputs": [
    {
     "data": {
      "text/html": [
       "<div>\n",
       "<style scoped>\n",
       "    .dataframe tbody tr th:only-of-type {\n",
       "        vertical-align: middle;\n",
       "    }\n",
       "\n",
       "    .dataframe tbody tr th {\n",
       "        vertical-align: top;\n",
       "    }\n",
       "\n",
       "    .dataframe thead th {\n",
       "        text-align: right;\n",
       "    }\n",
       "</style>\n",
       "<table border=\"1\" class=\"dataframe\">\n",
       "  <thead>\n",
       "    <tr style=\"text-align: right;\">\n",
       "      <th></th>\n",
       "      <th>thresold</th>\n",
       "      <th>recall</th>\n",
       "      <th>precision</th>\n",
       "      <th>f1-score</th>\n",
       "      <th>RocAuc-score</th>\n",
       "      <th>Accuracy-score</th>\n",
       "    </tr>\n",
       "  </thead>\n",
       "  <tbody>\n",
       "    <tr>\n",
       "      <th>0</th>\n",
       "      <td>0.3</td>\n",
       "      <td>0.696565</td>\n",
       "      <td>0.576619</td>\n",
       "      <td>0.630942</td>\n",
       "      <td>0.739692</td>\n",
       "      <td>0.75711</td>\n",
       "    </tr>\n",
       "  </tbody>\n",
       "</table>\n",
       "</div>"
      ],
      "text/plain": [
       "   thresold    recall  precision  f1-score  RocAuc-score  Accuracy-score\n",
       "0       0.3  0.696565   0.576619  0.630942      0.739692         0.75711"
      ]
     },
     "execution_count": 93,
     "metadata": {},
     "output_type": "execute_result"
    }
   ],
   "source": [
    "threshold_score(clfrf, x_test, y_test, [0.3])"
   ]
  },
  {
   "cell_type": "code",
   "execution_count": 94,
   "id": "375aebbc",
   "metadata": {},
   "outputs": [
    {
     "data": {
      "text/html": [
       "<div>\n",
       "<style scoped>\n",
       "    .dataframe tbody tr th:only-of-type {\n",
       "        vertical-align: middle;\n",
       "    }\n",
       "\n",
       "    .dataframe tbody tr th {\n",
       "        vertical-align: top;\n",
       "    }\n",
       "\n",
       "    .dataframe thead th {\n",
       "        text-align: right;\n",
       "    }\n",
       "</style>\n",
       "<table border=\"1\" class=\"dataframe\">\n",
       "  <thead>\n",
       "    <tr style=\"text-align: right;\">\n",
       "      <th></th>\n",
       "      <th>thresold</th>\n",
       "      <th>recall</th>\n",
       "      <th>precision</th>\n",
       "      <th>f1-score</th>\n",
       "      <th>RocAuc-score</th>\n",
       "      <th>Accuracy-score</th>\n",
       "    </tr>\n",
       "  </thead>\n",
       "  <tbody>\n",
       "    <tr>\n",
       "      <th>0</th>\n",
       "      <td>0.3</td>\n",
       "      <td>1.0</td>\n",
       "      <td>0.952507</td>\n",
       "      <td>0.975676</td>\n",
       "      <td>0.99139</td>\n",
       "      <td>0.987201</td>\n",
       "    </tr>\n",
       "  </tbody>\n",
       "</table>\n",
       "</div>"
      ],
      "text/plain": [
       "   thresold  recall  precision  f1-score  RocAuc-score  Accuracy-score\n",
       "0       0.3     1.0   0.952507  0.975676       0.99139        0.987201"
      ]
     },
     "execution_count": 94,
     "metadata": {},
     "output_type": "execute_result"
    }
   ],
   "source": [
    "threshold_score(clfrf, x_train, y_train, [0.3])"
   ]
  },
  {
   "cell_type": "markdown",
   "id": "79681741",
   "metadata": {},
   "source": [
    "> Setelah kita melakukan scaling dan membuat 1 fitur baru, hasil f1-score pada test data malah sedikit berkurang."
   ]
  },
  {
   "cell_type": "code",
   "execution_count": 95,
   "id": "80faf44d",
   "metadata": {},
   "outputs": [],
   "source": [
    "status = 'Encoding,FeatureCreation,Scaling'\n",
    "dfhasil = pd.concat([dfhasil,pd.DataFrame(['RandomForest',float(threshold_score(clfrf, x_test, y_test, [0.3])['f1-score']), float(threshold_score(clfrf, x_test, y_test, [0.3])['thresold']),status]).transpose()])"
   ]
  },
  {
   "cell_type": "markdown",
   "id": "ba264d46",
   "metadata": {},
   "source": [
    "## Decision Tree Modelling 3\n",
    "***"
   ]
  },
  {
   "cell_type": "code",
   "execution_count": 96,
   "id": "944c0bd5",
   "metadata": {},
   "outputs": [
    {
     "data": {
      "text/plain": [
       "DecisionTreeClassifier()"
      ]
     },
     "execution_count": 96,
     "metadata": {},
     "output_type": "execute_result"
    }
   ],
   "source": [
    "from sklearn.tree import DecisionTreeClassifier\n",
    "clfdt = DecisionTreeClassifier()\n",
    "clfdt.fit(x_train, y_train)"
   ]
  },
  {
   "cell_type": "code",
   "execution_count": 97,
   "id": "73e89880",
   "metadata": {},
   "outputs": [
    {
     "data": {
      "text/html": [
       "<div>\n",
       "<style scoped>\n",
       "    .dataframe tbody tr th:only-of-type {\n",
       "        vertical-align: middle;\n",
       "    }\n",
       "\n",
       "    .dataframe tbody tr th {\n",
       "        vertical-align: top;\n",
       "    }\n",
       "\n",
       "    .dataframe thead th {\n",
       "        text-align: right;\n",
       "    }\n",
       "</style>\n",
       "<table border=\"1\" class=\"dataframe\">\n",
       "  <thead>\n",
       "    <tr style=\"text-align: right;\">\n",
       "      <th></th>\n",
       "      <th>thresold</th>\n",
       "      <th>recall</th>\n",
       "      <th>precision</th>\n",
       "      <th>f1-score</th>\n",
       "      <th>RocAuc-score</th>\n",
       "      <th>Accuracy-score</th>\n",
       "    </tr>\n",
       "  </thead>\n",
       "  <tbody>\n",
       "    <tr>\n",
       "      <th>0</th>\n",
       "      <td>0.1</td>\n",
       "      <td>0.458015</td>\n",
       "      <td>0.466926</td>\n",
       "      <td>0.462428</td>\n",
       "      <td>0.642627</td>\n",
       "      <td>0.735545</td>\n",
       "    </tr>\n",
       "    <tr>\n",
       "      <th>1</th>\n",
       "      <td>0.2</td>\n",
       "      <td>0.458015</td>\n",
       "      <td>0.466926</td>\n",
       "      <td>0.462428</td>\n",
       "      <td>0.642627</td>\n",
       "      <td>0.735545</td>\n",
       "    </tr>\n",
       "    <tr>\n",
       "      <th>2</th>\n",
       "      <td>0.3</td>\n",
       "      <td>0.458015</td>\n",
       "      <td>0.466926</td>\n",
       "      <td>0.462428</td>\n",
       "      <td>0.642627</td>\n",
       "      <td>0.735545</td>\n",
       "    </tr>\n",
       "    <tr>\n",
       "      <th>3</th>\n",
       "      <td>0.4</td>\n",
       "      <td>0.458015</td>\n",
       "      <td>0.466926</td>\n",
       "      <td>0.462428</td>\n",
       "      <td>0.642627</td>\n",
       "      <td>0.735545</td>\n",
       "    </tr>\n",
       "    <tr>\n",
       "      <th>4</th>\n",
       "      <td>0.5</td>\n",
       "      <td>0.458015</td>\n",
       "      <td>0.466926</td>\n",
       "      <td>0.462428</td>\n",
       "      <td>0.642627</td>\n",
       "      <td>0.735545</td>\n",
       "    </tr>\n",
       "    <tr>\n",
       "      <th>5</th>\n",
       "      <td>0.6</td>\n",
       "      <td>0.458015</td>\n",
       "      <td>0.466926</td>\n",
       "      <td>0.462428</td>\n",
       "      <td>0.642627</td>\n",
       "      <td>0.735545</td>\n",
       "    </tr>\n",
       "    <tr>\n",
       "      <th>6</th>\n",
       "      <td>0.7</td>\n",
       "      <td>0.458015</td>\n",
       "      <td>0.466926</td>\n",
       "      <td>0.462428</td>\n",
       "      <td>0.642627</td>\n",
       "      <td>0.735545</td>\n",
       "    </tr>\n",
       "    <tr>\n",
       "      <th>7</th>\n",
       "      <td>0.8</td>\n",
       "      <td>0.458015</td>\n",
       "      <td>0.466926</td>\n",
       "      <td>0.462428</td>\n",
       "      <td>0.642627</td>\n",
       "      <td>0.735545</td>\n",
       "    </tr>\n",
       "    <tr>\n",
       "      <th>8</th>\n",
       "      <td>0.9</td>\n",
       "      <td>0.458015</td>\n",
       "      <td>0.466926</td>\n",
       "      <td>0.462428</td>\n",
       "      <td>0.642627</td>\n",
       "      <td>0.735545</td>\n",
       "    </tr>\n",
       "  </tbody>\n",
       "</table>\n",
       "</div>"
      ],
      "text/plain": [
       "   thresold    recall  precision  f1-score  RocAuc-score  Accuracy-score\n",
       "0       0.1  0.458015   0.466926  0.462428      0.642627        0.735545\n",
       "1       0.2  0.458015   0.466926  0.462428      0.642627        0.735545\n",
       "2       0.3  0.458015   0.466926  0.462428      0.642627        0.735545\n",
       "3       0.4  0.458015   0.466926  0.462428      0.642627        0.735545\n",
       "4       0.5  0.458015   0.466926  0.462428      0.642627        0.735545\n",
       "5       0.6  0.458015   0.466926  0.462428      0.642627        0.735545\n",
       "6       0.7  0.458015   0.466926  0.462428      0.642627        0.735545\n",
       "7       0.8  0.458015   0.466926  0.462428      0.642627        0.735545\n",
       "8       0.9  0.458015   0.466926  0.462428      0.642627        0.735545"
      ]
     },
     "execution_count": 97,
     "metadata": {},
     "output_type": "execute_result"
    }
   ],
   "source": [
    "threshold_score(clfdt, x_validation, y_validation, np.arange(0.1, 1, 0.1))"
   ]
  },
  {
   "cell_type": "code",
   "execution_count": 98,
   "id": "895a6319",
   "metadata": {},
   "outputs": [
    {
     "data": {
      "text/html": [
       "<div>\n",
       "<style scoped>\n",
       "    .dataframe tbody tr th:only-of-type {\n",
       "        vertical-align: middle;\n",
       "    }\n",
       "\n",
       "    .dataframe tbody tr th {\n",
       "        vertical-align: top;\n",
       "    }\n",
       "\n",
       "    .dataframe thead th {\n",
       "        text-align: right;\n",
       "    }\n",
       "</style>\n",
       "<table border=\"1\" class=\"dataframe\">\n",
       "  <thead>\n",
       "    <tr style=\"text-align: right;\">\n",
       "      <th></th>\n",
       "      <th>thresold</th>\n",
       "      <th>recall</th>\n",
       "      <th>precision</th>\n",
       "      <th>f1-score</th>\n",
       "      <th>RocAuc-score</th>\n",
       "      <th>Accuracy-score</th>\n",
       "    </tr>\n",
       "  </thead>\n",
       "  <tbody>\n",
       "    <tr>\n",
       "      <th>0</th>\n",
       "      <td>0.5</td>\n",
       "      <td>0.492366</td>\n",
       "      <td>0.538622</td>\n",
       "      <td>0.514457</td>\n",
       "      <td>0.656637</td>\n",
       "      <td>0.722981</td>\n",
       "    </tr>\n",
       "  </tbody>\n",
       "</table>\n",
       "</div>"
      ],
      "text/plain": [
       "   thresold    recall  precision  f1-score  RocAuc-score  Accuracy-score\n",
       "0       0.5  0.492366   0.538622  0.514457      0.656637        0.722981"
      ]
     },
     "execution_count": 98,
     "metadata": {},
     "output_type": "execute_result"
    }
   ],
   "source": [
    "threshold_score(clfdt, x_test, y_test, [0.5])"
   ]
  },
  {
   "cell_type": "code",
   "execution_count": 99,
   "id": "9fd78c3b",
   "metadata": {},
   "outputs": [
    {
     "data": {
      "text/html": [
       "<div>\n",
       "<style scoped>\n",
       "    .dataframe tbody tr th:only-of-type {\n",
       "        vertical-align: middle;\n",
       "    }\n",
       "\n",
       "    .dataframe tbody tr th {\n",
       "        vertical-align: top;\n",
       "    }\n",
       "\n",
       "    .dataframe thead th {\n",
       "        text-align: right;\n",
       "    }\n",
       "</style>\n",
       "<table border=\"1\" class=\"dataframe\">\n",
       "  <thead>\n",
       "    <tr style=\"text-align: right;\">\n",
       "      <th></th>\n",
       "      <th>thresold</th>\n",
       "      <th>recall</th>\n",
       "      <th>precision</th>\n",
       "      <th>f1-score</th>\n",
       "      <th>RocAuc-score</th>\n",
       "      <th>Accuracy-score</th>\n",
       "    </tr>\n",
       "  </thead>\n",
       "  <tbody>\n",
       "    <tr>\n",
       "      <th>0</th>\n",
       "      <td>0.5</td>\n",
       "      <td>0.99446</td>\n",
       "      <td>1.0</td>\n",
       "      <td>0.997222</td>\n",
       "      <td>0.99723</td>\n",
       "      <td>0.998578</td>\n",
       "    </tr>\n",
       "  </tbody>\n",
       "</table>\n",
       "</div>"
      ],
      "text/plain": [
       "   thresold   recall  precision  f1-score  RocAuc-score  Accuracy-score\n",
       "0       0.5  0.99446        1.0  0.997222       0.99723        0.998578"
      ]
     },
     "execution_count": 99,
     "metadata": {},
     "output_type": "execute_result"
    }
   ],
   "source": [
    "threshold_score(clfdt, x_train, y_train, [0.5])"
   ]
  },
  {
   "cell_type": "markdown",
   "id": "0581577e",
   "metadata": {},
   "source": [
    "> tidak ada perubahan yang signifikan juga pada decision tree."
   ]
  },
  {
   "cell_type": "code",
   "execution_count": 100,
   "id": "32166a26",
   "metadata": {},
   "outputs": [],
   "source": [
    "dfhasil = pd.concat([dfhasil,pd.DataFrame(['DecisionTree',float(threshold_score(clfdt, x_test, y_test, [0.5])['f1-score']), float(threshold_score(clfdt, x_test, y_test, [0.5])['thresold']),status]).transpose()])"
   ]
  },
  {
   "cell_type": "markdown",
   "id": "97cb8d09",
   "metadata": {},
   "source": [
    "## XGBoost Modelling 3\n",
    "***"
   ]
  },
  {
   "cell_type": "code",
   "execution_count": 101,
   "id": "24f91052",
   "metadata": {},
   "outputs": [
    {
     "data": {
      "text/plain": [
       "XGBClassifier(base_score=None, booster=None, callbacks=None,\n",
       "              colsample_bylevel=None, colsample_bynode=None,\n",
       "              colsample_bytree=None, early_stopping_rounds=None,\n",
       "              enable_categorical=False, eval_metric=None, feature_types=None,\n",
       "              gamma=None, gpu_id=None, grow_policy=None, importance_type=None,\n",
       "              interaction_constraints=None, learning_rate=None, max_bin=None,\n",
       "              max_cat_threshold=None, max_cat_to_onehot=None,\n",
       "              max_delta_step=None, max_depth=None, max_leaves=None,\n",
       "              min_child_weight=None, missing=nan, monotone_constraints=None,\n",
       "              n_estimators=100, n_jobs=None, num_parallel_tree=None,\n",
       "              predictor=None, random_state=None, ...)"
      ]
     },
     "execution_count": 101,
     "metadata": {},
     "output_type": "execute_result"
    }
   ],
   "source": [
    "from xgboost import XGBClassifier \n",
    "clfxg = XGBClassifier()\n",
    "clfxg.fit(x_train, y_train)"
   ]
  },
  {
   "cell_type": "code",
   "execution_count": 102,
   "id": "58c1952e",
   "metadata": {},
   "outputs": [
    {
     "data": {
      "text/html": [
       "<div>\n",
       "<style scoped>\n",
       "    .dataframe tbody tr th:only-of-type {\n",
       "        vertical-align: middle;\n",
       "    }\n",
       "\n",
       "    .dataframe tbody tr th {\n",
       "        vertical-align: top;\n",
       "    }\n",
       "\n",
       "    .dataframe thead th {\n",
       "        text-align: right;\n",
       "    }\n",
       "</style>\n",
       "<table border=\"1\" class=\"dataframe\">\n",
       "  <thead>\n",
       "    <tr style=\"text-align: right;\">\n",
       "      <th></th>\n",
       "      <th>thresold</th>\n",
       "      <th>recall</th>\n",
       "      <th>precision</th>\n",
       "      <th>f1-score</th>\n",
       "      <th>RocAuc-score</th>\n",
       "      <th>Accuracy-score</th>\n",
       "    </tr>\n",
       "  </thead>\n",
       "  <tbody>\n",
       "    <tr>\n",
       "      <th>0</th>\n",
       "      <td>0.1</td>\n",
       "      <td>0.847328</td>\n",
       "      <td>0.410351</td>\n",
       "      <td>0.552927</td>\n",
       "      <td>0.722529</td>\n",
       "      <td>0.659716</td>\n",
       "    </tr>\n",
       "    <tr>\n",
       "      <th>1</th>\n",
       "      <td>0.2</td>\n",
       "      <td>0.740458</td>\n",
       "      <td>0.479012</td>\n",
       "      <td>0.581709</td>\n",
       "      <td>0.737190</td>\n",
       "      <td>0.735545</td>\n",
       "    </tr>\n",
       "    <tr>\n",
       "      <th>2</th>\n",
       "      <td>0.3</td>\n",
       "      <td>0.690840</td>\n",
       "      <td>0.553517</td>\n",
       "      <td>0.614601</td>\n",
       "      <td>0.753364</td>\n",
       "      <td>0.784834</td>\n",
       "    </tr>\n",
       "    <tr>\n",
       "      <th>3</th>\n",
       "      <td>0.4</td>\n",
       "      <td>0.591603</td>\n",
       "      <td>0.596154</td>\n",
       "      <td>0.593870</td>\n",
       "      <td>0.729597</td>\n",
       "      <td>0.799052</td>\n",
       "    </tr>\n",
       "    <tr>\n",
       "      <th>4</th>\n",
       "      <td>0.5</td>\n",
       "      <td>0.492366</td>\n",
       "      <td>0.617225</td>\n",
       "      <td>0.547771</td>\n",
       "      <td>0.695742</td>\n",
       "      <td>0.798104</td>\n",
       "    </tr>\n",
       "    <tr>\n",
       "      <th>5</th>\n",
       "      <td>0.6</td>\n",
       "      <td>0.389313</td>\n",
       "      <td>0.641509</td>\n",
       "      <td>0.484561</td>\n",
       "      <td>0.658717</td>\n",
       "      <td>0.794313</td>\n",
       "    </tr>\n",
       "    <tr>\n",
       "      <th>6</th>\n",
       "      <td>0.7</td>\n",
       "      <td>0.305344</td>\n",
       "      <td>0.761905</td>\n",
       "      <td>0.435967</td>\n",
       "      <td>0.636909</td>\n",
       "      <td>0.803791</td>\n",
       "    </tr>\n",
       "    <tr>\n",
       "      <th>7</th>\n",
       "      <td>0.8</td>\n",
       "      <td>0.190840</td>\n",
       "      <td>0.793651</td>\n",
       "      <td>0.307692</td>\n",
       "      <td>0.587223</td>\n",
       "      <td>0.786730</td>\n",
       "    </tr>\n",
       "    <tr>\n",
       "      <th>8</th>\n",
       "      <td>0.9</td>\n",
       "      <td>0.114504</td>\n",
       "      <td>0.909091</td>\n",
       "      <td>0.203390</td>\n",
       "      <td>0.555360</td>\n",
       "      <td>0.777251</td>\n",
       "    </tr>\n",
       "  </tbody>\n",
       "</table>\n",
       "</div>"
      ],
      "text/plain": [
       "   thresold    recall  precision  f1-score  RocAuc-score  Accuracy-score\n",
       "0       0.1  0.847328   0.410351  0.552927      0.722529        0.659716\n",
       "1       0.2  0.740458   0.479012  0.581709      0.737190        0.735545\n",
       "2       0.3  0.690840   0.553517  0.614601      0.753364        0.784834\n",
       "3       0.4  0.591603   0.596154  0.593870      0.729597        0.799052\n",
       "4       0.5  0.492366   0.617225  0.547771      0.695742        0.798104\n",
       "5       0.6  0.389313   0.641509  0.484561      0.658717        0.794313\n",
       "6       0.7  0.305344   0.761905  0.435967      0.636909        0.803791\n",
       "7       0.8  0.190840   0.793651  0.307692      0.587223        0.786730\n",
       "8       0.9  0.114504   0.909091  0.203390      0.555360        0.777251"
      ]
     },
     "execution_count": 102,
     "metadata": {},
     "output_type": "execute_result"
    }
   ],
   "source": [
    "threshold_score(clfxg, x_validation, y_validation, np.arange(0.1, 1, 0.1))"
   ]
  },
  {
   "cell_type": "code",
   "execution_count": 103,
   "id": "683ed6a3",
   "metadata": {},
   "outputs": [
    {
     "data": {
      "text/html": [
       "<div>\n",
       "<style scoped>\n",
       "    .dataframe tbody tr th:only-of-type {\n",
       "        vertical-align: middle;\n",
       "    }\n",
       "\n",
       "    .dataframe tbody tr th {\n",
       "        vertical-align: top;\n",
       "    }\n",
       "\n",
       "    .dataframe thead th {\n",
       "        text-align: right;\n",
       "    }\n",
       "</style>\n",
       "<table border=\"1\" class=\"dataframe\">\n",
       "  <thead>\n",
       "    <tr style=\"text-align: right;\">\n",
       "      <th></th>\n",
       "      <th>thresold</th>\n",
       "      <th>recall</th>\n",
       "      <th>precision</th>\n",
       "      <th>f1-score</th>\n",
       "      <th>RocAuc-score</th>\n",
       "      <th>Accuracy-score</th>\n",
       "    </tr>\n",
       "  </thead>\n",
       "  <tbody>\n",
       "    <tr>\n",
       "      <th>0</th>\n",
       "      <td>0.3</td>\n",
       "      <td>0.675573</td>\n",
       "      <td>0.617801</td>\n",
       "      <td>0.645397</td>\n",
       "      <td>0.74905</td>\n",
       "      <td>0.778726</td>\n",
       "    </tr>\n",
       "  </tbody>\n",
       "</table>\n",
       "</div>"
      ],
      "text/plain": [
       "   thresold    recall  precision  f1-score  RocAuc-score  Accuracy-score\n",
       "0       0.3  0.675573   0.617801  0.645397       0.74905        0.778726"
      ]
     },
     "execution_count": 103,
     "metadata": {},
     "output_type": "execute_result"
    }
   ],
   "source": [
    "threshold_score(clfxg, x_test, y_test, [0.3])"
   ]
  },
  {
   "cell_type": "code",
   "execution_count": 104,
   "id": "505df4a0",
   "metadata": {},
   "outputs": [
    {
     "data": {
      "text/html": [
       "<div>\n",
       "<style scoped>\n",
       "    .dataframe tbody tr th:only-of-type {\n",
       "        vertical-align: middle;\n",
       "    }\n",
       "\n",
       "    .dataframe tbody tr th {\n",
       "        vertical-align: top;\n",
       "    }\n",
       "\n",
       "    .dataframe thead th {\n",
       "        text-align: right;\n",
       "    }\n",
       "</style>\n",
       "<table border=\"1\" class=\"dataframe\">\n",
       "  <thead>\n",
       "    <tr style=\"text-align: right;\">\n",
       "      <th></th>\n",
       "      <th>thresold</th>\n",
       "      <th>recall</th>\n",
       "      <th>precision</th>\n",
       "      <th>f1-score</th>\n",
       "      <th>RocAuc-score</th>\n",
       "      <th>Accuracy-score</th>\n",
       "    </tr>\n",
       "  </thead>\n",
       "  <tbody>\n",
       "    <tr>\n",
       "      <th>0</th>\n",
       "      <td>0.3</td>\n",
       "      <td>0.979686</td>\n",
       "      <td>0.782448</td>\n",
       "      <td>0.870029</td>\n",
       "      <td>0.942809</td>\n",
       "      <td>0.924864</td>\n",
       "    </tr>\n",
       "  </tbody>\n",
       "</table>\n",
       "</div>"
      ],
      "text/plain": [
       "   thresold    recall  precision  f1-score  RocAuc-score  Accuracy-score\n",
       "0       0.3  0.979686   0.782448  0.870029      0.942809        0.924864"
      ]
     },
     "execution_count": 104,
     "metadata": {},
     "output_type": "execute_result"
    }
   ],
   "source": [
    "threshold_score(clfxg, x_train, y_train, [0.3])"
   ]
  },
  {
   "cell_type": "markdown",
   "id": "d0bcf69d",
   "metadata": {},
   "source": [
    "> Hasil f1-score pada test data malah makin memburuk."
   ]
  },
  {
   "cell_type": "markdown",
   "id": "27b5a843",
   "metadata": {},
   "source": [
    "# KESIMPULAN"
   ]
  },
  {
   "cell_type": "code",
   "execution_count": 105,
   "id": "0b02faa5",
   "metadata": {},
   "outputs": [],
   "source": [
    "dfhasil = pd.concat([dfhasil,pd.DataFrame(['XGBoost',float(threshold_score(clfxg, x_test, y_test, [0.3])['f1-score']), float(threshold_score(clfxg, x_test, y_test, [0.3])['thresold']),status]).transpose()])\n",
    "dfhasil.columns = ['model','f1-score on test','threshold','data pre-processing']"
   ]
  },
  {
   "cell_type": "code",
   "execution_count": 106,
   "id": "bb02c634",
   "metadata": {},
   "outputs": [
    {
     "data": {
      "text/html": [
       "<div>\n",
       "<style scoped>\n",
       "    .dataframe tbody tr th:only-of-type {\n",
       "        vertical-align: middle;\n",
       "    }\n",
       "\n",
       "    .dataframe tbody tr th {\n",
       "        vertical-align: top;\n",
       "    }\n",
       "\n",
       "    .dataframe thead th {\n",
       "        text-align: right;\n",
       "    }\n",
       "</style>\n",
       "<table border=\"1\" class=\"dataframe\">\n",
       "  <thead>\n",
       "    <tr style=\"text-align: right;\">\n",
       "      <th></th>\n",
       "      <th>model</th>\n",
       "      <th>f1-score on test</th>\n",
       "      <th>threshold</th>\n",
       "      <th>data pre-processing</th>\n",
       "    </tr>\n",
       "  </thead>\n",
       "  <tbody>\n",
       "    <tr>\n",
       "      <th>0</th>\n",
       "      <td>XGBoost</td>\n",
       "      <td>0.650952</td>\n",
       "      <td>0.3</td>\n",
       "      <td>Encoding Only</td>\n",
       "    </tr>\n",
       "    <tr>\n",
       "      <th>0</th>\n",
       "      <td>XGBoost</td>\n",
       "      <td>0.645995</td>\n",
       "      <td>0.3</td>\n",
       "      <td>Encoding and SMOTE</td>\n",
       "    </tr>\n",
       "    <tr>\n",
       "      <th>0</th>\n",
       "      <td>XGBoost</td>\n",
       "      <td>0.645397</td>\n",
       "      <td>0.3</td>\n",
       "      <td>Encoding,FeatureCreation,Scaling</td>\n",
       "    </tr>\n",
       "    <tr>\n",
       "      <th>0</th>\n",
       "      <td>RandomForest</td>\n",
       "      <td>0.633469</td>\n",
       "      <td>0.5</td>\n",
       "      <td>Encoding and Undersampling</td>\n",
       "    </tr>\n",
       "    <tr>\n",
       "      <th>0</th>\n",
       "      <td>RandomForest</td>\n",
       "      <td>0.630942</td>\n",
       "      <td>0.3</td>\n",
       "      <td>Encoding,FeatureCreation,Scaling</td>\n",
       "    </tr>\n",
       "    <tr>\n",
       "      <th>0</th>\n",
       "      <td>RandomForest</td>\n",
       "      <td>0.629116</td>\n",
       "      <td>0.3</td>\n",
       "      <td>Encoding Only</td>\n",
       "    </tr>\n",
       "    <tr>\n",
       "      <th>0</th>\n",
       "      <td>XGBoost</td>\n",
       "      <td>0.627485</td>\n",
       "      <td>0.6</td>\n",
       "      <td>Encoding and Undersampling</td>\n",
       "    </tr>\n",
       "    <tr>\n",
       "      <th>0</th>\n",
       "      <td>RandomForest</td>\n",
       "      <td>0.621236</td>\n",
       "      <td>0.3</td>\n",
       "      <td>Encoding and SMOTE</td>\n",
       "    </tr>\n",
       "    <tr>\n",
       "      <th>0</th>\n",
       "      <td>DecisionTree</td>\n",
       "      <td>0.574148</td>\n",
       "      <td>0.5</td>\n",
       "      <td>Encoding and Undersampling</td>\n",
       "    </tr>\n",
       "    <tr>\n",
       "      <th>0</th>\n",
       "      <td>DecisionTree</td>\n",
       "      <td>0.514457</td>\n",
       "      <td>0.5</td>\n",
       "      <td>Encoding,FeatureCreation,Scaling</td>\n",
       "    </tr>\n",
       "    <tr>\n",
       "      <th>0</th>\n",
       "      <td>DecisionTree</td>\n",
       "      <td>0.514286</td>\n",
       "      <td>0.5</td>\n",
       "      <td>Encoding and SMOTE</td>\n",
       "    </tr>\n",
       "    <tr>\n",
       "      <th>0</th>\n",
       "      <td>DecisionTree</td>\n",
       "      <td>0.496933</td>\n",
       "      <td>0.5</td>\n",
       "      <td>Encoding Only</td>\n",
       "    </tr>\n",
       "  </tbody>\n",
       "</table>\n",
       "</div>"
      ],
      "text/plain": [
       "          model f1-score on test threshold               data pre-processing\n",
       "0       XGBoost         0.650952       0.3                     Encoding Only\n",
       "0       XGBoost         0.645995       0.3                Encoding and SMOTE\n",
       "0       XGBoost         0.645397       0.3  Encoding,FeatureCreation,Scaling\n",
       "0  RandomForest         0.633469       0.5        Encoding and Undersampling\n",
       "0  RandomForest         0.630942       0.3  Encoding,FeatureCreation,Scaling\n",
       "0  RandomForest         0.629116       0.3                     Encoding Only\n",
       "0       XGBoost         0.627485       0.6        Encoding and Undersampling\n",
       "0  RandomForest         0.621236       0.3                Encoding and SMOTE\n",
       "0  DecisionTree         0.574148       0.5        Encoding and Undersampling\n",
       "0  DecisionTree         0.514457       0.5  Encoding,FeatureCreation,Scaling\n",
       "0  DecisionTree         0.514286       0.5                Encoding and SMOTE\n",
       "0  DecisionTree         0.496933       0.5                     Encoding Only"
      ]
     },
     "execution_count": 106,
     "metadata": {},
     "output_type": "execute_result"
    }
   ],
   "source": [
    "dfhasil.sort_values('f1-score on test', ascending=False)"
   ]
  },
  {
   "cell_type": "markdown",
   "id": "3b8c731c",
   "metadata": {},
   "source": [
    ">Bisa dilihat pada dataframe diatas, bahwa Decision Tree adalah model yang paling buruk sedangkan untuk XGBoost dan Random Forest performanya cukup seimbang. XGBoost hanya sedikit lebih bagus dari Random Forest. Untuk data-preprocessing terbaik adalah hanya melakukan encoding saja. Kesimpulan : model terbaik adalah XGBoost pada data pre-processing encoding only karena memiliki nilai f1 score tertinggi dibanding model dan data pre-processing lainnya."
   ]
  },
  {
   "cell_type": "markdown",
   "id": "db072d00",
   "metadata": {},
   "source": [
    "> Catatan penting: dikarenakan nilai f1-score dari RandomForest dan XGBoost sangat berbeda tipis, maka hasil urutan dataframe diatas kemungkinan akan berubah setiap notebook di run ulang. Namun untuk urutan pertama tetap akan selalu dipegang oleh XGBoost. Terima Kasih."
   ]
  }
 ],
 "metadata": {
  "kernelspec": {
   "display_name": "Python 3 (ipykernel)",
   "language": "python",
   "name": "python3"
  },
  "language_info": {
   "codemirror_mode": {
    "name": "ipython",
    "version": 3
   },
   "file_extension": ".py",
   "mimetype": "text/x-python",
   "name": "python",
   "nbconvert_exporter": "python",
   "pygments_lexer": "ipython3",
   "version": "3.11.0"
  }
 },
 "nbformat": 4,
 "nbformat_minor": 5
}
