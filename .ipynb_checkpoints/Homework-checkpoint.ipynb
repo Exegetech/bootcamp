{
 "cells": [
  {
   "cell_type": "code",
   "execution_count": 1,
   "id": "66029196",
   "metadata": {
    "executionInfo": {
     "elapsed": 6,
     "status": "ok",
     "timestamp": 1675573449953,
     "user": {
      "displayName": "intern ds",
      "userId": "01515883600503928621"
     },
     "user_tz": -420
    },
    "id": "66029196"
   },
   "outputs": [],
   "source": [
    "import numpy as np"
   ]
  },
  {
   "cell_type": "markdown",
   "id": "c7a1ffa7",
   "metadata": {
    "id": "c7a1ffa7"
   },
   "source": [
    "### Soal Nomor 1: Create a Function to Check Prime Number"
   ]
  },
  {
   "cell_type": "markdown",
   "id": "7cfb8c3c",
   "metadata": {
    "id": "7cfb8c3c"
   },
   "source": [
    "Buatlah sebuah fungsi yang mengecheck apakah suatu bilangan adalah prime number atau bukan. Silakan cari di google jika membutuhkan definisi dari 'bilangan prima'. \n",
    "\n",
    "Jika angka input adalah bilangan prima, return ```True```, jika tidak, return ```False```. \n",
    "\n",
    "Contoh:\n",
    "\n",
    "```prime_checker(5) = True```\n",
    "\n",
    "```prime_checker(12) = False```"
   ]
  },
  {
   "cell_type": "code",
   "execution_count": 2,
   "id": "dab11e59",
   "metadata": {
    "executionInfo": {
     "elapsed": 4,
     "status": "ok",
     "timestamp": 1675573450828,
     "user": {
      "displayName": "intern ds",
      "userId": "01515883600503928621"
     },
     "user_tz": -420
    },
    "id": "dab11e59"
   },
   "outputs": [],
   "source": [
    "def prime_checker(input_integer):\n",
    "    if input_integer <= 1:\n",
    "        return False\n",
    "    elif input_integer == 2 or input_integer == 3:\n",
    "        return True\n",
    "    elif input_integer % 2 != 0 and input_integer % 3 != 0:\n",
    "        return True\n",
    "    else:\n",
    "        return False"
   ]
  },
  {
   "cell_type": "code",
   "execution_count": 3,
   "id": "eeaa1e80",
   "metadata": {},
   "outputs": [
    {
     "data": {
      "text/plain": [
       "True"
      ]
     },
     "execution_count": 3,
     "metadata": {},
     "output_type": "execute_result"
    }
   ],
   "source": [
    "prime_checker(5)"
   ]
  },
  {
   "cell_type": "code",
   "execution_count": 4,
   "id": "b41d9467",
   "metadata": {},
   "outputs": [
    {
     "data": {
      "text/plain": [
       "False"
      ]
     },
     "execution_count": 4,
     "metadata": {},
     "output_type": "execute_result"
    }
   ],
   "source": [
    "prime_checker(12)"
   ]
  },
  {
   "cell_type": "markdown",
   "id": "b8a34618",
   "metadata": {
    "id": "b8a34618"
   },
   "source": [
    "### Soal Nomor 2: Evenly Spaced Numbers between X and Y"
   ]
  },
  {
   "cell_type": "markdown",
   "id": "b41c2710",
   "metadata": {
    "id": "b41c2710"
   },
   "source": [
    "Buatlah sebuah fungsi yang menerima 3 input:\n",
    "- Bilangan pertama (X)\n",
    "- Bilangan kedua (Y)\n",
    "- Bilangan ketiga (n)\n",
    "\n",
    "Output dari fungsi ini adalah list yang isinya adalah sejumlah 'n' anggota, dengan anggota pertama 'X', dan anggota terakhir 'Y', dan sisanya adalah bilangan-bilangan di antara 'X' dan 'Y', sedemikian sehingga jarak antar anggota adalah sama.\n",
    "\n",
    "\n",
    "Contoh 1: \n",
    "\n",
    "`even_space(1, 6, 5)`\n",
    "\n",
    "Berarti, di list hasil kita, angka pertama adalah 1, angka terakhir adalah 6, dan list hasil ini harus memiliki 5 anggota, dimana jarak antar anggota yang bersebelahan (berurutan) adalah sama. \n",
    "\n",
    "Output: ```[1.0, 2.25, 3.5, 4.75, 6.0]```\n",
    "\n",
    "Penjelasan: list output kita terdiri dari 5 bilangan, dengan bilangan pertama 1, bilangan akhir 6, dan perhatikan jarak antar anggota yang berurutan: \n",
    "- 2.25 - 1 = 1.25\n",
    "- 3.5 - 2.25 = 1.25\n",
    "- 4.75 - 3.5 = 1.25\n",
    "- 6 - 4.75 = 1.25\n",
    "\n",
    "\n",
    "\n"
   ]
  },
  {
   "cell_type": "markdown",
   "id": "86a118b0",
   "metadata": {
    "id": "86a118b0"
   },
   "source": [
    "Contoh 2: \n",
    "\n",
    "```even_space(2,8,4)```\n",
    "\n",
    "Output: ```[2,4,6,8]```\n",
    "\n",
    "Penjelasan: list output terdiri dari 4 bilangan, dengan bilangan pertama 2, bilangan akhir 8, dan jarak antar anggota yang bersebelahan (berurutan) adalah sama, yatu:\n",
    "- 4 - 2 = 2\n",
    "- 6 - 4 = 2\n",
    "- 8 - 6 = 2"
   ]
  },
  {
   "cell_type": "code",
   "execution_count": 5,
   "id": "c02f3e42",
   "metadata": {
    "id": "c02f3e42"
   },
   "outputs": [],
   "source": [
    "def even_space(X, Y, n):\n",
    "    return list(np.linspace(X, Y, n))    "
   ]
  },
  {
   "cell_type": "code",
   "execution_count": 6,
   "id": "3a7f45de",
   "metadata": {},
   "outputs": [
    {
     "data": {
      "text/plain": [
       "[1.0, 2.25, 3.5, 4.75, 6.0]"
      ]
     },
     "execution_count": 6,
     "metadata": {},
     "output_type": "execute_result"
    }
   ],
   "source": [
    "even_space(1,6,5)"
   ]
  },
  {
   "cell_type": "code",
   "execution_count": 7,
   "id": "22f92250",
   "metadata": {},
   "outputs": [
    {
     "data": {
      "text/plain": [
       "[2.0, 4.0, 6.0, 8.0]"
      ]
     },
     "execution_count": 7,
     "metadata": {},
     "output_type": "execute_result"
    }
   ],
   "source": [
    "even_space(2,8,4)"
   ]
  }
 ],
 "metadata": {
  "colab": {
   "provenance": []
  },
  "kernelspec": {
   "display_name": "Python 3 (ipykernel)",
   "language": "python",
   "name": "python3"
  },
  "language_info": {
   "codemirror_mode": {
    "name": "ipython",
    "version": 3
   },
   "file_extension": ".py",
   "mimetype": "text/x-python",
   "name": "python",
   "nbconvert_exporter": "python",
   "pygments_lexer": "ipython3",
   "version": "3.11.0"
  }
 },
 "nbformat": 4,
 "nbformat_minor": 5
}
