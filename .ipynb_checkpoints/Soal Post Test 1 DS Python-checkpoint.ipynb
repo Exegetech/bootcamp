{
 "cells": [
  {
   "cell_type": "markdown",
   "metadata": {
    "id": "21Q6Yhc2Fy9p"
   },
   "source": [
    "# Coding Challenge 1 : Looping & Modulo\n",
    "\n",
    "Minggu ini, challenge kita adalah melakukan looping dengan Python. Contoh looping :"
   ]
  },
  {
   "cell_type": "code",
   "execution_count": 1,
   "metadata": {
    "colab": {
     "base_uri": "https://localhost:8080/"
    },
    "id": "n0EJql6MGZFK",
    "outputId": "48ef56bc-192e-47d9-85c4-f3db7ff445f7"
   },
   "outputs": [
    {
     "name": "stdout",
     "output_type": "stream",
     "text": [
      "1\n",
      "2\n"
     ]
    }
   ],
   "source": [
    "for x in range (1, 3) :\n",
    "  print(x)"
   ]
  },
  {
   "cell_type": "markdown",
   "metadata": {
    "id": "8Pk4S8y1GF_G"
   },
   "source": [
    "### **Soal 1**: \n",
    "\n",
    "Print out integers which are multiples of 3 from 1 to 22.\n",
    "(Print out bilangan bulat yang merupakan kelipatan 3 dari 1 sampai 22).\n",
    "\n",
    "**Ekspektasi jawaban:**\n",
    "\n",
    "Ketika kode kalian di-run, muncul angka-angka: 3, 6, 9, 12, 15, 18, 21. Gunakan looping."
   ]
  },
  {
   "cell_type": "code",
   "execution_count": 2,
   "metadata": {},
   "outputs": [
    {
     "name": "stdout",
     "output_type": "stream",
     "text": [
      "3\n",
      "6\n",
      "9\n",
      "12\n",
      "15\n",
      "18\n",
      "21\n"
     ]
    }
   ],
   "source": [
    "for x in range(1,23):\n",
    "    if x % 3 == 0:\n",
    "        print(x)"
   ]
  },
  {
   "cell_type": "markdown",
   "metadata": {
    "id": "0LRo8ovlSygt"
   },
   "source": [
    " ### **Soal 2**: \n",
    " Buatlah algoritma yang mencetak angka 1 sampai dengan 100, dimana : <br>\n",
    "a. Bila angka merupakan kelipatan 3, maka akan mencetak kata “BIZZ”  <br>\n",
    "b. Bila angka merupakan kelipatan 5, maka akan mencetak kata “BUZZ”  <br>\n",
    "c. Bila angka merupakan kelipatan 3 dan 5, maka akan mencetak kata “BIZZBUZZ” <br>\n",
    "\n",
    "**Ekspektasi jawaban:**\n",
    "\n",
    "angka :  3  BIZZ<br>\n",
    "angka :  5  BUZZ<br>\n",
    "angka :  6  BIZZ<br>\n",
    "angka :  9  BIZZ<br>\n",
    "angka :  10  BUZZ<br>\n",
    "angka :  12  BIZZ<br>\n",
    "angka :  15  BIZZBUZZ<br>\n",
    "angka :  18  BIZZ<br>\n",
    "angka :  20  BUZZ<br>\n",
    "angka :  21  BIZZ<br>\n",
    "angka :  24  BIZZ<br>\n",
    "angka :  25  BUZZ<br>\n",
    "angka :  27  BIZZ<br>\n",
    "angka :  30  BIZZBUZZ<br>\n",
    "angka :  33  BIZZ<br>\n",
    "angka :  35  BUZZ<br>\n",
    "angka :  36  BIZZ<br>\n",
    "angka :  39  BIZZ<br>\n",
    "angka :  40  BUZZ<br>\n",
    "angka :  42  BIZZ<br>\n",
    "angka :  45  BIZZBUZZ<br>\n",
    "angka :  48  BIZZ<br>\n",
    "angka :  50  BUZZ<br>\n",
    "angka :  51  BIZZ<br>\n",
    "angka :  54  BIZZ<br>\n",
    "angka :  55  BUZZ<br>\n",
    "angka :  57  BIZZ<br>\n",
    "angka :  60  BIZZBUZZ<br>\n",
    "angka :  63  BIZZ<br>\n",
    "angka :  65  BUZZ<br>\n",
    "angka :  66  BIZZ<br>\n",
    "angka :  69  BIZZ<br>\n",
    "angka :  70  BUZZ<br>\n",
    "angka :  72  BIZZ<br>\n",
    "angka :  75  BIZZBUZZ<br>\n",
    "angka :  78  BIZZ<br>\n",
    "angka :  80  BUZZ<br>\n",
    "angka :  81  BIZZ<br>\n",
    "angka :  84  BIZZ<br>\n",
    "angka :  85  BUZZ<br>\n",
    "angka :  87  BIZZ<br>\n",
    "angka :  90  BIZZBUZZ<br>\n",
    "angka :  93  BIZZ<br>\n",
    "angka :  95  BUZZ<br>\n",
    "angka :  96  BIZZ<br>\n",
    "angka :  99  BIZZ<br>\n"
   ]
  },
  {
   "cell_type": "code",
   "execution_count": 3,
   "metadata": {
    "id": "jNzJrYNCJmBw"
   },
   "outputs": [
    {
     "name": "stdout",
     "output_type": "stream",
     "text": [
      "angka : 3 BIZZ\n",
      "angka : 5 BUZZ\n",
      "angka : 6 BIZZ\n",
      "angka : 9 BIZZ\n",
      "angka : 10 BUZZ\n",
      "angka : 12 BIZZ\n",
      "angka : 15 BIZZBUZZ\n",
      "angka : 18 BIZZ\n",
      "angka : 20 BUZZ\n",
      "angka : 21 BIZZ\n",
      "angka : 24 BIZZ\n",
      "angka : 25 BUZZ\n",
      "angka : 27 BIZZ\n",
      "angka : 30 BIZZBUZZ\n",
      "angka : 33 BIZZ\n",
      "angka : 35 BUZZ\n",
      "angka : 36 BIZZ\n",
      "angka : 39 BIZZ\n",
      "angka : 40 BUZZ\n",
      "angka : 42 BIZZ\n",
      "angka : 45 BIZZBUZZ\n",
      "angka : 48 BIZZ\n",
      "angka : 50 BUZZ\n",
      "angka : 51 BIZZ\n",
      "angka : 54 BIZZ\n",
      "angka : 55 BUZZ\n",
      "angka : 57 BIZZ\n",
      "angka : 60 BIZZBUZZ\n",
      "angka : 63 BIZZ\n",
      "angka : 65 BUZZ\n",
      "angka : 66 BIZZ\n",
      "angka : 69 BIZZ\n",
      "angka : 70 BUZZ\n",
      "angka : 72 BIZZ\n",
      "angka : 75 BIZZBUZZ\n",
      "angka : 78 BIZZ\n",
      "angka : 80 BUZZ\n",
      "angka : 81 BIZZ\n",
      "angka : 84 BIZZ\n",
      "angka : 85 BUZZ\n",
      "angka : 87 BIZZ\n",
      "angka : 90 BIZZBUZZ\n",
      "angka : 93 BIZZ\n",
      "angka : 95 BUZZ\n",
      "angka : 96 BIZZ\n",
      "angka : 99 BIZZ\n",
      "angka : 100 BUZZ\n"
     ]
    }
   ],
   "source": [
    "def bizzbuzz(start_num,end_num):\n",
    "    for x in range(start_num,end_num+1):\n",
    "        if (x % 3 == 0) & (x % 5 == 0):\n",
    "            print(f\"angka : {x} BIZZBUZZ\")\n",
    "        elif x % 3 == 0:\n",
    "            print(f\"angka : {x} BIZZ\")\n",
    "        elif x % 5 == 0:\n",
    "            print(f\"angka : {x} BUZZ\")\n",
    "    \n",
    "bizzbuzz(1,100)   "
   ]
  },
  {
   "cell_type": "code",
   "execution_count": null,
   "metadata": {},
   "outputs": [],
   "source": []
  }
 ],
 "metadata": {
  "colab": {
   "provenance": []
  },
  "kernelspec": {
   "display_name": "Python 3 (ipykernel)",
   "language": "python",
   "name": "python3"
  },
  "language_info": {
   "codemirror_mode": {
    "name": "ipython",
    "version": 3
   },
   "file_extension": ".py",
   "mimetype": "text/x-python",
   "name": "python",
   "nbconvert_exporter": "python",
   "pygments_lexer": "ipython3",
   "version": "3.11.0"
  }
 },
 "nbformat": 4,
 "nbformat_minor": 1
}
