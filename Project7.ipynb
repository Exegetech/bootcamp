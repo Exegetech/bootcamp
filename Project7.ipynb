{
 "cells": [
  {
   "cell_type": "markdown",
   "id": "a4aa2c26",
   "metadata": {},
   "source": [
    "## TABLE OF CONTENTS\n",
    ">• Perkenalan.<br>\n",
    "• Exploratory Data Analysis / Deskriptif Analisis.<br>\n",
    "• Inferencial Analysis.<br>"
   ]
  },
  {
   "cell_type": "markdown",
   "id": "944f670d",
   "metadata": {},
   "source": [
    "# INTRODUCTION\n",
    "***\n",
    "> ## Data Introduction\n",
    "This dataset contain informations about employees that has left or not (stay) in a company. Employees are one of the most important assets. Good employees can bring innovations, more profits and help businessess grow, so it is very important to maintain this employees. In this occasion, I will do data analysis to find insights that can help company to understand more about their employee and prevent them to left, and also I will create an algorithm to predict whether an employee will left or not based on several factors. This dataset includes information about:<br>\n",
    "1.Satisfaction_level - employee satisfaction level ranging from 0 to 1.<br>\n",
    "2.Last_Evaluation - last employee evaluation by their supervisor ranging from 0 to 1.<br>\n",
    "3.Number_project - total of projects completed.<br>\n",
    "4.Average_montly_hours - average working time per month.<br>\n",
    "5.Time_spend_company - years spent in the company.<br>\n",
    "6.Work_Accident - whether employee had ever accident or not.<br>\n",
    "7.Left - employee status (left or stay).<br>\n",
    "8.Promotion_last_5_years - whether employee got a promotion or not in past 5 years.<br>\n",
    "9.Department - employee's working department.<br>\n",
    "10.Salary - employee's salary.\n",
    "\n",
    ">## Objective\n",
    "1.Find valuable insights or informations from the dataset.<br>\n",
    "2.Create a good machine learning model to predict whether employee will left or not."
   ]
  },
  {
   "cell_type": "markdown",
   "id": "686cd4d0",
   "metadata": {},
   "source": [
    "# Data Preparation (Import libraries, data cleaning & data wrangling)\n",
    "***"
   ]
  },
  {
   "cell_type": "code",
   "execution_count": 1,
   "id": "be3c1c61",
   "metadata": {},
   "outputs": [],
   "source": [
    "import numpy as np\n",
    "import pandas as pd\n",
    "import matplotlib.pyplot as plt\n",
    "import seaborn as sns\n",
    "from statsmodels.stats.weightstats import ztest as ztest\n",
    "from treeinterpreter import treeinterpreter as ti\n",
    "from sklearn.ensemble import RandomForestClassifier\n",
    "from sklearn.model_selection import RandomizedSearchCV\n",
    "from scipy.stats import gaussian_kde\n",
    "import matplotlib_inline\n",
    "#matplotlib_inline.backend_inline.set_matplotlib_formats('svg') \n",
    "sns.set()"
   ]
  },
  {
   "cell_type": "code",
   "execution_count": 2,
   "id": "3f7a2d43",
   "metadata": {},
   "outputs": [
    {
     "ename": "FileNotFoundError",
     "evalue": "[Errno 2] No such file or directory: 'HR_comma_sep.csv'",
     "output_type": "error",
     "traceback": [
      "\u001b[1;31m---------------------------------------------------------------------------\u001b[0m",
      "\u001b[1;31mFileNotFoundError\u001b[0m                         Traceback (most recent call last)",
      "Cell \u001b[1;32mIn [2], line 1\u001b[0m\n\u001b[1;32m----> 1\u001b[0m df \u001b[38;5;241m=\u001b[39m \u001b[43mpd\u001b[49m\u001b[38;5;241;43m.\u001b[39;49m\u001b[43mread_csv\u001b[49m\u001b[43m(\u001b[49m\u001b[38;5;124;43m'\u001b[39;49m\u001b[38;5;124;43mHR_comma_sep.csv\u001b[39;49m\u001b[38;5;124;43m'\u001b[39;49m\u001b[43m)\u001b[49m\n\u001b[0;32m      2\u001b[0m df\u001b[38;5;241m.\u001b[39mshape\n",
      "File \u001b[1;32m~\\AppData\\Local\\Programs\\Python\\Python311\\Lib\\site-packages\\pandas\\util\\_decorators.py:211\u001b[0m, in \u001b[0;36mdeprecate_kwarg.<locals>._deprecate_kwarg.<locals>.wrapper\u001b[1;34m(*args, **kwargs)\u001b[0m\n\u001b[0;32m    209\u001b[0m     \u001b[38;5;28;01melse\u001b[39;00m:\n\u001b[0;32m    210\u001b[0m         kwargs[new_arg_name] \u001b[38;5;241m=\u001b[39m new_arg_value\n\u001b[1;32m--> 211\u001b[0m \u001b[38;5;28;01mreturn\u001b[39;00m \u001b[43mfunc\u001b[49m\u001b[43m(\u001b[49m\u001b[38;5;241;43m*\u001b[39;49m\u001b[43margs\u001b[49m\u001b[43m,\u001b[49m\u001b[43m \u001b[49m\u001b[38;5;241;43m*\u001b[39;49m\u001b[38;5;241;43m*\u001b[39;49m\u001b[43mkwargs\u001b[49m\u001b[43m)\u001b[49m\n",
      "File \u001b[1;32m~\\AppData\\Local\\Programs\\Python\\Python311\\Lib\\site-packages\\pandas\\util\\_decorators.py:331\u001b[0m, in \u001b[0;36mdeprecate_nonkeyword_arguments.<locals>.decorate.<locals>.wrapper\u001b[1;34m(*args, **kwargs)\u001b[0m\n\u001b[0;32m    325\u001b[0m \u001b[38;5;28;01mif\u001b[39;00m \u001b[38;5;28mlen\u001b[39m(args) \u001b[38;5;241m>\u001b[39m num_allow_args:\n\u001b[0;32m    326\u001b[0m     warnings\u001b[38;5;241m.\u001b[39mwarn(\n\u001b[0;32m    327\u001b[0m         msg\u001b[38;5;241m.\u001b[39mformat(arguments\u001b[38;5;241m=\u001b[39m_format_argument_list(allow_args)),\n\u001b[0;32m    328\u001b[0m         \u001b[38;5;167;01mFutureWarning\u001b[39;00m,\n\u001b[0;32m    329\u001b[0m         stacklevel\u001b[38;5;241m=\u001b[39mfind_stack_level(),\n\u001b[0;32m    330\u001b[0m     )\n\u001b[1;32m--> 331\u001b[0m \u001b[38;5;28;01mreturn\u001b[39;00m \u001b[43mfunc\u001b[49m\u001b[43m(\u001b[49m\u001b[38;5;241;43m*\u001b[39;49m\u001b[43margs\u001b[49m\u001b[43m,\u001b[49m\u001b[43m \u001b[49m\u001b[38;5;241;43m*\u001b[39;49m\u001b[38;5;241;43m*\u001b[39;49m\u001b[43mkwargs\u001b[49m\u001b[43m)\u001b[49m\n",
      "File \u001b[1;32m~\\AppData\\Local\\Programs\\Python\\Python311\\Lib\\site-packages\\pandas\\io\\parsers\\readers.py:950\u001b[0m, in \u001b[0;36mread_csv\u001b[1;34m(filepath_or_buffer, sep, delimiter, header, names, index_col, usecols, squeeze, prefix, mangle_dupe_cols, dtype, engine, converters, true_values, false_values, skipinitialspace, skiprows, skipfooter, nrows, na_values, keep_default_na, na_filter, verbose, skip_blank_lines, parse_dates, infer_datetime_format, keep_date_col, date_parser, dayfirst, cache_dates, iterator, chunksize, compression, thousands, decimal, lineterminator, quotechar, quoting, doublequote, escapechar, comment, encoding, encoding_errors, dialect, error_bad_lines, warn_bad_lines, on_bad_lines, delim_whitespace, low_memory, memory_map, float_precision, storage_options)\u001b[0m\n\u001b[0;32m    935\u001b[0m kwds_defaults \u001b[38;5;241m=\u001b[39m _refine_defaults_read(\n\u001b[0;32m    936\u001b[0m     dialect,\n\u001b[0;32m    937\u001b[0m     delimiter,\n\u001b[1;32m   (...)\u001b[0m\n\u001b[0;32m    946\u001b[0m     defaults\u001b[38;5;241m=\u001b[39m{\u001b[38;5;124m\"\u001b[39m\u001b[38;5;124mdelimiter\u001b[39m\u001b[38;5;124m\"\u001b[39m: \u001b[38;5;124m\"\u001b[39m\u001b[38;5;124m,\u001b[39m\u001b[38;5;124m\"\u001b[39m},\n\u001b[0;32m    947\u001b[0m )\n\u001b[0;32m    948\u001b[0m kwds\u001b[38;5;241m.\u001b[39mupdate(kwds_defaults)\n\u001b[1;32m--> 950\u001b[0m \u001b[38;5;28;01mreturn\u001b[39;00m \u001b[43m_read\u001b[49m\u001b[43m(\u001b[49m\u001b[43mfilepath_or_buffer\u001b[49m\u001b[43m,\u001b[49m\u001b[43m \u001b[49m\u001b[43mkwds\u001b[49m\u001b[43m)\u001b[49m\n",
      "File \u001b[1;32m~\\AppData\\Local\\Programs\\Python\\Python311\\Lib\\site-packages\\pandas\\io\\parsers\\readers.py:605\u001b[0m, in \u001b[0;36m_read\u001b[1;34m(filepath_or_buffer, kwds)\u001b[0m\n\u001b[0;32m    602\u001b[0m _validate_names(kwds\u001b[38;5;241m.\u001b[39mget(\u001b[38;5;124m\"\u001b[39m\u001b[38;5;124mnames\u001b[39m\u001b[38;5;124m\"\u001b[39m, \u001b[38;5;28;01mNone\u001b[39;00m))\n\u001b[0;32m    604\u001b[0m \u001b[38;5;66;03m# Create the parser.\u001b[39;00m\n\u001b[1;32m--> 605\u001b[0m parser \u001b[38;5;241m=\u001b[39m \u001b[43mTextFileReader\u001b[49m\u001b[43m(\u001b[49m\u001b[43mfilepath_or_buffer\u001b[49m\u001b[43m,\u001b[49m\u001b[43m \u001b[49m\u001b[38;5;241;43m*\u001b[39;49m\u001b[38;5;241;43m*\u001b[39;49m\u001b[43mkwds\u001b[49m\u001b[43m)\u001b[49m\n\u001b[0;32m    607\u001b[0m \u001b[38;5;28;01mif\u001b[39;00m chunksize \u001b[38;5;129;01mor\u001b[39;00m iterator:\n\u001b[0;32m    608\u001b[0m     \u001b[38;5;28;01mreturn\u001b[39;00m parser\n",
      "File \u001b[1;32m~\\AppData\\Local\\Programs\\Python\\Python311\\Lib\\site-packages\\pandas\\io\\parsers\\readers.py:1442\u001b[0m, in \u001b[0;36mTextFileReader.__init__\u001b[1;34m(self, f, engine, **kwds)\u001b[0m\n\u001b[0;32m   1439\u001b[0m     \u001b[38;5;28mself\u001b[39m\u001b[38;5;241m.\u001b[39moptions[\u001b[38;5;124m\"\u001b[39m\u001b[38;5;124mhas_index_names\u001b[39m\u001b[38;5;124m\"\u001b[39m] \u001b[38;5;241m=\u001b[39m kwds[\u001b[38;5;124m\"\u001b[39m\u001b[38;5;124mhas_index_names\u001b[39m\u001b[38;5;124m\"\u001b[39m]\n\u001b[0;32m   1441\u001b[0m \u001b[38;5;28mself\u001b[39m\u001b[38;5;241m.\u001b[39mhandles: IOHandles \u001b[38;5;241m|\u001b[39m \u001b[38;5;28;01mNone\u001b[39;00m \u001b[38;5;241m=\u001b[39m \u001b[38;5;28;01mNone\u001b[39;00m\n\u001b[1;32m-> 1442\u001b[0m \u001b[38;5;28mself\u001b[39m\u001b[38;5;241m.\u001b[39m_engine \u001b[38;5;241m=\u001b[39m \u001b[38;5;28;43mself\u001b[39;49m\u001b[38;5;241;43m.\u001b[39;49m\u001b[43m_make_engine\u001b[49m\u001b[43m(\u001b[49m\u001b[43mf\u001b[49m\u001b[43m,\u001b[49m\u001b[43m \u001b[49m\u001b[38;5;28;43mself\u001b[39;49m\u001b[38;5;241;43m.\u001b[39;49m\u001b[43mengine\u001b[49m\u001b[43m)\u001b[49m\n",
      "File \u001b[1;32m~\\AppData\\Local\\Programs\\Python\\Python311\\Lib\\site-packages\\pandas\\io\\parsers\\readers.py:1735\u001b[0m, in \u001b[0;36mTextFileReader._make_engine\u001b[1;34m(self, f, engine)\u001b[0m\n\u001b[0;32m   1733\u001b[0m     \u001b[38;5;28;01mif\u001b[39;00m \u001b[38;5;124m\"\u001b[39m\u001b[38;5;124mb\u001b[39m\u001b[38;5;124m\"\u001b[39m \u001b[38;5;129;01mnot\u001b[39;00m \u001b[38;5;129;01min\u001b[39;00m mode:\n\u001b[0;32m   1734\u001b[0m         mode \u001b[38;5;241m+\u001b[39m\u001b[38;5;241m=\u001b[39m \u001b[38;5;124m\"\u001b[39m\u001b[38;5;124mb\u001b[39m\u001b[38;5;124m\"\u001b[39m\n\u001b[1;32m-> 1735\u001b[0m \u001b[38;5;28mself\u001b[39m\u001b[38;5;241m.\u001b[39mhandles \u001b[38;5;241m=\u001b[39m \u001b[43mget_handle\u001b[49m\u001b[43m(\u001b[49m\n\u001b[0;32m   1736\u001b[0m \u001b[43m    \u001b[49m\u001b[43mf\u001b[49m\u001b[43m,\u001b[49m\n\u001b[0;32m   1737\u001b[0m \u001b[43m    \u001b[49m\u001b[43mmode\u001b[49m\u001b[43m,\u001b[49m\n\u001b[0;32m   1738\u001b[0m \u001b[43m    \u001b[49m\u001b[43mencoding\u001b[49m\u001b[38;5;241;43m=\u001b[39;49m\u001b[38;5;28;43mself\u001b[39;49m\u001b[38;5;241;43m.\u001b[39;49m\u001b[43moptions\u001b[49m\u001b[38;5;241;43m.\u001b[39;49m\u001b[43mget\u001b[49m\u001b[43m(\u001b[49m\u001b[38;5;124;43m\"\u001b[39;49m\u001b[38;5;124;43mencoding\u001b[39;49m\u001b[38;5;124;43m\"\u001b[39;49m\u001b[43m,\u001b[49m\u001b[43m \u001b[49m\u001b[38;5;28;43;01mNone\u001b[39;49;00m\u001b[43m)\u001b[49m\u001b[43m,\u001b[49m\n\u001b[0;32m   1739\u001b[0m \u001b[43m    \u001b[49m\u001b[43mcompression\u001b[49m\u001b[38;5;241;43m=\u001b[39;49m\u001b[38;5;28;43mself\u001b[39;49m\u001b[38;5;241;43m.\u001b[39;49m\u001b[43moptions\u001b[49m\u001b[38;5;241;43m.\u001b[39;49m\u001b[43mget\u001b[49m\u001b[43m(\u001b[49m\u001b[38;5;124;43m\"\u001b[39;49m\u001b[38;5;124;43mcompression\u001b[39;49m\u001b[38;5;124;43m\"\u001b[39;49m\u001b[43m,\u001b[49m\u001b[43m \u001b[49m\u001b[38;5;28;43;01mNone\u001b[39;49;00m\u001b[43m)\u001b[49m\u001b[43m,\u001b[49m\n\u001b[0;32m   1740\u001b[0m \u001b[43m    \u001b[49m\u001b[43mmemory_map\u001b[49m\u001b[38;5;241;43m=\u001b[39;49m\u001b[38;5;28;43mself\u001b[39;49m\u001b[38;5;241;43m.\u001b[39;49m\u001b[43moptions\u001b[49m\u001b[38;5;241;43m.\u001b[39;49m\u001b[43mget\u001b[49m\u001b[43m(\u001b[49m\u001b[38;5;124;43m\"\u001b[39;49m\u001b[38;5;124;43mmemory_map\u001b[39;49m\u001b[38;5;124;43m\"\u001b[39;49m\u001b[43m,\u001b[49m\u001b[43m \u001b[49m\u001b[38;5;28;43;01mFalse\u001b[39;49;00m\u001b[43m)\u001b[49m\u001b[43m,\u001b[49m\n\u001b[0;32m   1741\u001b[0m \u001b[43m    \u001b[49m\u001b[43mis_text\u001b[49m\u001b[38;5;241;43m=\u001b[39;49m\u001b[43mis_text\u001b[49m\u001b[43m,\u001b[49m\n\u001b[0;32m   1742\u001b[0m \u001b[43m    \u001b[49m\u001b[43merrors\u001b[49m\u001b[38;5;241;43m=\u001b[39;49m\u001b[38;5;28;43mself\u001b[39;49m\u001b[38;5;241;43m.\u001b[39;49m\u001b[43moptions\u001b[49m\u001b[38;5;241;43m.\u001b[39;49m\u001b[43mget\u001b[49m\u001b[43m(\u001b[49m\u001b[38;5;124;43m\"\u001b[39;49m\u001b[38;5;124;43mencoding_errors\u001b[39;49m\u001b[38;5;124;43m\"\u001b[39;49m\u001b[43m,\u001b[49m\u001b[43m \u001b[49m\u001b[38;5;124;43m\"\u001b[39;49m\u001b[38;5;124;43mstrict\u001b[39;49m\u001b[38;5;124;43m\"\u001b[39;49m\u001b[43m)\u001b[49m\u001b[43m,\u001b[49m\n\u001b[0;32m   1743\u001b[0m \u001b[43m    \u001b[49m\u001b[43mstorage_options\u001b[49m\u001b[38;5;241;43m=\u001b[39;49m\u001b[38;5;28;43mself\u001b[39;49m\u001b[38;5;241;43m.\u001b[39;49m\u001b[43moptions\u001b[49m\u001b[38;5;241;43m.\u001b[39;49m\u001b[43mget\u001b[49m\u001b[43m(\u001b[49m\u001b[38;5;124;43m\"\u001b[39;49m\u001b[38;5;124;43mstorage_options\u001b[39;49m\u001b[38;5;124;43m\"\u001b[39;49m\u001b[43m,\u001b[49m\u001b[43m \u001b[49m\u001b[38;5;28;43;01mNone\u001b[39;49;00m\u001b[43m)\u001b[49m\u001b[43m,\u001b[49m\n\u001b[0;32m   1744\u001b[0m \u001b[43m\u001b[49m\u001b[43m)\u001b[49m\n\u001b[0;32m   1745\u001b[0m \u001b[38;5;28;01massert\u001b[39;00m \u001b[38;5;28mself\u001b[39m\u001b[38;5;241m.\u001b[39mhandles \u001b[38;5;129;01mis\u001b[39;00m \u001b[38;5;129;01mnot\u001b[39;00m \u001b[38;5;28;01mNone\u001b[39;00m\n\u001b[0;32m   1746\u001b[0m f \u001b[38;5;241m=\u001b[39m \u001b[38;5;28mself\u001b[39m\u001b[38;5;241m.\u001b[39mhandles\u001b[38;5;241m.\u001b[39mhandle\n",
      "File \u001b[1;32m~\\AppData\\Local\\Programs\\Python\\Python311\\Lib\\site-packages\\pandas\\io\\common.py:856\u001b[0m, in \u001b[0;36mget_handle\u001b[1;34m(path_or_buf, mode, encoding, compression, memory_map, is_text, errors, storage_options)\u001b[0m\n\u001b[0;32m    851\u001b[0m \u001b[38;5;28;01melif\u001b[39;00m \u001b[38;5;28misinstance\u001b[39m(handle, \u001b[38;5;28mstr\u001b[39m):\n\u001b[0;32m    852\u001b[0m     \u001b[38;5;66;03m# Check whether the filename is to be opened in binary mode.\u001b[39;00m\n\u001b[0;32m    853\u001b[0m     \u001b[38;5;66;03m# Binary mode does not support 'encoding' and 'newline'.\u001b[39;00m\n\u001b[0;32m    854\u001b[0m     \u001b[38;5;28;01mif\u001b[39;00m ioargs\u001b[38;5;241m.\u001b[39mencoding \u001b[38;5;129;01mand\u001b[39;00m \u001b[38;5;124m\"\u001b[39m\u001b[38;5;124mb\u001b[39m\u001b[38;5;124m\"\u001b[39m \u001b[38;5;129;01mnot\u001b[39;00m \u001b[38;5;129;01min\u001b[39;00m ioargs\u001b[38;5;241m.\u001b[39mmode:\n\u001b[0;32m    855\u001b[0m         \u001b[38;5;66;03m# Encoding\u001b[39;00m\n\u001b[1;32m--> 856\u001b[0m         handle \u001b[38;5;241m=\u001b[39m \u001b[38;5;28;43mopen\u001b[39;49m\u001b[43m(\u001b[49m\n\u001b[0;32m    857\u001b[0m \u001b[43m            \u001b[49m\u001b[43mhandle\u001b[49m\u001b[43m,\u001b[49m\n\u001b[0;32m    858\u001b[0m \u001b[43m            \u001b[49m\u001b[43mioargs\u001b[49m\u001b[38;5;241;43m.\u001b[39;49m\u001b[43mmode\u001b[49m\u001b[43m,\u001b[49m\n\u001b[0;32m    859\u001b[0m \u001b[43m            \u001b[49m\u001b[43mencoding\u001b[49m\u001b[38;5;241;43m=\u001b[39;49m\u001b[43mioargs\u001b[49m\u001b[38;5;241;43m.\u001b[39;49m\u001b[43mencoding\u001b[49m\u001b[43m,\u001b[49m\n\u001b[0;32m    860\u001b[0m \u001b[43m            \u001b[49m\u001b[43merrors\u001b[49m\u001b[38;5;241;43m=\u001b[39;49m\u001b[43merrors\u001b[49m\u001b[43m,\u001b[49m\n\u001b[0;32m    861\u001b[0m \u001b[43m            \u001b[49m\u001b[43mnewline\u001b[49m\u001b[38;5;241;43m=\u001b[39;49m\u001b[38;5;124;43m\"\u001b[39;49m\u001b[38;5;124;43m\"\u001b[39;49m\u001b[43m,\u001b[49m\n\u001b[0;32m    862\u001b[0m \u001b[43m        \u001b[49m\u001b[43m)\u001b[49m\n\u001b[0;32m    863\u001b[0m     \u001b[38;5;28;01melse\u001b[39;00m:\n\u001b[0;32m    864\u001b[0m         \u001b[38;5;66;03m# Binary mode\u001b[39;00m\n\u001b[0;32m    865\u001b[0m         handle \u001b[38;5;241m=\u001b[39m \u001b[38;5;28mopen\u001b[39m(handle, ioargs\u001b[38;5;241m.\u001b[39mmode)\n",
      "\u001b[1;31mFileNotFoundError\u001b[0m: [Errno 2] No such file or directory: 'HR_comma_sep.csv'"
     ]
    }
   ],
   "source": [
    "df = pd.read_csv('HR_comma_sep.csv')\n",
    "df.shape"
   ]
  },
  {
   "cell_type": "code",
   "execution_count": null,
   "id": "ade9b6d2",
   "metadata": {
    "scrolled": true
   },
   "outputs": [],
   "source": [
    "#checking data type and null values\n",
    "df.info() "
   ]
  },
  {
   "cell_type": "code",
   "execution_count": null,
   "id": "70aa33b4",
   "metadata": {},
   "outputs": [],
   "source": [
    "#convert data types, rename columns and drop duplicates.\n",
    "df = df.convert_dtypes(convert_floating=False, convert_integer=False)\n",
    "df.rename(columns = {'satisfaction_level':'satisfaction', 'last_evaluation':'evaluation', 'number_project':'projects','average_montly_hours':'hours','time_spend_company':'timespend','Work_accident':'accident','promotion_last_5years':'promotion','sales':'department'}, inplace=True)\n",
    "df.drop_duplicates(inplace=True)"
   ]
  },
  {
   "cell_type": "markdown",
   "id": "5fa15be6",
   "metadata": {},
   "source": [
    "> All the columns data seem to be valid."
   ]
  },
  {
   "cell_type": "code",
   "execution_count": null,
   "id": "128f14b5",
   "metadata": {},
   "outputs": [],
   "source": [
    "dfnumeric = df.select_dtypes(include=['int64','float64'])\n",
    "dfcat = df.drop(columns = dfnumeric.columns)"
   ]
  },
  {
   "cell_type": "code",
   "execution_count": null,
   "id": "85c80edb",
   "metadata": {},
   "outputs": [],
   "source": [
    "#checking for outliers.\n",
    "fig, axarr = plt.subplots(1,5, figsize=(10, 4))\n",
    "y = 0\n",
    "for x in dfnumeric.columns:\n",
    "    axarr[y].boxplot(dfnumeric[x])\n",
    "    axarr[y].set_xlabel(x)\n",
    "    y += 1\n",
    "    if y == 5:\n",
    "        break\n",
    "plt.suptitle(\"Outliers checking on numeric columns\")\n",
    "fig.tight_layout(pad=1)\n",
    "plt.show()    "
   ]
  },
  {
   "cell_type": "markdown",
   "id": "c253ce5c",
   "metadata": {},
   "source": [
    "> There's outliers in the timespend column, but this outliers is a valid data because there are only a few out of thousands people that actually working more than 5 years."
   ]
  },
  {
   "cell_type": "markdown",
   "id": "86bbfad9",
   "metadata": {},
   "source": [
    "# Exploratory Data Analysis\n",
    "***\n",
    "## Data Overview:"
   ]
  },
  {
   "cell_type": "code",
   "execution_count": null,
   "id": "daaba5ef",
   "metadata": {},
   "outputs": [],
   "source": [
    "#checking left column,\n",
    "df.groupby('left')['left'].agg(lambda x: (x.count() / 11991)*100)"
   ]
  },
  {
   "cell_type": "markdown",
   "id": "f719d4e0",
   "metadata": {},
   "source": [
    ">There's around 17% employee that left the company or 0.17 turn over ratio."
   ]
  },
  {
   "cell_type": "code",
   "execution_count": null,
   "id": "a09b46a6",
   "metadata": {},
   "outputs": [],
   "source": [
    "dfnumeric.describe()"
   ]
  },
  {
   "cell_type": "code",
   "execution_count": null,
   "id": "087feb02",
   "metadata": {},
   "outputs": [],
   "source": [
    "x = pd.DataFrame([dfnumeric[dfnumeric.left == 1].describe().loc['mean',:],dfnumeric[dfnumeric.left == 0].describe().loc['mean',:]]).transpose()\n",
    "x.columns = ['Mean-Left','Mean-Stay']\n",
    "x"
   ]
  },
  {
   "cell_type": "markdown",
   "id": "14d3bc56",
   "metadata": {},
   "source": [
    ">There's a big difference mean value in satisfaction, accident, and promotion between the left and stay group. I will explore them later."
   ]
  },
  {
   "cell_type": "code",
   "execution_count": null,
   "id": "26bc470b",
   "metadata": {},
   "outputs": [],
   "source": [
    "dfcat.describe()"
   ]
  },
  {
   "cell_type": "code",
   "execution_count": null,
   "id": "9f1da8e4",
   "metadata": {},
   "outputs": [],
   "source": [
    "dfnumeric"
   ]
  },
  {
   "cell_type": "code",
   "execution_count": null,
   "id": "5e19d66f",
   "metadata": {},
   "outputs": [],
   "source": [
    "df.groupby('department')['satisfaction'].agg(lambda x: x.count()).sort_values(ascending=False).plot(kind='bar',figsize=(7,4),rot=45,color='mediumseagreen',width=0.35)\n",
    "plt.title(\"Total employee per department\", fontweight='bold', size=14)\n",
    "plt.show()"
   ]
  },
  {
   "cell_type": "markdown",
   "id": "19bac0e5",
   "metadata": {},
   "source": [
    ">sales, technical, support and IT are the largest department. The rest departments seems to be pretty equal to each other."
   ]
  },
  {
   "cell_type": "code",
   "execution_count": null,
   "id": "fad84484",
   "metadata": {},
   "outputs": [],
   "source": [
    "#memplot jumlah karyawan.\n",
    "fig, axarr = plt.subplots(1,2, figsize=(10, 4))\n",
    "df.groupby('department')[['left']].agg(Left = ('left', lambda x: x.sum()), Stay = ('left',lambda x: (x == 0).sum())).plot(kind='barh', ax=axarr[0])\n",
    "axarr[0].set_title(\"Total employee attrition\", fontweight='bold', size=11)\n",
    "axarr[0].set(ylabel = None)\n",
    "df.groupby('department')[['left']].agg(Left = ('left', lambda x: x.sum() * 100 / x.count()), Stay = ('left',lambda x: (x == 0).sum() * 100 / x.count())).plot(kind='barh',rot=True, ax=axarr[1])\n",
    "axarr[1].set_title(\"Employee attrition comparison by %\", fontweight='bold', size=11)\n",
    "axarr[1].set(ylabel = None)\n",
    "axarr[1].set_xticks(range(0,90,10))\n",
    "fig.tight_layout(pad=1)"
   ]
  },
  {
   "cell_type": "markdown",
   "id": "de0c8186",
   "metadata": {},
   "source": [
    ">As you can see from the right graphic, employee attrition per department on all department is pretty equal at +- 15%"
   ]
  },
  {
   "cell_type": "code",
   "execution_count": null,
   "id": "d570edda",
   "metadata": {},
   "outputs": [],
   "source": [
    "sns.pairplot(df, hue='left')"
   ]
  },
  {
   "cell_type": "markdown",
   "id": "25ca225c",
   "metadata": {},
   "source": [
    ">From the pair plot above, satisfaction, evaluation, projects and hours are very interesting features to discuss..., I will perform in-depth analysis later.."
   ]
  },
  {
   "cell_type": "markdown",
   "id": "d95ab30f",
   "metadata": {},
   "source": [
    "## Correlation"
   ]
  },
  {
   "cell_type": "code",
   "execution_count": null,
   "id": "9bff3b53",
   "metadata": {},
   "outputs": [],
   "source": [
    "sns.heatmap(df.drop(columns=['department','salary']).corr().round(2), annot=True)\n",
    "plt.show()"
   ]
  },
  {
   "cell_type": "markdown",
   "id": "b9adcef8",
   "metadata": {},
   "source": [
    ">As we can see from the heatmap above, that evaluation, projects and hours have a weak positive correlation among each other.This mean that more projects consume more time thus make better evaluation. There is also a negative correlation between satisfaction and left, this mean that the lower the satisfaction level the more chances that employee will quit."
   ]
  },
  {
   "cell_type": "markdown",
   "id": "e2fea944",
   "metadata": {},
   "source": [
    "## Satisfaction analysis\n",
    "First, let's make a function to plot distribution."
   ]
  },
  {
   "cell_type": "code",
   "execution_count": null,
   "id": "17c8d9ac",
   "metadata": {},
   "outputs": [],
   "source": [
    "def pdf_plot(df,colom,x):\n",
    "    means = df.satisfaction.mean()\n",
    "    medians = df.satisfaction.median()\n",
    "    data = df[df.left == 1][colom]\n",
    "    data1 = df[df.left == 0][colom]\n",
    "    \n",
    "    kde = gaussian_kde(data)\n",
    "    kde1 = gaussian_kde(data1)\n",
    "    dist_space = np.linspace( min(data), max(data), 200)\n",
    "    dist_space1 = np.linspace( min(data1), max(data1), 200)\n",
    "    axarr[x].plot( dist_space, kde(dist_space), label='Left', color='orange' )\n",
    "    axarr[x].plot( dist_space1, kde1(dist_space1), label='Stay', color='blue')\n",
    "    axarr[x].axvline(x = means, linestyle = '--', color='g', label='Mean')\n",
    "    axarr[x].axvline(x = medians, linestyle = '--', color='r', label='Median')\n",
    "    axarr[x].set_title('Probability', fontweight='bold', size=12)\n",
    "    axarr[x].set(ylabel = 'Probability', xlabel = colom)\n",
    "    axarr[x].legend()"
   ]
  },
  {
   "cell_type": "code",
   "execution_count": null,
   "id": "e4d8e4e6",
   "metadata": {},
   "outputs": [],
   "source": [
    "fig, axarr = plt.subplots(1,2, figsize=(12, 4))\n",
    "g = sns.histplot(data=df, x = 'satisfaction',hue='left', ax=axarr[0], multiple='stack')\n",
    "axarr[0].set_title('Distribution', fontweight='bold', size=12)\n",
    "pdf_plot(df,'satisfaction',1)\n",
    "plt.show()"
   ]
  },
  {
   "cell_type": "markdown",
   "id": "ac9d4e77",
   "metadata": {},
   "source": [
    ">Just from above plot, we can see employee that stay has larger satisfaction level. But is it certain that satisfaction level does affect employee attrition?\n",
    "\n",
    ">Let's do hyphotesis testing on satisfaction between the left and stay groups.<Br>\n",
    "I will conduct two way z-test with 95% confidence level.<br>\n",
    "Ho : There's no significance difference between the left and stay groups.<br>\n",
    "Ha : There's a significance difference between the left and stay groups."
   ]
  },
  {
   "cell_type": "code",
   "execution_count": null,
   "id": "0ae6a984",
   "metadata": {},
   "outputs": [],
   "source": [
    "print(f\"Z score, P value : {ztest(df[df.left == 1]['satisfaction'],df[df.left == 0]['satisfaction'])}\")"
   ]
  },
  {
   "cell_type": "markdown",
   "id": "7f17c1d2",
   "metadata": {},
   "source": [
    ">As a whole the p value is very small and we can reject the null hyphothesis, but let's conduct the z test per department."
   ]
  },
  {
   "cell_type": "code",
   "execution_count": null,
   "id": "9e842ac8",
   "metadata": {},
   "outputs": [],
   "source": [
    "y = ['sales','technical','support','IT','RandD','product_mng','marketing','accounting','hr','management']\n",
    "dfleft = df[df.left == 1]\n",
    "dfnotleft = df[df.left == 0]\n",
    "m = []\n",
    "for x in y:\n",
    "    a = ztest(dfleft[dfleft.department == x]['satisfaction'], dfnotleft[dfnotleft.department == x]['satisfaction'])[1]\n",
    "    m.append(a)\n",
    "b = pd.DataFrame(m,y).reset_index()\n",
    "b[\"SigniLevel\"] = 0.05\n",
    "b[\"Status\"] = b.apply(lambda x: \"Reject Ho Hyphothesis\" if int(x[0]) < x[\"SigniLevel\"] else \"Do not Reject Ho Hyphothesis\",axis=1)\n",
    "b.columns = ['department','P-val','SigniLevel','Status']\n",
    "b      "
   ]
  },
  {
   "cell_type": "markdown",
   "id": "9daa5824",
   "metadata": {},
   "source": [
    ">>As you can see, we conduct z test on all department and all the result is the p value is lower than significance level, this mean we can safely reject the null hyphothesis and assume that satisfaction level does significantly affect employee attrition!."
   ]
  },
  {
   "cell_type": "markdown",
   "id": "9851b952",
   "metadata": {},
   "source": [
    "## Evaluation, projects, hours vs satisfaction\n",
    "As we discussed above that evaluation project and hours seems to have a correlation. First, let's see the satisfaction distribution once again."
   ]
  },
  {
   "cell_type": "code",
   "execution_count": null,
   "id": "d72d5127",
   "metadata": {},
   "outputs": [],
   "source": [
    "fig, axarr = plt.subplots(1,2, figsize=(12, 4))\n",
    "g = sns.histplot(data=df, x = 'evaluation',hue='left', ax=axarr[0], multiple='stack')\n",
    "axarr[0].set_title('Distribution', fontweight='bold', size=12)\n",
    "pdf_plot(df,'evaluation',1)\n",
    "plt.show()"
   ]
  },
  {
   "cell_type": "code",
   "execution_count": null,
   "id": "c738ba2d",
   "metadata": {},
   "outputs": [],
   "source": [
    "fig, axarr = plt.subplots(1,2, figsize=(12, 4))\n",
    "g = sns.histplot(data=df, x = 'projects',hue='left', ax=axarr[0], binwidth=0.15, multiple='stack')\n",
    "df.groupby('projects')['left'].agg(lambda x: x.sum() * 100 / x.count()).plot(kind='bar', width=0.3,rot=True, color='purple')\n",
    "axarr[0].set_title('Distribution', fontweight='bold', size=12)\n",
    "axarr[1].set_title('Left probability', fontweight='bold', size=12)\n",
    "plt.show()"
   ]
  },
  {
   "cell_type": "code",
   "execution_count": null,
   "id": "0548b276",
   "metadata": {},
   "outputs": [],
   "source": [
    "fig, axarr = plt.subplots(1,2, figsize=(12, 4))\n",
    "g = sns.histplot(data=df, x = 'hours',hue='left', ax=axarr[0], multiple='stack')\n",
    "axarr[0].set_title('Distribution', fontweight='bold', size=12)\n",
    "pdf_plot(df,'hours',1)\n",
    "plt.show()"
   ]
  },
  {
   "cell_type": "code",
   "execution_count": null,
   "id": "72f251b3",
   "metadata": {},
   "outputs": [],
   "source": [
    "fig, axarr = plt.subplots(1, 3, figsize=(10.3, 4))\n",
    "axarr[0].scatter(df['projects'], df['satisfaction'], c=df['left'] == 1, cmap='coolwarm', alpha=0.5, s=3)\n",
    "axarr[0].set_xlabel('projects')\n",
    "axarr[0].set_ylabel('satisfaction')\n",
    "axarr[0].set_title(\"Satisfaction vs Projects\")\n",
    "\n",
    "axarr[1].scatter(df['evaluation'], df['satisfaction'], c=df['left'] == 1, cmap='coolwarm', alpha=0.5, s=3)\n",
    "axarr[1].set_xlabel('evaluation')\n",
    "axarr[1].set_ylabel('satisfaction')\n",
    "axarr[1].set_title(\"Satisfaction vs Evaluation\")\n",
    "\n",
    "axarr[2].scatter(df['hours'], df['satisfaction'], c=df['left'] == 1, cmap='coolwarm', alpha=0.5, s=3)\n",
    "axarr[2].set_xlabel('hours')\n",
    "axarr[2].set_ylabel('satisfaction')\n",
    "axarr[2].set_title(\"Satisfaction vs Hours\")\n",
    "\n",
    "fig.tight_layout(pad=1)"
   ]
  },
  {
   "cell_type": "markdown",
   "id": "9bf64ae0",
   "metadata": {},
   "source": [
    ">>Here's interesting informations I founds:<br>\n",
    ">>1. Employees tend to leave when they did very little projects or a lot of projects.<br>\n",
    "2. Almost 100% employees with very low satisfaction level left the company (below 0.1).<br>\n",
    "3. 100% of employees left when they worked over 300 hours. <br>\n",
    "4. There are some groups of employees that leave the company when their evaluations or hours are low or high (even when their   satisfaction levels are high).<br>\n",
    "5.In short, some employees tend to leave the company because they're underworked or overworked, no matter what their satisfaction levels are."
   ]
  },
  {
   "cell_type": "markdown",
   "id": "66a0e695",
   "metadata": {},
   "source": [
    "## TimeSpendCompany Analysis"
   ]
  },
  {
   "cell_type": "code",
   "execution_count": null,
   "id": "18d6bb55",
   "metadata": {},
   "outputs": [],
   "source": [
    "fig, axarr = plt.subplots(1,2, figsize=(12, 4))\n",
    "g = sns.histplot(data=df, x = 'timespend', hue='left',ax=axarr[0], binwidth=0.15, color='orange', multiple='stack')\n",
    "df.groupby('timespend')['left'].agg(lambda x: x.sum() * 100 / x.count()).plot(kind='bar', width=0.3,rot =True, color='purple')\n",
    "axarr[0].set_title('Distribution', fontweight='bold', size=12)\n",
    "axarr[1].set_title('Left probability', fontweight='bold', size=12)\n",
    "plt.show()"
   ]
  },
  {
   "cell_type": "markdown",
   "id": "036bb904",
   "metadata": {},
   "source": [
    ">Employee that work for 5 years has the highest probability to left the company"
   ]
  },
  {
   "cell_type": "code",
   "execution_count": null,
   "id": "d8da257b",
   "metadata": {
    "scrolled": true
   },
   "outputs": [],
   "source": [
    "dict1 = {\n",
    "    'low' : 1,\n",
    "    'medium' : 2,\n",
    "    'high' : 3\n",
    "}\n",
    "df['salary'] = df['salary'].map(dict1)\n",
    "df.groupby('timespend')['salary'].agg('median')"
   ]
  },
  {
   "cell_type": "code",
   "execution_count": null,
   "id": "27215b00",
   "metadata": {
    "scrolled": false
   },
   "outputs": [],
   "source": [
    "fig, axarr = plt.subplots(2,2, figsize=(11, 7))\n",
    "sns.barplot(data=df, hue='left', x='timespend', y='salary',ax = axarr[0,0])\n",
    "sns.barplot(data=df, hue='left', x='timespend', y='hours',ax = axarr[0,1])\n",
    "sns.barplot(data=df, hue='left', x='timespend', y='projects',ax = axarr[1,0])\n",
    "sns.barplot(data=df, hue='left', x='timespend', y='evaluation',ax = axarr[1,1])\n",
    "plt.show()"
   ]
  },
  {
   "cell_type": "markdown",
   "id": "2d92f67b",
   "metadata": {},
   "source": [
    ">> It seems the salary is pretty equal no matter how many years the employee work, but the workload seems to increase on employee that work more than 3 years"
   ]
  },
  {
   "cell_type": "code",
   "execution_count": null,
   "id": "2d1a339f",
   "metadata": {},
   "outputs": [],
   "source": [
    "fig, axarr = plt.subplots(1,2,figsize=(10,3))\n",
    "df[df.timespend < 5].groupby('department')['timespend'].mean().sort_values().plot(kind='barh', ax = axarr[0])\n",
    "df[df.timespend >= 5].groupby('department')['timespend'].mean().sort_values().plot(kind='barh', ax = axarr[1], color ='c')\n",
    "fig.tight_layout(pad=1)\n",
    "plt.show()"
   ]
  },
  {
   "cell_type": "markdown",
   "id": "dbe3588c",
   "metadata": {},
   "source": [
    ">>For employee that work below 5 years, the mean is pretty equal on all department (around 3 years). But for employees who have worked more than 5 years, we can see that management's employees are the most loyal (around 7 years), leaving all departments pretty far behind."
   ]
  },
  {
   "cell_type": "markdown",
   "id": "f1a392ac",
   "metadata": {},
   "source": [
    "## Accident analysis"
   ]
  },
  {
   "cell_type": "code",
   "execution_count": null,
   "id": "2aeb0553",
   "metadata": {},
   "outputs": [],
   "source": [
    "fig, axarr = plt.subplots(1,2,figsize=(9,4))\n",
    "df.groupby('left')['accident'].agg(lambda x: x.sum() * 100 / x.count()).plot(kind='bar', ax = axarr[0], rot=True)\n",
    "df.groupby('department')['accident'].agg(lambda x: x.sum() * 100 / x.count()).plot(kind='bar', ax = axarr[1], rot = 45, color='purple')\n",
    "fig.tight_layout(pad=1)\n",
    "plt.show()"
   ]
  },
  {
   "cell_type": "markdown",
   "id": "0e3e6b02",
   "metadata": {},
   "source": [
    ">>It seems that employees who left have a lower accident rate. Also, at least 12.5% of employees in all departments have ever been in an accident."
   ]
  },
  {
   "cell_type": "markdown",
   "id": "2a1efd4a",
   "metadata": {},
   "source": [
    "## Conclusion\n",
    ">>Before we go any further, here's a recap:<br>\n",
    ">>1. Employees with a very low satisfaction level (around 0.1) are guaranteed to leave. These employees also have a very high evaluation score and long working hours (low satisfaction level + overwork). <br>\n",
    "2. Some employees tend to leave when they overwork or underwork, no matter what their satisfaction levels are. <br>\n",
    "3. Salary is pretty equal between junior and senior employees.<Br>\n",
    "4. Senior employees tend to work more than juniors.<Br>\n",
    "5. Senior employees tend to leave the company more than junior employees.<br>\n",
    "6. From the data, there are very little employees that working more than 5 years. Maybe the company is still new or expanding, the data is incomplete, or the employees don't like to work longer than 5 years.\n",
    "7. Accidents seems likely to be happened but it doesn't effect employee attrition."
   ]
  },
  {
   "cell_type": "code",
   "execution_count": null,
   "id": "e7d78a9b",
   "metadata": {},
   "outputs": [],
   "source": [
    "def teladan(x):\n",
    "    x = list(x)\n",
    "    k = 0\n",
    "    if x[0] > df.evaluation.quantile(q=0.75) or x[0] < df.evaluation.quantile(q=0.25):\n",
    "        k += 1\n",
    "    if x[1] > df.projects.quantile(q=0.75) or x[0] < df.projects.quantile(q=0.25):\n",
    "        k += 1\n",
    "    if x[2] > df.hours.quantile(q=0.75) or x[2] < df.hours.quantile(q=0.25):\n",
    "        k += 1\n",
    "    if k == 3 :\n",
    "        return 1\n",
    "    else:\n",
    "        return 0"
   ]
  },
  {
   "cell_type": "code",
   "execution_count": null,
   "id": "af2c912f",
   "metadata": {},
   "outputs": [],
   "source": [
    "df['teladan'] = df[['evaluation','projects','hours']].apply(teladan, axis=1)"
   ]
  },
  {
   "cell_type": "code",
   "execution_count": null,
   "id": "1db86c53",
   "metadata": {},
   "outputs": [],
   "source": [
    "df.teladan.value_counts()"
   ]
  },
  {
   "cell_type": "code",
   "execution_count": null,
   "id": "cfb38538",
   "metadata": {},
   "outputs": [],
   "source": [
    "df"
   ]
  },
  {
   "cell_type": "markdown",
   "id": "93787935",
   "metadata": {},
   "source": [
    "# Stop"
   ]
  },
  {
   "cell_type": "code",
   "execution_count": null,
   "id": "e033909b",
   "metadata": {},
   "outputs": [],
   "source": [
    "from sklearn.ensemble import RandomForestClassifier\n",
    "from sklearn.tree import DecisionTreeClassifier\n",
    "from sklearn import metrics"
   ]
  },
  {
   "cell_type": "code",
   "execution_count": null,
   "id": "338017ea",
   "metadata": {},
   "outputs": [],
   "source": [
    "dfrun = df.drop(columns=['salary','department'])\n",
    "dfrunp = dfrun.drop(columns='left')\n",
    "dfrunt = dfrun['left'].copy()"
   ]
  },
  {
   "cell_type": "code",
   "execution_count": null,
   "id": "d99d3e26",
   "metadata": {},
   "outputs": [],
   "source": [
    "from sklearn.model_selection import train_test_split\n",
    "X_train, X_test, y_train, y_test = train_test_split(dfrunp, dfrunt, test_size = 0.5, random_state=123)"
   ]
  },
  {
   "cell_type": "code",
   "execution_count": null,
   "id": "2a6a99bd",
   "metadata": {},
   "outputs": [],
   "source": [
    "clf = RandomForestClassifier(n_estimators=50)\n",
    "clf.fit(X_train, y_train)\n",
    "y_pred = clf.predict(X_test)"
   ]
  },
  {
   "cell_type": "code",
   "execution_count": null,
   "id": "13475637",
   "metadata": {},
   "outputs": [],
   "source": [
    "metrics.f1_score(y_test,y_pred)"
   ]
  },
  {
   "cell_type": "code",
   "execution_count": null,
   "id": "52a68ea5",
   "metadata": {},
   "outputs": [],
   "source": [
    "metrics.accuracy_score(y_test,y_pred)"
   ]
  },
  {
   "cell_type": "code",
   "execution_count": null,
   "id": "3cb5f7ff",
   "metadata": {},
   "outputs": [],
   "source": [
    "metrics.confusion_matrix(y_test,y_pred)"
   ]
  },
  {
   "cell_type": "code",
   "execution_count": null,
   "id": "e81b9ac7",
   "metadata": {},
   "outputs": [],
   "source": [
    "threshold_tuning(clf, X_test, y_test, np.arange(0.1,1.1,0.1), 20,1).sort_values('score')"
   ]
  },
  {
   "cell_type": "code",
   "execution_count": null,
   "id": "599627ae",
   "metadata": {},
   "outputs": [],
   "source": []
  },
  {
   "cell_type": "code",
   "execution_count": null,
   "id": "34c20d18",
   "metadata": {},
   "outputs": [],
   "source": []
  },
  {
   "cell_type": "code",
   "execution_count": null,
   "id": "d8d4a5f0",
   "metadata": {},
   "outputs": [],
   "source": []
  },
  {
   "cell_type": "code",
   "execution_count": null,
   "id": "4e5b2be6",
   "metadata": {},
   "outputs": [],
   "source": []
  },
  {
   "cell_type": "code",
   "execution_count": null,
   "id": "7721492f",
   "metadata": {},
   "outputs": [],
   "source": []
  },
  {
   "cell_type": "code",
   "execution_count": null,
   "id": "bb907e52",
   "metadata": {},
   "outputs": [],
   "source": []
  },
  {
   "cell_type": "code",
   "execution_count": null,
   "id": "56270acf",
   "metadata": {},
   "outputs": [],
   "source": []
  },
  {
   "cell_type": "code",
   "execution_count": null,
   "id": "2000143d",
   "metadata": {},
   "outputs": [],
   "source": []
  },
  {
   "cell_type": "code",
   "execution_count": null,
   "id": "8974c3ff",
   "metadata": {},
   "outputs": [],
   "source": []
  },
  {
   "cell_type": "code",
   "execution_count": null,
   "id": "6b3e102a",
   "metadata": {},
   "outputs": [],
   "source": []
  },
  {
   "cell_type": "code",
   "execution_count": null,
   "id": "eec72029",
   "metadata": {},
   "outputs": [],
   "source": []
  },
  {
   "cell_type": "code",
   "execution_count": null,
   "id": "f805fa01",
   "metadata": {},
   "outputs": [],
   "source": []
  },
  {
   "cell_type": "code",
   "execution_count": null,
   "id": "1fdb4527",
   "metadata": {},
   "outputs": [],
   "source": []
  },
  {
   "cell_type": "code",
   "execution_count": null,
   "id": "de4d06aa",
   "metadata": {},
   "outputs": [],
   "source": []
  },
  {
   "cell_type": "code",
   "execution_count": null,
   "id": "f79ebba5",
   "metadata": {},
   "outputs": [],
   "source": []
  },
  {
   "cell_type": "code",
   "execution_count": null,
   "id": "514ef037",
   "metadata": {},
   "outputs": [],
   "source": []
  },
  {
   "cell_type": "code",
   "execution_count": null,
   "id": "d336131b",
   "metadata": {},
   "outputs": [],
   "source": []
  },
  {
   "cell_type": "code",
   "execution_count": null,
   "id": "b5e01b8e",
   "metadata": {},
   "outputs": [],
   "source": []
  },
  {
   "cell_type": "code",
   "execution_count": null,
   "id": "bc9643ab",
   "metadata": {},
   "outputs": [],
   "source": []
  },
  {
   "cell_type": "code",
   "execution_count": null,
   "id": "daef54e9",
   "metadata": {},
   "outputs": [],
   "source": []
  },
  {
   "cell_type": "code",
   "execution_count": null,
   "id": "ee9dd53f",
   "metadata": {},
   "outputs": [],
   "source": []
  },
  {
   "cell_type": "code",
   "execution_count": null,
   "id": "776ebc92",
   "metadata": {},
   "outputs": [],
   "source": []
  },
  {
   "cell_type": "code",
   "execution_count": null,
   "id": "58f711bb",
   "metadata": {},
   "outputs": [],
   "source": []
  },
  {
   "cell_type": "code",
   "execution_count": null,
   "id": "bdd059b4",
   "metadata": {},
   "outputs": [],
   "source": []
  },
  {
   "cell_type": "code",
   "execution_count": null,
   "id": "dc2b2a37",
   "metadata": {},
   "outputs": [],
   "source": []
  },
  {
   "cell_type": "code",
   "execution_count": null,
   "id": "67df4807",
   "metadata": {},
   "outputs": [],
   "source": []
  },
  {
   "cell_type": "code",
   "execution_count": null,
   "id": "97678512",
   "metadata": {},
   "outputs": [],
   "source": []
  },
  {
   "cell_type": "code",
   "execution_count": null,
   "id": "e09cba7c",
   "metadata": {},
   "outputs": [],
   "source": []
  },
  {
   "cell_type": "code",
   "execution_count": null,
   "id": "322228d6",
   "metadata": {},
   "outputs": [],
   "source": []
  },
  {
   "cell_type": "code",
   "execution_count": null,
   "id": "b3480c66",
   "metadata": {},
   "outputs": [],
   "source": []
  },
  {
   "cell_type": "code",
   "execution_count": null,
   "id": "859e3047",
   "metadata": {},
   "outputs": [],
   "source": []
  },
  {
   "cell_type": "code",
   "execution_count": null,
   "id": "5feecb56",
   "metadata": {},
   "outputs": [],
   "source": []
  },
  {
   "cell_type": "code",
   "execution_count": null,
   "id": "a23bc79d",
   "metadata": {},
   "outputs": [],
   "source": []
  },
  {
   "cell_type": "code",
   "execution_count": null,
   "id": "27645d3e",
   "metadata": {},
   "outputs": [],
   "source": []
  },
  {
   "cell_type": "code",
   "execution_count": null,
   "id": "225ea1e0",
   "metadata": {},
   "outputs": [],
   "source": []
  },
  {
   "cell_type": "code",
   "execution_count": null,
   "id": "2a2c5b7a",
   "metadata": {},
   "outputs": [],
   "source": []
  },
  {
   "cell_type": "code",
   "execution_count": null,
   "id": "1e4c642c",
   "metadata": {},
   "outputs": [],
   "source": [
    "param_grid = {\n",
    " 'bootstrap': [True, False],\n",
    " 'max_depth': [10, 20, 30, 40, 50, 60, 70, 80, 90, 100, None],\n",
    " 'max_features': ['auto', None],\n",
    " 'min_samples_leaf': [1, 2, 4],\n",
    " 'min_samples_split': [2, 5, 10],\n",
    " 'n_estimators': [50, 100, 150, 200, 400, 600, 800, 1000]\n",
    "}"
   ]
  },
  {
   "cell_type": "code",
   "execution_count": null,
   "id": "90c9203f",
   "metadata": {},
   "outputs": [],
   "source": [
    "randomcv = RandomizedSearchCV(RandomForestClassifier() , param_grid, cv=5, n_jobs=-1, n_iter=5, scoring='f1')\n",
    "randomcv.fit(dfrunp , dfrunt)"
   ]
  },
  {
   "cell_type": "code",
   "execution_count": null,
   "id": "6823e554",
   "metadata": {},
   "outputs": [],
   "source": [
    "pd.DataFrame(randomcv.cv_results_)"
   ]
  },
  {
   "cell_type": "code",
   "execution_count": null,
   "id": "200cd6fc",
   "metadata": {
    "scrolled": true
   },
   "outputs": [],
   "source": [
    "pd.DataFrame(randomcv.cv_results_)['params'].value_counts()"
   ]
  },
  {
   "cell_type": "code",
   "execution_count": null,
   "id": "92553eb5",
   "metadata": {},
   "outputs": [],
   "source": [
    "clf1 = RandomForestClassifier(n_estimators= 50, min_samples_split= 5, min_samples_leaf= 2, max_features= None, max_depth= 70, bootstrap= False)\n",
    "clf1.fit(X_train, y_train) #mean f1 0.9271"
   ]
  },
  {
   "cell_type": "code",
   "execution_count": null,
   "id": "428d75d2",
   "metadata": {},
   "outputs": [],
   "source": [
    "clf2 = RandomForestClassifier(n_estimators= 400, min_samples_split= 10, min_samples_leaf= 2, max_features= 'auto', max_depth= 30, bootstrap= False)\n",
    "clf2.fit(X_train, y_train) #mean f1 0.950215"
   ]
  },
  {
   "cell_type": "code",
   "execution_count": null,
   "id": "7ac7931d",
   "metadata": {},
   "outputs": [],
   "source": [
    "clf = RandomForestClassifier(n_estimators=5)\n",
    "clf.fit(X_train, y_train)\n",
    "y_pred = clf.predict(X_test)"
   ]
  },
  {
   "cell_type": "code",
   "execution_count": null,
   "id": "89062947",
   "metadata": {},
   "outputs": [],
   "source": [
    "def threshold_tuning(model, xtest, ytest, thres, fnvalues, fpvalues):\n",
    "    recall = []\n",
    "    precision = []\n",
    "    f1_score = []\n",
    "    accuracy_score = []\n",
    "    score = []\n",
    "    for k in thres:\n",
    "        y = pd.DataFrame(clf.predict_proba(xtest), columns=['%No','%Yes'])[['%No']]\n",
    "        y['prediction'] = y['%No'].apply(lambda x: 0 if x > k else 1 )\n",
    "        recall.append(metrics.recall_score(ytest, y.prediction))\n",
    "        precision.append(metrics.precision_score(ytest, y.prediction))\n",
    "        f1_score.append(metrics.f1_score(ytest, y.prediction))\n",
    "        accuracy_score.append(metrics.accuracy_score(ytest, y.prediction))\n",
    "        score.append((metrics.confusion_matrix(ytest, y.prediction)[1][0] * fnvalues) + (metrics.confusion_matrix(y_test, y.prediction)[0][1] * fpvalues))\n",
    "    df = pd.DataFrame([thres,recall,precision,f1_score,accuracy_score,score]).transpose()\n",
    "    df.columns = ['thresold','recall','precision','f1-score','accuracy-score','score']\n",
    "    return df\n",
    "    "
   ]
  },
  {
   "cell_type": "code",
   "execution_count": null,
   "id": "657f8adb",
   "metadata": {},
   "outputs": [],
   "source": [
    "threshold_tuning(clf2, X_test, y_test, np.arange(0.1,1.1,0.1), 20,1).sort_values('score')"
   ]
  },
  {
   "cell_type": "code",
   "execution_count": null,
   "id": "807fb15d",
   "metadata": {},
   "outputs": [],
   "source": [
    "threshold_tuning(clf1, X_test, y_test, np.arange(0.1,1.1,0.1), 10, 1).sort_values('score')"
   ]
  },
  {
   "cell_type": "code",
   "execution_count": null,
   "id": "24100a49",
   "metadata": {},
   "outputs": [],
   "source": [
    "metrics.confusion_matrix(y_test, y.prediction)[1][0] * 1000000"
   ]
  },
  {
   "cell_type": "code",
   "execution_count": null,
   "id": "e2d7265a",
   "metadata": {},
   "outputs": [],
   "source": [
    "df.sort_values('score', ascending=False)"
   ]
  },
  {
   "cell_type": "code",
   "execution_count": null,
   "id": "5cc5ab9e",
   "metadata": {},
   "outputs": [],
   "source": [
    "df.sort_values('score', ascending=False)"
   ]
  },
  {
   "cell_type": "code",
   "execution_count": null,
   "id": "bb5cbd5f",
   "metadata": {},
   "outputs": [],
   "source": [
    "df.sort_values('score', ascending=False)"
   ]
  },
  {
   "cell_type": "code",
   "execution_count": null,
   "id": "6b5aa52c",
   "metadata": {},
   "outputs": [],
   "source": [
    "metrics.confusion_matrix(y_test, y.prediction)"
   ]
  },
  {
   "cell_type": "code",
   "execution_count": null,
   "id": "d5ab3487",
   "metadata": {},
   "outputs": [],
   "source": []
  },
  {
   "cell_type": "code",
   "execution_count": null,
   "id": "d25ad5e4",
   "metadata": {},
   "outputs": [],
   "source": [
    "metrics.precision_score(y_test, y.prediction)"
   ]
  },
  {
   "cell_type": "code",
   "execution_count": null,
   "id": "bdcf5d8d",
   "metadata": {},
   "outputs": [],
   "source": [
    "920 / (920 + 30)"
   ]
  },
  {
   "cell_type": "code",
   "execution_count": null,
   "id": "c96504bb",
   "metadata": {},
   "outputs": [],
   "source": [
    "y['prediction'] = y['%No'].apply(lambda x: 0 if x > 0.5 else 1 )\n",
    "y"
   ]
  },
  {
   "cell_type": "code",
   "execution_count": null,
   "id": "661a3f1a",
   "metadata": {},
   "outputs": [],
   "source": []
  },
  {
   "cell_type": "code",
   "execution_count": null,
   "id": "2072765e",
   "metadata": {},
   "outputs": [],
   "source": []
  },
  {
   "cell_type": "code",
   "execution_count": null,
   "id": "dd31fe5b",
   "metadata": {},
   "outputs": [],
   "source": []
  },
  {
   "cell_type": "code",
   "execution_count": null,
   "id": "839d8a9f",
   "metadata": {},
   "outputs": [],
   "source": []
  },
  {
   "cell_type": "code",
   "execution_count": null,
   "id": "74992766",
   "metadata": {},
   "outputs": [],
   "source": []
  },
  {
   "cell_type": "code",
   "execution_count": null,
   "id": "19df4d2a",
   "metadata": {},
   "outputs": [],
   "source": []
  },
  {
   "cell_type": "code",
   "execution_count": null,
   "id": "9f7d8a1d",
   "metadata": {},
   "outputs": [],
   "source": []
  },
  {
   "cell_type": "code",
   "execution_count": null,
   "id": "39d51231",
   "metadata": {},
   "outputs": [],
   "source": []
  },
  {
   "cell_type": "code",
   "execution_count": null,
   "id": "dcbea0e9",
   "metadata": {},
   "outputs": [],
   "source": []
  },
  {
   "cell_type": "code",
   "execution_count": null,
   "id": "f0008308",
   "metadata": {},
   "outputs": [],
   "source": []
  },
  {
   "cell_type": "code",
   "execution_count": null,
   "id": "13c0648f",
   "metadata": {},
   "outputs": [],
   "source": []
  },
  {
   "cell_type": "code",
   "execution_count": null,
   "id": "a799a66d",
   "metadata": {},
   "outputs": [],
   "source": []
  },
  {
   "cell_type": "code",
   "execution_count": null,
   "id": "a8d57536",
   "metadata": {},
   "outputs": [],
   "source": []
  },
  {
   "cell_type": "code",
   "execution_count": null,
   "id": "3ed12a16",
   "metadata": {},
   "outputs": [],
   "source": [
    "#metrics.plot_roc_curve(clf, X_test, y_test)"
   ]
  },
  {
   "cell_type": "code",
   "execution_count": null,
   "id": "54b45b03",
   "metadata": {},
   "outputs": [],
   "source": [
    "k = pd.Series(y_pred)\n",
    "k.value_counts()"
   ]
  },
  {
   "cell_type": "code",
   "execution_count": null,
   "id": "96ab8a54",
   "metadata": {},
   "outputs": [],
   "source": [
    "y_test.value_counts()"
   ]
  },
  {
   "cell_type": "code",
   "execution_count": null,
   "id": "fe3a850b",
   "metadata": {},
   "outputs": [],
   "source": [
    "from sklearn.metrics import precision_score, recall_score, f1_score, accuracy_score\n",
    "metrics.accuracy_score(y_test, y_pred)"
   ]
  },
  {
   "cell_type": "code",
   "execution_count": null,
   "id": "5dd92769",
   "metadata": {},
   "outputs": [],
   "source": [
    "metrics.precision_score(y_test, y_pred)"
   ]
  },
  {
   "cell_type": "code",
   "execution_count": null,
   "id": "2056998c",
   "metadata": {},
   "outputs": [],
   "source": [
    "metrics.f1_score(y_test, y_pred)"
   ]
  },
  {
   "cell_type": "code",
   "execution_count": null,
   "id": "98712c00",
   "metadata": {},
   "outputs": [],
   "source": [
    "#for k in clf.estimators_:\n",
    "    #print (k.predict_proba(X_test.loc[[11938],:]))"
   ]
  },
  {
   "cell_type": "code",
   "execution_count": null,
   "id": "d156da64",
   "metadata": {},
   "outputs": [],
   "source": [
    "m = X_test.loc[[153],:].copy()\n",
    "n = y_test.loc[[153],:].copy()"
   ]
  },
  {
   "cell_type": "code",
   "execution_count": null,
   "id": "00e4bed6",
   "metadata": {},
   "outputs": [],
   "source": [
    "y_test.loc[[153],:]"
   ]
  },
  {
   "cell_type": "code",
   "execution_count": null,
   "id": "b97d4998",
   "metadata": {},
   "outputs": [],
   "source": [
    "0.9836557705136758\n",
    "0.9869913275517012"
   ]
  },
  {
   "cell_type": "code",
   "execution_count": null,
   "id": "7697aa1c",
   "metadata": {},
   "outputs": [],
   "source": [
    "df[df.timespend >= 5].groupby('department')['timespend'].mean().sort_values()"
   ]
  },
  {
   "cell_type": "code",
   "execution_count": null,
   "id": "c0a6b088",
   "metadata": {},
   "outputs": [],
   "source": [
    "fig, axarr = plt.subplots(5, 2,figsize=(15,20))"
   ]
  },
  {
   "cell_type": "markdown",
   "id": "020f6fb6",
   "metadata": {},
   "source": [
    "Pada distribusi satisfaction level, bisa dilihat bahwa untuk karyawan left frekuensi nilai rendah cukup banyak dibandingkan nilai yang tinggi ini merupakan kebalikan dari karyawan yang stay."
   ]
  },
  {
   "cell_type": "markdown",
   "id": "7f9df6ee",
   "metadata": {},
   "source": [
    "# Inferencial Analysis"
   ]
  },
  {
   "cell_type": "code",
   "execution_count": null,
   "id": "1a6803c9",
   "metadata": {},
   "outputs": [],
   "source": [
    "dfnew = df.copy()\n",
    "dfnew.drop(columns='department',inplace=True)\n",
    "dfnew['salary'] = dfnew.apply(lambda x: 1 if x['salary'] == 'low' else 2 if x['salary'] == 'medium' else 3, axis = 1)\n",
    "dfnew.corr()[['left']]"
   ]
  },
  {
   "cell_type": "markdown",
   "id": "14757296",
   "metadata": {},
   "source": [
    "Diatas adalah tabel correlation antara variabel predictor dan variable response. Semakin mendekati angka 0 maka hubungan semakin lemah, semakin mejauhi angka 0 maka hubungan semakin kuat ( -1 < PV < 1). Bisa dilihat bahwa satisfaction level merupakan predictor dengan hubungan paling kuat."
   ]
  },
  {
   "cell_type": "code",
   "execution_count": null,
   "id": "fa3dd745",
   "metadata": {},
   "outputs": [],
   "source": [
    "#membuat parameter untuk hyperparameter tuning.\n",
    "param_grid = {\n",
    " 'bootstrap': [True, False],\n",
    " 'max_depth': [10, 20, 30, 40, 50, 60, 70, 80, 90, 100, None],\n",
    " 'max_features': ['auto', None],\n",
    " 'min_samples_leaf': [1, 2, 4],\n",
    " 'min_samples_split': [2, 5, 10],\n",
    " 'n_estimators': [50, 100, 150, 200, 400, 600, 800, 1000]\n",
    "}"
   ]
  },
  {
   "cell_type": "code",
   "execution_count": null,
   "id": "d0881b0f",
   "metadata": {},
   "outputs": [],
   "source": [
    "#menggunakan randomizedsearchcv untuk hyperparameter tuning & model validation.\n",
    "randomcv = RandomizedSearchCV(RandomForestClassifier() , param_grid, cv=5, n_jobs=-1, n_iter=5)\n",
    "randomcv.fit(dfnew.drop(columns='left') , dfnew.left)"
   ]
  },
  {
   "cell_type": "markdown",
   "id": "b21c1c7a",
   "metadata": {},
   "source": [
    "df2 = df[df.left == 1]\n",
    "x = df2.groupby('timespend')[['satisfaction']].agg('median')\n",
    "x.plot(kind='barh')\n",
    "tampung = list(np.round(df2.groupby('timespend')[['satisfaction']].agg('median')['satisfaction'], decimals=2))\n",
    "for index, value in enumerate(tampung):\n",
    "    plt.text(value, index,\n",
    "             str(value))\n",
    "plt.show()"
   ]
  },
  {
   "cell_type": "code",
   "execution_count": null,
   "id": "55e71c01",
   "metadata": {},
   "outputs": [],
   "source": [
    "pd.DataFrame(randomcv.cv_results_)"
   ]
  },
  {
   "cell_type": "markdown",
   "id": "e8026d93",
   "metadata": {},
   "source": [
    "Bisa dilihat bahwa mean test score untuk setiap model sangat bagus yaitu ada di angka 98% - 99%."
   ]
  },
  {
   "cell_type": "code",
   "execution_count": null,
   "id": "3005963d",
   "metadata": {},
   "outputs": [],
   "source": [
    "#mengambil model random forest dengan nilai akurasi mean terbagus.\n",
    "model = RandomForestClassifier(n_estimators=400,min_samples_split=10,min_samples_leaf=1,max_features=None,max_depth = 70, bootstrap=True) "
   ]
  },
  {
   "cell_type": "code",
   "execution_count": null,
   "id": "2f7364d6",
   "metadata": {},
   "outputs": [],
   "source": [
    "#melatih model\n",
    "model.fit(dfnew.drop(columns='left'), dfnew.left)"
   ]
  },
  {
   "cell_type": "code",
   "execution_count": null,
   "id": "aef2dab1",
   "metadata": {},
   "outputs": [],
   "source": [
    "pd.DataFrame(model.feature_importances_ * 100 , dfnew.drop(columns='left').columns , columns = ['Nilai Kepentingan']).sort_values('Tingkat Kepentingan').plot(kind='barh',figsize=(10,5))\n",
    "plt.legend(loc='center left', bbox_to_anchor=(1.0, 0.5))\n",
    "plt.title(\"Nilai kepentingan antara variabel predictor dengan variabel response\", fontweight='bold')\n",
    "plt.show()"
   ]
  },
  {
   "cell_type": "markdown",
   "id": "245bef22",
   "metadata": {},
   "source": [
    "Plot diatas menunjukan hubungan antara variabel predictor dengan variabel response. Bisa dilihat bahwa satisfaction_level adalah faktor yang paling menentukan apakah karyawan left atau stay sedangkan promotion_last_5years dan salary adalah faktor yang paling kecil yang berpengaruh terhadap karyawan akan left dan tidak."
   ]
  },
  {
   "cell_type": "code",
   "execution_count": null,
   "id": "63815313",
   "metadata": {},
   "outputs": [],
   "source": [
    "#membuat function untuk menginterpret bagaimana model membuat prediksi menggunakan tree interpreter.\n",
    "def interpreterr(data,rf):\n",
    "    df1 = pd.DataFrame()\n",
    "    df2 = pd.DataFrame()\n",
    "    df3 = pd.DataFrame()\n",
    "    for x in range(0,len(data)):\n",
    "        prediction, bias, contributions = ti.predict(rf, data.to_numpy()[x].reshape(1,8))\n",
    "        prediction = pd.DataFrame(prediction[0]).T[[1]]\n",
    "        bias = pd.DataFrame(bias[0]).T[[1]]\n",
    "        df1 = pd.concat([df1, pd.DataFrame(contributions[0])[[1]].T], axis=0,ignore_index=True)\n",
    "        df2 = pd.concat([df2, prediction],axis=0,ignore_index=True)\n",
    "        df3 = pd.concat([df3, bias],axis=0,ignore_index=True)\n",
    "    df1 = df1 * 100\n",
    "    df1.columns = data.columns\n",
    "    df2.columns = ['predict']\n",
    "    df3.columns = ['bias']\n",
    "    df1['bias'] = df3.bias * 100\n",
    "    df1['predict-to-left'] = df2.predict * 100\n",
    "    return df1\n",
    "        "
   ]
  },
  {
   "cell_type": "code",
   "execution_count": null,
   "id": "abbc5b8e",
   "metadata": {},
   "outputs": [],
   "source": [
    "a = interpreterr(dfnew.drop(columns='left').head(10), model)\n",
    "a"
   ]
  },
  {
   "cell_type": "markdown",
   "id": "3d7f1f88",
   "metadata": {},
   "source": [
    "Dataframe diatas berisi bagaimana prediksi dibuat berdasarkan setiap employee. Prediksi = bias + feature-1 + feature-2 + ... + feature-n. Contoh, pada row index nomor 3 nilai terbesar yang disumbang ada pada variabel time_spend_company yaitu 40.6. Bisa disimpulkan pada employee index 3 alasan terbesarnnya untuk resign dikarenakan time_spend_company."
   ]
  },
  {
   "cell_type": "code",
   "execution_count": null,
   "id": "191ab470",
   "metadata": {},
   "outputs": [],
   "source": [
    "confidence = pd.DataFrame(([k.predict_proba(dfnew.drop(columns='left').values)[:,1] for k in model.estimators_])).T\n",
    "dfnew['pred_mean'] = confidence.apply(axis=1 , func=lambda x: x.mean()).round(2).to_numpy() * 100\n",
    "dfnew['pred_stdD'] = confidence.apply(axis=1 , func=lambda x: x.std()).round(3).to_numpy()\n",
    "dfnew"
   ]
  },
  {
   "cell_type": "markdown",
   "id": "b9c15189",
   "metadata": {},
   "source": [
    "Confidence adalah tingkat kepercayaan dari suatu model membuat sebuah prediksi. Prediksi Random Forest diambil dari hasil mean/rata-rata prediksi dari banyak decision tree. Jika prediksi dibuat berdasarkan hasil mean prediksi decision tree maka confidence level nya adalah standard deviation dari prediksi decision tree tersebut. Semakin tinggi standard deviation maka confidence levelnya semakin rendah."
   ]
  },
  {
   "cell_type": "code",
   "execution_count": null,
   "id": "ded3520b",
   "metadata": {},
   "outputs": [],
   "source": [
    "dfnew['pred_stdD'].plot(kind='hist')\n",
    "plt.title(\"Tingkat variasi / std deviation decision tree\", fontweight='bold')\n",
    "plt.show()"
   ]
  },
  {
   "cell_type": "markdown",
   "id": "48c12281",
   "metadata": {},
   "source": [
    "Bisa dilihat bahwa std deviationnya cukup kecil, ini berarti bahwa rata-rata confidence level disetiap prediksi cukup tinggi."
   ]
  },
  {
   "cell_type": "code",
   "execution_count": null,
   "id": "639d123a",
   "metadata": {},
   "outputs": [],
   "source": [
    "#plot nilai kepentingan antar departemen.\n",
    "fig, axarr = plt.subplots(5, 2,figsize=(15,18))\n",
    "z = list(df['department'].value_counts().index)\n",
    "a,b = 0,0\n",
    "for x in z:\n",
    "    dfnew1 = df[df['department'] == x].copy()\n",
    "    dfnew1.drop('department', axis=1,inplace=True)\n",
    "    dfnew1['salary'] = dfnew.apply(lambda x: 1 if x['salary'] == 'low' else 2 if x['salary'] == 'medium' else 3, axis = 1)\n",
    "    model.fit(dfnew1.drop(columns='left'), dfnew1.left)\n",
    "    pd.DataFrame(model.feature_importances_ * 100 , dfnew1.drop(columns='left').columns , columns = ['Tingkat Kepentingan']).sort_values('Tingkat Kepentingan').plot(kind='barh',ax = axarr[a,b])\n",
    "    axarr[a,b].set_title(x, fontsize=12)\n",
    "    axarr[a,b].get_legend().remove()\n",
    "    if b == 0:\n",
    "        b = 1\n",
    "    else:\n",
    "        b = 0\n",
    "    if z.index(x) in [1,3,5,7]:\n",
    "        a += 1\n",
    "plt.suptitle('Nilai kepentingan antar department', fontsize=20, fontweight='bold')\n",
    "plt.tight_layout()\n",
    "plt.show()\n"
   ]
  },
  {
   "cell_type": "code",
   "execution_count": null,
   "id": "7e0bca16",
   "metadata": {},
   "outputs": [],
   "source": [
    "#plot distribusi satisfaction_level antar departemen.\n",
    "fig, axarr = plt.subplots(5, 2,figsize=(15,20))\n",
    "z = list(df['department'].value_counts().index)\n",
    "a,b = 0,0\n",
    "for x in z:\n",
    "    dfnew1 = df[df['department'] == x].copy()\n",
    "    dfnew1.drop('department', axis=1,inplace=True)\n",
    "    dfnew1['salary'] = dfnew.apply(lambda x: 1 if x['salary'] == 'low' else 2 if x['salary'] == 'medium' else 3, axis = 1)\n",
    "    sns.histplot(data=dfnew1, x = 'satisfaction_level', hue='left',ax = axarr[a,b])\n",
    "    axarr[a,b].set_title(x, fontsize=15)\n",
    "    axarr[a,b].set(xlabel=None)\n",
    "    axarr[a,b].legend(['left','stay'],loc='upper left')\n",
    "    if b == 0:\n",
    "        b = 1\n",
    "    else:\n",
    "        b = 0\n",
    "    if z.index(x) in [1,3,5,7]:\n",
    "        a += 1\n",
    "plt.suptitle('Satisfaction level per department', fontsize=23, fontweight='bold')\n",
    "plt.tight_layout()\n",
    "plt.show()\n"
   ]
  }
 ],
 "metadata": {
  "kernelspec": {
   "display_name": "Python 3 (ipykernel)",
   "language": "python",
   "name": "python3"
  },
  "language_info": {
   "codemirror_mode": {
    "name": "ipython",
    "version": 3
   },
   "file_extension": ".py",
   "mimetype": "text/x-python",
   "name": "python",
   "nbconvert_exporter": "python",
   "pygments_lexer": "ipython3",
   "version": "3.11.0"
  }
 },
 "nbformat": 4,
 "nbformat_minor": 5
}
