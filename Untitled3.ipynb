{
 "cells": [
  {
   "cell_type": "code",
   "execution_count": 2,
   "id": "3162e52e",
   "metadata": {},
   "outputs": [],
   "source": [
    "def fungsi(initial, listt):\n",
    "    Tpoint = 30\n",
    "    Fpoint = -20\n",
    "    Tstreak = 0\n",
    "    Fstreak = 0\n",
    "    for x in listt:\n",
    "        if x == 'T':\n",
    "            if Tstreak == 1:\n",
    "                Tpoint = Tpoint + 30\n",
    "                initial = initial + Tpoint\n",
    "                Fstreak = 0\n",
    "            else:\n",
    "                initial = initial + Tpoint\n",
    "                Tstreak = 1\n",
    "                Fstreak = 0\n",
    "        else:\n",
    "            if Fstreak == 1:\n",
    "                Fpoint = Fpoint - 20\n",
    "                initial = initial + Fpoint\n",
    "                Tstreak = 0\n",
    "            else:\n",
    "                initial = initial + Fpoint\n",
    "                Fstreak = 1\n",
    "                Tstreak = 0\n",
    "                \n",
    "                "
   ]
  },
  {
   "cell_type": "code",
   "execution_count": 47,
   "id": "6cef15db",
   "metadata": {},
   "outputs": [],
   "source": [
    "def score(initial, true_point, false_point, listt):\n",
    "    Tpoint = true_point\n",
    "    Fpoint = false_point\n",
    "    Tstreak = 0\n",
    "    Fstreak = 0\n",
    "    for x in listt:\n",
    "        if x == 'T':\n",
    "            if Tstreak == 1:\n",
    "                Tpoint = Tpoint + 20\n",
    "                initial = initial + Tpoint\n",
    "                Fstreak = 0\n",
    "            else:\n",
    "                initial = initial + Tpoint\n",
    "                Tstreak = 1\n",
    "                Fstreak = 0\n",
    "        else:\n",
    "            if Fstreak == 1:\n",
    "                Fpoint = Fpoint * 2\n",
    "                initial = initial + Fpoint\n",
    "                Tstreak = 0\n",
    "            else:\n",
    "                initial = initial + Fpoint\n",
    "                Fstreak = 1\n",
    "                Tstreak = 0\n",
    "    return initial"
   ]
  },
  {
   "cell_type": "code",
   "execution_count": 48,
   "id": "9c494eb6",
   "metadata": {},
   "outputs": [
    {
     "data": {
      "text/plain": [
       "-410"
      ]
     },
     "execution_count": 48,
     "metadata": {},
     "output_type": "execute_result"
    }
   ],
   "source": [
    "score(100, 20, -30,'FFFTTTFTFTFF')"
   ]
  },
  {
   "cell_type": "code",
   "execution_count": 43,
   "id": "667053fd",
   "metadata": {},
   "outputs": [
    {
     "name": "stdout",
     "output_type": "stream",
     "text": [
      "a\n",
      "b\n",
      "c\n"
     ]
    }
   ],
   "source": [
    "for x in 'abc':\n",
    "    print(x)"
   ]
  },
  {
   "cell_type": "code",
   "execution_count": 42,
   "id": "fa514d75",
   "metadata": {},
   "outputs": [
    {
     "name": "stdout",
     "output_type": "stream",
     "text": [
      "321\n"
     ]
    }
   ],
   "source": [
    "decode('abc','321')"
   ]
  },
  {
   "cell_type": "code",
   "execution_count": null,
   "id": "a9e6cb8c",
   "metadata": {},
   "outputs": [],
   "source": [
    "SELECT student_id, student_name FROM tabel\n",
    "WHERE score < (SELECT MAX(score) FROM tabel) AND score > (SELECT MIN(score) FROM tabel)\n",
    "ORDER BY student_id asc"
   ]
  },
  {
   "cell_type": "code",
   "execution_count": null,
   "id": "6c950cf4",
   "metadata": {},
   "outputs": [],
   "source": [
    "SELECT student_id FROM tabel as t1\n",
    "WHERE t1.ranking = (SELECT MAX(ranking) as max FROM tabel t2 WHERE t1.subject = t2.subject) OR t1.ranking = (SELECT MIN(ranking) as min FROM tabel t2 WHERE t1.subject = t2.subject)"
   ]
  }
 ],
 "metadata": {
  "kernelspec": {
   "display_name": "Python 3 (ipykernel)",
   "language": "python",
   "name": "python3"
  },
  "language_info": {
   "codemirror_mode": {
    "name": "ipython",
    "version": 3
   },
   "file_extension": ".py",
   "mimetype": "text/x-python",
   "name": "python",
   "nbconvert_exporter": "python",
   "pygments_lexer": "ipython3",
   "version": "3.11.0"
  }
 },
 "nbformat": 4,
 "nbformat_minor": 5
}
