{
 "cells": [
  {
   "cell_type": "markdown",
   "id": "2c0da865",
   "metadata": {},
   "source": [
    "## Data Preparation (Import libraries, data cleaning & data wrangling)\n",
    "***"
   ]
  },
  {
   "cell_type": "code",
   "execution_count": 1,
   "id": "df492158",
   "metadata": {},
   "outputs": [],
   "source": [
    "import numpy as np\n",
    "import pandas as pd\n",
    "import matplotlib.pyplot as plt\n",
    "import seaborn as sns\n",
    "sns.set()"
   ]
  },
  {
   "cell_type": "code",
   "execution_count": 2,
   "id": "ab590c68",
   "metadata": {},
   "outputs": [
    {
     "data": {
      "text/html": [
       "<div>\n",
       "<style scoped>\n",
       "    .dataframe tbody tr th:only-of-type {\n",
       "        vertical-align: middle;\n",
       "    }\n",
       "\n",
       "    .dataframe tbody tr th {\n",
       "        vertical-align: top;\n",
       "    }\n",
       "\n",
       "    .dataframe thead th {\n",
       "        text-align: right;\n",
       "    }\n",
       "</style>\n",
       "<table border=\"1\" class=\"dataframe\">\n",
       "  <thead>\n",
       "    <tr style=\"text-align: right;\">\n",
       "      <th></th>\n",
       "      <th>customerID</th>\n",
       "      <th>Gender</th>\n",
       "      <th>SeniorCitizen</th>\n",
       "      <th>Partner</th>\n",
       "      <th>Dependents</th>\n",
       "      <th>Tenure</th>\n",
       "      <th>Contract</th>\n",
       "      <th>PaperlessBilling</th>\n",
       "      <th>PaymentMethod</th>\n",
       "      <th>MonthlyCharges</th>\n",
       "      <th>TotalCharges</th>\n",
       "      <th>Churn</th>\n",
       "    </tr>\n",
       "  </thead>\n",
       "  <tbody>\n",
       "    <tr>\n",
       "      <th>0</th>\n",
       "      <td>7590-VHVEG</td>\n",
       "      <td>Female</td>\n",
       "      <td>0.0</td>\n",
       "      <td>NaN</td>\n",
       "      <td>No</td>\n",
       "      <td>1.0</td>\n",
       "      <td>Month-to-month</td>\n",
       "      <td>Yes</td>\n",
       "      <td>Electronic check</td>\n",
       "      <td>29.85</td>\n",
       "      <td>29.85</td>\n",
       "      <td>No</td>\n",
       "    </tr>\n",
       "    <tr>\n",
       "      <th>1</th>\n",
       "      <td>5575-GNVDE</td>\n",
       "      <td>Male</td>\n",
       "      <td>0.0</td>\n",
       "      <td>No</td>\n",
       "      <td>No</td>\n",
       "      <td>34.0</td>\n",
       "      <td>One year</td>\n",
       "      <td>No</td>\n",
       "      <td>Mailed check</td>\n",
       "      <td>56.95</td>\n",
       "      <td>1889.50</td>\n",
       "      <td>No</td>\n",
       "    </tr>\n",
       "    <tr>\n",
       "      <th>2</th>\n",
       "      <td>3668-QPYBK</td>\n",
       "      <td>Male</td>\n",
       "      <td>0.0</td>\n",
       "      <td>No</td>\n",
       "      <td>No</td>\n",
       "      <td>2.0</td>\n",
       "      <td>Month-to-month</td>\n",
       "      <td>Yes</td>\n",
       "      <td>Mailed check</td>\n",
       "      <td>53.85</td>\n",
       "      <td>108.15</td>\n",
       "      <td>Yes</td>\n",
       "    </tr>\n",
       "    <tr>\n",
       "      <th>3</th>\n",
       "      <td>7795-CFOCW</td>\n",
       "      <td>Male</td>\n",
       "      <td>0.0</td>\n",
       "      <td>No</td>\n",
       "      <td>No</td>\n",
       "      <td>45.0</td>\n",
       "      <td>One year</td>\n",
       "      <td>No</td>\n",
       "      <td>Bank transfer (automatic)</td>\n",
       "      <td>42.30</td>\n",
       "      <td>1840.75</td>\n",
       "      <td>No</td>\n",
       "    </tr>\n",
       "    <tr>\n",
       "      <th>4</th>\n",
       "      <td>9237-HQITU</td>\n",
       "      <td>Female</td>\n",
       "      <td>0.0</td>\n",
       "      <td>No</td>\n",
       "      <td>No</td>\n",
       "      <td>2.0</td>\n",
       "      <td>Month-to-month</td>\n",
       "      <td>Yes</td>\n",
       "      <td>Electronic check</td>\n",
       "      <td>70.70</td>\n",
       "      <td>151.65</td>\n",
       "      <td>Yes</td>\n",
       "    </tr>\n",
       "  </tbody>\n",
       "</table>\n",
       "</div>"
      ],
      "text/plain": [
       "   customerID  Gender  SeniorCitizen Partner Dependents  Tenure  \\\n",
       "0  7590-VHVEG  Female            0.0     NaN         No     1.0   \n",
       "1  5575-GNVDE    Male            0.0      No         No    34.0   \n",
       "2  3668-QPYBK    Male            0.0      No         No     2.0   \n",
       "3  7795-CFOCW    Male            0.0      No         No    45.0   \n",
       "4  9237-HQITU  Female            0.0      No         No     2.0   \n",
       "\n",
       "         Contract PaperlessBilling              PaymentMethod  MonthlyCharges  \\\n",
       "0  Month-to-month              Yes           Electronic check           29.85   \n",
       "1        One year               No               Mailed check           56.95   \n",
       "2  Month-to-month              Yes               Mailed check           53.85   \n",
       "3        One year               No  Bank transfer (automatic)           42.30   \n",
       "4  Month-to-month              Yes           Electronic check           70.70   \n",
       "\n",
       "   TotalCharges Churn  \n",
       "0         29.85    No  \n",
       "1       1889.50    No  \n",
       "2        108.15   Yes  \n",
       "3       1840.75    No  \n",
       "4        151.65   Yes  "
      ]
     },
     "execution_count": 2,
     "metadata": {},
     "output_type": "execute_result"
    }
   ],
   "source": [
    "df = pd.read_csv('https://raw.githubusercontent.com/vertikalwil/Data-Analyst/main/churn.csv')\n",
    "df.head()"
   ]
  },
  {
   "cell_type": "code",
   "execution_count": 3,
   "id": "728a7300",
   "metadata": {},
   "outputs": [
    {
     "name": "stdout",
     "output_type": "stream",
     "text": [
      "<class 'pandas.core.frame.DataFrame'>\n",
      "RangeIndex: 7046 entries, 0 to 7045\n",
      "Data columns (total 12 columns):\n",
      " #   Column            Non-Null Count  Dtype  \n",
      "---  ------            --------------  -----  \n",
      " 0   customerID        7037 non-null   object \n",
      " 1   Gender            7030 non-null   object \n",
      " 2   SeniorCitizen     7034 non-null   float64\n",
      " 3   Partner           7030 non-null   object \n",
      " 4   Dependents        7027 non-null   object \n",
      " 5   Tenure            7029 non-null   float64\n",
      " 6   Contract          7033 non-null   object \n",
      " 7   PaperlessBilling  7033 non-null   object \n",
      " 8   PaymentMethod     7035 non-null   object \n",
      " 9   MonthlyCharges    7036 non-null   float64\n",
      " 10  TotalCharges      7046 non-null   float64\n",
      " 11  Churn             7046 non-null   object \n",
      "dtypes: float64(4), object(8)\n",
      "memory usage: 660.7+ KB\n"
     ]
    }
   ],
   "source": [
    "df.info()"
   ]
  },
  {
   "cell_type": "markdown",
   "id": "e2b9223c",
   "metadata": {},
   "source": [
    "> Terdapat beberapa missing values"
   ]
  },
  {
   "cell_type": "code",
   "execution_count": 4,
   "id": "5d1d59a0",
   "metadata": {},
   "outputs": [],
   "source": [
    "df = df[~df.customerID.isnull()]"
   ]
  },
  {
   "cell_type": "markdown",
   "id": "1d369a09",
   "metadata": {},
   "source": [
    ">Membuang baris semua customer id yang null."
   ]
  },
  {
   "cell_type": "code",
   "execution_count": 5,
   "id": "d5f406f1",
   "metadata": {},
   "outputs": [],
   "source": [
    "for x in ['Gender','SeniorCitizen','Partner','Dependents','Contract','PaperlessBilling','PaymentMethod']:\n",
    "    df[x] = df[x].fillna(df[x].mode()[0])"
   ]
  },
  {
   "cell_type": "markdown",
   "id": "3e5f8a6d",
   "metadata": {},
   "source": [
    "> Karena jumlah baris missing values per kolom itu tidak terlalu banyak, maka saya akan mengimpute berdasarkan nilai mode masing2 kolom"
   ]
  },
  {
   "cell_type": "code",
   "execution_count": 6,
   "id": "130e521f",
   "metadata": {},
   "outputs": [],
   "source": [
    "for x in ['Tenure','MonthlyCharges']:\n",
    "    df[x] = df[x].fillna(df[x].mean())"
   ]
  },
  {
   "cell_type": "markdown",
   "id": "6f32dccc",
   "metadata": {},
   "source": [
    "> Untuk nilai yang continuous, saya akan mengimput berdasarkan nilai mean masing2 kolom."
   ]
  },
  {
   "cell_type": "code",
   "execution_count": 7,
   "id": "181ec6f4",
   "metadata": {},
   "outputs": [
    {
     "name": "stdout",
     "output_type": "stream",
     "text": [
      "<class 'pandas.core.frame.DataFrame'>\n",
      "Int64Index: 7037 entries, 0 to 7045\n",
      "Data columns (total 12 columns):\n",
      " #   Column            Non-Null Count  Dtype  \n",
      "---  ------            --------------  -----  \n",
      " 0   customerID        7037 non-null   object \n",
      " 1   Gender            7037 non-null   object \n",
      " 2   SeniorCitizen     7037 non-null   float64\n",
      " 3   Partner           7037 non-null   object \n",
      " 4   Dependents        7037 non-null   object \n",
      " 5   Tenure            7037 non-null   float64\n",
      " 6   Contract          7037 non-null   object \n",
      " 7   PaperlessBilling  7037 non-null   object \n",
      " 8   PaymentMethod     7037 non-null   object \n",
      " 9   MonthlyCharges    7037 non-null   float64\n",
      " 10  TotalCharges      7037 non-null   float64\n",
      " 11  Churn             7037 non-null   object \n",
      "dtypes: float64(4), object(8)\n",
      "memory usage: 714.7+ KB\n"
     ]
    }
   ],
   "source": [
    "df.info()"
   ]
  },
  {
   "cell_type": "markdown",
   "id": "e80e577a",
   "metadata": {},
   "source": [
    "> Terlihat tidak ada lagi missing values."
   ]
  },
  {
   "cell_type": "code",
   "execution_count": 8,
   "id": "6cb13f94",
   "metadata": {},
   "outputs": [],
   "source": [
    "df.SeniorCitizen = df.SeniorCitizen.astype(int)"
   ]
  },
  {
   "cell_type": "code",
   "execution_count": 9,
   "id": "e4c8457a",
   "metadata": {},
   "outputs": [
    {
     "data": {
      "text/plain": [
       "False"
      ]
     },
     "execution_count": 9,
     "metadata": {},
     "output_type": "execute_result"
    }
   ],
   "source": [
    "#check for duplicate data, if True then there's no duplicate.\n",
    "df.customerID.nunique() == len(df) "
   ]
  },
  {
   "cell_type": "code",
   "execution_count": 10,
   "id": "c51db808",
   "metadata": {},
   "outputs": [],
   "source": [
    "df = df[~df.customerID.duplicated(keep=False)]"
   ]
  },
  {
   "cell_type": "markdown",
   "id": "15eabd1f",
   "metadata": {},
   "source": [
    "> Disini saya membuang semua customerID yang duplikat atau double karena transaksi tersebut merupakan transaksi ambigu."
   ]
  },
  {
   "cell_type": "code",
   "execution_count": 11,
   "id": "1daaf2be",
   "metadata": {},
   "outputs": [
    {
     "data": {
      "text/plain": [
       "True"
      ]
     },
     "execution_count": 11,
     "metadata": {},
     "output_type": "execute_result"
    }
   ],
   "source": [
    "df.customerID.nunique() == len(df) "
   ]
  },
  {
   "cell_type": "code",
   "execution_count": 12,
   "id": "ff8526a7",
   "metadata": {},
   "outputs": [],
   "source": [
    "df.drop(columns=['customerID'], inplace=True)"
   ]
  },
  {
   "cell_type": "markdown",
   "id": "c37a32b8",
   "metadata": {},
   "source": [
    "> Membuang kolom customerID karena sudah tidak diperlukan."
   ]
  },
  {
   "cell_type": "code",
   "execution_count": 13,
   "id": "495a3fee",
   "metadata": {},
   "outputs": [
    {
     "name": "stdout",
     "output_type": "stream",
     "text": [
      "<class 'pandas.core.frame.DataFrame'>\n",
      "Int64Index: 7009 entries, 0 to 7031\n",
      "Data columns (total 11 columns):\n",
      " #   Column            Non-Null Count  Dtype  \n",
      "---  ------            --------------  -----  \n",
      " 0   Gender            7009 non-null   object \n",
      " 1   SeniorCitizen     7009 non-null   int32  \n",
      " 2   Partner           7009 non-null   object \n",
      " 3   Dependents        7009 non-null   object \n",
      " 4   Tenure            7009 non-null   float64\n",
      " 5   Contract          7009 non-null   object \n",
      " 6   PaperlessBilling  7009 non-null   object \n",
      " 7   PaymentMethod     7009 non-null   object \n",
      " 8   MonthlyCharges    7009 non-null   float64\n",
      " 9   TotalCharges      7009 non-null   float64\n",
      " 10  Churn             7009 non-null   object \n",
      "dtypes: float64(3), int32(1), object(7)\n",
      "memory usage: 629.7+ KB\n"
     ]
    }
   ],
   "source": [
    "df.info()"
   ]
  },
  {
   "cell_type": "code",
   "execution_count": 14,
   "id": "4268156e",
   "metadata": {},
   "outputs": [],
   "source": [
    "convert = {\n",
    "    'Yes':1,\n",
    "    'No':0,\n",
    "    'Male':1,\n",
    "    'Female':0,\n",
    "    'Month-to-month':1,\n",
    "    'One year':2,\n",
    "    'Two year':3\n",
    "}"
   ]
  },
  {
   "cell_type": "code",
   "execution_count": 15,
   "id": "5ee37b42",
   "metadata": {},
   "outputs": [],
   "source": [
    "for x in ['Gender','Contract','Partner','Dependents','PaperlessBilling','Churn']:\n",
    "    df[x] = df[x].map(convert)"
   ]
  },
  {
   "cell_type": "markdown",
   "id": "8175ce6f",
   "metadata": {},
   "source": [
    "> Mengubah kolom binary dan ordinal menjadi numeric."
   ]
  },
  {
   "cell_type": "code",
   "execution_count": 16,
   "id": "5a4dad43",
   "metadata": {},
   "outputs": [
    {
     "data": {
      "text/html": [
       "<div>\n",
       "<style scoped>\n",
       "    .dataframe tbody tr th:only-of-type {\n",
       "        vertical-align: middle;\n",
       "    }\n",
       "\n",
       "    .dataframe tbody tr th {\n",
       "        vertical-align: top;\n",
       "    }\n",
       "\n",
       "    .dataframe thead th {\n",
       "        text-align: right;\n",
       "    }\n",
       "</style>\n",
       "<table border=\"1\" class=\"dataframe\">\n",
       "  <thead>\n",
       "    <tr style=\"text-align: right;\">\n",
       "      <th></th>\n",
       "      <th>Gender</th>\n",
       "      <th>SeniorCitizen</th>\n",
       "      <th>Partner</th>\n",
       "      <th>Dependents</th>\n",
       "      <th>Tenure</th>\n",
       "      <th>Contract</th>\n",
       "      <th>PaperlessBilling</th>\n",
       "      <th>PaymentMethod</th>\n",
       "      <th>MonthlyCharges</th>\n",
       "      <th>TotalCharges</th>\n",
       "      <th>Churn</th>\n",
       "    </tr>\n",
       "  </thead>\n",
       "  <tbody>\n",
       "    <tr>\n",
       "      <th>0</th>\n",
       "      <td>0</td>\n",
       "      <td>0</td>\n",
       "      <td>0</td>\n",
       "      <td>0</td>\n",
       "      <td>1.0</td>\n",
       "      <td>1</td>\n",
       "      <td>1</td>\n",
       "      <td>Electronic check</td>\n",
       "      <td>29.85</td>\n",
       "      <td>29.85</td>\n",
       "      <td>0</td>\n",
       "    </tr>\n",
       "    <tr>\n",
       "      <th>1</th>\n",
       "      <td>1</td>\n",
       "      <td>0</td>\n",
       "      <td>0</td>\n",
       "      <td>0</td>\n",
       "      <td>34.0</td>\n",
       "      <td>2</td>\n",
       "      <td>0</td>\n",
       "      <td>Mailed check</td>\n",
       "      <td>56.95</td>\n",
       "      <td>1889.50</td>\n",
       "      <td>0</td>\n",
       "    </tr>\n",
       "    <tr>\n",
       "      <th>2</th>\n",
       "      <td>1</td>\n",
       "      <td>0</td>\n",
       "      <td>0</td>\n",
       "      <td>0</td>\n",
       "      <td>2.0</td>\n",
       "      <td>1</td>\n",
       "      <td>1</td>\n",
       "      <td>Mailed check</td>\n",
       "      <td>53.85</td>\n",
       "      <td>108.15</td>\n",
       "      <td>1</td>\n",
       "    </tr>\n",
       "    <tr>\n",
       "      <th>3</th>\n",
       "      <td>1</td>\n",
       "      <td>0</td>\n",
       "      <td>0</td>\n",
       "      <td>0</td>\n",
       "      <td>45.0</td>\n",
       "      <td>2</td>\n",
       "      <td>0</td>\n",
       "      <td>Bank transfer (automatic)</td>\n",
       "      <td>42.30</td>\n",
       "      <td>1840.75</td>\n",
       "      <td>0</td>\n",
       "    </tr>\n",
       "    <tr>\n",
       "      <th>4</th>\n",
       "      <td>0</td>\n",
       "      <td>0</td>\n",
       "      <td>0</td>\n",
       "      <td>0</td>\n",
       "      <td>2.0</td>\n",
       "      <td>1</td>\n",
       "      <td>1</td>\n",
       "      <td>Electronic check</td>\n",
       "      <td>70.70</td>\n",
       "      <td>151.65</td>\n",
       "      <td>1</td>\n",
       "    </tr>\n",
       "    <tr>\n",
       "      <th>...</th>\n",
       "      <td>...</td>\n",
       "      <td>...</td>\n",
       "      <td>...</td>\n",
       "      <td>...</td>\n",
       "      <td>...</td>\n",
       "      <td>...</td>\n",
       "      <td>...</td>\n",
       "      <td>...</td>\n",
       "      <td>...</td>\n",
       "      <td>...</td>\n",
       "      <td>...</td>\n",
       "    </tr>\n",
       "    <tr>\n",
       "      <th>7027</th>\n",
       "      <td>1</td>\n",
       "      <td>0</td>\n",
       "      <td>1</td>\n",
       "      <td>1</td>\n",
       "      <td>24.0</td>\n",
       "      <td>2</td>\n",
       "      <td>1</td>\n",
       "      <td>Mailed check</td>\n",
       "      <td>84.80</td>\n",
       "      <td>1990.50</td>\n",
       "      <td>0</td>\n",
       "    </tr>\n",
       "    <tr>\n",
       "      <th>7028</th>\n",
       "      <td>0</td>\n",
       "      <td>0</td>\n",
       "      <td>1</td>\n",
       "      <td>1</td>\n",
       "      <td>72.0</td>\n",
       "      <td>2</td>\n",
       "      <td>1</td>\n",
       "      <td>Credit card (automatic)</td>\n",
       "      <td>103.20</td>\n",
       "      <td>7362.90</td>\n",
       "      <td>0</td>\n",
       "    </tr>\n",
       "    <tr>\n",
       "      <th>7029</th>\n",
       "      <td>0</td>\n",
       "      <td>0</td>\n",
       "      <td>1</td>\n",
       "      <td>1</td>\n",
       "      <td>11.0</td>\n",
       "      <td>1</td>\n",
       "      <td>1</td>\n",
       "      <td>Electronic check</td>\n",
       "      <td>29.60</td>\n",
       "      <td>346.45</td>\n",
       "      <td>0</td>\n",
       "    </tr>\n",
       "    <tr>\n",
       "      <th>7030</th>\n",
       "      <td>1</td>\n",
       "      <td>1</td>\n",
       "      <td>1</td>\n",
       "      <td>0</td>\n",
       "      <td>4.0</td>\n",
       "      <td>1</td>\n",
       "      <td>1</td>\n",
       "      <td>Mailed check</td>\n",
       "      <td>74.40</td>\n",
       "      <td>306.60</td>\n",
       "      <td>1</td>\n",
       "    </tr>\n",
       "    <tr>\n",
       "      <th>7031</th>\n",
       "      <td>1</td>\n",
       "      <td>0</td>\n",
       "      <td>0</td>\n",
       "      <td>0</td>\n",
       "      <td>66.0</td>\n",
       "      <td>3</td>\n",
       "      <td>1</td>\n",
       "      <td>Bank transfer (automatic)</td>\n",
       "      <td>105.65</td>\n",
       "      <td>6844.50</td>\n",
       "      <td>0</td>\n",
       "    </tr>\n",
       "  </tbody>\n",
       "</table>\n",
       "<p>7009 rows × 11 columns</p>\n",
       "</div>"
      ],
      "text/plain": [
       "      Gender  SeniorCitizen  Partner  Dependents  Tenure  Contract  \\\n",
       "0          0              0        0           0     1.0         1   \n",
       "1          1              0        0           0    34.0         2   \n",
       "2          1              0        0           0     2.0         1   \n",
       "3          1              0        0           0    45.0         2   \n",
       "4          0              0        0           0     2.0         1   \n",
       "...      ...            ...      ...         ...     ...       ...   \n",
       "7027       1              0        1           1    24.0         2   \n",
       "7028       0              0        1           1    72.0         2   \n",
       "7029       0              0        1           1    11.0         1   \n",
       "7030       1              1        1           0     4.0         1   \n",
       "7031       1              0        0           0    66.0         3   \n",
       "\n",
       "      PaperlessBilling              PaymentMethod  MonthlyCharges  \\\n",
       "0                    1           Electronic check           29.85   \n",
       "1                    0               Mailed check           56.95   \n",
       "2                    1               Mailed check           53.85   \n",
       "3                    0  Bank transfer (automatic)           42.30   \n",
       "4                    1           Electronic check           70.70   \n",
       "...                ...                        ...             ...   \n",
       "7027                 1               Mailed check           84.80   \n",
       "7028                 1    Credit card (automatic)          103.20   \n",
       "7029                 1           Electronic check           29.60   \n",
       "7030                 1               Mailed check           74.40   \n",
       "7031                 1  Bank transfer (automatic)          105.65   \n",
       "\n",
       "      TotalCharges  Churn  \n",
       "0            29.85      0  \n",
       "1          1889.50      0  \n",
       "2           108.15      1  \n",
       "3          1840.75      0  \n",
       "4           151.65      1  \n",
       "...            ...    ...  \n",
       "7027       1990.50      0  \n",
       "7028       7362.90      0  \n",
       "7029        346.45      0  \n",
       "7030        306.60      1  \n",
       "7031       6844.50      0  \n",
       "\n",
       "[7009 rows x 11 columns]"
      ]
     },
     "execution_count": 16,
     "metadata": {},
     "output_type": "execute_result"
    }
   ],
   "source": [
    "df"
   ]
  },
  {
   "cell_type": "code",
   "execution_count": 17,
   "id": "c4119870",
   "metadata": {},
   "outputs": [
    {
     "name": "stderr",
     "output_type": "stream",
     "text": [
      "C:\\Users\\verti\\AppData\\Local\\Temp\\ipykernel_10032\\3866356798.py:2: FutureWarning: The default value of numeric_only in DataFrame.corr is deprecated. In a future version, it will default to False. Select only valid columns or specify the value of numeric_only to silence this warning.\n",
      "  sns.heatmap(df.corr(), annot=True, )\n"
     ]
    },
    {
     "data": {
      "image/png": "[encoded data removed]",
      "text/plain": [
       "<Figure size 1500x900 with 2 Axes>"
      ]
     },
     "metadata": {},
     "output_type": "display_data"
    }
   ],
   "source": [
    "plt.figure(figsize=(15,9))\n",
    "sns.heatmap(df.corr(), annot=True, )\n",
    "plt.show()"
   ]
  },
  {
   "cell_type": "code",
   "execution_count": 18,
   "id": "89f65a7c",
   "metadata": {},
   "outputs": [],
   "source": [
    "df.drop(columns=['TotalCharges'], inplace=True)"
   ]
  },
  {
   "cell_type": "markdown",
   "id": "6392296e",
   "metadata": {},
   "source": [
    ">drop fitur totalcharges karena memiliki korelasi tinggi dengan tenure.(multi-colinearity)"
   ]
  },
  {
   "cell_type": "code",
   "execution_count": 19,
   "id": "96a7fde4",
   "metadata": {},
   "outputs": [],
   "source": [
    "df = pd.get_dummies(df, columns = ['PaymentMethod'])"
   ]
  },
  {
   "cell_type": "markdown",
   "id": "02effa3b",
   "metadata": {},
   "source": [
    ">One hot encoding multi categorical kolom."
   ]
  },
  {
   "cell_type": "code",
   "execution_count": 20,
   "id": "92f06569",
   "metadata": {},
   "outputs": [
    {
     "data": {
      "text/html": [
       "<div>\n",
       "<style scoped>\n",
       "    .dataframe tbody tr th:only-of-type {\n",
       "        vertical-align: middle;\n",
       "    }\n",
       "\n",
       "    .dataframe tbody tr th {\n",
       "        vertical-align: top;\n",
       "    }\n",
       "\n",
       "    .dataframe thead th {\n",
       "        text-align: right;\n",
       "    }\n",
       "</style>\n",
       "<table border=\"1\" class=\"dataframe\">\n",
       "  <thead>\n",
       "    <tr style=\"text-align: right;\">\n",
       "      <th></th>\n",
       "      <th>Gender</th>\n",
       "      <th>SeniorCitizen</th>\n",
       "      <th>Partner</th>\n",
       "      <th>Dependents</th>\n",
       "      <th>Tenure</th>\n",
       "      <th>Contract</th>\n",
       "      <th>PaperlessBilling</th>\n",
       "      <th>MonthlyCharges</th>\n",
       "      <th>Churn</th>\n",
       "      <th>PaymentMethod_Bank transfer (automatic)</th>\n",
       "      <th>PaymentMethod_Credit card (automatic)</th>\n",
       "      <th>PaymentMethod_Electronic check</th>\n",
       "      <th>PaymentMethod_Mailed check</th>\n",
       "    </tr>\n",
       "  </thead>\n",
       "  <tbody>\n",
       "    <tr>\n",
       "      <th>0</th>\n",
       "      <td>0</td>\n",
       "      <td>0</td>\n",
       "      <td>0</td>\n",
       "      <td>0</td>\n",
       "      <td>1.0</td>\n",
       "      <td>1</td>\n",
       "      <td>1</td>\n",
       "      <td>29.85</td>\n",
       "      <td>0</td>\n",
       "      <td>0</td>\n",
       "      <td>0</td>\n",
       "      <td>1</td>\n",
       "      <td>0</td>\n",
       "    </tr>\n",
       "    <tr>\n",
       "      <th>1</th>\n",
       "      <td>1</td>\n",
       "      <td>0</td>\n",
       "      <td>0</td>\n",
       "      <td>0</td>\n",
       "      <td>34.0</td>\n",
       "      <td>2</td>\n",
       "      <td>0</td>\n",
       "      <td>56.95</td>\n",
       "      <td>0</td>\n",
       "      <td>0</td>\n",
       "      <td>0</td>\n",
       "      <td>0</td>\n",
       "      <td>1</td>\n",
       "    </tr>\n",
       "    <tr>\n",
       "      <th>2</th>\n",
       "      <td>1</td>\n",
       "      <td>0</td>\n",
       "      <td>0</td>\n",
       "      <td>0</td>\n",
       "      <td>2.0</td>\n",
       "      <td>1</td>\n",
       "      <td>1</td>\n",
       "      <td>53.85</td>\n",
       "      <td>1</td>\n",
       "      <td>0</td>\n",
       "      <td>0</td>\n",
       "      <td>0</td>\n",
       "      <td>1</td>\n",
       "    </tr>\n",
       "    <tr>\n",
       "      <th>3</th>\n",
       "      <td>1</td>\n",
       "      <td>0</td>\n",
       "      <td>0</td>\n",
       "      <td>0</td>\n",
       "      <td>45.0</td>\n",
       "      <td>2</td>\n",
       "      <td>0</td>\n",
       "      <td>42.30</td>\n",
       "      <td>0</td>\n",
       "      <td>1</td>\n",
       "      <td>0</td>\n",
       "      <td>0</td>\n",
       "      <td>0</td>\n",
       "    </tr>\n",
       "    <tr>\n",
       "      <th>4</th>\n",
       "      <td>0</td>\n",
       "      <td>0</td>\n",
       "      <td>0</td>\n",
       "      <td>0</td>\n",
       "      <td>2.0</td>\n",
       "      <td>1</td>\n",
       "      <td>1</td>\n",
       "      <td>70.70</td>\n",
       "      <td>1</td>\n",
       "      <td>0</td>\n",
       "      <td>0</td>\n",
       "      <td>1</td>\n",
       "      <td>0</td>\n",
       "    </tr>\n",
       "    <tr>\n",
       "      <th>...</th>\n",
       "      <td>...</td>\n",
       "      <td>...</td>\n",
       "      <td>...</td>\n",
       "      <td>...</td>\n",
       "      <td>...</td>\n",
       "      <td>...</td>\n",
       "      <td>...</td>\n",
       "      <td>...</td>\n",
       "      <td>...</td>\n",
       "      <td>...</td>\n",
       "      <td>...</td>\n",
       "      <td>...</td>\n",
       "      <td>...</td>\n",
       "    </tr>\n",
       "    <tr>\n",
       "      <th>7027</th>\n",
       "      <td>1</td>\n",
       "      <td>0</td>\n",
       "      <td>1</td>\n",
       "      <td>1</td>\n",
       "      <td>24.0</td>\n",
       "      <td>2</td>\n",
       "      <td>1</td>\n",
       "      <td>84.80</td>\n",
       "      <td>0</td>\n",
       "      <td>0</td>\n",
       "      <td>0</td>\n",
       "      <td>0</td>\n",
       "      <td>1</td>\n",
       "    </tr>\n",
       "    <tr>\n",
       "      <th>7028</th>\n",
       "      <td>0</td>\n",
       "      <td>0</td>\n",
       "      <td>1</td>\n",
       "      <td>1</td>\n",
       "      <td>72.0</td>\n",
       "      <td>2</td>\n",
       "      <td>1</td>\n",
       "      <td>103.20</td>\n",
       "      <td>0</td>\n",
       "      <td>0</td>\n",
       "      <td>1</td>\n",
       "      <td>0</td>\n",
       "      <td>0</td>\n",
       "    </tr>\n",
       "    <tr>\n",
       "      <th>7029</th>\n",
       "      <td>0</td>\n",
       "      <td>0</td>\n",
       "      <td>1</td>\n",
       "      <td>1</td>\n",
       "      <td>11.0</td>\n",
       "      <td>1</td>\n",
       "      <td>1</td>\n",
       "      <td>29.60</td>\n",
       "      <td>0</td>\n",
       "      <td>0</td>\n",
       "      <td>0</td>\n",
       "      <td>1</td>\n",
       "      <td>0</td>\n",
       "    </tr>\n",
       "    <tr>\n",
       "      <th>7030</th>\n",
       "      <td>1</td>\n",
       "      <td>1</td>\n",
       "      <td>1</td>\n",
       "      <td>0</td>\n",
       "      <td>4.0</td>\n",
       "      <td>1</td>\n",
       "      <td>1</td>\n",
       "      <td>74.40</td>\n",
       "      <td>1</td>\n",
       "      <td>0</td>\n",
       "      <td>0</td>\n",
       "      <td>0</td>\n",
       "      <td>1</td>\n",
       "    </tr>\n",
       "    <tr>\n",
       "      <th>7031</th>\n",
       "      <td>1</td>\n",
       "      <td>0</td>\n",
       "      <td>0</td>\n",
       "      <td>0</td>\n",
       "      <td>66.0</td>\n",
       "      <td>3</td>\n",
       "      <td>1</td>\n",
       "      <td>105.65</td>\n",
       "      <td>0</td>\n",
       "      <td>1</td>\n",
       "      <td>0</td>\n",
       "      <td>0</td>\n",
       "      <td>0</td>\n",
       "    </tr>\n",
       "  </tbody>\n",
       "</table>\n",
       "<p>7009 rows × 13 columns</p>\n",
       "</div>"
      ],
      "text/plain": [
       "      Gender  SeniorCitizen  Partner  Dependents  Tenure  Contract  \\\n",
       "0          0              0        0           0     1.0         1   \n",
       "1          1              0        0           0    34.0         2   \n",
       "2          1              0        0           0     2.0         1   \n",
       "3          1              0        0           0    45.0         2   \n",
       "4          0              0        0           0     2.0         1   \n",
       "...      ...            ...      ...         ...     ...       ...   \n",
       "7027       1              0        1           1    24.0         2   \n",
       "7028       0              0        1           1    72.0         2   \n",
       "7029       0              0        1           1    11.0         1   \n",
       "7030       1              1        1           0     4.0         1   \n",
       "7031       1              0        0           0    66.0         3   \n",
       "\n",
       "      PaperlessBilling  MonthlyCharges  Churn  \\\n",
       "0                    1           29.85      0   \n",
       "1                    0           56.95      0   \n",
       "2                    1           53.85      1   \n",
       "3                    0           42.30      0   \n",
       "4                    1           70.70      1   \n",
       "...                ...             ...    ...   \n",
       "7027                 1           84.80      0   \n",
       "7028                 1          103.20      0   \n",
       "7029                 1           29.60      0   \n",
       "7030                 1           74.40      1   \n",
       "7031                 1          105.65      0   \n",
       "\n",
       "      PaymentMethod_Bank transfer (automatic)  \\\n",
       "0                                           0   \n",
       "1                                           0   \n",
       "2                                           0   \n",
       "3                                           1   \n",
       "4                                           0   \n",
       "...                                       ...   \n",
       "7027                                        0   \n",
       "7028                                        0   \n",
       "7029                                        0   \n",
       "7030                                        0   \n",
       "7031                                        1   \n",
       "\n",
       "      PaymentMethod_Credit card (automatic)  PaymentMethod_Electronic check  \\\n",
       "0                                         0                               1   \n",
       "1                                         0                               0   \n",
       "2                                         0                               0   \n",
       "3                                         0                               0   \n",
       "4                                         0                               1   \n",
       "...                                     ...                             ...   \n",
       "7027                                      0                               0   \n",
       "7028                                      1                               0   \n",
       "7029                                      0                               1   \n",
       "7030                                      0                               0   \n",
       "7031                                      0                               0   \n",
       "\n",
       "      PaymentMethod_Mailed check  \n",
       "0                              0  \n",
       "1                              1  \n",
       "2                              1  \n",
       "3                              0  \n",
       "4                              0  \n",
       "...                          ...  \n",
       "7027                           1  \n",
       "7028                           0  \n",
       "7029                           0  \n",
       "7030                           1  \n",
       "7031                           0  \n",
       "\n",
       "[7009 rows x 13 columns]"
      ]
     },
     "execution_count": 20,
     "metadata": {},
     "output_type": "execute_result"
    }
   ],
   "source": [
    "df"
   ]
  },
  {
   "cell_type": "markdown",
   "id": "a5796bf6",
   "metadata": {},
   "source": [
    "## Modelling"
   ]
  },
  {
   "cell_type": "code",
   "execution_count": 21,
   "id": "1e384f64",
   "metadata": {},
   "outputs": [],
   "source": [
    "from sklearn.model_selection import train_test_split\n",
    "\n",
    "x = df.drop(columns='Churn').to_numpy()\n",
    "y = df[['Churn']].to_numpy()\n",
    "y = y.reshape(len(y),)\n",
    "\n",
    "# First splitting: pretrain and test\n",
    "x_train, x_test, y_train, y_test = train_test_split(x, y, test_size=0.20, random_state=42)\n"
   ]
  },
  {
   "cell_type": "code",
   "execution_count": 22,
   "id": "b20794ab",
   "metadata": {},
   "outputs": [
    {
     "data": {
      "text/plain": [
       "0    5146\n",
       "1    1863\n",
       "Name: Churn, dtype: int64"
      ]
     },
     "execution_count": 22,
     "metadata": {},
     "output_type": "execute_result"
    }
   ],
   "source": [
    "df.Churn.value_counts()"
   ]
  },
  {
   "cell_type": "markdown",
   "id": "a1ee0423",
   "metadata": {},
   "source": [
    "> Data yang ada adalah imbalanced, jadi metrics akurasi sudah pasti tidak bisa dipakai. Pilihan yang ada ialah recall, precision atau f1 score. Menurut saya metrics yang lebih tepat adalah menggunakan recall karena saya mau model saya memprediksi FN serendah mungkin (FN = prediksi tidak churn padahal faktanya churn) dari pada FP ( FP = prediksi churn padahal faktanya tidak churn). Catatan : pada kasus ini saya menganggap perusahaan akan mengalami kerugian lebih besar saat model memprediksi customer tidak churn padahal faktanya customer tersebut akan churn (kehilangan customer) dari pada model memprediksi customer akan churn padahal faktanya customer tidak akan churn (kehilangan sumber daya karena memprospek calon customer yang salah)."
   ]
  },
  {
   "cell_type": "code",
   "execution_count": 23,
   "id": "308b9eb7",
   "metadata": {},
   "outputs": [],
   "source": [
    "from sklearn.ensemble import RandomForestClassifier\n",
    "\n",
    "rf_clf = RandomForestClassifier(random_state=42)"
   ]
  },
  {
   "cell_type": "code",
   "execution_count": 24,
   "id": "d862c0da",
   "metadata": {},
   "outputs": [
    {
     "data": {
      "text/plain": [
       "GridSearchCV(cv=5, estimator=RandomForestClassifier(random_state=42),\n",
       "             param_grid={'max_depth': (7, 8, 9, 10, 11),\n",
       "                         'n_estimators': (50, 60, 80, 100, 120)},\n",
       "             scoring='recall')"
      ]
     },
     "execution_count": 24,
     "metadata": {},
     "output_type": "execute_result"
    }
   ],
   "source": [
    "from sklearn.model_selection import GridSearchCV\n",
    "\n",
    "parameters = {\n",
    "    'n_estimators': (50,60,80,100,120),\n",
    "    'max_depth':(7,8,9,10,11)\n",
    "}\n",
    "\n",
    "# note: we use recall\n",
    "rf_clf_gridcv = GridSearchCV(rf_clf, parameters, cv=5, scoring='recall')\n",
    "rf_clf_gridcv.fit(x_train, y_train)"
   ]
  },
  {
   "cell_type": "code",
   "execution_count": 25,
   "id": "3a751bc5",
   "metadata": {},
   "outputs": [
    {
     "data": {
      "text/html": [
       "<div>\n",
       "<style scoped>\n",
       "    .dataframe tbody tr th:only-of-type {\n",
       "        vertical-align: middle;\n",
       "    }\n",
       "\n",
       "    .dataframe tbody tr th {\n",
       "        vertical-align: top;\n",
       "    }\n",
       "\n",
       "    .dataframe thead th {\n",
       "        text-align: right;\n",
       "    }\n",
       "</style>\n",
       "<table border=\"1\" class=\"dataframe\">\n",
       "  <thead>\n",
       "    <tr style=\"text-align: right;\">\n",
       "      <th></th>\n",
       "      <th>params</th>\n",
       "      <th>mean_test_score</th>\n",
       "      <th>rank_test_score</th>\n",
       "    </tr>\n",
       "  </thead>\n",
       "  <tbody>\n",
       "    <tr>\n",
       "      <th>24</th>\n",
       "      <td>{'max_depth': 11, 'n_estimators': 120}</td>\n",
       "      <td>0.510268</td>\n",
       "      <td>1</td>\n",
       "    </tr>\n",
       "    <tr>\n",
       "      <th>22</th>\n",
       "      <td>{'max_depth': 11, 'n_estimators': 80}</td>\n",
       "      <td>0.508288</td>\n",
       "      <td>2</td>\n",
       "    </tr>\n",
       "    <tr>\n",
       "      <th>23</th>\n",
       "      <td>{'max_depth': 11, 'n_estimators': 100}</td>\n",
       "      <td>0.507630</td>\n",
       "      <td>3</td>\n",
       "    </tr>\n",
       "    <tr>\n",
       "      <th>16</th>\n",
       "      <td>{'max_depth': 10, 'n_estimators': 60}</td>\n",
       "      <td>0.506292</td>\n",
       "      <td>4</td>\n",
       "    </tr>\n",
       "    <tr>\n",
       "      <th>21</th>\n",
       "      <td>{'max_depth': 11, 'n_estimators': 60}</td>\n",
       "      <td>0.504314</td>\n",
       "      <td>5</td>\n",
       "    </tr>\n",
       "    <tr>\n",
       "      <th>18</th>\n",
       "      <td>{'max_depth': 10, 'n_estimators': 100}</td>\n",
       "      <td>0.503646</td>\n",
       "      <td>6</td>\n",
       "    </tr>\n",
       "    <tr>\n",
       "      <th>17</th>\n",
       "      <td>{'max_depth': 10, 'n_estimators': 80}</td>\n",
       "      <td>0.502990</td>\n",
       "      <td>7</td>\n",
       "    </tr>\n",
       "    <tr>\n",
       "      <th>13</th>\n",
       "      <td>{'max_depth': 9, 'n_estimators': 100}</td>\n",
       "      <td>0.502317</td>\n",
       "      <td>8</td>\n",
       "    </tr>\n",
       "    <tr>\n",
       "      <th>20</th>\n",
       "      <td>{'max_depth': 11, 'n_estimators': 50}</td>\n",
       "      <td>0.501663</td>\n",
       "      <td>9</td>\n",
       "    </tr>\n",
       "    <tr>\n",
       "      <th>15</th>\n",
       "      <td>{'max_depth': 10, 'n_estimators': 50}</td>\n",
       "      <td>0.500999</td>\n",
       "      <td>10</td>\n",
       "    </tr>\n",
       "  </tbody>\n",
       "</table>\n",
       "</div>"
      ],
      "text/plain": [
       "                                    params  mean_test_score  rank_test_score\n",
       "24  {'max_depth': 11, 'n_estimators': 120}         0.510268                1\n",
       "22   {'max_depth': 11, 'n_estimators': 80}         0.508288                2\n",
       "23  {'max_depth': 11, 'n_estimators': 100}         0.507630                3\n",
       "16   {'max_depth': 10, 'n_estimators': 60}         0.506292                4\n",
       "21   {'max_depth': 11, 'n_estimators': 60}         0.504314                5\n",
       "18  {'max_depth': 10, 'n_estimators': 100}         0.503646                6\n",
       "17   {'max_depth': 10, 'n_estimators': 80}         0.502990                7\n",
       "13   {'max_depth': 9, 'n_estimators': 100}         0.502317                8\n",
       "20   {'max_depth': 11, 'n_estimators': 50}         0.501663                9\n",
       "15   {'max_depth': 10, 'n_estimators': 50}         0.500999               10"
      ]
     },
     "execution_count": 25,
     "metadata": {},
     "output_type": "execute_result"
    }
   ],
   "source": [
    "cv_result = pd.DataFrame(rf_clf_gridcv.cv_results_)\n",
    "retain_cols = ['params','mean_test_score','rank_test_score']\n",
    "cv_result[retain_cols].sort_values('rank_test_score').head(10)"
   ]
  },
  {
   "cell_type": "code",
   "execution_count": 26,
   "id": "c000bd9f",
   "metadata": {},
   "outputs": [
    {
     "data": {
      "image/png": "[encoded data removed]",
      "text/plain": [
       "<Figure size 1000x700 with 2 Axes>"
      ]
     },
     "metadata": {},
     "output_type": "display_data"
    }
   ],
   "source": [
    "# the confusion matrix\n",
    "import matplotlib.pyplot as plt\n",
    "from sklearn.metrics import confusion_matrix, ConfusionMatrixDisplay\n",
    "\n",
    "fig, ax = plt.subplots(figsize=(10,7))\n",
    "y_pred = rf_clf_gridcv.best_estimator_.predict(x_test)\n",
    "\n",
    "cm = confusion_matrix(y_test, y_pred, labels=rf_clf_gridcv.best_estimator_.classes_)\n",
    "disp = ConfusionMatrixDisplay(confusion_matrix=cm,\n",
    "                             display_labels=rf_clf_gridcv.best_estimator_.classes_)\n",
    "disp.plot(ax=ax)\n",
    "plt.show()"
   ]
  },
  {
   "cell_type": "code",
   "execution_count": 27,
   "id": "a7a8a477",
   "metadata": {},
   "outputs": [
    {
     "name": "stdout",
     "output_type": "stream",
     "text": [
      "              precision    recall  f1-score   support\n",
      "\n",
      "           0       0.85      0.89      0.87      1050\n",
      "           1       0.61      0.54      0.57       352\n",
      "\n",
      "    accuracy                           0.80      1402\n",
      "   macro avg       0.73      0.71      0.72      1402\n",
      "weighted avg       0.79      0.80      0.79      1402\n",
      "\n"
     ]
    }
   ],
   "source": [
    "# classification report\n",
    "from sklearn.metrics import classification_report\n",
    "y_pred = rf_clf_gridcv.best_estimator_.predict(x_test)\n",
    "print(classification_report(y_test, y_pred))"
   ]
  },
  {
   "cell_type": "markdown",
   "id": "84533d11",
   "metadata": {},
   "source": [
    ">Interpretation:<br>\n",
    "1.Dari semua hasil prediksi customer yang churn, hanya 61% yang benar-benar churn secara real.(precision 0.61)<br>\n",
    "2.Model hanya bisa mengidentifikasi 54% customer yang churn secara real.(recall 0.54)"
   ]
  },
  {
   "cell_type": "markdown",
   "id": "89356c6d",
   "metadata": {},
   "source": [
    "## Threshold Tuning"
   ]
  },
  {
   "cell_type": "markdown",
   "id": "f060637a",
   "metadata": {},
   "source": [
    "> Disini saya akan melakukan sedikit tuning pada threshold probabilitas model untuk mendapatkan hasil yang terbaik."
   ]
  },
  {
   "cell_type": "code",
   "execution_count": 28,
   "id": "6b816bda",
   "metadata": {},
   "outputs": [],
   "source": [
    "x_train, x_validation, y_train, y_validation = train_test_split(x_train, y_train, test_size=0.20, random_state=42)"
   ]
  },
  {
   "cell_type": "markdown",
   "id": "e536d170",
   "metadata": {},
   "source": [
    "> split train dan validation untuk mentuning threshold"
   ]
  },
  {
   "cell_type": "code",
   "execution_count": 29,
   "id": "5fba5d96",
   "metadata": {},
   "outputs": [],
   "source": [
    "from sklearn import metrics\n",
    "def threshold_score(model, xtest, ytest, thres):\n",
    "    recall = []\n",
    "    precision = []\n",
    "    f1_score = []\n",
    "    rocauc_score = []\n",
    "    accuracy_score = []\n",
    "    for k in thres:\n",
    "        y = pd.DataFrame(model.predict_proba(xtest), columns=['%No','%Yes'])[['%Yes']]\n",
    "        y['prediction'] = y['%Yes'].apply(lambda x: 1 if x > k else 0 )\n",
    "        recall.append(metrics.recall_score(ytest, y.prediction))\n",
    "        precision.append(metrics.precision_score(ytest, y.prediction))\n",
    "        f1_score.append(metrics.f1_score(ytest, y.prediction))\n",
    "        rocauc_score.append(metrics.roc_auc_score(ytest, y.prediction))\n",
    "        accuracy_score.append(metrics.accuracy_score(ytest, y.prediction))\n",
    "    dfresult = pd.DataFrame([thres,recall,precision,f1_score,rocauc_score,accuracy_score]).transpose()\n",
    "    dfresult.columns = ['thresold','recall','precision','f1-score','RocAuc-score','Accuracy-score']\n",
    "    return dfresult"
   ]
  },
  {
   "cell_type": "code",
   "execution_count": 30,
   "id": "3b24fab5",
   "metadata": {},
   "outputs": [
    {
     "data": {
      "text/plain": [
       "RandomForestClassifier(max_depth=11, n_estimators=120)"
      ]
     },
     "execution_count": 30,
     "metadata": {},
     "output_type": "execute_result"
    }
   ],
   "source": [
    "#disini saya langsung menggunakan parameter terbaik yaitu max_depth=11 dan jumlah pohon 120.\n",
    "clfrf = RandomForestClassifier(max_depth = 11, n_estimators=120)\n",
    "clfrf.fit(x_train, y_train)"
   ]
  },
  {
   "cell_type": "code",
   "execution_count": 31,
   "id": "1a09e478",
   "metadata": {},
   "outputs": [
    {
     "data": {
      "text/html": [
       "<div>\n",
       "<style scoped>\n",
       "    .dataframe tbody tr th:only-of-type {\n",
       "        vertical-align: middle;\n",
       "    }\n",
       "\n",
       "    .dataframe tbody tr th {\n",
       "        vertical-align: top;\n",
       "    }\n",
       "\n",
       "    .dataframe thead th {\n",
       "        text-align: right;\n",
       "    }\n",
       "</style>\n",
       "<table border=\"1\" class=\"dataframe\">\n",
       "  <thead>\n",
       "    <tr style=\"text-align: right;\">\n",
       "      <th></th>\n",
       "      <th>thresold</th>\n",
       "      <th>recall</th>\n",
       "      <th>precision</th>\n",
       "      <th>f1-score</th>\n",
       "      <th>RocAuc-score</th>\n",
       "      <th>Accuracy-score</th>\n",
       "    </tr>\n",
       "  </thead>\n",
       "  <tbody>\n",
       "    <tr>\n",
       "      <th>0</th>\n",
       "      <td>0.1</td>\n",
       "      <td>0.947541</td>\n",
       "      <td>0.393197</td>\n",
       "      <td>0.555769</td>\n",
       "      <td>0.700821</td>\n",
       "      <td>0.588235</td>\n",
       "    </tr>\n",
       "    <tr>\n",
       "      <th>1</th>\n",
       "      <td>0.2</td>\n",
       "      <td>0.832787</td>\n",
       "      <td>0.462659</td>\n",
       "      <td>0.594848</td>\n",
       "      <td>0.735855</td>\n",
       "      <td>0.691622</td>\n",
       "    </tr>\n",
       "    <tr>\n",
       "      <th>2</th>\n",
       "      <td>0.3</td>\n",
       "      <td>0.731148</td>\n",
       "      <td>0.530952</td>\n",
       "      <td>0.615172</td>\n",
       "      <td>0.745011</td>\n",
       "      <td>0.751337</td>\n",
       "    </tr>\n",
       "    <tr>\n",
       "      <th>3</th>\n",
       "      <td>0.4</td>\n",
       "      <td>0.613115</td>\n",
       "      <td>0.578947</td>\n",
       "      <td>0.595541</td>\n",
       "      <td>0.723326</td>\n",
       "      <td>0.773619</td>\n",
       "    </tr>\n",
       "    <tr>\n",
       "      <th>4</th>\n",
       "      <td>0.5</td>\n",
       "      <td>0.468852</td>\n",
       "      <td>0.671362</td>\n",
       "      <td>0.552124</td>\n",
       "      <td>0.691587</td>\n",
       "      <td>0.793226</td>\n",
       "    </tr>\n",
       "    <tr>\n",
       "      <th>5</th>\n",
       "      <td>0.6</td>\n",
       "      <td>0.337705</td>\n",
       "      <td>0.691275</td>\n",
       "      <td>0.453744</td>\n",
       "      <td>0.640701</td>\n",
       "      <td>0.778966</td>\n",
       "    </tr>\n",
       "    <tr>\n",
       "      <th>6</th>\n",
       "      <td>0.7</td>\n",
       "      <td>0.209836</td>\n",
       "      <td>0.711111</td>\n",
       "      <td>0.324051</td>\n",
       "      <td>0.589006</td>\n",
       "      <td>0.762032</td>\n",
       "    </tr>\n",
       "    <tr>\n",
       "      <th>7</th>\n",
       "      <td>0.8</td>\n",
       "      <td>0.118033</td>\n",
       "      <td>0.750000</td>\n",
       "      <td>0.203966</td>\n",
       "      <td>0.551672</td>\n",
       "      <td>0.749554</td>\n",
       "    </tr>\n",
       "    <tr>\n",
       "      <th>8</th>\n",
       "      <td>0.9</td>\n",
       "      <td>0.016393</td>\n",
       "      <td>0.833333</td>\n",
       "      <td>0.032154</td>\n",
       "      <td>0.507585</td>\n",
       "      <td>0.731729</td>\n",
       "    </tr>\n",
       "  </tbody>\n",
       "</table>\n",
       "</div>"
      ],
      "text/plain": [
       "   thresold    recall  precision  f1-score  RocAuc-score  Accuracy-score\n",
       "0       0.1  0.947541   0.393197  0.555769      0.700821        0.588235\n",
       "1       0.2  0.832787   0.462659  0.594848      0.735855        0.691622\n",
       "2       0.3  0.731148   0.530952  0.615172      0.745011        0.751337\n",
       "3       0.4  0.613115   0.578947  0.595541      0.723326        0.773619\n",
       "4       0.5  0.468852   0.671362  0.552124      0.691587        0.793226\n",
       "5       0.6  0.337705   0.691275  0.453744      0.640701        0.778966\n",
       "6       0.7  0.209836   0.711111  0.324051      0.589006        0.762032\n",
       "7       0.8  0.118033   0.750000  0.203966      0.551672        0.749554\n",
       "8       0.9  0.016393   0.833333  0.032154      0.507585        0.731729"
      ]
     },
     "execution_count": 31,
     "metadata": {},
     "output_type": "execute_result"
    }
   ],
   "source": [
    "threshold_score(clfrf, x_validation, y_validation, np.arange(0.1, 1, 0.1))"
   ]
  },
  {
   "cell_type": "markdown",
   "id": "88ee83b7",
   "metadata": {},
   "source": [
    "> Bisa dilihat bahwa pada threshold 0.3, recallnya cukup tinggi namun precisionnya tidak terlalu drop."
   ]
  },
  {
   "cell_type": "code",
   "execution_count": 32,
   "id": "aa7bad89",
   "metadata": {},
   "outputs": [
    {
     "data": {
      "text/html": [
       "<div>\n",
       "<style scoped>\n",
       "    .dataframe tbody tr th:only-of-type {\n",
       "        vertical-align: middle;\n",
       "    }\n",
       "\n",
       "    .dataframe tbody tr th {\n",
       "        vertical-align: top;\n",
       "    }\n",
       "\n",
       "    .dataframe thead th {\n",
       "        text-align: right;\n",
       "    }\n",
       "</style>\n",
       "<table border=\"1\" class=\"dataframe\">\n",
       "  <thead>\n",
       "    <tr style=\"text-align: right;\">\n",
       "      <th></th>\n",
       "      <th>thresold</th>\n",
       "      <th>recall</th>\n",
       "      <th>precision</th>\n",
       "      <th>f1-score</th>\n",
       "      <th>RocAuc-score</th>\n",
       "      <th>Accuracy-score</th>\n",
       "    </tr>\n",
       "  </thead>\n",
       "  <tbody>\n",
       "    <tr>\n",
       "      <th>0</th>\n",
       "      <td>0.3</td>\n",
       "      <td>0.769886</td>\n",
       "      <td>0.494526</td>\n",
       "      <td>0.602222</td>\n",
       "      <td>0.753038</td>\n",
       "      <td>0.74465</td>\n",
       "    </tr>\n",
       "  </tbody>\n",
       "</table>\n",
       "</div>"
      ],
      "text/plain": [
       "   thresold    recall  precision  f1-score  RocAuc-score  Accuracy-score\n",
       "0       0.3  0.769886   0.494526  0.602222      0.753038         0.74465"
      ]
     },
     "execution_count": 32,
     "metadata": {},
     "output_type": "execute_result"
    }
   ],
   "source": [
    "threshold_score(clfrf, x_test, y_test, [0.3])"
   ]
  },
  {
   "cell_type": "markdown",
   "id": "4b17eb0e",
   "metadata": {},
   "source": [
    "> Menggunakan threshold 0.3 sekarang model mampu mengidentifikasi customer churn sampai 77% (recall 0.77) walaupun ketepatan model dalam memprediksi customer yang churn turun menjadi 50% (precision 0.50). Kesimpulan: menggunakan threshold 0.3, meningkatkan recall sebanyak +-20% tetapi mengurangi precision sebanyak +-10% dari pada threshold 0.5."
   ]
  }
 ],
 "metadata": {
  "kernelspec": {
   "display_name": "Python 3 (ipykernel)",
   "language": "python",
   "name": "python3"
  },
  "language_info": {
   "codemirror_mode": {
    "name": "ipython",
    "version": 3
   },
   "file_extension": ".py",
   "mimetype": "text/x-python",
   "name": "python",
   "nbconvert_exporter": "python",
   "pygments_lexer": "ipython3",
   "version": "3.11.0"
  }
 },
 "nbformat": 4,
 "nbformat_minor": 5
}
